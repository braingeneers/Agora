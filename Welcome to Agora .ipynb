{
 "cells": [
  {
   "cell_type": "code",
   "execution_count": null,
   "metadata": {},
   "outputs": [],
   "source": [
    "%run \"Source Code.ipynb\""
   ]
  },
  {
   "cell_type": "markdown",
   "metadata": {},
   "source": [
    "\n",
    "<img src=\"Screen Shot 2020-11-16 at 4.44.35 PM.png\" style=\"width: 200px;\">\n",
    "<hr class=\"col-xs-offset-3 col-xs-6\" style=\"background-color:blue;\">"
   ]
  },
  {
   "cell_type": "markdown",
   "metadata": {},
   "source": [
    "<font color=\"blue\">Agora</font> lest you share your code with other scientists. This is done using [Github](https://github.com/). With <font color=\"blue\">Agora</font> you can:\n",
    "\n",
    "* Save your work\n",
    "* Update applications\n",
    "* Publish code to the world\n",
    "* View progress from lab members"
   ]
  },
  {
   "cell_type": "markdown",
   "metadata": {},
   "source": [
    "# <font color=\"Gray\" >Setup</font>"
   ]
  },
  {
   "cell_type": "markdown",
   "metadata": {},
   "source": [
    "## <font color=\"limeGreen\">Github Sign In</font>"
   ]
  },
  {
   "cell_type": "markdown",
   "metadata": {
    "cell_style": "center"
   },
   "source": [
    "To use <font color=\"magenta\">Agora</font> you must have a github account. You can [create one here](https://github.com/).\n",
    "\n",
    "<font color=\"limeGreen\">Github</font> allows people to save and share code on the cloud. However, <font color=\"limeGreen\">Github</font> can be confusing to use. <font color=\"magenta\">Agora</font> makes <font color=\"limeGreen\">Github</font> simple. In order to use <font color=\"magenta\">Agora</font> you need to sign in to <font color=\"limeGreen\">Github</font>:"
   ]
  },
  {
   "cell_type": "code",
   "execution_count": null,
   "metadata": {
    "cell_style": "split"
   },
   "outputs": [],
   "source": [
    "display(HTML(\"<hr style=margin:0>\"))\n",
    "Git.b.signIn"
   ]
  },
  {
   "cell_type": "markdown",
   "metadata": {},
   "source": [
    "## <font color=\"DeepSkyBlue \">Choose your Lab</font>"
   ]
  },
  {
   "cell_type": "markdown",
   "metadata": {},
   "source": [
    "Here you can type the name of your <font color=\"deepskyblue\">lab</font> that is using <font color=\"magenta\">Agora</font>. After you select a lab, the <font color=\"Orchid\">Agora News Room</font> will only show work from other lab members. Also any folder that you <font color=\"green\">publish</font> will be seen by everyone in your <font color=\"deepskyblue\">lab</font>. "
   ]
  },
  {
   "cell_type": "code",
   "execution_count": null,
   "metadata": {
    "cell_style": "split"
   },
   "outputs": [],
   "source": [
    "display(HTML(\"<hr style=margin:0>\"))\n",
    "Git.b.lab "
   ]
  },
  {
   "cell_type": "markdown",
   "metadata": {},
   "source": [
    "# <font color=\"teal\">Manage Files</font>"
   ]
  },
  {
   "cell_type": "markdown",
   "metadata": {},
   "source": [
    "In this section you can <font color=\"orange\">Add</font> new folders to Github and  <font color=\"green\">Publish</font> your most recent changes. This is smart to do because :\n",
    "1. You <font color=\"blue\">back up</font> your files in the cloud\n",
    "2. Your work is now <font color=\"blue\">shared with everyone</font>\n",
    "\n",
    "**<font color=\"red\">Tip :</font>** When you <font color=\"green\">Publish</font> your recent changes to Github, you can write a short note about what you did. Use the text box to write a note before clicking <font color=\"green\">Publish</font>"
   ]
  },
  {
   "cell_type": "code",
   "execution_count": null,
   "metadata": {},
   "outputs": [],
   "source": [
    "Git.w.folder_type\n",
    "Git.wf.folderType(\"b\")"
   ]
  },
  {
   "cell_type": "markdown",
   "metadata": {},
   "source": [
    "# <font color=\"orange\">Update Apps</font>"
   ]
  },
  {
   "cell_type": "markdown",
   "metadata": {},
   "source": [
    "This is where you can **check new updates** for all of your <font color=\"orange\">Apps</font>. Only the <font color=\"orange\">Apps</font> that need updates are shown. After updating your <font color=\"orange\">Apps</font> click  <font color=\"blue\">Refresh</font> to confirm everythign is up to date."
   ]
  },
  {
   "cell_type": "code",
   "execution_count": null,
   "metadata": {},
   "outputs": [],
   "source": [
    "display( Git.b.update_refresh )\n",
    "Git.wf.showUpdates(\"b\")"
   ]
  },
  {
   "cell_type": "markdown",
   "metadata": {},
   "source": [
    "#  <font color=\"Orchid\">News Room</font>"
   ]
  },
  {
   "cell_type": "markdown",
   "metadata": {},
   "source": [
    "You can use the <font color=\"Orchid\">News Room</font> to check out what everyone else is doing. The news room displays a list of all of the most recent things that people have published.  <font color=\"teal\">Click Download</font>  to save something into your <font color=\"blue\">Downloads Folder.</font> \n",
    "\n",
    "**<font color=\"red\">Note:</font>** A lot of cool <font color=\"orchid\">news room</font> features are on the way, Keep an eye out for updates!"
   ]
  },
  {
   "cell_type": "code",
   "execution_count": null,
   "metadata": {},
   "outputs": [],
   "source": [
    "display( Git.b.news )\n",
    "Git.wf.showNews(\"b\")"
   ]
  },
  {
   "cell_type": "markdown",
   "metadata": {},
   "source": [
    "# <font color=\"SeaGreen\">Download from Github</font>"
   ]
  },
  {
   "cell_type": "markdown",
   "metadata": {},
   "source": [
    "Here you can download your online repos from the cloud <font color=\"limeGreen\">(Github)</font> to <font color=\"orange\">io</font>. \n",
    "\n",
    "* Click <font color=\"green\">Public</font> or <font color=\"red\">Private</font> to view all your <font color=\"green\">Public</font>/<font color=\"red\">Private</font> <font color=\"limeGreen\">Github</font> repos which are not yet on <font color=\"orange\">io</font>. \n",
    "* Then click <font color=\"blue\">Download</font> to move a repo to your <font color=\"green\">Public</font>/<font color=\"red\">Private</font> folder in <font color=\"orange\">io</font>."
   ]
  },
  {
   "cell_type": "code",
   "execution_count": null,
   "metadata": {},
   "outputs": [],
   "source": [
    "display( Git.w.github_download )\n",
    "Git.wf.githubDownload(\"b\")"
   ]
  }
 ],
 "metadata": {
  "hide_input": false,
  "kernelspec": {
   "display_name": "Python 3",
   "language": "python",
   "name": "python3"
  },
  "language_info": {
   "codemirror_mode": {
    "name": "ipython",
    "version": 3
   },
   "file_extension": ".py",
   "mimetype": "text/x-python",
   "name": "python",
   "nbconvert_exporter": "python",
   "pygments_lexer": "ipython3",
   "version": "3.8.6"
  },
  "toc": {
   "base_numbering": 1,
   "nav_menu": {},
   "number_sections": true,
   "sideBar": true,
   "skip_h1_title": false,
   "title_cell": "Table of Contents",
   "title_sidebar": "Contents",
   "toc_cell": false,
   "toc_position": {},
   "toc_section_display": true,
   "toc_window_display": false
  },
  "varInspector": {
   "cols": {
    "lenName": 16,
    "lenType": 16,
    "lenVar": 40
   },
   "kernels_config": {
    "python": {
     "delete_cmd_postfix": "",
     "delete_cmd_prefix": "del ",
     "library": "var_list.py",
     "varRefreshCmd": "print(var_dic_list())"
    },
    "r": {
     "delete_cmd_postfix": ") ",
     "delete_cmd_prefix": "rm(",
     "library": "var_list.r",
     "varRefreshCmd": "cat(var_dic_list()) "
    }
   },
   "types_to_exclude": [
    "module",
    "function",
    "builtin_function_or_method",
    "instance",
    "_Feature"
   ],
   "window_display": false
  },
  "widgets": {
   "application/vnd.jupyter.widget-state+json": {
    "state": {
     "002118e8888c495390c5e73bf41b180f": {
      "model_module": "@jupyter-widgets/controls",
      "model_module_version": "1.5.0",
      "model_name": "HTMLModel",
      "state": {
       "layout": "IPY_MODEL_47d45dc930b54ec1ae49c1e5f636e49b",
       "style": "IPY_MODEL_3bc155229a194702a3a8df72acd8790b",
       "value": "<font color='green'> &nbsp Downloads: 1</font>"
      }
     },
     "004b7c046deb465a8b33fd056dce4566": {
      "model_module": "@jupyter-widgets/controls",
      "model_module_version": "1.5.0",
      "model_name": "HBoxModel",
      "state": {
       "children": [
        "IPY_MODEL_c19debbfd76a42db85d344beffa134d4",
        "IPY_MODEL_230e1f70d0914513b555ed7254b22632",
        "IPY_MODEL_6cba632321d94f23a07368b3d214503c",
        "IPY_MODEL_971933fdd5f74baabbf4450765310e0b",
        "IPY_MODEL_2d207ef44f96446099f57170c73c5aa0",
        "IPY_MODEL_eedb677521c44331b3029fd3e68b0f78",
        "IPY_MODEL_6d31a907eb9b4091879a39bb7247f6cc"
       ],
       "layout": "IPY_MODEL_3a2453b61f5a4bfd8dcb038fc92aac0d"
      }
     },
     "005ac9fdcf4e49c28182ff5b66aec5b0": {
      "model_module": "@jupyter-widgets/controls",
      "model_module_version": "1.5.0",
      "model_name": "HTMLMathModel",
      "state": {
       "layout": "IPY_MODEL_a82458d9af8a4f329ecf2a010504d9cb",
       "style": "IPY_MODEL_fd04a556bcbc4bd0b2ffa052c6e26e4f",
       "value": "<h4>Order By Most &nbsp</h4>"
      }
     },
     "006639439a87403d81b964a9bb94ed71": {
      "model_module": "@jupyter-widgets/base",
      "model_module_version": "1.2.0",
      "model_name": "LayoutModel",
      "state": {
       "width": "100px"
      }
     },
     "0066c58dcfb1429fba1f2ba812fce045": {
      "model_module": "@jupyter-widgets/controls",
      "model_module_version": "1.5.0",
      "model_name": "ButtonModel",
      "state": {
       "button_style": "info",
       "description": "Download",
       "layout": "IPY_MODEL_144785f4cdea49e086049a96ec9527d3",
       "style": "IPY_MODEL_42e1216f9dbd46b1874fc3b89ad18fe2"
      }
     },
     "006bc54167e246cd8321d20aa7afa24a": {
      "model_module": "@jupyter-widgets/controls",
      "model_module_version": "1.5.0",
      "model_name": "ButtonStyleModel",
      "state": {}
     },
     "00cf43a41aea4a069aa135eabdf862c7": {
      "model_module": "@jupyter-widgets/controls",
      "model_module_version": "1.5.0",
      "model_name": "DescriptionStyleModel",
      "state": {
       "description_width": ""
      }
     },
     "00df34c2840e4c4594e65cbaf551c13b": {
      "model_module": "@jupyter-widgets/base",
      "model_module_version": "1.2.0",
      "model_name": "LayoutModel",
      "state": {}
     },
     "00f4705d8cfb4d82a9e55a9a6002b453": {
      "model_module": "@jupyter-widgets/controls",
      "model_module_version": "1.5.0",
      "model_name": "ToggleButtonsModel",
      "state": {
       "_options_labels": [
        "Recent",
        "Popular",
        "Stars"
       ],
       "button_style": "",
       "icons": [],
       "index": 0,
       "layout": "IPY_MODEL_ba8e12aed1154786bec6b84645aecfb1",
       "style": "IPY_MODEL_4917891151b342b38c8b38a8b41fd388",
       "tooltips": []
      }
     },
     "0107b1350f7e49ad9fb9b22e66915f4f": {
      "model_module": "@jupyter-widgets/base",
      "model_module_version": "1.2.0",
      "model_name": "LayoutModel",
      "state": {}
     },
     "01187517dba44c1c8c94eb6f3ddf0620": {
      "model_module": "@jupyter-widgets/controls",
      "model_module_version": "1.5.0",
      "model_name": "HBoxModel",
      "state": {
       "children": [
        "IPY_MODEL_79d4ae0fc73b4898a9b2b9dee6049a4c",
        "IPY_MODEL_2f6953d2c989407db95c99c3a8eb9f38",
        "IPY_MODEL_2e935db439294223bcea9c7fff2a88f7",
        "IPY_MODEL_a3cb6cf6a1b44d908794003f0a85b8d3",
        "IPY_MODEL_c209bdb575864d7087b45a9cc25e5dc5",
        "IPY_MODEL_f26313e1520b427c9e5ad7814e0fcc2b",
        "IPY_MODEL_b1e826bfe9bc4435a1680c072afdff51"
       ],
       "layout": "IPY_MODEL_77252897aea048638b612bd3adec1a94"
      }
     },
     "01398b8cbe8a411f9703cbcd02b0f23f": {
      "model_module": "@jupyter-widgets/controls",
      "model_module_version": "1.5.0",
      "model_name": "HTMLModel",
      "state": {
       "layout": "IPY_MODEL_ceb149f7567d4526972826e247e08907",
       "style": "IPY_MODEL_c7c630c2cb5f47339e716af307dd13fc",
       "value": "<h3 style='padding:0;margin:0;'>&nbsp &nbsp<a href='https://github.com/ugunal/Samil_Hoca'>Samil_Hoca</a> &nbsp</h3>"
      }
     },
     "01470691f68a4f3183542c04bd3fec43": {
      "model_module": "@jupyter-widgets/controls",
      "model_module_version": "1.5.0",
      "model_name": "DescriptionStyleModel",
      "state": {
       "description_width": ""
      }
     },
     "014d024dd9b242ca99d4c4cb5e83d76e": {
      "model_module": "@jupyter-widgets/base",
      "model_module_version": "1.2.0",
      "model_name": "LayoutModel",
      "state": {}
     },
     "017b19b62c9d4526a80b569c4b8042bc": {
      "model_module": "@jupyter-widgets/controls",
      "model_module_version": "1.5.0",
      "model_name": "DescriptionStyleModel",
      "state": {
       "description_width": ""
      }
     },
     "018350019209469f898c6cb9bd93571b": {
      "model_module": "@jupyter-widgets/controls",
      "model_module_version": "1.5.0",
      "model_name": "ButtonStyleModel",
      "state": {}
     },
     "019091d10f0b4381a91b0be773a7bf44": {
      "model_module": "@jupyter-widgets/base",
      "model_module_version": "1.2.0",
      "model_name": "LayoutModel",
      "state": {}
     },
     "01d44412932540249804c4a32f474d90": {
      "model_module": "@jupyter-widgets/base",
      "model_module_version": "1.2.0",
      "model_name": "LayoutModel",
      "state": {
       "align_items": "center",
       "justify_content": "center"
      }
     },
     "0246e4473ee74150b1c0b36aae9d9c9e": {
      "model_module": "@jupyter-widgets/controls",
      "model_module_version": "1.5.0",
      "model_name": "HTMLModel",
      "state": {
       "layout": "IPY_MODEL_68e1fb7abc934860b7052867b315fd8a",
       "style": "IPY_MODEL_da1100c707bb4711816795ff938ee008",
       "value": "<font color='green'> &nbsp Downloads: 0</font>"
      }
     },
     "0268eafac29d475bba705b60edc4671b": {
      "model_module": "@jupyter-widgets/controls",
      "model_module_version": "1.5.0",
      "model_name": "DescriptionStyleModel",
      "state": {
       "description_width": ""
      }
     },
     "026a509d98304bd9a4f3dba04552db0c": {
      "model_module": "@jupyter-widgets/controls",
      "model_module_version": "1.5.0",
      "model_name": "HTMLModel",
      "state": {
       "layout": "IPY_MODEL_1c43d6933d964ae0afde496fd98f05a6",
       "style": "IPY_MODEL_31d48b9990ee44c68b27dc694a85c2f3",
       "value": "<h3 style='padding:0;margin:0;'>&nbsp &nbsp<a href='https://github.com/pupster90/io_Hub_Setup'>io_Hub_Setup</a> &nbsp</h3>"
      }
     },
     "027886718b8048e481e1f0abf9d242bc": {
      "model_module": "@jupyter-widgets/base",
      "model_module_version": "1.2.0",
      "model_name": "LayoutModel",
      "state": {}
     },
     "028649ddf2d0463b8ba274069fd3538e": {
      "model_module": "@jupyter-widgets/controls",
      "model_module_version": "1.5.0",
      "model_name": "ButtonStyleModel",
      "state": {}
     },
     "028fa8f8a14e4dc9a58e916993712af8": {
      "model_module": "@jupyter-widgets/controls",
      "model_module_version": "1.5.0",
      "model_name": "HTMLModel",
      "state": {
       "layout": "IPY_MODEL_42bae67aa1314809aa9a2f1314b6ba81",
       "style": "IPY_MODEL_e4cbc666214e4a8b984f2632a7601f46",
       "value": "<h5 style='padding:0;margin:0;'>&nbsp <a href='https://github.com/DZO-II' style='color:silver'>DZO-II</a> &nbsp</h5>"
      }
     },
     "0290967291e6467ea4974bf5ced3aa01": {
      "model_module": "@jupyter-widgets/base",
      "model_module_version": "1.2.0",
      "model_name": "LayoutModel",
      "state": {
       "justify_content": "center",
       "padding": "20px 0 0 0"
      }
     },
     "02951fa4ae434611b11ff7a6dbf2a75a": {
      "model_module": "@jupyter-widgets/base",
      "model_module_version": "1.2.0",
      "model_name": "LayoutModel",
      "state": {}
     },
     "02ad86f67c204aa19d48b629620aba69": {
      "model_module": "@jupyter-widgets/base",
      "model_module_version": "1.2.0",
      "model_name": "LayoutModel",
      "state": {}
     },
     "02b63366f8b245cea18ba6854d5a52f0": {
      "model_module": "@jupyter-widgets/controls",
      "model_module_version": "1.5.0",
      "model_name": "HBoxModel",
      "state": {
       "children": [
        "IPY_MODEL_bf9c631c14f64ea48bcb114cc08a4721"
       ],
       "layout": "IPY_MODEL_3108ae0b947d45dab5b0f8f512c47da2"
      }
     },
     "02d3cc0c5fc847fcaf81a392aa15463e": {
      "model_module": "@jupyter-widgets/controls",
      "model_module_version": "1.5.0",
      "model_name": "HTMLModel",
      "state": {
       "layout": "IPY_MODEL_beb98cee516b4df299c862cdebedb3a3",
       "style": "IPY_MODEL_f4537c9ff65e4a75af160788c9ed26ff",
       "value": "<font color='green'> &nbsp Downloads: 0</font>"
      }
     },
     "031a91ef486b499ea943a9e780471246": {
      "model_module": "@jupyter-widgets/controls",
      "model_module_version": "1.5.0",
      "model_name": "HTMLModel",
      "state": {
       "layout": "IPY_MODEL_3993bb648387444cb1f771943ff12180",
       "style": "IPY_MODEL_446a43e2dfb943b4ae5feab2b5b2a14d",
       "value": "<h5 style='padding:0;margin:0;'>&nbsp <a href='https://github.com/ugunal' style='color:silver'>ugunal</a> &nbsp</h5>"
      }
     },
     "031f909337d74bc88ff906312e76580b": {
      "model_module": "@jupyter-widgets/base",
      "model_module_version": "1.2.0",
      "model_name": "LayoutModel",
      "state": {}
     },
     "03375cdfa3ac499baf79524a64b09198": {
      "model_module": "@jupyter-widgets/controls",
      "model_module_version": "1.5.0",
      "model_name": "LabelModel",
      "state": {
       "layout": "IPY_MODEL_b5bdee7e3d904a5bbe9c773d4c7a1f2d",
       "style": "IPY_MODEL_03725c822b434d54a08f985df94194ba",
       "value": "7 months ago"
      }
     },
     "03466adc442c49d5aa76682c3cf3a37d": {
      "model_module": "@jupyter-widgets/base",
      "model_module_version": "1.2.0",
      "model_name": "LayoutModel",
      "state": {
       "width": "auto"
      }
     },
     "03725c822b434d54a08f985df94194ba": {
      "model_module": "@jupyter-widgets/controls",
      "model_module_version": "1.5.0",
      "model_name": "DescriptionStyleModel",
      "state": {
       "description_width": ""
      }
     },
     "03930717f4b646bab7e1756a2e89ad80": {
      "model_module": "@jupyter-widgets/controls",
      "model_module_version": "1.5.0",
      "model_name": "DescriptionStyleModel",
      "state": {
       "description_width": ""
      }
     },
     "03e61a7a78a9429094bd154f5d41c84e": {
      "model_module": "@jupyter-widgets/controls",
      "model_module_version": "1.5.0",
      "model_name": "ButtonModel",
      "state": {
       "button_style": "success",
       "description": "Login",
       "layout": "IPY_MODEL_44023056c08a475a834b04f62956357a",
       "style": "IPY_MODEL_2e8d44f8c3db4c3d90b91a82d77f7237"
      }
     },
     "0414317e33cc4e48bb9a0b249876a96d": {
      "model_module": "@jupyter-widgets/controls",
      "model_module_version": "1.5.0",
      "model_name": "DescriptionStyleModel",
      "state": {
       "description_width": ""
      }
     },
     "0435590af3fd44a79683ce8267d35e81": {
      "model_module": "@jupyter-widgets/controls",
      "model_module_version": "1.5.0",
      "model_name": "DescriptionStyleModel",
      "state": {
       "description_width": ""
      }
     },
     "04a843b7aa254c7fbb44373841921b7b": {
      "model_module": "@jupyter-widgets/base",
      "model_module_version": "1.2.0",
      "model_name": "LayoutModel",
      "state": {}
     },
     "04b5f4fee0064544a29990e45e7dff17": {
      "model_module": "@jupyter-widgets/controls",
      "model_module_version": "1.5.0",
      "model_name": "ButtonModel",
      "state": {
       "button_style": "danger",
       "icon": "times",
       "layout": "IPY_MODEL_284e460c44254b6fa65a3508e3c842b2",
       "style": "IPY_MODEL_661e3711c61745d094bb78cec0aca956"
      }
     },
     "051c71c949354cfcb5477d05dc7e2ef4": {
      "model_module": "@jupyter-widgets/controls",
      "model_module_version": "1.5.0",
      "model_name": "HTMLModel",
      "state": {
       "layout": "IPY_MODEL_b722260ea5a644b992168513169bafb1",
       "style": "IPY_MODEL_f23863277cd04267a2419be70dae4423",
       "value": "<font color='green'> &nbsp Downloads: 0</font>"
      }
     },
     "052192d707d447f887dbd6b85648d1cf": {
      "model_module": "@jupyter-widgets/controls",
      "model_module_version": "1.5.0",
      "model_name": "HBoxModel",
      "state": {
       "children": [
        "IPY_MODEL_92ce3a9d890c4729b8af962acd135edc",
        "IPY_MODEL_ef764e0c91ea42a4a70c65b035be6725"
       ],
       "layout": "IPY_MODEL_07c5e2b435464efebad4b376e512cbf0"
      }
     },
     "05b58abe36804b48ad30b36484558b3e": {
      "model_module": "@jupyter-widgets/controls",
      "model_module_version": "1.5.0",
      "model_name": "LabelModel",
      "state": {
       "layout": "IPY_MODEL_96085112c0494ac3b8ceac8630418a3e",
       "style": "IPY_MODEL_7833a4ba53ef40a9a4b5017a0ba4546e",
       "value": "Created Repo"
      }
     },
     "05d1c1772ca74bcf8c932e8bc6c5c23f": {
      "model_module": "@jupyter-widgets/controls",
      "model_module_version": "1.5.0",
      "model_name": "HBoxModel",
      "state": {
       "children": [
        "IPY_MODEL_1be36bfa91ec4f9abb59e3d39457c6af",
        "IPY_MODEL_3c0ff637309d4913bbfaeaf7a2bc2659",
        "IPY_MODEL_fe008f9301d849f4b2f2595ed9f42978",
        "IPY_MODEL_697fdbf3e5f9473f9a6bfb6eb86aa482",
        "IPY_MODEL_79ea19858b06479993bc8c627d25f31d"
       ],
       "layout": "IPY_MODEL_64dee45c83254d6090dc0a380faa9dd6"
      }
     },
     "05e1b64400604a6497d29f8165b4d069": {
      "model_module": "@jupyter-widgets/controls",
      "model_module_version": "1.5.0",
      "model_name": "HBoxModel",
      "state": {
       "children": [
        "IPY_MODEL_7d1db6b099544558bf93032d3326f52a",
        "IPY_MODEL_da074948402d493484318af943682e09",
        "IPY_MODEL_e1467d7eeb0441a79055b0317ce7ccda",
        "IPY_MODEL_59d47f2d0b0545f49d8b3a01a99da608",
        "IPY_MODEL_dd7f5016d97f45e49656073f14d5265b",
        "IPY_MODEL_22905a3ae4fc4a80a9358532b891dba2",
        "IPY_MODEL_713a048e1ba94ae6890db12f7dac6dd4"
       ],
       "layout": "IPY_MODEL_bb741a4e0a3948b4a4c050056809e8af"
      }
     },
     "05fdb68fdc764274960b79b1813d2a89": {
      "model_module": "@jupyter-widgets/controls",
      "model_module_version": "1.5.0",
      "model_name": "LabelModel",
      "state": {
       "layout": "IPY_MODEL_f44f59e37dc04fac8a9c6923daf985f7",
       "style": "IPY_MODEL_f4f24581ae1e4fe09b22e969ba876013",
       "value": "1 month ago"
      }
     },
     "0623cad839504765b77d309236a48ce9": {
      "model_module": "@jupyter-widgets/base",
      "model_module_version": "1.2.0",
      "model_name": "LayoutModel",
      "state": {}
     },
     "0624b0544e43480cbff37d3a262fa4b9": {
      "model_module": "@jupyter-widgets/base",
      "model_module_version": "1.2.0",
      "model_name": "LayoutModel",
      "state": {}
     },
     "062a9e088a3e4391a08c95100b9b1682": {
      "model_module": "@jupyter-widgets/controls",
      "model_module_version": "1.5.0",
      "model_name": "HTMLModel",
      "state": {
       "layout": "IPY_MODEL_b00fa17e655a42a79f1aee390d863ced",
       "style": "IPY_MODEL_cc966a753da5499facd416abfb6bb5c0",
       "value": "<h3 style='padding:0;margin:0;'>&nbsp &nbsp<a href='https://github.com/Boxis/my_first_io'>my_first_io</a> &nbsp</h3>"
      }
     },
     "0666ff2fc1434c03a88153ca43c5c6c3": {
      "model_module": "@jupyter-widgets/controls",
      "model_module_version": "1.5.0",
      "model_name": "DescriptionStyleModel",
      "state": {
       "description_width": ""
      }
     },
     "0685b50b88714f07adc440b3e2c87e2c": {
      "model_module": "@jupyter-widgets/base",
      "model_module_version": "1.2.0",
      "model_name": "LayoutModel",
      "state": {}
     },
     "0696ab168a124e318a7b0c5720d375c8": {
      "model_module": "@jupyter-widgets/controls",
      "model_module_version": "1.5.0",
      "model_name": "HTMLModel",
      "state": {
       "layout": "IPY_MODEL_f2f4c3135b12454c91115f837ec3fd1e",
       "style": "IPY_MODEL_851632ba780e43e0970b1eb3d1f12454",
       "value": "<font color='orange'> &nbsp Stars: 0</font>"
      }
     },
     "06a1ecc24d044f0387e4a07a3b0096b6": {
      "model_module": "@jupyter-widgets/controls",
      "model_module_version": "1.5.0",
      "model_name": "ButtonStyleModel",
      "state": {}
     },
     "06a9d392e6e0433f92629d5709b47c6f": {
      "model_module": "@jupyter-widgets/controls",
      "model_module_version": "1.5.0",
      "model_name": "LabelModel",
      "state": {
       "layout": "IPY_MODEL_8732eb1a76fb494aa2b2a3634880bb62",
       "style": "IPY_MODEL_83393856d45c4aeeac158812a1d95a8b",
       "value": "7 months ago"
      }
     },
     "06aeb633623c434db2acdbdd9cfc6565": {
      "model_module": "@jupyter-widgets/controls",
      "model_module_version": "1.5.0",
      "model_name": "LabelModel",
      "state": {
       "layout": "IPY_MODEL_2a6ecf9931434dfca7a23952cd13871d",
       "style": "IPY_MODEL_126e3859dfaf410181f46947522e1df2",
       "value": "Created Repo"
      }
     },
     "06b68f610cc9488a88e0da82ec083738": {
      "model_module": "@jupyter-widgets/base",
      "model_module_version": "1.2.0",
      "model_name": "LayoutModel",
      "state": {}
     },
     "06f0941690c448d5887ee2829e8998fc": {
      "model_module": "@jupyter-widgets/base",
      "model_module_version": "1.2.0",
      "model_name": "LayoutModel",
      "state": {}
     },
     "07b49149150d4e8181ffca4de5c859fc": {
      "model_module": "@jupyter-widgets/controls",
      "model_module_version": "1.5.0",
      "model_name": "DescriptionStyleModel",
      "state": {
       "description_width": ""
      }
     },
     "07c5e2b435464efebad4b376e512cbf0": {
      "model_module": "@jupyter-widgets/base",
      "model_module_version": "1.2.0",
      "model_name": "LayoutModel",
      "state": {
       "align_items": "center",
       "justify_content": "center"
      }
     },
     "080c27ab1b3c4e1eacff3aac99d430f1": {
      "model_module": "@jupyter-widgets/controls",
      "model_module_version": "1.5.0",
      "model_name": "HTMLMathModel",
      "state": {
       "layout": "IPY_MODEL_d618c5298b5546b7b21df99a631ecfa8",
       "style": "IPY_MODEL_342fe10b7fbb4900b1c8a4702b7f91c7",
       "value": "<h4>Url :</h4>"
      }
     },
     "081eaf1b269448549ebb717159a58237": {
      "model_module": "@jupyter-widgets/controls",
      "model_module_version": "1.5.0",
      "model_name": "ButtonStyleModel",
      "state": {}
     },
     "084b8fdac5374f5f8c60f8df031d43dd": {
      "model_module": "@jupyter-widgets/base",
      "model_module_version": "1.2.0",
      "model_name": "LayoutModel",
      "state": {}
     },
     "086bdd29152c46199e697ca223fc1101": {
      "model_module": "@jupyter-widgets/controls",
      "model_module_version": "1.5.0",
      "model_name": "DescriptionStyleModel",
      "state": {
       "description_width": ""
      }
     },
     "087d6d5dda6747ec8198b3811ab0c9d8": {
      "model_module": "@jupyter-widgets/controls",
      "model_module_version": "1.5.0",
      "model_name": "ButtonModel",
      "state": {
       "button_style": "success",
       "description": "Publish",
       "layout": "IPY_MODEL_c9e6f0ac07ed4dc3841252acd337f639",
       "style": "IPY_MODEL_06a1ecc24d044f0387e4a07a3b0096b6"
      }
     },
     "08b110e555a04dca9016caa8acaf4d95": {
      "model_module": "@jupyter-widgets/controls",
      "model_module_version": "1.5.0",
      "model_name": "ButtonStyleModel",
      "state": {}
     },
     "08b5c09461b847f1af4fb6df3d55136f": {
      "model_module": "@jupyter-widgets/controls",
      "model_module_version": "1.5.0",
      "model_name": "HTMLModel",
      "state": {
       "layout": "IPY_MODEL_5a565efd8a2b4df3ac3a83f3b150ea41",
       "style": "IPY_MODEL_bbde698baded4894a5466a374dc3e20e",
       "value": "<font color='orange'> &nbsp Stars: 0</font>"
      }
     },
     "08ca6df1b10246e6a12cce2b4d2d1e53": {
      "model_module": "@jupyter-widgets/controls",
      "model_module_version": "1.5.0",
      "model_name": "DescriptionStyleModel",
      "state": {
       "description_width": ""
      }
     },
     "0931682930b14b878f5badfa28b648a9": {
      "model_module": "@jupyter-widgets/controls",
      "model_module_version": "1.5.0",
      "model_name": "LabelModel",
      "state": {
       "layout": "IPY_MODEL_59c34d9761be41c5bcfdd52c34360a6c",
       "style": "IPY_MODEL_f18ffa2a5b614c879cc63e382350bc64",
       "value": "Created Repo"
      }
     },
     "095a1b7c180842e189e9a554759c453b": {
      "model_module": "@jupyter-widgets/base",
      "model_module_version": "1.2.0",
      "model_name": "LayoutModel",
      "state": {}
     },
     "09a88a6a90154c3a86099eee4e0ef02c": {
      "model_module": "@jupyter-widgets/controls",
      "model_module_version": "1.5.0",
      "model_name": "DescriptionStyleModel",
      "state": {
       "description_width": ""
      }
     },
     "09d90e453bfd4332bf54364b35fc521d": {
      "model_module": "@jupyter-widgets/base",
      "model_module_version": "1.2.0",
      "model_name": "LayoutModel",
      "state": {
       "width": "100px"
      }
     },
     "09e00dd7a6a5489583a998c0d3e49911": {
      "model_module": "@jupyter-widgets/base",
      "model_module_version": "1.2.0",
      "model_name": "LayoutModel",
      "state": {
       "visibility": "visible"
      }
     },
     "09e55bf3b1164b15a7137d8ac1f8cfa7": {
      "model_module": "@jupyter-widgets/controls",
      "model_module_version": "1.5.0",
      "model_name": "HTMLModel",
      "state": {
       "layout": "IPY_MODEL_4bcb83ffd23142e89a99c7400947e331",
       "style": "IPY_MODEL_8cd22b5227654d05b6f3241416edb91e",
       "value": "<font color='orange'> &nbsp Stars: 0</font>"
      }
     },
     "09feb34a7bf5446e879e72ca61f2a122": {
      "model_module": "@jupyter-widgets/base",
      "model_module_version": "1.2.0",
      "model_name": "LayoutModel",
      "state": {
       "justify_content": "center",
       "padding": "15px 0 0 0"
      }
     },
     "0a5872f955334eef89b9d1c221a9d9aa": {
      "model_module": "@jupyter-widgets/controls",
      "model_module_version": "1.5.0",
      "model_name": "LabelModel",
      "state": {
       "layout": "IPY_MODEL_5a9489949ac0460a98dae9c5c1599893",
       "style": "IPY_MODEL_a951bcfae7b84b57b24cff5b4c9f348e",
       "value": "Created Repo"
      }
     },
     "0a924b2d72c64ee8886bde0cc6493816": {
      "model_module": "@jupyter-widgets/base",
      "model_module_version": "1.2.0",
      "model_name": "LayoutModel",
      "state": {}
     },
     "0a9c6e2b16bb416981c3e6ed2cd1191a": {
      "model_module": "@jupyter-widgets/controls",
      "model_module_version": "1.5.0",
      "model_name": "DescriptionStyleModel",
      "state": {
       "description_width": ""
      }
     },
     "0aa2d9589ec147fab8b0855b2b940904": {
      "model_module": "@jupyter-widgets/base",
      "model_module_version": "1.2.0",
      "model_name": "LayoutModel",
      "state": {
       "justify_content": "center",
       "padding": "20px 0 0 0"
      }
     },
     "0ac12ae013f74ff3b029e78e81ee25ad": {
      "model_module": "@jupyter-widgets/controls",
      "model_module_version": "1.5.0",
      "model_name": "TextModel",
      "state": {
       "description": "Username",
       "layout": "IPY_MODEL_ece5ca4e18e5496fb6f35bfac681147a",
       "style": "IPY_MODEL_233931729b394bed80f55164638725f9"
      }
     },
     "0ad1b04217714ea6afb5f4c3439f5c89": {
      "model_module": "@jupyter-widgets/base",
      "model_module_version": "1.2.0",
      "model_name": "LayoutModel",
      "state": {}
     },
     "0b1071a3202d467699ba48695e5b918a": {
      "model_module": "@jupyter-widgets/base",
      "model_module_version": "1.2.0",
      "model_name": "LayoutModel",
      "state": {}
     },
     "0b229a803cfc4543b225e45f9beb3d45": {
      "model_module": "@jupyter-widgets/controls",
      "model_module_version": "1.5.0",
      "model_name": "DescriptionStyleModel",
      "state": {
       "description_width": ""
      }
     },
     "0b22ab2bc7b348ae8703b49d874536c4": {
      "model_module": "@jupyter-widgets/base",
      "model_module_version": "1.2.0",
      "model_name": "LayoutModel",
      "state": {}
     },
     "0b337ae488204f6994b40b524541bffe": {
      "model_module": "@jupyter-widgets/base",
      "model_module_version": "1.2.0",
      "model_name": "LayoutModel",
      "state": {}
     },
     "0b3c774838e44ad8935f0baf7b7724fe": {
      "model_module": "@jupyter-widgets/base",
      "model_module_version": "1.2.0",
      "model_name": "LayoutModel",
      "state": {}
     },
     "0b533f1090fd4591be57ff0088bffd07": {
      "model_module": "@jupyter-widgets/base",
      "model_module_version": "1.2.0",
      "model_name": "LayoutModel",
      "state": {}
     },
     "0b5e40dd68554451acd64b72384ce78b": {
      "model_module": "@jupyter-widgets/controls",
      "model_module_version": "1.5.0",
      "model_name": "DescriptionStyleModel",
      "state": {
       "description_width": ""
      }
     },
     "0b63b22dfb41474da7f13a03d7e638de": {
      "model_module": "@jupyter-widgets/base",
      "model_module_version": "1.2.0",
      "model_name": "LayoutModel",
      "state": {
       "width": "100px"
      }
     },
     "0b7ded823be64994b355d8142708dbb3": {
      "model_module": "@jupyter-widgets/controls",
      "model_module_version": "1.5.0",
      "model_name": "HTMLModel",
      "state": {
       "layout": "IPY_MODEL_b2e369187cf746198409c097819b0350",
       "style": "IPY_MODEL_f239d9df976f494398da74ea24a12077",
       "value": "<font color='orange'> &nbsp Stars: 0</font>"
      }
     },
     "0b85575f6baf4ba8b5379f07dbf9f6cb": {
      "model_module": "@jupyter-widgets/controls",
      "model_module_version": "1.5.0",
      "model_name": "DescriptionStyleModel",
      "state": {
       "description_width": ""
      }
     },
     "0b9cec3453784870bb4ca3da616655ef": {
      "model_module": "@jupyter-widgets/controls",
      "model_module_version": "1.5.0",
      "model_name": "ButtonModel",
      "state": {
       "button_style": "danger",
       "icon": "times",
       "layout": "IPY_MODEL_e43d3ea450604b669e3eea7fa6d6fe20",
       "style": "IPY_MODEL_7e1f4a96ee744ed58429ebaf3f7f624a"
      }
     },
     "0bae99b5308a4b4eb68bbd86a2a82f08": {
      "model_module": "@jupyter-widgets/controls",
      "model_module_version": "1.5.0",
      "model_name": "ButtonStyleModel",
      "state": {}
     },
     "0bb6f0db50b1491eaacbc256e6fb8063": {
      "model_module": "@jupyter-widgets/base",
      "model_module_version": "1.2.0",
      "model_name": "LayoutModel",
      "state": {
       "width": "auto"
      }
     },
     "0bcc3276f8ec4b328c5b7ed66055d7df": {
      "model_module": "@jupyter-widgets/base",
      "model_module_version": "1.2.0",
      "model_name": "LayoutModel",
      "state": {
       "width": "100px"
      }
     },
     "0bfd2823bf884c97af44082357551ec3": {
      "model_module": "@jupyter-widgets/base",
      "model_module_version": "1.2.0",
      "model_name": "LayoutModel",
      "state": {}
     },
     "0c0deb1777a2487b910606fe91778bf6": {
      "model_module": "@jupyter-widgets/controls",
      "model_module_version": "1.5.0",
      "model_name": "HTMLModel",
      "state": {
       "layout": "IPY_MODEL_1251c2cc419241e48879888e0d8053a0",
       "style": "IPY_MODEL_d8e74a6302bc4b288b62fed997ce9a10",
       "value": "<font color='orange'> &nbsp Stars: 0</font>"
      }
     },
     "0c35f853e93645d98706a765573281ff": {
      "model_module": "@jupyter-widgets/controls",
      "model_module_version": "1.5.0",
      "model_name": "HTMLModel",
      "state": {
       "layout": "IPY_MODEL_de4a5579698e46fea939c66c3477a32d",
       "style": "IPY_MODEL_f20e4eb2be334e2b887efe2b24f3739f",
       "value": "<h3>Lab: <font color='red'>Not Set</font></h3>"
      }
     },
     "0c9a6853f7224e5da444147f8240fd25": {
      "model_module": "@jupyter-widgets/controls",
      "model_module_version": "1.5.0",
      "model_name": "DescriptionStyleModel",
      "state": {
       "description_width": ""
      }
     },
     "0cdd98bd1c4844108ca4241025cb9f54": {
      "model_module": "@jupyter-widgets/controls",
      "model_module_version": "1.5.0",
      "model_name": "ToggleButtonsStyleModel",
      "state": {
       "button_width": "",
       "description_width": ""
      }
     },
     "0ce24f22caac4cc5b3e173613ef25971": {
      "model_module": "@jupyter-widgets/base",
      "model_module_version": "1.2.0",
      "model_name": "LayoutModel",
      "state": {
       "justify_content": "center",
       "padding": "15px 0 0 0"
      }
     },
     "0d39319564b54acca7a48c2737e3517e": {
      "model_module": "@jupyter-widgets/base",
      "model_module_version": "1.2.0",
      "model_name": "LayoutModel",
      "state": {
       "width": "100px"
      }
     },
     "0d4301012d71494fb4eb248daf886617": {
      "model_module": "@jupyter-widgets/base",
      "model_module_version": "1.2.0",
      "model_name": "LayoutModel",
      "state": {}
     },
     "0d448ed34897466fb07441b95b3c089b": {
      "model_module": "@jupyter-widgets/base",
      "model_module_version": "1.2.0",
      "model_name": "LayoutModel",
      "state": {}
     },
     "0d48069b1cb042f0964157f1574e1993": {
      "model_module": "@jupyter-widgets/base",
      "model_module_version": "1.2.0",
      "model_name": "LayoutModel",
      "state": {}
     },
     "0d6cfb0303004d5c9ae9542589e6547c": {
      "model_module": "@jupyter-widgets/controls",
      "model_module_version": "1.5.0",
      "model_name": "HTMLModel",
      "state": {
       "layout": "IPY_MODEL_ec0400c5a6a14005a0ff60f4aa22362b",
       "style": "IPY_MODEL_4e5f44336068432bbd36fa12fe00c880",
       "value": "<h5 style='padding:0;margin:0;'>&nbsp <a href='https://github.com/SourabhSomdeve' style='color:silver'>SourabhSomdeve</a> &nbsp</h5>"
      }
     },
     "0d726d00cfbc4c4c85fbbf1bdbd01066": {
      "model_module": "@jupyter-widgets/controls",
      "model_module_version": "1.5.0",
      "model_name": "ButtonModel",
      "state": {
       "button_style": "info",
       "description": "Download",
       "layout": "IPY_MODEL_9150956958524b09af6ccbbf7cc91766",
       "style": "IPY_MODEL_3c1b2b4f0f894e8ca1cfcd7e08d4c2d2"
      }
     },
     "0d9cd6a147464825b8785cfe5c83ffdf": {
      "model_module": "@jupyter-widgets/controls",
      "model_module_version": "1.5.0",
      "model_name": "ToggleButtonsStyleModel",
      "state": {
       "button_width": "",
       "description_width": ""
      }
     },
     "0e05c40957a54f4b884e1934daf10dba": {
      "model_module": "@jupyter-widgets/base",
      "model_module_version": "1.2.0",
      "model_name": "LayoutModel",
      "state": {}
     },
     "0e07266cb93a4552a757653cd4b7b7c8": {
      "model_module": "@jupyter-widgets/controls",
      "model_module_version": "1.5.0",
      "model_name": "DescriptionStyleModel",
      "state": {
       "description_width": ""
      }
     },
     "0e230f714fa24bcc8f702da1e68ba426": {
      "model_module": "@jupyter-widgets/base",
      "model_module_version": "1.2.0",
      "model_name": "LayoutModel",
      "state": {}
     },
     "0e3c12c0395a4956bfe7c66891e51716": {
      "model_module": "@jupyter-widgets/controls",
      "model_module_version": "1.5.0",
      "model_name": "ButtonModel",
      "state": {
       "button_style": "info",
       "description": "Download",
       "layout": "IPY_MODEL_6347c3c40b8841d09fbdec126d2d09c9",
       "style": "IPY_MODEL_2bb739f6d35c40b4b73a9a17ff0c14db"
      }
     },
     "0e3e5012f2f64a38a1d6db95ee94969f": {
      "model_module": "@jupyter-widgets/controls",
      "model_module_version": "1.5.0",
      "model_name": "ButtonStyleModel",
      "state": {}
     },
     "0e8331b2734246f2939f6c6e308c3bea": {
      "model_module": "@jupyter-widgets/base",
      "model_module_version": "1.2.0",
      "model_name": "LayoutModel",
      "state": {
       "margin": "0px 100px 0px 0px",
       "visibility": "hidden",
       "width": "auto"
      }
     },
     "0e983bbe0ae4410199f1f81ae7efb0ac": {
      "model_module": "@jupyter-widgets/controls",
      "model_module_version": "1.5.0",
      "model_name": "HTMLModel",
      "state": {
       "layout": "IPY_MODEL_898b402e3ff449cb820b6a4956db85d2",
       "style": "IPY_MODEL_908494ef55e04f489a1b3cad9f40e221",
       "value": "<h3 style='padding:0;margin:0;'>&nbsp &nbsp<a href='https://github.com/derekguo31/Public_Profile'>Public_Profile</a> &nbsp</h3>"
      }
     },
     "0eadb4b98cf54d2a8a187378af5f8e5a": {
      "model_module": "@jupyter-widgets/base",
      "model_module_version": "1.2.0",
      "model_name": "LayoutModel",
      "state": {}
     },
     "0eba1e4b37b74945b86b89b49112311a": {
      "model_module": "@jupyter-widgets/controls",
      "model_module_version": "1.5.0",
      "model_name": "LabelModel",
      "state": {
       "layout": "IPY_MODEL_128715f81ec440a08719c9c68537d76b",
       "style": "IPY_MODEL_3060fdfd76d94cd4952f19064c50eed6",
       "value": "5 months ago"
      }
     },
     "0ebc88f9249a4bc39e0be0bde1e31e5e": {
      "model_module": "@jupyter-widgets/controls",
      "model_module_version": "1.5.0",
      "model_name": "DescriptionStyleModel",
      "state": {
       "description_width": ""
      }
     },
     "0ed758509edd40778df11d1977cde0c2": {
      "model_module": "@jupyter-widgets/controls",
      "model_module_version": "1.5.0",
      "model_name": "DescriptionStyleModel",
      "state": {
       "description_width": ""
      }
     },
     "0ef1fe38d64f4cbcbf136c5319e53048": {
      "model_module": "@jupyter-widgets/base",
      "model_module_version": "1.2.0",
      "model_name": "LayoutModel",
      "state": {}
     },
     "0f07f6062e4c4d679ac03ee9d4677f1e": {
      "model_module": "@jupyter-widgets/controls",
      "model_module_version": "1.5.0",
      "model_name": "LabelModel",
      "state": {
       "layout": "IPY_MODEL_dae8a25f6dde4e20aaa99b5660a93eae",
       "style": "IPY_MODEL_0435590af3fd44a79683ce8267d35e81",
       "value": "Created Repo"
      }
     },
     "0f1a05561063409899ec00ee2b50b066": {
      "model_module": "@jupyter-widgets/controls",
      "model_module_version": "1.5.0",
      "model_name": "DescriptionStyleModel",
      "state": {
       "description_width": ""
      }
     },
     "0f37961c6a4047d996cf263a47b432ed": {
      "model_module": "@jupyter-widgets/base",
      "model_module_version": "1.2.0",
      "model_name": "LayoutModel",
      "state": {}
     },
     "0f5363eab03e408286cf2b48fe5bce63": {
      "model_module": "@jupyter-widgets/controls",
      "model_module_version": "1.5.0",
      "model_name": "DescriptionStyleModel",
      "state": {
       "description_width": ""
      }
     },
     "0f6cd540762449089e3da9d0585db31e": {
      "model_module": "@jupyter-widgets/controls",
      "model_module_version": "1.5.0",
      "model_name": "DescriptionStyleModel",
      "state": {
       "description_width": ""
      }
     },
     "0f89c371b3564225ba003fa96fe31c7f": {
      "model_module": "@jupyter-widgets/controls",
      "model_module_version": "1.5.0",
      "model_name": "HTMLModel",
      "state": {
       "layout": "IPY_MODEL_1397d2c50dce4c549776e97348d488f1",
       "style": "IPY_MODEL_4ee59ffe73c0482485e1463de6cc9d8f",
       "value": "<h5 style='padding:0;margin:0;'>&nbsp <a href='https://github.com/Boxis' style='color:silver'>Boxis</a> &nbsp</h5>"
      }
     },
     "0f91cef103a4421ea827f93175dfca6d": {
      "model_module": "@jupyter-widgets/base",
      "model_module_version": "1.2.0",
      "model_name": "LayoutModel",
      "state": {
       "margin": "0px 100px 0px 0px",
       "visibility": "hidden",
       "width": "auto"
      }
     },
     "0f9d2f58647d4faba13df96328eb2b0c": {
      "model_module": "@jupyter-widgets/base",
      "model_module_version": "1.2.0",
      "model_name": "LayoutModel",
      "state": {
       "width": "auto"
      }
     },
     "0fb8317dcfed4bcf982e355d8a787c82": {
      "model_module": "@jupyter-widgets/controls",
      "model_module_version": "1.5.0",
      "model_name": "DescriptionStyleModel",
      "state": {
       "description_width": ""
      }
     },
     "0fdaf9ab7336466f90832abbe89ef0f3": {
      "model_module": "@jupyter-widgets/base",
      "model_module_version": "1.2.0",
      "model_name": "LayoutModel",
      "state": {}
     },
     "0fecf2a30caa4961ad6fbb5ffe3b74e4": {
      "model_module": "@jupyter-widgets/controls",
      "model_module_version": "1.5.0",
      "model_name": "DescriptionStyleModel",
      "state": {
       "description_width": ""
      }
     },
     "0fedec5034da45ab9a82d81a8bdc7236": {
      "model_module": "@jupyter-widgets/controls",
      "model_module_version": "1.5.0",
      "model_name": "HTMLModel",
      "state": {
       "layout": "IPY_MODEL_5fd3627f566a4dddb2bafee0e6d506f1",
       "style": "IPY_MODEL_418e28abb9534729a3782b667f073de0",
       "value": "<h5 style='padding:0;margin:0;'>&nbsp <a href='https://github.com/manojakm' style='color:silver'>manojakm</a> &nbsp</h5>"
      }
     },
     "100107059b714a6cbb4f2d0566043116": {
      "model_module": "@jupyter-widgets/base",
      "model_module_version": "1.2.0",
      "model_name": "LayoutModel",
      "state": {}
     },
     "10016d4571e94356a6fc76f86ffa3709": {
      "model_module": "@jupyter-widgets/controls",
      "model_module_version": "1.5.0",
      "model_name": "DescriptionStyleModel",
      "state": {
       "description_width": ""
      }
     },
     "10024575da5a40b3b475508414f84106": {
      "model_module": "@jupyter-widgets/controls",
      "model_module_version": "1.5.0",
      "model_name": "HBoxModel",
      "state": {
       "children": [
        "IPY_MODEL_080c27ab1b3c4e1eacff3aac99d430f1",
        "IPY_MODEL_d2111e50a4284534931f6964c40360a4",
        "IPY_MODEL_154315f018a04f35a4f600b21b98c75a",
        "IPY_MODEL_77113ebc6fdf4f6faa10e8122a59ff92"
       ],
       "layout": "IPY_MODEL_f4b3c9ef24114f1aa18d9d6a81a500e6"
      }
     },
     "101ac7d17e3043ca92ac08e53da32b19": {
      "model_module": "@jupyter-widgets/controls",
      "model_module_version": "1.5.0",
      "model_name": "ButtonStyleModel",
      "state": {}
     },
     "103b9472ffb641d992bd9208e397c1d2": {
      "model_module": "@jupyter-widgets/controls",
      "model_module_version": "1.5.0",
      "model_name": "ButtonStyleModel",
      "state": {}
     },
     "1067a68c39394e038884faab1a958e1c": {
      "model_module": "@jupyter-widgets/controls",
      "model_module_version": "1.5.0",
      "model_name": "ButtonModel",
      "state": {
       "button_style": "info",
       "description": "Download",
       "layout": "IPY_MODEL_3af95e5ce5b94d6a90f7c0c374dabfb5",
       "style": "IPY_MODEL_c965b5cdc0af4b61ad981daaa80b00c1"
      }
     },
     "1071476af0094367b6c89f35db7552eb": {
      "model_module": "@jupyter-widgets/base",
      "model_module_version": "1.2.0",
      "model_name": "LayoutModel",
      "state": {
       "width": "auto"
      }
     },
     "10a735755eed4837b32023cc67fbfaa1": {
      "model_module": "@jupyter-widgets/controls",
      "model_module_version": "1.5.0",
      "model_name": "LabelModel",
      "state": {
       "layout": "IPY_MODEL_9d832d7f7cfe45c39d6bf266f5e485e9",
       "style": "IPY_MODEL_85c90b33114f4c18b63183ab4f5b96f3",
       "value": "3 months ago"
      }
     },
     "10fcfb5fdcfa4c09b572eb59c6197cb1": {
      "model_module": "@jupyter-widgets/controls",
      "model_module_version": "1.5.0",
      "model_name": "HBoxModel",
      "state": {
       "children": [
        "IPY_MODEL_24863f8ff0a245acae5b5017e106b724",
        "IPY_MODEL_c54ea0f189c940898b0e2f88d274c198",
        "IPY_MODEL_12fc8146761740c9b2470ed4279028ff",
        "IPY_MODEL_08b5c09461b847f1af4fb6df3d55136f",
        "IPY_MODEL_472993b2c40945caae781d9ad88cb8b2",
        "IPY_MODEL_254fac695b9745baaa46268e0469e7c3",
        "IPY_MODEL_db5a39862d2b458ebff58f55e43b3c67"
       ],
       "layout": "IPY_MODEL_a109641279a24c65b34d0564a32a0803"
      }
     },
     "1107a6e3343f4030a1a47995e7227c71": {
      "model_module": "@jupyter-widgets/base",
      "model_module_version": "1.2.0",
      "model_name": "LayoutModel",
      "state": {}
     },
     "11160037dc8b4b25893595e84a423cc7": {
      "model_module": "@jupyter-widgets/controls",
      "model_module_version": "1.5.0",
      "model_name": "DescriptionStyleModel",
      "state": {
       "description_width": ""
      }
     },
     "113923b9258a4267a1f5c378a7ce6ff8": {
      "model_module": "@jupyter-widgets/controls",
      "model_module_version": "1.5.0",
      "model_name": "LabelModel",
      "state": {
       "layout": "IPY_MODEL_4ac65f189bac460d87ee1c471a4aef98",
       "style": "IPY_MODEL_99b0931556794dd79607808779227c68",
       "value": "Created Repo"
      }
     },
     "113ace32eb3e41d5bdc735ec71d6cd2b": {
      "model_module": "@jupyter-widgets/base",
      "model_module_version": "1.2.0",
      "model_name": "LayoutModel",
      "state": {
       "width": "auto"
      }
     },
     "1168f719b4104087b50ef54e40c75a44": {
      "model_module": "@jupyter-widgets/controls",
      "model_module_version": "1.5.0",
      "model_name": "DescriptionStyleModel",
      "state": {
       "description_width": ""
      }
     },
     "117c05d9e9594ed0ad77e76b98434329": {
      "model_module": "@jupyter-widgets/controls",
      "model_module_version": "1.5.0",
      "model_name": "LabelModel",
      "state": {
       "layout": "IPY_MODEL_2db51eaa3c404c12b08007d9e4687f93",
       "style": "IPY_MODEL_256ecabf79db40c99cc9d11727e1322b",
       "value": "changed image"
      }
     },
     "1191b7a599ad468dad351b2a0cd6b91b": {
      "model_module": "@jupyter-widgets/base",
      "model_module_version": "1.2.0",
      "model_name": "LayoutModel",
      "state": {}
     },
     "11a43dd9aabf42e695d3804c2ccf8bf7": {
      "model_module": "@jupyter-widgets/base",
      "model_module_version": "1.2.0",
      "model_name": "LayoutModel",
      "state": {
       "width": "auto"
      }
     },
     "11e8ec86b0534387b9fbf71696c11937": {
      "model_module": "@jupyter-widgets/base",
      "model_module_version": "1.2.0",
      "model_name": "LayoutModel",
      "state": {}
     },
     "11ff3a64976f4134bc27aa4d5e2ec796": {
      "model_module": "@jupyter-widgets/controls",
      "model_module_version": "1.5.0",
      "model_name": "ToggleButtonsModel",
      "state": {
       "_options_labels": [
        "Public",
        "Private"
       ],
       "button_style": "info",
       "icons": [],
       "index": 0,
       "layout": "IPY_MODEL_458417c7c75a42aa8fd9b57ec8163ad5",
       "style": "IPY_MODEL_b349ade39e6142c99b4c1915fb70cb1b",
       "tooltips": []
      }
     },
     "124cb4b688c24f32a8ac71deef8f5883": {
      "model_module": "@jupyter-widgets/base",
      "model_module_version": "1.2.0",
      "model_name": "LayoutModel",
      "state": {}
     },
     "1251c2cc419241e48879888e0d8053a0": {
      "model_module": "@jupyter-widgets/base",
      "model_module_version": "1.2.0",
      "model_name": "LayoutModel",
      "state": {}
     },
     "125a95a88b71448ba02779a593dee13d": {
      "model_module": "@jupyter-widgets/controls",
      "model_module_version": "1.5.0",
      "model_name": "VBoxModel",
      "state": {
       "children": [
        "IPY_MODEL_c5b8d693411949fe8e540f8acc4bd495",
        "IPY_MODEL_8954a544501d42af9562c0d8b71affb9",
        "IPY_MODEL_2ea147c5bca84ab9b4ad5dda88727d77",
        "IPY_MODEL_8823092ee33b4ce899b0ef0b82ca59b8"
       ],
       "layout": "IPY_MODEL_8e91bc1db14c446e92da212b13bb301f"
      }
     },
     "125b68045fe34932bd0d596b84cdcd28": {
      "model_module": "@jupyter-widgets/controls",
      "model_module_version": "1.5.0",
      "model_name": "HBoxModel",
      "state": {
       "children": [
        "IPY_MODEL_650ee0c6a9574d5d801226546d802269"
       ],
       "layout": "IPY_MODEL_aa96f55c85674644823e4b103a0ded95"
      }
     },
     "125e5deb73b1438ab94ed2b925d94c98": {
      "model_module": "@jupyter-widgets/base",
      "model_module_version": "1.2.0",
      "model_name": "LayoutModel",
      "state": {}
     },
     "126e3859dfaf410181f46947522e1df2": {
      "model_module": "@jupyter-widgets/controls",
      "model_module_version": "1.5.0",
      "model_name": "DescriptionStyleModel",
      "state": {
       "description_width": ""
      }
     },
     "12765984b45a43b09fa75a6fd31d9481": {
      "model_module": "@jupyter-widgets/controls",
      "model_module_version": "1.5.0",
      "model_name": "HBoxModel",
      "state": {
       "children": [
        "IPY_MODEL_505996216a274268b22f61c0997f4394",
        "IPY_MODEL_1067a68c39394e038884faab1a958e1c",
        "IPY_MODEL_d4a545cacbbc436d89aa370c2cefbcf0",
        "IPY_MODEL_d54413d9ded94265bcb0573ac66d5a3d",
        "IPY_MODEL_c8ef4914ffff4d25aaf9c190c81596a6",
        "IPY_MODEL_6c39b598984d4b868ae644b2ed7a8837",
        "IPY_MODEL_5ee2ed2e130845f69d2bc9ecc360aadf"
       ],
       "layout": "IPY_MODEL_cd14f4500a9949aba230902ba9ec32a9"
      }
     },
     "128715f81ec440a08719c9c68537d76b": {
      "model_module": "@jupyter-widgets/base",
      "model_module_version": "1.2.0",
      "model_name": "LayoutModel",
      "state": {
       "width": "100px"
      }
     },
     "12c7606f4aa44c0fa348b7fa213bc747": {
      "model_module": "@jupyter-widgets/controls",
      "model_module_version": "1.5.0",
      "model_name": "HTMLModel",
      "state": {
       "layout": "IPY_MODEL_0e230f714fa24bcc8f702da1e68ba426",
       "style": "IPY_MODEL_a86eea3da8164d74b489cdc386513aa0",
       "value": "<h3 class='text-center'><font color='green'>Login</font> to <a stc='https://github.com/'>Github</a><h3>"
      }
     },
     "12ecceb349b54c48b237bc2271c31c61": {
      "model_module": "@jupyter-widgets/base",
      "model_module_version": "1.2.0",
      "model_name": "LayoutModel",
      "state": {}
     },
     "12fb5bc60f264d8b90a61b81b1117255": {
      "model_module": "@jupyter-widgets/base",
      "model_module_version": "1.2.0",
      "model_name": "LayoutModel",
      "state": {}
     },
     "12fc8146761740c9b2470ed4279028ff": {
      "model_module": "@jupyter-widgets/controls",
      "model_module_version": "1.5.0",
      "model_name": "HTMLModel",
      "state": {
       "layout": "IPY_MODEL_f2f70df8c983457c955e1e6be1905cce",
       "style": "IPY_MODEL_5e97ac004e9b488b9dc24a1ddc0bfe62",
       "value": "<font color='green'> &nbsp Downloads: 0</font>"
      }
     },
     "132f077a27aa4480b8bc604eaff1fd25": {
      "model_module": "@jupyter-widgets/controls",
      "model_module_version": "1.5.0",
      "model_name": "ButtonModel",
      "state": {
       "button_style": "info",
       "description": "Download",
       "layout": "IPY_MODEL_7c79f63e8cd0496e8f4445ae5ee1c651",
       "style": "IPY_MODEL_f10cb9161f75413883942438eafab8db"
      }
     },
     "138eb4e0d09f42d0a9659e848d153108": {
      "model_module": "@jupyter-widgets/base",
      "model_module_version": "1.2.0",
      "model_name": "LayoutModel",
      "state": {}
     },
     "1397d2c50dce4c549776e97348d488f1": {
      "model_module": "@jupyter-widgets/base",
      "model_module_version": "1.2.0",
      "model_name": "LayoutModel",
      "state": {}
     },
     "13bae08adf574ba0877940a18adea38f": {
      "model_module": "@jupyter-widgets/controls",
      "model_module_version": "1.5.0",
      "model_name": "HTMLModel",
      "state": {
       "layout": "IPY_MODEL_54047aa0838c4ba1aa4c03255ca75a64",
       "style": "IPY_MODEL_7d798dbcc2e1459f96746af9db34fe41",
       "value": "<h5 style='padding:0;margin:0;'>&nbsp <a href='https://github.com/SSRGHVN' style='color:silver'>SSRGHVN</a> &nbsp</h5>"
      }
     },
     "141818c966d34d11a28e380732e12ee2": {
      "model_module": "@jupyter-widgets/base",
      "model_module_version": "1.2.0",
      "model_name": "LayoutModel",
      "state": {
       "align_items": "center",
       "display": "none"
      }
     },
     "144785f4cdea49e086049a96ec9527d3": {
      "model_module": "@jupyter-widgets/base",
      "model_module_version": "1.2.0",
      "model_name": "LayoutModel",
      "state": {
       "width": "auto"
      }
     },
     "146bb4cfc24e4fc5974bbd9d418bb73a": {
      "model_module": "@jupyter-widgets/controls",
      "model_module_version": "1.5.0",
      "model_name": "HTMLModel",
      "state": {
       "layout": "IPY_MODEL_f3e5dc2e59f143de9de0420a79b26737",
       "style": "IPY_MODEL_8e2467d4f8784c5ab782d48890867821",
       "value": "<font color='green'> &nbsp Downloads: 1</font>"
      }
     },
     "14d9d94699e341c7ae6dd8a63f773813": {
      "model_module": "@jupyter-widgets/controls",
      "model_module_version": "1.5.0",
      "model_name": "HTMLModel",
      "state": {
       "layout": "IPY_MODEL_19e9d7de2a7a4220827f08ea48c01075",
       "style": "IPY_MODEL_6b28b6297c0348d58117482b3703fbdb",
       "value": "<font color='green'> &nbsp Downloads: 3</font>"
      }
     },
     "14dfaeef8dca4d80b135b71925bd4acf": {
      "model_module": "@jupyter-widgets/controls",
      "model_module_version": "1.5.0",
      "model_name": "VBoxModel",
      "state": {
       "children": [
        "IPY_MODEL_ac8753b30f6048bd8611d2e6794da318",
        "IPY_MODEL_2a334530619f41f7af77bed182240c63"
       ],
       "layout": "IPY_MODEL_f2f56ad4251d4f6cb849c20a068fe361"
      }
     },
     "14ebc69e279a4e1aa8dd7fe1fbf1a04c": {
      "model_module": "@jupyter-widgets/base",
      "model_module_version": "1.2.0",
      "model_name": "LayoutModel",
      "state": {
       "width": "100px"
      }
     },
     "14fd6e26dc0b4fe8815f44f45255f47b": {
      "model_module": "@jupyter-widgets/controls",
      "model_module_version": "1.5.0",
      "model_name": "DescriptionStyleModel",
      "state": {
       "description_width": ""
      }
     },
     "1529bd90360849f4bfb08a6540fd7dcd": {
      "model_module": "@jupyter-widgets/controls",
      "model_module_version": "1.5.0",
      "model_name": "DescriptionStyleModel",
      "state": {
       "description_width": ""
      }
     },
     "153b22377e3a491792e5a1a0988f7926": {
      "model_module": "@jupyter-widgets/base",
      "model_module_version": "1.2.0",
      "model_name": "LayoutModel",
      "state": {
       "align_items": "center",
       "justify_content": "center"
      }
     },
     "153bf8e763274d8e92dc78840de7dcd5": {
      "model_module": "@jupyter-widgets/controls",
      "model_module_version": "1.5.0",
      "model_name": "DescriptionStyleModel",
      "state": {
       "description_width": ""
      }
     },
     "153c00b1e0f64288ad82b23f8d879e23": {
      "model_module": "@jupyter-widgets/controls",
      "model_module_version": "1.5.0",
      "model_name": "LabelModel",
      "state": {
       "layout": "IPY_MODEL_67dba928e1d943bc960de985f162f40b",
       "style": "IPY_MODEL_482c4dcba6f04f56bc86f84c55e11531",
       "value": "5 days ago"
      }
     },
     "154315f018a04f35a4f600b21b98c75a": {
      "model_module": "@jupyter-widgets/controls",
      "model_module_version": "1.5.0",
      "model_name": "ButtonModel",
      "state": {
       "button_style": "primary",
       "description": "Download",
       "layout": "IPY_MODEL_71e1b9a6bfac4df5b06ad9db0732719e",
       "style": "IPY_MODEL_205ece89147343bb8d70e18d2bca447c"
      }
     },
     "156b013ecf2d4a11896b218c14936492": {
      "model_module": "@jupyter-widgets/controls",
      "model_module_version": "1.5.0",
      "model_name": "DescriptionStyleModel",
      "state": {
       "description_width": ""
      }
     },
     "15c7b704fd63472fb46013b5c22aa340": {
      "model_module": "@jupyter-widgets/controls",
      "model_module_version": "1.5.0",
      "model_name": "DescriptionStyleModel",
      "state": {
       "description_width": ""
      }
     },
     "15dae4fa20fc4f2696ad89b8bf0a3271": {
      "model_module": "@jupyter-widgets/base",
      "model_module_version": "1.2.0",
      "model_name": "LayoutModel",
      "state": {}
     },
     "1640773417d941b09301e60f5328dfcd": {
      "model_module": "@jupyter-widgets/controls",
      "model_module_version": "1.5.0",
      "model_name": "DescriptionStyleModel",
      "state": {
       "description_width": ""
      }
     },
     "165dc68aa2864488b21510e91544043c": {
      "model_module": "@jupyter-widgets/controls",
      "model_module_version": "1.5.0",
      "model_name": "HBoxModel",
      "state": {
       "children": [
        "IPY_MODEL_51b2a2f178a34d97a2cdb6b30bd12a53",
        "IPY_MODEL_a41af3e0568643f5938b32055544aa9d",
        "IPY_MODEL_324217fcb42d4903a9b1711a4819b489",
        "IPY_MODEL_21f969417dc246f69131214d3a527790"
       ],
       "layout": "IPY_MODEL_b2a5b59d6ef54c82aea236260d107ff2"
      }
     },
     "168e56d3335346f7bb1922a0600d38a4": {
      "model_module": "@jupyter-widgets/controls",
      "model_module_version": "1.5.0",
      "model_name": "LabelModel",
      "state": {
       "layout": "IPY_MODEL_8bcc0e50628b41bcb78f97893903c3ed",
       "style": "IPY_MODEL_d8fad574b6664850a1f567075745fb35",
       "value": "5 months ago"
      }
     },
     "1691d88574ba4127bfac073ad9764e6f": {
      "model_module": "@jupyter-widgets/base",
      "model_module_version": "1.2.0",
      "model_name": "LayoutModel",
      "state": {}
     },
     "16c53178230c43c29a022ff7c9f3de55": {
      "model_module": "@jupyter-widgets/base",
      "model_module_version": "1.2.0",
      "model_name": "LayoutModel",
      "state": {}
     },
     "17142188a1574fb0a20fd30013ee7c6f": {
      "model_module": "@jupyter-widgets/controls",
      "model_module_version": "1.5.0",
      "model_name": "HTMLModel",
      "state": {
       "layout": "IPY_MODEL_3d5b39cca4154baa89d990c1e1692aeb",
       "style": "IPY_MODEL_be30bc54c413422cb20ce5897f51030b",
       "value": "<font color='green'> &nbsp Downloads: 3</font>"
      }
     },
     "172c5cf69c6a4f8a8ce14e16064ffc47": {
      "model_module": "@jupyter-widgets/controls",
      "model_module_version": "1.5.0",
      "model_name": "HTMLModel",
      "state": {
       "layout": "IPY_MODEL_bd64d9ec5a6b43bdb66a6860564dc64c",
       "style": "IPY_MODEL_9a21d803427a4c64a97026a4575284f2",
       "value": "<h3 class='text-center'><font color='green'>Login</font> to <a stc='https://github.com/'>Github</a><h3>"
      }
     },
     "173161168a0e4408b2e72c9103d1481f": {
      "model_module": "@jupyter-widgets/controls",
      "model_module_version": "1.5.0",
      "model_name": "HTMLModel",
      "state": {
       "layout": "IPY_MODEL_2b7cc35f970e4531827fb03b86217fee",
       "style": "IPY_MODEL_40805d53962e4fe493efa62a38bdb54b",
       "value": "<font color='orange'> &nbsp Stars: 0</font>"
      }
     },
     "17679e2b31a348cc938e8485cb026ae9": {
      "model_module": "@jupyter-widgets/base",
      "model_module_version": "1.2.0",
      "model_name": "LayoutModel",
      "state": {}
     },
     "176c6ef9ce7a489184a4529b6a216625": {
      "model_module": "@jupyter-widgets/controls",
      "model_module_version": "1.5.0",
      "model_name": "ButtonStyleModel",
      "state": {}
     },
     "17b173b029e248f7982429a5a00e12b2": {
      "model_module": "@jupyter-widgets/base",
      "model_module_version": "1.2.0",
      "model_name": "LayoutModel",
      "state": {
       "width": "auto"
      }
     },
     "17b3896aee8345c08907c40edcd3b468": {
      "model_module": "@jupyter-widgets/controls",
      "model_module_version": "1.5.0",
      "model_name": "ButtonStyleModel",
      "state": {}
     },
     "17da4c729a644fb09ce705ebbe56dec3": {
      "model_module": "@jupyter-widgets/controls",
      "model_module_version": "1.5.0",
      "model_name": "DescriptionStyleModel",
      "state": {
       "description_width": ""
      }
     },
     "17e2b912e8464ec3a649ecb85ed50ecf": {
      "model_module": "@jupyter-widgets/controls",
      "model_module_version": "1.5.0",
      "model_name": "DescriptionStyleModel",
      "state": {
       "description_width": ""
      }
     },
     "17e4f85cf5c64b98b416b8d60e060521": {
      "model_module": "@jupyter-widgets/base",
      "model_module_version": "1.2.0",
      "model_name": "LayoutModel",
      "state": {
       "padding": "0px 20px 5px 0px"
      }
     },
     "1821e5362f0e4d05bd4942839ec121eb": {
      "model_module": "@jupyter-widgets/base",
      "model_module_version": "1.2.0",
      "model_name": "LayoutModel",
      "state": {}
     },
     "1838dae9895e495d94d2b5b1c8106a55": {
      "model_module": "@jupyter-widgets/controls",
      "model_module_version": "1.5.0",
      "model_name": "HTMLModel",
      "state": {
       "layout": "IPY_MODEL_8971702121d84a4cac360f832d0557d9",
       "style": "IPY_MODEL_6ed425ba26cb402389c30cfd39ab0d67",
       "value": "<h5 style='padding:0;margin:0;'>&nbsp <a href='https://github.com/ugunal' style='color:silver'>ugunal</a> &nbsp</h5>"
      }
     },
     "183bcf1301e44a789cd1456fcfec29cc": {
      "model_module": "@jupyter-widgets/base",
      "model_module_version": "1.2.0",
      "model_name": "LayoutModel",
      "state": {}
     },
     "18402209c165426cb55978437703c671": {
      "model_module": "@jupyter-widgets/base",
      "model_module_version": "1.2.0",
      "model_name": "LayoutModel",
      "state": {}
     },
     "184388c16fff4cb48f6897b771973fd0": {
      "model_module": "@jupyter-widgets/controls",
      "model_module_version": "1.5.0",
      "model_name": "HBoxModel",
      "state": {
       "children": [
        "IPY_MODEL_3822b77f77984a63b39413faddba5f89",
        "IPY_MODEL_e0a20c0bfac04c2784f9d8c614611b0e",
        "IPY_MODEL_6f791e0564a84e6aaa359c538288733b"
       ],
       "layout": "IPY_MODEL_f5c50ed718f4436980f81840367643ed"
      }
     },
     "184d577ec12c40b3a50bbf380110b06a": {
      "model_module": "@jupyter-widgets/controls",
      "model_module_version": "1.5.0",
      "model_name": "ButtonModel",
      "state": {
       "button_style": "success",
       "description": "Publish",
       "layout": "IPY_MODEL_24011bf59f904043b2b3fa25ec08ebb2",
       "style": "IPY_MODEL_32659d0dccc1486e9ff8bd44c454179b"
      }
     },
     "186c6976edf74890aa8e45fac9282852": {
      "model_module": "@jupyter-widgets/controls",
      "model_module_version": "1.5.0",
      "model_name": "HTMLModel",
      "state": {
       "layout": "IPY_MODEL_d0266933288c405e87e0d28730bb4809",
       "style": "IPY_MODEL_29b8e0edbe6841c8b372153f9caa91d7",
       "value": "<font color='orange'> &nbsp Stars: 0</font>"
      }
     },
     "1877eed119524da2809aaa51bf287fb4": {
      "model_module": "@jupyter-widgets/controls",
      "model_module_version": "1.5.0",
      "model_name": "ButtonModel",
      "state": {
       "button_style": "info",
       "description": "Download",
       "layout": "IPY_MODEL_83c76c303aa74359b211304f187d0713",
       "style": "IPY_MODEL_103b9472ffb641d992bd9208e397c1d2"
      }
     },
     "189123c4f6b74e13b8dcfe8c686a5f04": {
      "model_module": "@jupyter-widgets/controls",
      "model_module_version": "1.5.0",
      "model_name": "HBoxModel",
      "state": {
       "children": [
        "IPY_MODEL_2ff143067e7241bd901d4d089dcf3a4c",
        "IPY_MODEL_1877eed119524da2809aaa51bf287fb4",
        "IPY_MODEL_234bbf79de9846dc8b486e18fb6979d8",
        "IPY_MODEL_0c0deb1777a2487b910606fe91778bf6",
        "IPY_MODEL_572c77b1167e45609c80f0a078b30b0c",
        "IPY_MODEL_5b0018467f814031b7031672e79097f4",
        "IPY_MODEL_e5cba3fa76e14ed690dfaa3bbc24086b"
       ],
       "layout": "IPY_MODEL_450be5379fb64c2cb0e6d06341ee4104"
      }
     },
     "18a1925f0476478f9ce66cf03efa620f": {
      "model_module": "@jupyter-widgets/base",
      "model_module_version": "1.2.0",
      "model_name": "LayoutModel",
      "state": {}
     },
     "18b2f5c5c0da4836bff5605f510754c8": {
      "model_module": "@jupyter-widgets/base",
      "model_module_version": "1.2.0",
      "model_name": "LayoutModel",
      "state": {}
     },
     "18bac928c3d24324bde4c1295b8990bf": {
      "model_module": "@jupyter-widgets/base",
      "model_module_version": "1.2.0",
      "model_name": "LayoutModel",
      "state": {}
     },
     "18c57f9495d6455ba4a40c15b8b11027": {
      "model_module": "@jupyter-widgets/base",
      "model_module_version": "1.2.0",
      "model_name": "LayoutModel",
      "state": {}
     },
     "18e355ce30ba4187a8ea05bc500e162e": {
      "model_module": "@jupyter-widgets/controls",
      "model_module_version": "1.5.0",
      "model_name": "HTMLModel",
      "state": {
       "layout": "IPY_MODEL_2774865c88bb4b38befff4e8700a9ba5",
       "style": "IPY_MODEL_a988458b8fa2438d93bfd9754dc459a5",
       "value": "<h3 style='padding:0;margin:0;'>&nbsp &nbsp<a href='https://github.com/ugunal/My_First_Research_Paper'>My_First_Research_Paper</a> &nbsp</h3>"
      }
     },
     "18f202ce9b634325b6b00bd572223012": {
      "model_module": "@jupyter-widgets/controls",
      "model_module_version": "1.5.0",
      "model_name": "DescriptionStyleModel",
      "state": {
       "description_width": ""
      }
     },
     "191968f96b1f4eb2a183a370be63d209": {
      "model_module": "@jupyter-widgets/base",
      "model_module_version": "1.2.0",
      "model_name": "LayoutModel",
      "state": {
       "justify_content": "center",
       "padding": "20px 0 0 0"
      }
     },
     "1923bab548b1463d8fd62198d932fbe5": {
      "model_module": "@jupyter-widgets/base",
      "model_module_version": "1.2.0",
      "model_name": "LayoutModel",
      "state": {}
     },
     "19262ef4dd404d02859bd3478e41bb36": {
      "model_module": "@jupyter-widgets/controls",
      "model_module_version": "1.5.0",
      "model_name": "DescriptionStyleModel",
      "state": {
       "description_width": ""
      }
     },
     "1942291e42ba4000858b902ba084a54e": {
      "model_module": "@jupyter-widgets/base",
      "model_module_version": "1.2.0",
      "model_name": "LayoutModel",
      "state": {}
     },
     "19cd09d58f4b4fc48873418c1dfc5dcf": {
      "model_module": "@jupyter-widgets/controls",
      "model_module_version": "1.5.0",
      "model_name": "HTMLModel",
      "state": {
       "layout": "IPY_MODEL_80d6feac6d2f4ebdb255ab0e5343cfc7",
       "style": "IPY_MODEL_ad6b9f09eadb4873ae9f346d56a574de",
       "value": "<font color='green'> &nbsp Downloads: 0</font>"
      }
     },
     "19d6dfe158fc474cbb014d1073df770c": {
      "model_module": "@jupyter-widgets/controls",
      "model_module_version": "1.5.0",
      "model_name": "HTMLModel",
      "state": {
       "layout": "IPY_MODEL_ce669cc139a44d069868069b61e72291",
       "style": "IPY_MODEL_f68bd4eecec34828bea91cb756705b5b",
       "value": "<h3 style='padding:0;margin:0;'>&nbsp &nbsp<a href='https://github.com/spockman12/My_First_Research_Paper'>My_First_Research_Paper</a> &nbsp</h3>"
      }
     },
     "19e9d7de2a7a4220827f08ea48c01075": {
      "model_module": "@jupyter-widgets/base",
      "model_module_version": "1.2.0",
      "model_name": "LayoutModel",
      "state": {}
     },
     "1a0071ddf52c4b94b9fe548aea92cb43": {
      "model_module": "@jupyter-widgets/controls",
      "model_module_version": "1.5.0",
      "model_name": "HTMLModel",
      "state": {
       "layout": "IPY_MODEL_0ad1b04217714ea6afb5f4c3439f5c89",
       "style": "IPY_MODEL_6ac273344cc54ad790e66cabacd3e252",
       "value": "<font color='orange'> &nbsp Stars: 0</font>"
      }
     },
     "1a453c3402114befb283877b731088fe": {
      "model_module": "@jupyter-widgets/controls",
      "model_module_version": "1.5.0",
      "model_name": "DescriptionStyleModel",
      "state": {
       "description_width": ""
      }
     },
     "1a51d1e2bf3c491ab3fa762a5fb77193": {
      "model_module": "@jupyter-widgets/controls",
      "model_module_version": "1.5.0",
      "model_name": "HTMLModel",
      "state": {
       "layout": "IPY_MODEL_fbdd139f7de34ba7ba8eb16651b943ea",
       "style": "IPY_MODEL_5874a80754494bc796dd016aef430e08",
       "value": "<font color='orange'> &nbsp Stars: 0</font>"
      }
     },
     "1a6b11af8e7d40d2a12f2b37b89cbb4e": {
      "model_module": "@jupyter-widgets/controls",
      "model_module_version": "1.5.0",
      "model_name": "HTMLModel",
      "state": {
       "layout": "IPY_MODEL_2974d2eac96d4bd4bf20b12078973bba",
       "style": "IPY_MODEL_239a4fb1abd2403f92485236d177bd3c",
       "value": "<font color='green'> &nbsp Downloads: 0</font>"
      }
     },
     "1ac9f1654cf7477083ed7ec790a8e23f": {
      "model_module": "@jupyter-widgets/controls",
      "model_module_version": "1.5.0",
      "model_name": "VBoxModel",
      "state": {
       "children": [
        "IPY_MODEL_75480c2c122f43f08f5a9cb951223717",
        "IPY_MODEL_a87008cef8a94cf6be346d8efb990591"
       ],
       "layout": "IPY_MODEL_820e1a8927fa498094f37c256c9e1337"
      }
     },
     "1ad0f217b1584a1c99dd4e1985f36ee3": {
      "model_module": "@jupyter-widgets/controls",
      "model_module_version": "1.5.0",
      "model_name": "HTMLModel",
      "state": {
       "layout": "IPY_MODEL_00df34c2840e4c4594e65cbaf551c13b",
       "style": "IPY_MODEL_ae3dfb50700143d3b04bb2b23302a930",
       "value": "<h3 style='padding:0;margin:0;'>&nbsp &nbsp<a href='https://github.com/igchin/io_Presentation'>io_Presentation</a> &nbsp</h3>"
      }
     },
     "1afb2858f2ec48dc9bb64a4311f38a61": {
      "model_module": "@jupyter-widgets/controls",
      "model_module_version": "1.5.0",
      "model_name": "DescriptionStyleModel",
      "state": {
       "description_width": ""
      }
     },
     "1b11acec2a194adcb544a279dbf773e2": {
      "model_module": "@jupyter-widgets/controls",
      "model_module_version": "1.5.0",
      "model_name": "HTMLModel",
      "state": {
       "layout": "IPY_MODEL_86e55f8d08c948ff8001bdb82e6a4c08",
       "style": "IPY_MODEL_f29509a9fcc442d4b4a77e43ae1a0793",
       "value": "<font color='orange'> &nbsp Stars: 19</font>"
      }
     },
     "1b226ca7526a4a729a84735607303928": {
      "model_module": "@jupyter-widgets/base",
      "model_module_version": "1.2.0",
      "model_name": "LayoutModel",
      "state": {}
     },
     "1b6bef393136487293274b2aec5206ae": {
      "model_module": "@jupyter-widgets/controls",
      "model_module_version": "1.5.0",
      "model_name": "DescriptionStyleModel",
      "state": {
       "description_width": ""
      }
     },
     "1bc35a678b6b48839ebf543c0501ac28": {
      "model_module": "@jupyter-widgets/base",
      "model_module_version": "1.2.0",
      "model_name": "LayoutModel",
      "state": {}
     },
     "1be36bfa91ec4f9abb59e3d39457c6af": {
      "model_module": "@jupyter-widgets/controls",
      "model_module_version": "1.5.0",
      "model_name": "HTMLModel",
      "state": {
       "layout": "IPY_MODEL_396e3d318b8c435e9ce2b9ae9a037ecd",
       "style": "IPY_MODEL_8a0d347d363444cd996f86e77fd1dbe5",
       "value": "<h3>Lab: <font color='red'>Not Set</font></h3>"
      }
     },
     "1bf2147c0cd4439eb0ca46a988af413d": {
      "model_module": "@jupyter-widgets/controls",
      "model_module_version": "1.5.0",
      "model_name": "ButtonStyleModel",
      "state": {}
     },
     "1c05c5e3bb174301a792b3d88fe459bb": {
      "model_module": "@jupyter-widgets/controls",
      "model_module_version": "1.5.0",
      "model_name": "DescriptionStyleModel",
      "state": {
       "description_width": ""
      }
     },
     "1c37de8bef2a4b76badcde037d4706c7": {
      "model_module": "@jupyter-widgets/base",
      "model_module_version": "1.2.0",
      "model_name": "LayoutModel",
      "state": {}
     },
     "1c43d6933d964ae0afde496fd98f05a6": {
      "model_module": "@jupyter-widgets/base",
      "model_module_version": "1.2.0",
      "model_name": "LayoutModel",
      "state": {}
     },
     "1c48258e91cc452b86485f6539598017": {
      "model_module": "@jupyter-widgets/controls",
      "model_module_version": "1.5.0",
      "model_name": "HTMLModel",
      "state": {
       "layout": "IPY_MODEL_7a797ab8ca2749d78530138f35dea113",
       "style": "IPY_MODEL_c2ea772135774723aa79b9ecafecb4b4",
       "value": "<h3 style='padding:0;margin:0;'>&nbsp &nbsp<a href='https://github.com/TRM13/my_first_io'>my_first_io</a> &nbsp</h3>"
      }
     },
     "1c6ae4b41c27499690bc1da95a7b7a84": {
      "model_module": "@jupyter-widgets/base",
      "model_module_version": "1.2.0",
      "model_name": "LayoutModel",
      "state": {}
     },
     "1c6f6d10185b41a49b1cb511acb75253": {
      "model_module": "@jupyter-widgets/controls",
      "model_module_version": "1.5.0",
      "model_name": "DescriptionStyleModel",
      "state": {
       "description_width": ""
      }
     },
     "1c6f763ac0e64c98bf01dc55526fc12d": {
      "model_module": "@jupyter-widgets/controls",
      "model_module_version": "1.5.0",
      "model_name": "ButtonStyleModel",
      "state": {}
     },
     "1cd8e2c4f5844a149f8b3f5ac54460e1": {
      "model_module": "@jupyter-widgets/controls",
      "model_module_version": "1.5.0",
      "model_name": "HTMLModel",
      "state": {
       "layout": "IPY_MODEL_23c2b294326442ba868fa7e0fea763ba",
       "style": "IPY_MODEL_1640773417d941b09301e60f5328dfcd",
       "value": "<h3 style='padding:0;margin:0;'>&nbsp &nbsp<a href='https://github.com/SourabhSomdeve/My_first_demo'>My_first_demo</a> &nbsp</h3>"
      }
     },
     "1cdc34dec3d544e9b1ba43ddb847928e": {
      "model_module": "@jupyter-widgets/base",
      "model_module_version": "1.2.0",
      "model_name": "LayoutModel",
      "state": {}
     },
     "1ce254ef740b4a55bd401f6feceb3ef3": {
      "model_module": "@jupyter-widgets/base",
      "model_module_version": "1.2.0",
      "model_name": "LayoutModel",
      "state": {}
     },
     "1cf3715c57e04c93a82e7ec5d729f9f1": {
      "model_module": "@jupyter-widgets/base",
      "model_module_version": "1.2.0",
      "model_name": "LayoutModel",
      "state": {}
     },
     "1d2b72d0f73c4f4a98201fc451930ddc": {
      "model_module": "@jupyter-widgets/base",
      "model_module_version": "1.2.0",
      "model_name": "LayoutModel",
      "state": {
       "width": "auto"
      }
     },
     "1d3a374146384ef3bb91242854a88447": {
      "model_module": "@jupyter-widgets/controls",
      "model_module_version": "1.5.0",
      "model_name": "DescriptionStyleModel",
      "state": {
       "description_width": ""
      }
     },
     "1d54ec4c98cc4f1493d49e1ae9faf4ed": {
      "model_module": "@jupyter-widgets/controls",
      "model_module_version": "1.5.0",
      "model_name": "HTMLModel",
      "state": {
       "layout": "IPY_MODEL_12ecceb349b54c48b237bc2271c31c61",
       "style": "IPY_MODEL_f3363117de594720a99fc617c94a2773",
       "value": "<font color='green'> &nbsp Downloads: 0</font>"
      }
     },
     "1d8c468779df4bdea2e253e91d120bd2": {
      "model_module": "@jupyter-widgets/base",
      "model_module_version": "1.2.0",
      "model_name": "LayoutModel",
      "state": {
       "width": "auto"
      }
     },
     "1d93da5a15c242248618187dda981171": {
      "model_module": "@jupyter-widgets/controls",
      "model_module_version": "1.5.0",
      "model_name": "DescriptionStyleModel",
      "state": {
       "description_width": ""
      }
     },
     "1db58aa82f3a4d14b4a857214389fd7d": {
      "model_module": "@jupyter-widgets/controls",
      "model_module_version": "1.5.0",
      "model_name": "ButtonModel",
      "state": {
       "button_style": "info",
       "description": "Download",
       "layout": "IPY_MODEL_3599580e41324d619c0e6810c294c513",
       "style": "IPY_MODEL_08b110e555a04dca9016caa8acaf4d95"
      }
     },
     "1ddeeb30170e488698eefe3a4a31ab93": {
      "model_module": "@jupyter-widgets/controls",
      "model_module_version": "1.5.0",
      "model_name": "DescriptionStyleModel",
      "state": {
       "description_width": ""
      }
     },
     "1e705c3aa4d34b61ab9409b32c468fa0": {
      "model_module": "@jupyter-widgets/controls",
      "model_module_version": "1.5.0",
      "model_name": "HBoxModel",
      "state": {
       "children": [
        "IPY_MODEL_1be36bfa91ec4f9abb59e3d39457c6af",
        "IPY_MODEL_79ea19858b06479993bc8c627d25f31d"
       ],
       "layout": "IPY_MODEL_3d32e250cdf24b5082d759281c9516e6"
      }
     },
     "1e95ca62a4b841cc84dd136f1f8fbc97": {
      "model_module": "@jupyter-widgets/base",
      "model_module_version": "1.2.0",
      "model_name": "LayoutModel",
      "state": {
       "width": "auto"
      }
     },
     "1e9bc8085f5f4321990a6f2e62929391": {
      "model_module": "@jupyter-widgets/controls",
      "model_module_version": "1.5.0",
      "model_name": "ButtonModel",
      "state": {
       "button_style": "primary",
       "description": "Download",
       "layout": "IPY_MODEL_89e2dfcb808c4b60ae0503bf521ae43b",
       "style": "IPY_MODEL_fc52e92ce71549ebbc5e747726d8f8d7"
      }
     },
     "1ebe77d61161413ba7eb878e40188f8c": {
      "model_module": "@jupyter-widgets/base",
      "model_module_version": "1.2.0",
      "model_name": "LayoutModel",
      "state": {}
     },
     "1f4a0bde95f74cba80c28a16ddf1f621": {
      "model_module": "@jupyter-widgets/controls",
      "model_module_version": "1.5.0",
      "model_name": "VBoxModel",
      "state": {
       "children": [
        "IPY_MODEL_f0a0263ba95d4c5f919c7814199c9ad1",
        "IPY_MODEL_7db52031160541bfa92348b6b224075d"
       ],
       "layout": "IPY_MODEL_520922064b674bb7b020f784f328cfad"
      }
     },
     "1f738a12d29e410090c9e88d3297f6e3": {
      "model_module": "@jupyter-widgets/controls",
      "model_module_version": "1.5.0",
      "model_name": "HTMLModel",
      "state": {
       "layout": "IPY_MODEL_335814956ac548498ea557a12fd1bb9e",
       "style": "IPY_MODEL_fc1ca3e4e2c1423aaa93ab30d6b422e5",
       "value": "<font color='orange'> &nbsp Stars: 0</font>"
      }
     },
     "1fa20e96dbac4856ba61967abd3acbca": {
      "model_module": "@jupyter-widgets/controls",
      "model_module_version": "1.5.0",
      "model_name": "ButtonStyleModel",
      "state": {}
     },
     "1fb2b79e207c4bdaa69fceea0b67a810": {
      "model_module": "@jupyter-widgets/controls",
      "model_module_version": "1.5.0",
      "model_name": "HTMLModel",
      "state": {
       "layout": "IPY_MODEL_bffc36350512460586dc925acfd14399",
       "style": "IPY_MODEL_aeb13abb26ea422fac17245bdf7803d9",
       "value": "<h5 style='padding:0;margin:0;'>&nbsp <a href='https://github.com/ugunal' style='color:silver'>ugunal</a> &nbsp</h5>"
      }
     },
     "1fc7e94b20414d1a8d089aa0ef4c3181": {
      "model_module": "@jupyter-widgets/controls",
      "model_module_version": "1.5.0",
      "model_name": "DescriptionStyleModel",
      "state": {
       "description_width": ""
      }
     },
     "1fe3461c0e4b4f2a9242acc6fcbbbf9a": {
      "model_module": "@jupyter-widgets/base",
      "model_module_version": "1.2.0",
      "model_name": "LayoutModel",
      "state": {
       "align_items": "center",
       "justify_content": "center"
      }
     },
     "2025b82991d44524b0094eae54cc3356": {
      "model_module": "@jupyter-widgets/controls",
      "model_module_version": "1.5.0",
      "model_name": "ButtonStyleModel",
      "state": {}
     },
     "205ece89147343bb8d70e18d2bca447c": {
      "model_module": "@jupyter-widgets/controls",
      "model_module_version": "1.5.0",
      "model_name": "ButtonStyleModel",
      "state": {}
     },
     "2064628bff5e4baf8e57050147ffc2a1": {
      "model_module": "@jupyter-widgets/base",
      "model_module_version": "1.2.0",
      "model_name": "LayoutModel",
      "state": {
       "width": "auto"
      }
     },
     "2094d0bf7d86411887ed08282ba3f0bc": {
      "model_module": "@jupyter-widgets/base",
      "model_module_version": "1.2.0",
      "model_name": "LayoutModel",
      "state": {}
     },
     "20d23d3f43054d25941288790faf299a": {
      "model_module": "@jupyter-widgets/base",
      "model_module_version": "1.2.0",
      "model_name": "LayoutModel",
      "state": {}
     },
     "20dcde7507894ca7bb81fd682873e6ce": {
      "model_module": "@jupyter-widgets/controls",
      "model_module_version": "1.5.0",
      "model_name": "ToggleButtonsStyleModel",
      "state": {
       "button_width": "",
       "description_width": ""
      }
     },
     "20e93cae4f4d4a27b15c20cde8dd14d8": {
      "model_module": "@jupyter-widgets/controls",
      "model_module_version": "1.5.0",
      "model_name": "DescriptionStyleModel",
      "state": {
       "description_width": ""
      }
     },
     "212537cfc33c405f975bde4536ee1a50": {
      "model_module": "@jupyter-widgets/base",
      "model_module_version": "1.2.0",
      "model_name": "LayoutModel",
      "state": {}
     },
     "218e466407b641d6932507113e14e9f3": {
      "model_module": "@jupyter-widgets/controls",
      "model_module_version": "1.5.0",
      "model_name": "DescriptionStyleModel",
      "state": {
       "description_width": ""
      }
     },
     "21a0445bfc404283966b25c66be50937": {
      "model_module": "@jupyter-widgets/controls",
      "model_module_version": "1.5.0",
      "model_name": "ToggleButtonsModel",
      "state": {
       "_options_labels": [
        "Public",
        "Private"
       ],
       "button_style": "info",
       "icons": [],
       "index": 0,
       "layout": "IPY_MODEL_46191334c6d349199ceda443e1aa0da8",
       "style": "IPY_MODEL_92bf01e4f90849b9b96536bb52767e21",
       "tooltips": []
      }
     },
     "21a9c773171e4311960240b07609240b": {
      "model_module": "@jupyter-widgets/controls",
      "model_module_version": "1.5.0",
      "model_name": "HTMLModel",
      "state": {
       "layout": "IPY_MODEL_4092f4f6bd644740a452626acf1776ec",
       "style": "IPY_MODEL_caf0672c73f342f6ad9eff8480b0b2d8",
       "value": "<font color='green'> &nbsp Downloads: 21</font>"
      }
     },
     "21c9e846fc8847978bbaa0907d2c21cf": {
      "model_module": "@jupyter-widgets/controls",
      "model_module_version": "1.5.0",
      "model_name": "LabelModel",
      "state": {
       "layout": "IPY_MODEL_4e699d99c03d4952ab0b8bab812d8ceb",
       "style": "IPY_MODEL_4330006ae88b478481e2cd7c4225a008",
       "value": "Created Repo"
      }
     },
     "21d28c93d67a42b1894c7ef35921a819": {
      "model_module": "@jupyter-widgets/base",
      "model_module_version": "1.2.0",
      "model_name": "LayoutModel",
      "state": {}
     },
     "21d67825adc9468d9cde5a70ace25cde": {
      "model_module": "@jupyter-widgets/controls",
      "model_module_version": "1.5.0",
      "model_name": "HTMLModel",
      "state": {
       "layout": "IPY_MODEL_fa7f6e44cac647aeb314db11617ebf65",
       "style": "IPY_MODEL_efa06b30868b47609250992d93522a54",
       "value": "<h3 style='padding:0;margin:0;'>&nbsp &nbsp<a href='https://github.com/ugunal/Public_Profile'>Public_Profile</a> &nbsp</h3>"
      }
     },
     "21f969417dc246f69131214d3a527790": {
      "model_module": "@jupyter-widgets/controls",
      "model_module_version": "1.5.0",
      "model_name": "HTMLMathModel",
      "state": {
       "layout": "IPY_MODEL_d265869442a64b769cc6804ea0f9efd3",
       "style": "IPY_MODEL_00cf43a41aea4a069aa135eabdf862c7"
      }
     },
     "222a8fe4d3ac4cc89e5858a887946474": {
      "model_module": "@jupyter-widgets/controls",
      "model_module_version": "1.5.0",
      "model_name": "DescriptionStyleModel",
      "state": {
       "description_width": ""
      }
     },
     "224061a7cd1240f9ae9add51c9c3d749": {
      "model_module": "@jupyter-widgets/controls",
      "model_module_version": "1.5.0",
      "model_name": "DescriptionStyleModel",
      "state": {
       "description_width": ""
      }
     },
     "226233d454c74d499075d535d79ecbd6": {
      "model_module": "@jupyter-widgets/controls",
      "model_module_version": "1.5.0",
      "model_name": "LabelModel",
      "state": {
       "layout": "IPY_MODEL_3c328e88b5884b85a5ef7082fa8b892c",
       "style": "IPY_MODEL_68760a22a47a4aa3b224efce9af10171",
       "value": "6 months ago"
      }
     },
     "2263bf935ec74bee9278e44f5b5ef0e5": {
      "model_module": "@jupyter-widgets/controls",
      "model_module_version": "1.5.0",
      "model_name": "ButtonStyleModel",
      "state": {}
     },
     "22905a3ae4fc4a80a9358532b891dba2": {
      "model_module": "@jupyter-widgets/controls",
      "model_module_version": "1.5.0",
      "model_name": "LabelModel",
      "state": {
       "layout": "IPY_MODEL_f9d59993e14e438cb9f558aa0248b13c",
       "style": "IPY_MODEL_2ba60d5d9e4f43c7b7cc862730c4c83d",
       "value": "Created Repo"
      }
     },
     "22d31649fdf54ae78de5c12d5e520c9a": {
      "model_module": "@jupyter-widgets/controls",
      "model_module_version": "1.5.0",
      "model_name": "HTMLModel",
      "state": {
       "layout": "IPY_MODEL_e8dc1e2780694098ae03fbf2e8138bb3",
       "style": "IPY_MODEL_0f6cd540762449089e3da9d0585db31e",
       "value": "<h5 style='padding:0;margin:0;'>&nbsp <a href='https://github.com/derekguo31' style='color:silver'>derekguo31</a> &nbsp</h5>"
      }
     },
     "230e1f70d0914513b555ed7254b22632": {
      "model_module": "@jupyter-widgets/controls",
      "model_module_version": "1.5.0",
      "model_name": "ButtonModel",
      "state": {
       "button_style": "info",
       "description": "Download",
       "layout": "IPY_MODEL_bda60819283d4a4cbb32ae7e193ba8ab",
       "style": "IPY_MODEL_f29f9316ac7346758835fb79cb1c53e1"
      }
     },
     "233931729b394bed80f55164638725f9": {
      "model_module": "@jupyter-widgets/controls",
      "model_module_version": "1.5.0",
      "model_name": "DescriptionStyleModel",
      "state": {
       "description_width": ""
      }
     },
     "234bbf79de9846dc8b486e18fb6979d8": {
      "model_module": "@jupyter-widgets/controls",
      "model_module_version": "1.5.0",
      "model_name": "HTMLModel",
      "state": {
       "layout": "IPY_MODEL_290f8b5ad29746a8bf41d5eae1f36618",
       "style": "IPY_MODEL_9af3c1c9303f441d960aba641d8139cb",
       "value": "<font color='green'> &nbsp Downloads: 0</font>"
      }
     },
     "234c1872fdb442dab871ebfec7b5bbf9": {
      "model_module": "@jupyter-widgets/controls",
      "model_module_version": "1.5.0",
      "model_name": "ButtonStyleModel",
      "state": {}
     },
     "239a4fb1abd2403f92485236d177bd3c": {
      "model_module": "@jupyter-widgets/controls",
      "model_module_version": "1.5.0",
      "model_name": "DescriptionStyleModel",
      "state": {
       "description_width": ""
      }
     },
     "239d04d3600840dba20c015ddde4a492": {
      "model_module": "@jupyter-widgets/controls",
      "model_module_version": "1.5.0",
      "model_name": "DescriptionStyleModel",
      "state": {
       "description_width": ""
      }
     },
     "23abfa3c7e8f47e3b1de756407b8ddf4": {
      "model_module": "@jupyter-widgets/controls",
      "model_module_version": "1.5.0",
      "model_name": "HBoxModel",
      "state": {
       "children": [
        "IPY_MODEL_934029f433424b2d878d7c2a1b6d6ece",
        "IPY_MODEL_fd67ca64515743158dbd7e53b55a5145",
        "IPY_MODEL_99dee4e485624552bca0ae515c6400b2"
       ],
       "layout": "IPY_MODEL_cef3df0714ff44fb9f8f4ed69f3707d6"
      }
     },
     "23b89cfcdd234de480e47ccf4716f3a6": {
      "model_module": "@jupyter-widgets/base",
      "model_module_version": "1.2.0",
      "model_name": "LayoutModel",
      "state": {}
     },
     "23c2b294326442ba868fa7e0fea763ba": {
      "model_module": "@jupyter-widgets/base",
      "model_module_version": "1.2.0",
      "model_name": "LayoutModel",
      "state": {}
     },
     "23e2bc1fec1f459cb1f259456a420aec": {
      "model_module": "@jupyter-widgets/controls",
      "model_module_version": "1.5.0",
      "model_name": "ButtonStyleModel",
      "state": {}
     },
     "24011bf59f904043b2b3fa25ec08ebb2": {
      "model_module": "@jupyter-widgets/base",
      "model_module_version": "1.2.0",
      "model_name": "LayoutModel",
      "state": {
       "width": "auto"
      }
     },
     "24327e918a1244d5b60c7d208bf737d7": {
      "model_module": "@jupyter-widgets/controls",
      "model_module_version": "1.5.0",
      "model_name": "DescriptionStyleModel",
      "state": {
       "description_width": ""
      }
     },
     "244a6ab98d514274b7cec026d01e9936": {
      "model_module": "@jupyter-widgets/controls",
      "model_module_version": "1.5.0",
      "model_name": "ButtonModel",
      "state": {
       "button_style": "info",
       "description": "Download",
       "layout": "IPY_MODEL_542671ddee134b42ac1f8573f427af77",
       "style": "IPY_MODEL_7380176908154caeb336d330ea8eff70"
      }
     },
     "24863f8ff0a245acae5b5017e106b724": {
      "model_module": "@jupyter-widgets/controls",
      "model_module_version": "1.5.0",
      "model_name": "LabelModel",
      "state": {
       "layout": "IPY_MODEL_90d10d31539c40dd816e518536129ce7",
       "style": "IPY_MODEL_5ccb437addb84e8fa372d8f0f46c62b2",
       "value": "7 months ago"
      }
     },
     "2499d38edf0b421082f7684473ec71c8": {
      "model_module": "@jupyter-widgets/base",
      "model_module_version": "1.2.0",
      "model_name": "LayoutModel",
      "state": {
       "width": "auto"
      }
     },
     "249f1ffe7ad34d2a9058b1c88f174241": {
      "model_module": "@jupyter-widgets/controls",
      "model_module_version": "1.5.0",
      "model_name": "HTMLModel",
      "state": {
       "layout": "IPY_MODEL_8948e55ba93f4313a0e020fa1c3ff929",
       "style": "IPY_MODEL_98d71cf4158e4f45a01ef86986d8418b",
       "value": "<h3 style='padding:0;margin:0;'>&nbsp &nbsp<a href='https://github.com/kadencewaggoner/My_First_io'>My_First_io</a> &nbsp</h3>"
      }
     },
     "24c1f441c10b4fea947055bda1b2a1cd": {
      "model_module": "@jupyter-widgets/base",
      "model_module_version": "1.2.0",
      "model_name": "LayoutModel",
      "state": {}
     },
     "24c423a0a7eb4964a22b0bea3d6885bc": {
      "model_module": "@jupyter-widgets/base",
      "model_module_version": "1.2.0",
      "model_name": "LayoutModel",
      "state": {
       "justify_content": "center",
       "padding": "15px 0 0 0"
      }
     },
     "24d2e66f69b4411486b2f8be5736d1cd": {
      "model_module": "@jupyter-widgets/controls",
      "model_module_version": "1.5.0",
      "model_name": "ButtonStyleModel",
      "state": {}
     },
     "253710cb328f495596a99c72573e38bd": {
      "model_module": "@jupyter-widgets/base",
      "model_module_version": "1.2.0",
      "model_name": "LayoutModel",
      "state": {}
     },
     "254fac695b9745baaa46268e0469e7c3": {
      "model_module": "@jupyter-widgets/controls",
      "model_module_version": "1.5.0",
      "model_name": "LabelModel",
      "state": {
       "layout": "IPY_MODEL_846c0ad3a0304ed1b465405c953b0595",
       "style": "IPY_MODEL_9d8eacd76ad048d7a073d6031e9c5c4d",
       "value": "Created Repo"
      }
     },
     "25590e47c3364382817af0dc4acd6f3a": {
      "model_module": "@jupyter-widgets/controls",
      "model_module_version": "1.5.0",
      "model_name": "LabelModel",
      "state": {
       "layout": "IPY_MODEL_8bf17193c440469199c5a0fd110b73cd",
       "style": "IPY_MODEL_3ba179def44f4f63a6b079000bca1731"
      }
     },
     "256ecabf79db40c99cc9d11727e1322b": {
      "model_module": "@jupyter-widgets/controls",
      "model_module_version": "1.5.0",
      "model_name": "DescriptionStyleModel",
      "state": {
       "description_width": ""
      }
     },
     "25933b00863e4f969485c11292d5449b": {
      "model_module": "@jupyter-widgets/controls",
      "model_module_version": "1.5.0",
      "model_name": "DescriptionStyleModel",
      "state": {
       "description_width": ""
      }
     },
     "25e4f359f9044ab8900da3b8ec31909c": {
      "model_module": "@jupyter-widgets/base",
      "model_module_version": "1.2.0",
      "model_name": "LayoutModel",
      "state": {}
     },
     "261377f41de94c81a7827ee9548b5362": {
      "model_module": "@jupyter-widgets/base",
      "model_module_version": "1.2.0",
      "model_name": "LayoutModel",
      "state": {
       "width": "auto"
      }
     },
     "2618ec3c28174625821155c87735e676": {
      "model_module": "@jupyter-widgets/controls",
      "model_module_version": "1.5.0",
      "model_name": "DescriptionStyleModel",
      "state": {
       "description_width": ""
      }
     },
     "264d0cac730a4a36ab2783673b47772d": {
      "model_module": "@jupyter-widgets/controls",
      "model_module_version": "1.5.0",
      "model_name": "ToggleButtonsModel",
      "state": {
       "_options_labels": [
        "Public",
        "Private"
       ],
       "button_style": "info",
       "icons": [],
       "index": 0,
       "layout": "IPY_MODEL_191968f96b1f4eb2a183a370be63d209",
       "style": "IPY_MODEL_659e9f1a0df746dcb8dd28a4f9f3a39f",
       "tooltips": []
      }
     },
     "26771bd0b4a0421d8aa6fc9f0840617c": {
      "model_module": "@jupyter-widgets/controls",
      "model_module_version": "1.5.0",
      "model_name": "DescriptionStyleModel",
      "state": {
       "description_width": ""
      }
     },
     "2683f27710b74dafb8a50c23ff07a7ca": {
      "model_module": "@jupyter-widgets/base",
      "model_module_version": "1.2.0",
      "model_name": "LayoutModel",
      "state": {}
     },
     "26a8b08fab1848d19fe7176d7c31c67f": {
      "model_module": "@jupyter-widgets/controls",
      "model_module_version": "1.5.0",
      "model_name": "VBoxModel",
      "state": {
       "children": [
        "IPY_MODEL_435a6846633b4373bc739a27b26ba3e8",
        "IPY_MODEL_de38912fd43c4ed09a6a535348cb3faa"
       ],
       "layout": "IPY_MODEL_913aa131f4cb4a4fa036452a0a9b55aa"
      }
     },
     "26fc5ffe57ac45dca57ec3f85c2018a1": {
      "model_module": "@jupyter-widgets/base",
      "model_module_version": "1.2.0",
      "model_name": "LayoutModel",
      "state": {}
     },
     "2774865c88bb4b38befff4e8700a9ba5": {
      "model_module": "@jupyter-widgets/base",
      "model_module_version": "1.2.0",
      "model_name": "LayoutModel",
      "state": {}
     },
     "27b234c03a1542dd8a110083d0aa713d": {
      "model_module": "@jupyter-widgets/controls",
      "model_module_version": "1.5.0",
      "model_name": "DescriptionStyleModel",
      "state": {
       "description_width": ""
      }
     },
     "27bc5fdc69354020b29c98472eba2521": {
      "model_module": "@jupyter-widgets/base",
      "model_module_version": "1.2.0",
      "model_name": "LayoutModel",
      "state": {}
     },
     "27ef85a0b2114c7ea5cf4ed49ca48444": {
      "model_module": "@jupyter-widgets/controls",
      "model_module_version": "1.5.0",
      "model_name": "ButtonModel",
      "state": {
       "button_style": "info",
       "description": "Download",
       "layout": "IPY_MODEL_424b2ea5cb8948caa5474ea748320dc9",
       "style": "IPY_MODEL_1bf2147c0cd4439eb0ca46a988af413d"
      }
     },
     "284e460c44254b6fa65a3508e3c842b2": {
      "model_module": "@jupyter-widgets/base",
      "model_module_version": "1.2.0",
      "model_name": "LayoutModel",
      "state": {
       "margin": "0px 100px 0px 0px",
       "visibility": "hidden",
       "width": "auto"
      }
     },
     "2855bc5480ac45f0b337e105fbd1544f": {
      "model_module": "@jupyter-widgets/base",
      "model_module_version": "1.2.0",
      "model_name": "LayoutModel",
      "state": {}
     },
     "287c8eb58d534d369594502a4bb3e184": {
      "model_module": "@jupyter-widgets/controls",
      "model_module_version": "1.5.0",
      "model_name": "DescriptionStyleModel",
      "state": {
       "description_width": ""
      }
     },
     "28ab9955080c4bf6ac2063e98adfcf52": {
      "model_module": "@jupyter-widgets/controls",
      "model_module_version": "1.5.0",
      "model_name": "HTMLModel",
      "state": {
       "layout": "IPY_MODEL_3a51a7897f0c4397a8f546d54f29f163",
       "style": "IPY_MODEL_ceb4815ec6ba4460a01540edae5b56f3",
       "value": "<h3 style='padding:0;margin:0;'>&nbsp &nbsp<a href='https://github.com/pupster90/10k_Immunomes'>10k_Immunomes</a> &nbsp</h3>"
      }
     },
     "28cc4cb0690f4a65879d42dd2734522d": {
      "model_module": "@jupyter-widgets/controls",
      "model_module_version": "1.5.0",
      "model_name": "DescriptionStyleModel",
      "state": {
       "description_width": ""
      }
     },
     "290210b8adb9426c9f7b03ce3c21ae36": {
      "model_module": "@jupyter-widgets/base",
      "model_module_version": "1.2.0",
      "model_name": "LayoutModel",
      "state": {}
     },
     "290f8b5ad29746a8bf41d5eae1f36618": {
      "model_module": "@jupyter-widgets/base",
      "model_module_version": "1.2.0",
      "model_name": "LayoutModel",
      "state": {}
     },
     "293d60da6c414fd9aa864de3e46ae367": {
      "model_module": "@jupyter-widgets/controls",
      "model_module_version": "1.5.0",
      "model_name": "HTMLModel",
      "state": {
       "layout": "IPY_MODEL_8035fc01f83f4dff95217f63eb96ca85",
       "style": "IPY_MODEL_d89d0dde30604a039341739cf53c4a50",
       "value": "<h5 style='padding:0;margin:0;'>&nbsp <a href='https://github.com/SourabhSomdeve' style='color:silver'>SourabhSomdeve</a> &nbsp</h5>"
      }
     },
     "2964db865ae94218948b3990f861a1cf": {
      "model_module": "@jupyter-widgets/controls",
      "model_module_version": "1.5.0",
      "model_name": "HBoxModel",
      "state": {
       "children": [
        "IPY_MODEL_6c7b54d76e8f473789b5e01cbe6cbc4f",
        "IPY_MODEL_0e3c12c0395a4956bfe7c66891e51716",
        "IPY_MODEL_eae9b9db5e1e4b819a3e786077578f1f",
        "IPY_MODEL_d283bca6c74e4d0cbb0102ec8c49a876",
        "IPY_MODEL_5631773514b8422b8c1cabcc6be6e7a1",
        "IPY_MODEL_e1733d42f33e4d74b99dc42ab9df5bbb",
        "IPY_MODEL_6240a28cb21244938125d657113453dd"
       ],
       "layout": "IPY_MODEL_92ad47d2c3b347e89d07ee9989e7d75a"
      }
     },
     "2974d2eac96d4bd4bf20b12078973bba": {
      "model_module": "@jupyter-widgets/base",
      "model_module_version": "1.2.0",
      "model_name": "LayoutModel",
      "state": {}
     },
     "297ffc9cd88b45bf80364d0998454c41": {
      "model_module": "@jupyter-widgets/base",
      "model_module_version": "1.2.0",
      "model_name": "LayoutModel",
      "state": {
       "width": "auto"
      }
     },
     "299000f191544d7aba723b9b763daf69": {
      "model_module": "@jupyter-widgets/base",
      "model_module_version": "1.2.0",
      "model_name": "LayoutModel",
      "state": {
       "margin": "0px 100px 0px 0px",
       "visibility": "hidden",
       "width": "auto"
      }
     },
     "29b8e0edbe6841c8b372153f9caa91d7": {
      "model_module": "@jupyter-widgets/controls",
      "model_module_version": "1.5.0",
      "model_name": "DescriptionStyleModel",
      "state": {
       "description_width": ""
      }
     },
     "29ca87fad4994a35b7eb517e70179875": {
      "model_module": "@jupyter-widgets/base",
      "model_module_version": "1.2.0",
      "model_name": "LayoutModel",
      "state": {
       "width": "auto"
      }
     },
     "29ced566679448419faccaebf14977c6": {
      "model_module": "@jupyter-widgets/controls",
      "model_module_version": "1.5.0",
      "model_name": "DescriptionStyleModel",
      "state": {
       "description_width": ""
      }
     },
     "29d418b9a34647a0a4cd09f08da2aa86": {
      "model_module": "@jupyter-widgets/controls",
      "model_module_version": "1.5.0",
      "model_name": "ButtonModel",
      "state": {
       "button_style": "danger",
       "description": "Logout",
       "layout": "IPY_MODEL_cc7744520cae48029303b8b4bcc8e4e7",
       "style": "IPY_MODEL_5b82f0a723ab4d788a26d34dce86be5a"
      }
     },
     "2a334530619f41f7af77bed182240c63": {
      "model_module": "@jupyter-widgets/controls",
      "model_module_version": "1.5.0",
      "model_name": "VBoxModel",
      "state": {
       "children": [
        "IPY_MODEL_568ffc43b4cd40168b76ca167b551615",
        "IPY_MODEL_61fab564310b4b5e8755bc12f349e54a"
       ],
       "layout": "IPY_MODEL_86e0a50ddff540658e850903a8b9d08e"
      }
     },
     "2a4af3305b2b4355b30262deb4df7591": {
      "model_module": "@jupyter-widgets/base",
      "model_module_version": "1.2.0",
      "model_name": "LayoutModel",
      "state": {}
     },
     "2a6ecf9931434dfca7a23952cd13871d": {
      "model_module": "@jupyter-widgets/base",
      "model_module_version": "1.2.0",
      "model_name": "LayoutModel",
      "state": {}
     },
     "2b05994460314d6aa2af28be6fc75919": {
      "model_module": "@jupyter-widgets/controls",
      "model_module_version": "1.5.0",
      "model_name": "HTMLModel",
      "state": {
       "layout": "IPY_MODEL_89c4079053d447b38130fd2402a57c66",
       "style": "IPY_MODEL_e370d6a1907848efa3c075e9e086946a",
       "value": "<h5 style='padding:0;margin:0;'>&nbsp <a href='https://github.com/SourabhSomdeve' style='color:silver'>SourabhSomdeve</a> &nbsp</h5>"
      }
     },
     "2b2457b061ee4437b8b34d2882f3ad8e": {
      "model_module": "@jupyter-widgets/controls",
      "model_module_version": "1.5.0",
      "model_name": "ButtonStyleModel",
      "state": {}
     },
     "2b417e4287ca44f78f522eb611d8a3de": {
      "model_module": "@jupyter-widgets/base",
      "model_module_version": "1.2.0",
      "model_name": "LayoutModel",
      "state": {}
     },
     "2b4a7182cad34c08922fee3571efb458": {
      "model_module": "@jupyter-widgets/controls",
      "model_module_version": "1.5.0",
      "model_name": "ButtonModel",
      "state": {
       "button_style": "info",
       "description": "Download",
       "layout": "IPY_MODEL_f9645aa5c8a34db38cb7046d0f968dd7",
       "style": "IPY_MODEL_44bb7eff460c46a1afa3b5de20e16dc2"
      }
     },
     "2b67a0fac7d947e3a5e00726278feb3b": {
      "model_module": "@jupyter-widgets/controls",
      "model_module_version": "1.5.0",
      "model_name": "LabelModel",
      "state": {
       "layout": "IPY_MODEL_88f453ea93584254a6db034f98967bd1",
       "style": "IPY_MODEL_5d3539e9a81144a7a2c06e6332aaa6cc",
       "value": "Created Repo"
      }
     },
     "2b7cc35f970e4531827fb03b86217fee": {
      "model_module": "@jupyter-widgets/base",
      "model_module_version": "1.2.0",
      "model_name": "LayoutModel",
      "state": {}
     },
     "2ba60d5d9e4f43c7b7cc862730c4c83d": {
      "model_module": "@jupyter-widgets/controls",
      "model_module_version": "1.5.0",
      "model_name": "DescriptionStyleModel",
      "state": {
       "description_width": ""
      }
     },
     "2bad05ed60334c5f9bbdf8b4996eeced": {
      "model_module": "@jupyter-widgets/controls",
      "model_module_version": "1.5.0",
      "model_name": "HTMLModel",
      "state": {
       "layout": "IPY_MODEL_98bc3216e1b94e7d868a0090f0a7b240",
       "style": "IPY_MODEL_ccc4c9fc3f764506a94cc6d14cfa6fa5",
       "value": "<h3 style='padding:0;margin:0;'>&nbsp &nbsp<a href='https://github.com/kadencewaggoner/My_First_io'>My_First_io</a> &nbsp</h3>"
      }
     },
     "2bb739f6d35c40b4b73a9a17ff0c14db": {
      "model_module": "@jupyter-widgets/controls",
      "model_module_version": "1.5.0",
      "model_name": "ButtonStyleModel",
      "state": {}
     },
     "2beb7c3c92744f4ea466fb8639bc6c54": {
      "model_module": "@jupyter-widgets/controls",
      "model_module_version": "1.5.0",
      "model_name": "ButtonModel",
      "state": {
       "button_style": "info",
       "description": "Download",
       "layout": "IPY_MODEL_4ee512e5e8754e4b9eea6d1cf5d8598c",
       "style": "IPY_MODEL_a98fc1e60619496aa78fb1016e377509"
      }
     },
     "2c04432be2d04ba189fb6e5c001c89b3": {
      "model_module": "@jupyter-widgets/controls",
      "model_module_version": "1.5.0",
      "model_name": "HBoxModel",
      "state": {
       "children": [
        "IPY_MODEL_f7ba6ab72067476c8bfe5666476b78c3",
        "IPY_MODEL_386234ed33cf4f93b0aac3f1b7939412",
        "IPY_MODEL_ef05109b1f354cdeb550580ba7577966",
        "IPY_MODEL_dc6d710d73fe4d6da2f14c930662fb08",
        "IPY_MODEL_0e983bbe0ae4410199f1f81ae7efb0ac",
        "IPY_MODEL_96e93d231e84441b959971761c22a107",
        "IPY_MODEL_d1a73698683b4d0bbc17080a985b0caf"
       ],
       "layout": "IPY_MODEL_0b337ae488204f6994b40b524541bffe"
      }
     },
     "2c5a8bacd0a84dcebdd043ef92e56ce3": {
      "model_module": "@jupyter-widgets/controls",
      "model_module_version": "1.5.0",
      "model_name": "DescriptionStyleModel",
      "state": {
       "description_width": ""
      }
     },
     "2c88210fe17f479eb63b2651df953764": {
      "model_module": "@jupyter-widgets/controls",
      "model_module_version": "1.5.0",
      "model_name": "DescriptionStyleModel",
      "state": {
       "description_width": ""
      }
     },
     "2cde46c0f7ad409dbaee0f7abff43f7a": {
      "model_module": "@jupyter-widgets/controls",
      "model_module_version": "1.5.0",
      "model_name": "LabelModel",
      "state": {
       "layout": "IPY_MODEL_fec22a692b8b4c6e9ca6637032f968f9",
       "style": "IPY_MODEL_79f560d1f7bf4e4d950bc9ba535578a4",
       "value": "Created Repo"
      }
     },
     "2d207ef44f96446099f57170c73c5aa0": {
      "model_module": "@jupyter-widgets/controls",
      "model_module_version": "1.5.0",
      "model_name": "HTMLModel",
      "state": {
       "layout": "IPY_MODEL_88f39602adad4ee683773e57d73ffbd9",
       "style": "IPY_MODEL_2d84144a7021443098c5f0b524e8143f",
       "value": "<h3 style='padding:0;margin:0;'>&nbsp &nbsp<a href='https://github.com/SebPython/Python_learning'>Python_learning</a> &nbsp</h3>"
      }
     },
     "2d40a4158a5c43d1a51ae5945b04b5c8": {
      "model_module": "@jupyter-widgets/controls",
      "model_module_version": "1.5.0",
      "model_name": "DescriptionStyleModel",
      "state": {
       "description_width": ""
      }
     },
     "2d6aeac1ad10421d9da2e518d1160fe9": {
      "model_module": "@jupyter-widgets/base",
      "model_module_version": "1.2.0",
      "model_name": "LayoutModel",
      "state": {
       "width": "auto"
      }
     },
     "2d84144a7021443098c5f0b524e8143f": {
      "model_module": "@jupyter-widgets/controls",
      "model_module_version": "1.5.0",
      "model_name": "DescriptionStyleModel",
      "state": {
       "description_width": ""
      }
     },
     "2d8ec7605436407d98e87d8e2b4d9471": {
      "model_module": "@jupyter-widgets/controls",
      "model_module_version": "1.5.0",
      "model_name": "DescriptionStyleModel",
      "state": {
       "description_width": ""
      }
     },
     "2da038f175b94c159a150c62c53e3097": {
      "model_module": "@jupyter-widgets/controls",
      "model_module_version": "1.5.0",
      "model_name": "DescriptionStyleModel",
      "state": {
       "description_width": ""
      }
     },
     "2db51eaa3c404c12b08007d9e4687f93": {
      "model_module": "@jupyter-widgets/base",
      "model_module_version": "1.2.0",
      "model_name": "LayoutModel",
      "state": {}
     },
     "2dcd0ae5bc774ee6879708692d321392": {
      "model_module": "@jupyter-widgets/base",
      "model_module_version": "1.2.0",
      "model_name": "LayoutModel",
      "state": {}
     },
     "2dcdc822c1e84cffa6fa0604b3c89f3c": {
      "model_module": "@jupyter-widgets/controls",
      "model_module_version": "1.5.0",
      "model_name": "HTMLMathModel",
      "state": {
       "layout": "IPY_MODEL_cb5d3ceab47647b8b5ce35d5b2431884",
       "style": "IPY_MODEL_f46f180eab7f47a290cf0e489c54889d",
       "value": "<h4>Order By Most &nbsp</h4>"
      }
     },
     "2dd71de52f7e4aaabf5fb8fd214d2d27": {
      "model_module": "@jupyter-widgets/controls",
      "model_module_version": "1.5.0",
      "model_name": "HTMLModel",
      "state": {
       "layout": "IPY_MODEL_18a1925f0476478f9ce66cf03efa620f",
       "style": "IPY_MODEL_74687bf162fe486c9d7699a818b69c58",
       "value": "<font color='green'> &nbsp Downloads: 0</font>"
      }
     },
     "2df1e2af716042eba758d82cde3afbce": {
      "model_module": "@jupyter-widgets/base",
      "model_module_version": "1.2.0",
      "model_name": "LayoutModel",
      "state": {}
     },
     "2dfcc4ea2ec540ea94398272493484ed": {
      "model_module": "@jupyter-widgets/base",
      "model_module_version": "1.2.0",
      "model_name": "LayoutModel",
      "state": {}
     },
     "2e268ab272ca4533b7f46551d6d3f9f0": {
      "model_module": "@jupyter-widgets/controls",
      "model_module_version": "1.5.0",
      "model_name": "HTMLModel",
      "state": {
       "layout": "IPY_MODEL_f7f80b565da74a019e1f5faf7514d01a",
       "style": "IPY_MODEL_1a453c3402114befb283877b731088fe",
       "value": "<h5 style='padding:0;margin:0;'>&nbsp <a href='https://github.com/igchin' style='color:silver'>igchin</a> &nbsp</h5>"
      }
     },
     "2e8a325bff364e62a210b62f60160aa0": {
      "model_module": "@jupyter-widgets/controls",
      "model_module_version": "1.5.0",
      "model_name": "ButtonModel",
      "state": {
       "button_style": "danger",
       "icon": "times",
       "layout": "IPY_MODEL_0e8331b2734246f2939f6c6e308c3bea",
       "style": "IPY_MODEL_9896abf320f347fabe05664be25b7a0c"
      }
     },
     "2e8d44f8c3db4c3d90b91a82d77f7237": {
      "model_module": "@jupyter-widgets/controls",
      "model_module_version": "1.5.0",
      "model_name": "ButtonStyleModel",
      "state": {}
     },
     "2e92c2e5b8bf4365ac91a1e2cc6f9674": {
      "model_module": "@jupyter-widgets/controls",
      "model_module_version": "1.5.0",
      "model_name": "LabelModel",
      "state": {
       "layout": "IPY_MODEL_bce5422559b34f4a8c09741eb4ce091d",
       "style": "IPY_MODEL_862f597af3ed407c923f68438155e48d",
       "value": "5 months ago"
      }
     },
     "2e935db439294223bcea9c7fff2a88f7": {
      "model_module": "@jupyter-widgets/controls",
      "model_module_version": "1.5.0",
      "model_name": "HTMLModel",
      "state": {
       "layout": "IPY_MODEL_bc1e4d8d7c6a491badad356df28dc6d1",
       "style": "IPY_MODEL_cf7c9d026d4842b48f3347b812fa9e0d",
       "value": "<font color='green'> &nbsp Downloads: 0</font>"
      }
     },
     "2ea147c5bca84ab9b4ad5dda88727d77": {
      "model_module": "@jupyter-widgets/controls",
      "model_module_version": "1.5.0",
      "model_name": "PasswordModel",
      "state": {
       "description": "Password",
       "layout": "IPY_MODEL_0d448ed34897466fb07441b95b3c089b",
       "style": "IPY_MODEL_929bf980de074fd6a8bc0a49aaa8c730",
       "value": "Sir Puppington90!"
      }
     },
     "2ea1b658a79d46fcb5bf5f499cd9fed0": {
      "model_module": "@jupyter-widgets/controls",
      "model_module_version": "1.5.0",
      "model_name": "DescriptionStyleModel",
      "state": {
       "description_width": ""
      }
     },
     "2ea681a3b931466180cc54b715557522": {
      "model_module": "@jupyter-widgets/controls",
      "model_module_version": "1.5.0",
      "model_name": "DescriptionStyleModel",
      "state": {
       "description_width": ""
      }
     },
     "2eaa7f605a2645309875b9fdf47c0743": {
      "model_module": "@jupyter-widgets/controls",
      "model_module_version": "1.5.0",
      "model_name": "HTMLModel",
      "state": {
       "layout": "IPY_MODEL_7aa4c55163de4de691f2e37e8c0d1317",
       "style": "IPY_MODEL_fe007599205e425dbb9579ce21e845cb",
       "value": "<h5 style='padding:0;margin:0;'>&nbsp <a href='https://github.com/SebPython' style='color:silver'>SebPython</a> &nbsp</h5>"
      }
     },
     "2ec03dd38e534160bcca8879ef507bd3": {
      "model_module": "@jupyter-widgets/base",
      "model_module_version": "1.2.0",
      "model_name": "LayoutModel",
      "state": {
       "justify_content": "center",
       "padding": "20px 0 0 0"
      }
     },
     "2ed48074e9a240049790b17f84808c05": {
      "model_module": "@jupyter-widgets/controls",
      "model_module_version": "1.5.0",
      "model_name": "HBoxModel",
      "state": {
       "children": [
        "IPY_MODEL_c9548d3c254345acbb63ec9b271c7cce",
        "IPY_MODEL_483f53ff391042a4b755e77d35595cff",
        "IPY_MODEL_ead16035e64d4fcfbe43f867a0408ec0",
        "IPY_MODEL_09e55bf3b1164b15a7137d8ac1f8cfa7",
        "IPY_MODEL_4e65974aacf04019906b8d2e5c5236bb",
        "IPY_MODEL_7051f529fc364d37bc970e9a217837ab",
        "IPY_MODEL_70db8996bafa480081b110c20b8aa590"
       ],
       "layout": "IPY_MODEL_cd4c1ae1366048ab9f58ba6516a01ea2"
      }
     },
     "2ef8f7f2edc3439bbddb3dacd5547ab9": {
      "model_module": "@jupyter-widgets/base",
      "model_module_version": "1.2.0",
      "model_name": "LayoutModel",
      "state": {
       "width": "100px"
      }
     },
     "2f1a18289f434f5299ec52277b2f6210": {
      "model_module": "@jupyter-widgets/controls",
      "model_module_version": "1.5.0",
      "model_name": "HTMLMathModel",
      "state": {
       "layout": "IPY_MODEL_6f7f39511a7c45db9e856a0e39c23dc6",
       "style": "IPY_MODEL_66876c598e4741559900c20a37bf0a1f"
      }
     },
     "2f2cbc91c9bd40e294c97fb89d5e707a": {
      "model_module": "@jupyter-widgets/base",
      "model_module_version": "1.2.0",
      "model_name": "LayoutModel",
      "state": {}
     },
     "2f367533542049e59ba3d967182f3ef5": {
      "model_module": "@jupyter-widgets/base",
      "model_module_version": "1.2.0",
      "model_name": "LayoutModel",
      "state": {}
     },
     "2f5f168edcb242b5af44a5535b14a961": {
      "model_module": "@jupyter-widgets/base",
      "model_module_version": "1.2.0",
      "model_name": "LayoutModel",
      "state": {}
     },
     "2f6953d2c989407db95c99c3a8eb9f38": {
      "model_module": "@jupyter-widgets/controls",
      "model_module_version": "1.5.0",
      "model_name": "ButtonModel",
      "state": {
       "button_style": "info",
       "description": "Download",
       "layout": "IPY_MODEL_556e52e017364dbca9ca319cfefe060a",
       "style": "IPY_MODEL_db3566aaa4374c44bc640b8a06f5f1b9"
      }
     },
     "2f98c13e08a749bab0a86781d43fac7c": {
      "model_module": "@jupyter-widgets/controls",
      "model_module_version": "1.5.0",
      "model_name": "DescriptionStyleModel",
      "state": {
       "description_width": ""
      }
     },
     "2fb32ec2e27f435c8e54e0631348c5aa": {
      "model_module": "@jupyter-widgets/controls",
      "model_module_version": "1.5.0",
      "model_name": "ButtonStyleModel",
      "state": {}
     },
     "2ff143067e7241bd901d4d089dcf3a4c": {
      "model_module": "@jupyter-widgets/controls",
      "model_module_version": "1.5.0",
      "model_name": "LabelModel",
      "state": {
       "layout": "IPY_MODEL_3f665f27b6f54479a940d31ae0dca8e8",
       "style": "IPY_MODEL_ddb7a43344f14793b39f9065b687bbb6",
       "value": "4 months ago"
      }
     },
     "2ffd97d91a484547a433eb725c41bbd2": {
      "model_module": "@jupyter-widgets/base",
      "model_module_version": "1.2.0",
      "model_name": "LayoutModel",
      "state": {}
     },
     "3060fdfd76d94cd4952f19064c50eed6": {
      "model_module": "@jupyter-widgets/controls",
      "model_module_version": "1.5.0",
      "model_name": "DescriptionStyleModel",
      "state": {
       "description_width": ""
      }
     },
     "3066e6b6ca23462f8c620dc931bad1c8": {
      "model_module": "@jupyter-widgets/base",
      "model_module_version": "1.2.0",
      "model_name": "LayoutModel",
      "state": {
       "width": "auto"
      }
     },
     "3090044beb864cf7b33f06eb92bee84d": {
      "model_module": "@jupyter-widgets/base",
      "model_module_version": "1.2.0",
      "model_name": "LayoutModel",
      "state": {}
     },
     "3091b6ab10b7493aacf1db13b87fa207": {
      "model_module": "@jupyter-widgets/controls",
      "model_module_version": "1.5.0",
      "model_name": "HBoxModel",
      "state": {
       "children": [
        "IPY_MODEL_dc0bec98d0844aa6802dfedc47e6b47f",
        "IPY_MODEL_588f6adf5c794eefaa2ff8b31bca5704",
        "IPY_MODEL_1d54ec4c98cc4f1493d49e1ae9faf4ed",
        "IPY_MODEL_f969023f6e454d04ade1a2ed3fe661d9",
        "IPY_MODEL_4b631cdf419f4b3785a8b8669d844255",
        "IPY_MODEL_113923b9258a4267a1f5c378a7ce6ff8",
        "IPY_MODEL_1838dae9895e495d94d2b5b1c8106a55"
       ],
       "layout": "IPY_MODEL_858ca0d891c147e89e0ba8b5759a3a82"
      }
     },
     "30a92a59649346978225c0344b4230d0": {
      "model_module": "@jupyter-widgets/controls",
      "model_module_version": "1.5.0",
      "model_name": "HTMLMathModel",
      "state": {
       "layout": "IPY_MODEL_acb5b065d6d1464c824db109f3780887",
       "style": "IPY_MODEL_47b96c8cc4a34261aa947d4fdbbe32ae",
       "value": "<h4>Url :</h4>"
      }
     },
     "30cc9cf210054cda8f9135186020db0e": {
      "model_module": "@jupyter-widgets/controls",
      "model_module_version": "1.5.0",
      "model_name": "HTMLModel",
      "state": {
       "layout": "IPY_MODEL_462c60efaaca4183bfd354ffa2988256",
       "style": "IPY_MODEL_99e537d7553c4312ad99bc212ba9c6ed",
       "value": "<font color='green'> &nbsp Downloads: 1</font>"
      }
     },
     "30cf1e73c6a1498c98c02a3c7bc8e185": {
      "model_module": "@jupyter-widgets/controls",
      "model_module_version": "1.5.0",
      "model_name": "DescriptionStyleModel",
      "state": {
       "description_width": ""
      }
     },
     "3108ae0b947d45dab5b0f8f512c47da2": {
      "model_module": "@jupyter-widgets/base",
      "model_module_version": "1.2.0",
      "model_name": "LayoutModel",
      "state": {
       "justify_content": "center",
       "padding": "15px 0 0 0"
      }
     },
     "310c7d26d53c43cd9859ff246be50e6d": {
      "model_module": "@jupyter-widgets/controls",
      "model_module_version": "1.5.0",
      "model_name": "ToggleButtonsModel",
      "state": {
       "_options_labels": [
        "Public",
        "Private"
       ],
       "button_style": "info",
       "icons": [],
       "index": 0,
       "layout": "IPY_MODEL_5dc5346b14334deaaa659cfd02c36987",
       "style": "IPY_MODEL_c14ac867b026457887b4fe5aace7bfdb",
       "tooltips": []
      }
     },
     "311addbcf2bc4cb18ca965145651e412": {
      "model_module": "@jupyter-widgets/controls",
      "model_module_version": "1.5.0",
      "model_name": "DescriptionStyleModel",
      "state": {
       "description_width": ""
      }
     },
     "3130d765b12a4de88cf650116962e2c8": {
      "model_module": "@jupyter-widgets/controls",
      "model_module_version": "1.5.0",
      "model_name": "HTMLModel",
      "state": {
       "layout": "IPY_MODEL_3a3efad626f44efc9e532eb50a901955",
       "style": "IPY_MODEL_3238f034c15148db89a951a6af425cb2",
       "value": "<font color='orange'> &nbsp Stars: 0</font>"
      }
     },
     "313f3ff5c06a470b8e96a7b424a17408": {
      "model_module": "@jupyter-widgets/controls",
      "model_module_version": "1.5.0",
      "model_name": "ButtonModel",
      "state": {
       "button_style": "info",
       "description": "Download",
       "layout": "IPY_MODEL_8d7bdb69f3ee4c20a71e1792be425165",
       "style": "IPY_MODEL_176c6ef9ce7a489184a4529b6a216625"
      }
     },
     "315859e8cdf34c90839dd8afd22e76a7": {
      "model_module": "@jupyter-widgets/controls",
      "model_module_version": "1.5.0",
      "model_name": "ButtonStyleModel",
      "state": {}
     },
     "31776073e9b44ee1be4699c4789dfd2c": {
      "model_module": "@jupyter-widgets/controls",
      "model_module_version": "1.5.0",
      "model_name": "HTMLModel",
      "state": {
       "layout": "IPY_MODEL_0107b1350f7e49ad9fb9b22e66915f4f",
       "style": "IPY_MODEL_400ae42baf42482fa43de9c916f43ee0",
       "value": "<h3 style='padding:0;margin:0;'>&nbsp &nbsp<a href='https://github.com/derekguo31/io_Presentation'>io_Presentation</a> &nbsp</h3>"
      }
     },
     "31777a17bb5b4d49a1f15716b6ed188f": {
      "model_module": "@jupyter-widgets/controls",
      "model_module_version": "1.5.0",
      "model_name": "ButtonStyleModel",
      "state": {}
     },
     "318015ea56964b31ac49113aa3d12e22": {
      "model_module": "@jupyter-widgets/base",
      "model_module_version": "1.2.0",
      "model_name": "LayoutModel",
      "state": {}
     },
     "31845b16098b4b5399756db10a091840": {
      "model_module": "@jupyter-widgets/controls",
      "model_module_version": "1.5.0",
      "model_name": "ButtonModel",
      "state": {
       "button_style": "primary",
       "description": " Refresh",
       "icon": "refresh",
       "layout": "IPY_MODEL_53d797b193254f7a91a37eb0f8df7c4c",
       "style": "IPY_MODEL_2025b82991d44524b0094eae54cc3356"
      }
     },
     "3193ff0d30094c409dad24eca1d26e18": {
      "model_module": "@jupyter-widgets/base",
      "model_module_version": "1.2.0",
      "model_name": "LayoutModel",
      "state": {}
     },
     "31d48b9990ee44c68b27dc694a85c2f3": {
      "model_module": "@jupyter-widgets/controls",
      "model_module_version": "1.5.0",
      "model_name": "DescriptionStyleModel",
      "state": {
       "description_width": ""
      }
     },
     "3207e9b06d2d4e1f90e7a65f7a9d84e8": {
      "model_module": "@jupyter-widgets/base",
      "model_module_version": "1.2.0",
      "model_name": "LayoutModel",
      "state": {}
     },
     "32155a7c886a4f60abdbd5c1394bfc00": {
      "model_module": "@jupyter-widgets/controls",
      "model_module_version": "1.5.0",
      "model_name": "ButtonStyleModel",
      "state": {}
     },
     "3215b02f3d0645b8a57b888cff171662": {
      "model_module": "@jupyter-widgets/controls",
      "model_module_version": "1.5.0",
      "model_name": "TextModel",
      "state": {
       "description": "Username",
       "layout": "IPY_MODEL_a8e158c680e44d5f9769386798f5c92b",
       "style": "IPY_MODEL_78e778f4e880443fa8716316287defeb",
       "value": "pupster90"
      }
     },
     "322d6dfb44d443328c359b3907f42479": {
      "model_module": "@jupyter-widgets/controls",
      "model_module_version": "1.5.0",
      "model_name": "HTMLModel",
      "state": {
       "layout": "IPY_MODEL_447fe705d838482a8a92dccd9014ac73",
       "style": "IPY_MODEL_7e2ce02bdbe04c8296bead7852b0fe5b",
       "value": "<h3 style='padding:0;margin:0;'>&nbsp &nbsp<a href='https://github.com/SourabhSomdeve/Peter_files'>Peter_files</a> &nbsp</h3>"
      }
     },
     "3232b50b685640cda957de238ea27b4a": {
      "model_module": "@jupyter-widgets/controls",
      "model_module_version": "1.5.0",
      "model_name": "ButtonStyleModel",
      "state": {}
     },
     "3238f034c15148db89a951a6af425cb2": {
      "model_module": "@jupyter-widgets/controls",
      "model_module_version": "1.5.0",
      "model_name": "DescriptionStyleModel",
      "state": {
       "description_width": ""
      }
     },
     "324217fcb42d4903a9b1711a4819b489": {
      "model_module": "@jupyter-widgets/controls",
      "model_module_version": "1.5.0",
      "model_name": "ButtonModel",
      "state": {
       "button_style": "primary",
       "description": "Download",
       "layout": "IPY_MODEL_7c4f5fbdef1546e5a29e37588a6aafe0",
       "style": "IPY_MODEL_d5107ebd0be14a1dbe3d43294531460c"
      }
     },
     "32659d0dccc1486e9ff8bd44c454179b": {
      "model_module": "@jupyter-widgets/controls",
      "model_module_version": "1.5.0",
      "model_name": "ButtonStyleModel",
      "state": {}
     },
     "32dd0fe552304ff0afd2c9eed7f96daa": {
      "model_module": "@jupyter-widgets/controls",
      "model_module_version": "1.5.0",
      "model_name": "ButtonModel",
      "state": {
       "button_style": "success",
       "description": "Set",
       "layout": "IPY_MODEL_8628157ef1a6402c916b6aba0ade2fef",
       "style": "IPY_MODEL_2263bf935ec74bee9278e44f5b5ef0e5"
      }
     },
     "3309b9f5e62547f387e9cec1dc1f7863": {
      "model_module": "@jupyter-widgets/controls",
      "model_module_version": "1.5.0",
      "model_name": "HTMLModel",
      "state": {
       "layout": "IPY_MODEL_b336c6920c2547acbc99f53f776ae3bd",
       "style": "IPY_MODEL_0666ff2fc1434c03a88153ca43c5c6c3",
       "value": "<h3 style='padding:0;margin:0;'>&nbsp &nbsp<a href='https://github.com/Boxis/my_first_io'>my_first_io</a> &nbsp</h3>"
      }
     },
     "3330e50df07e418c81898dd43b24fe91": {
      "model_module": "@jupyter-widgets/base",
      "model_module_version": "1.2.0",
      "model_name": "LayoutModel",
      "state": {}
     },
     "3332c66fcfcc463b85d8cce21f4c07f3": {
      "model_module": "@jupyter-widgets/base",
      "model_module_version": "1.2.0",
      "model_name": "LayoutModel",
      "state": {
       "width": "auto"
      }
     },
     "3343607605ad4cdb84793b2912999004": {
      "model_module": "@jupyter-widgets/controls",
      "model_module_version": "1.5.0",
      "model_name": "HTMLModel",
      "state": {
       "layout": "IPY_MODEL_f7117eff4f574695a855ab30fc54cbef",
       "style": "IPY_MODEL_28cc4cb0690f4a65879d42dd2734522d",
       "value": "<h5 style='padding:0;margin:0;'>&nbsp <a href='https://github.com/DZO-II' style='color:silver'>DZO-II</a> &nbsp</h5>"
      }
     },
     "335814956ac548498ea557a12fd1bb9e": {
      "model_module": "@jupyter-widgets/base",
      "model_module_version": "1.2.0",
      "model_name": "LayoutModel",
      "state": {}
     },
     "337b8f800cca4e299469261da85032ef": {
      "model_module": "@jupyter-widgets/base",
      "model_module_version": "1.2.0",
      "model_name": "LayoutModel",
      "state": {
       "width": "auto"
      }
     },
     "338ab6f66bfd4ebd9a767028507bd278": {
      "model_module": "@jupyter-widgets/base",
      "model_module_version": "1.2.0",
      "model_name": "LayoutModel",
      "state": {}
     },
     "33ab7f105be447be83cc128b6eb6746c": {
      "model_module": "@jupyter-widgets/base",
      "model_module_version": "1.2.0",
      "model_name": "LayoutModel",
      "state": {}
     },
     "33df4e9704b448b49bdafac84f9266ed": {
      "model_module": "@jupyter-widgets/base",
      "model_module_version": "1.2.0",
      "model_name": "LayoutModel",
      "state": {
       "width": "auto"
      }
     },
     "33ec90e7a66745d9ba337bb2f745f349": {
      "model_module": "@jupyter-widgets/controls",
      "model_module_version": "1.5.0",
      "model_name": "ButtonModel",
      "state": {
       "button_style": "warning",
       "description": "add",
       "layout": "IPY_MODEL_2064628bff5e4baf8e57050147ffc2a1",
       "style": "IPY_MODEL_94b0c2bb1fc647299a1a92ed01fd4899"
      }
     },
     "34044c737e4d46b88c28a4e0bd2144a8": {
      "model_module": "@jupyter-widgets/controls",
      "model_module_version": "1.5.0",
      "model_name": "HTMLModel",
      "state": {
       "layout": "IPY_MODEL_d6d69417f2314da194f8e3e1959c2772",
       "style": "IPY_MODEL_98058720329f4062b5238f49a8fd6a23",
       "value": "<h4><font color='red'>Example : my-lab-23</font></h4>"
      }
     },
     "3419b91bbc4e4cbb9f982472db22cec2": {
      "model_module": "@jupyter-widgets/controls",
      "model_module_version": "1.5.0",
      "model_name": "HBoxModel",
      "state": {
       "children": [
        "IPY_MODEL_cdf045cb72d54d05b5399284390edc79",
        "IPY_MODEL_63954d4041d545708d15b98ce067b90c"
       ],
       "layout": "IPY_MODEL_9d73c1d8fb5448e7956df68dd9c42ec3"
      }
     },
     "3421fcc711714e4bbcdaa633739c891f": {
      "model_module": "@jupyter-widgets/controls",
      "model_module_version": "1.5.0",
      "model_name": "DescriptionStyleModel",
      "state": {
       "description_width": ""
      }
     },
     "342fe10b7fbb4900b1c8a4702b7f91c7": {
      "model_module": "@jupyter-widgets/controls",
      "model_module_version": "1.5.0",
      "model_name": "DescriptionStyleModel",
      "state": {
       "description_width": ""
      }
     },
     "34a2fb98a49f4ea88825e6226b46006e": {
      "model_module": "@jupyter-widgets/base",
      "model_module_version": "1.2.0",
      "model_name": "LayoutModel",
      "state": {}
     },
     "34eacc6ed3e840be923afc91e5e2c764": {
      "model_module": "@jupyter-widgets/controls",
      "model_module_version": "1.5.0",
      "model_name": "ButtonStyleModel",
      "state": {}
     },
     "352671b9b824446a932ae0d6f081ad54": {
      "model_module": "@jupyter-widgets/controls",
      "model_module_version": "1.5.0",
      "model_name": "HTMLModel",
      "state": {
       "layout": "IPY_MODEL_c4c10c9a1472464c8b4453db2a8309ca",
       "style": "IPY_MODEL_f5214095503b414888d0599b4995b589",
       "value": "<font color='green'> &nbsp Downloads: 21</font>"
      }
     },
     "353c7353614d44d8a9699d9ebc7086ff": {
      "model_module": "@jupyter-widgets/base",
      "model_module_version": "1.2.0",
      "model_name": "LayoutModel",
      "state": {}
     },
     "35477075170b4e48b8b664ebc25286d2": {
      "model_module": "@jupyter-widgets/controls",
      "model_module_version": "1.5.0",
      "model_name": "ButtonStyleModel",
      "state": {}
     },
     "35598d6ecbe94b0da164d966f96d9cc0": {
      "model_module": "@jupyter-widgets/controls",
      "model_module_version": "1.5.0",
      "model_name": "LabelModel",
      "state": {
       "layout": "IPY_MODEL_fd3fbdf2e91c4336ae30c671e2b76c87",
       "style": "IPY_MODEL_39d93df52a334303a4222dd958ab00e4",
       "value": "7 months ago"
      }
     },
     "3561ce8bc5ff493dbc2e6a9688a43be4": {
      "model_module": "@jupyter-widgets/controls",
      "model_module_version": "1.5.0",
      "model_name": "HBoxModel",
      "state": {
       "children": [
        "IPY_MODEL_a5cfc4f1dfda4398834c9aea7000a5a1"
       ],
       "layout": "IPY_MODEL_7a46c836805d4061b3c31c62ff9ed9fb"
      }
     },
     "3588f067cf7b46ecb9528b5ec28f918d": {
      "model_module": "@jupyter-widgets/controls",
      "model_module_version": "1.5.0",
      "model_name": "HBoxModel",
      "state": {
       "children": [
        "IPY_MODEL_31845b16098b4b5399756db10a091840"
       ],
       "layout": "IPY_MODEL_09feb34a7bf5446e879e72ca61f2a122"
      }
     },
     "3599580e41324d619c0e6810c294c513": {
      "model_module": "@jupyter-widgets/base",
      "model_module_version": "1.2.0",
      "model_name": "LayoutModel",
      "state": {
       "width": "auto"
      }
     },
     "35acaa2003e64b858b6ff2d52fcce8ed": {
      "model_module": "@jupyter-widgets/controls",
      "model_module_version": "1.5.0",
      "model_name": "ButtonStyleModel",
      "state": {}
     },
     "35f84e3dc5fc44fa8f2972825509a248": {
      "model_module": "@jupyter-widgets/controls",
      "model_module_version": "1.5.0",
      "model_name": "HBoxModel",
      "state": {
       "children": [
        "IPY_MODEL_e9541f21fa48409783f29938d3b3a1ae"
       ],
       "layout": "IPY_MODEL_e4c1a6a342524cbebc76b91221100a56"
      }
     },
     "3614c139b029449da985aaae49a43edc": {
      "model_module": "@jupyter-widgets/controls",
      "model_module_version": "1.5.0",
      "model_name": "HTMLModel",
      "state": {
       "layout": "IPY_MODEL_c2909bcb5da9436ebc43d78fd57d92b5",
       "style": "IPY_MODEL_ce375118d0a2444db1e216cebfe8364e",
       "value": "<font color='orange'> &nbsp Stars: 0</font>"
      }
     },
     "3626f054d6c24a4c9d7d9d0b2680011d": {
      "model_module": "@jupyter-widgets/base",
      "model_module_version": "1.2.0",
      "model_name": "LayoutModel",
      "state": {
       "visibility": "visible"
      }
     },
     "365abc8893b54d1d9637565c9a4686cd": {
      "model_module": "@jupyter-widgets/controls",
      "model_module_version": "1.5.0",
      "model_name": "HTMLModel",
      "state": {
       "layout": "IPY_MODEL_c0a81a130b7a491d9fbb0a831e22144c",
       "style": "IPY_MODEL_0b5e40dd68554451acd64b72384ce78b",
       "value": "<h5 style='padding:0;margin:0;'>&nbsp <a href='https://github.com/SourabhSomdeve' style='color:silver'>SourabhSomdeve</a> &nbsp</h5>"
      }
     },
     "367627bbc368412baf4837cbc1fb62a5": {
      "model_module": "@jupyter-widgets/controls",
      "model_module_version": "1.5.0",
      "model_name": "DescriptionStyleModel",
      "state": {
       "description_width": ""
      }
     },
     "36820abb67bd48c286cdfaf4b6826655": {
      "model_module": "@jupyter-widgets/controls",
      "model_module_version": "1.5.0",
      "model_name": "HBoxModel",
      "state": {
       "children": [
        "IPY_MODEL_7046342daedc4a9c85c184725ea7976c",
        "IPY_MODEL_ad3f0241aa3a44cba08c65a8e364f063",
        "IPY_MODEL_58da4c61c081426f8a3b3051e4ea7719",
        "IPY_MODEL_5814a986f9e94f5aa5db70e20e0ee602"
       ],
       "layout": "IPY_MODEL_18402209c165426cb55978437703c671"
      }
     },
     "36b24d4f85da46aaa0b993b6bd9bef12": {
      "model_module": "@jupyter-widgets/controls",
      "model_module_version": "1.5.0",
      "model_name": "DescriptionStyleModel",
      "state": {
       "description_width": ""
      }
     },
     "36c347518b084b359e7e5f15861c3f0a": {
      "model_module": "@jupyter-widgets/base",
      "model_module_version": "1.2.0",
      "model_name": "LayoutModel",
      "state": {
       "width": "100px"
      }
     },
     "36e4d240720a4a00a02133500792f22f": {
      "model_module": "@jupyter-widgets/base",
      "model_module_version": "1.2.0",
      "model_name": "LayoutModel",
      "state": {}
     },
     "36f249a4e1f942369dab15123b0c4435": {
      "model_module": "@jupyter-widgets/controls",
      "model_module_version": "1.5.0",
      "model_name": "DescriptionStyleModel",
      "state": {
       "description_width": ""
      }
     },
     "3705031bc92f40228d0f6789b3262a48": {
      "model_module": "@jupyter-widgets/base",
      "model_module_version": "1.2.0",
      "model_name": "LayoutModel",
      "state": {}
     },
     "370e36efd8fc499ebc22b45e61b2223b": {
      "model_module": "@jupyter-widgets/base",
      "model_module_version": "1.2.0",
      "model_name": "LayoutModel",
      "state": {}
     },
     "3795f2efaa6d47279a86d329c52a5db3": {
      "model_module": "@jupyter-widgets/controls",
      "model_module_version": "1.5.0",
      "model_name": "DescriptionStyleModel",
      "state": {
       "description_width": ""
      }
     },
     "37c855ec22d54cf7b5b3ee417333398d": {
      "model_module": "@jupyter-widgets/controls",
      "model_module_version": "1.5.0",
      "model_name": "DescriptionStyleModel",
      "state": {
       "description_width": ""
      }
     },
     "38043bc59d824655bb2613ed53bbfed8": {
      "model_module": "@jupyter-widgets/controls",
      "model_module_version": "1.5.0",
      "model_name": "DescriptionStyleModel",
      "state": {
       "description_width": ""
      }
     },
     "380951de3747460488f11d3f52498679": {
      "model_module": "@jupyter-widgets/base",
      "model_module_version": "1.2.0",
      "model_name": "LayoutModel",
      "state": {
       "width": "auto"
      }
     },
     "3820f14fc8034407a6a15f2d2c1942a4": {
      "model_module": "@jupyter-widgets/base",
      "model_module_version": "1.2.0",
      "model_name": "LayoutModel",
      "state": {}
     },
     "3822b77f77984a63b39413faddba5f89": {
      "model_module": "@jupyter-widgets/controls",
      "model_module_version": "1.5.0",
      "model_name": "ButtonModel",
      "state": {
       "button_style": "success",
       "description": "Set",
       "layout": "IPY_MODEL_faf3f9deb0e540d79a855e05671e44d2",
       "style": "IPY_MODEL_cb0fe0bf5c124a9e8915b474324f118f"
      }
     },
     "38470778da0b4a828fbdffc50f78752c": {
      "model_module": "@jupyter-widgets/base",
      "model_module_version": "1.2.0",
      "model_name": "LayoutModel",
      "state": {
       "width": "auto"
      }
     },
     "386234ed33cf4f93b0aac3f1b7939412": {
      "model_module": "@jupyter-widgets/controls",
      "model_module_version": "1.5.0",
      "model_name": "ButtonModel",
      "state": {
       "button_style": "info",
       "description": "Download",
       "layout": "IPY_MODEL_61bf71081f744151bb4ed2d9086b2e38",
       "style": "IPY_MODEL_b58d4030d922462786e6652f80668ba1"
      }
     },
     "38738102c3c74fde8aedb44bedfd81e3": {
      "model_module": "@jupyter-widgets/base",
      "model_module_version": "1.2.0",
      "model_name": "LayoutModel",
      "state": {
       "justify_content": "center",
       "padding": "20px 0 0 0"
      }
     },
     "38e53cceeb6d47d8a186f2b7dcf6de3f": {
      "model_module": "@jupyter-widgets/controls",
      "model_module_version": "1.5.0",
      "model_name": "TextModel",
      "state": {
       "description": "Username",
       "layout": "IPY_MODEL_2094d0bf7d86411887ed08282ba3f0bc",
       "style": "IPY_MODEL_d9ab470624c94e0ab9948a3a8d80a279"
      }
     },
     "38e550c27d884fdda48308ae10236411": {
      "model_module": "@jupyter-widgets/controls",
      "model_module_version": "1.5.0",
      "model_name": "HTMLModel",
      "state": {
       "layout": "IPY_MODEL_1923bab548b1463d8fd62198d932fbe5",
       "style": "IPY_MODEL_98681440f39343b6b9ab03d575337b05",
       "value": "<font color='green'> &nbsp Downloads: 0</font>"
      }
     },
     "38e7e007bfde4edf8d020cc54ed5b770": {
      "model_module": "@jupyter-widgets/controls",
      "model_module_version": "1.5.0",
      "model_name": "DescriptionStyleModel",
      "state": {
       "description_width": ""
      }
     },
     "38ec9d27e3ee4f389260a12389af84c5": {
      "model_module": "@jupyter-widgets/controls",
      "model_module_version": "1.5.0",
      "model_name": "LabelModel",
      "state": {
       "layout": "IPY_MODEL_4e5ad0fbde9c4521a3bf86ef5afb0bb5",
       "style": "IPY_MODEL_0268eafac29d475bba705b60edc4671b",
       "value": "5 months ago"
      }
     },
     "39148b1cf9e745b0bde4b9f4b76e2ed0": {
      "model_module": "@jupyter-widgets/controls",
      "model_module_version": "1.5.0",
      "model_name": "VBoxModel",
      "state": {
       "children": [
        "IPY_MODEL_53a3b8600d7844ae8137c02fbd2753c1",
        "IPY_MODEL_35f84e3dc5fc44fa8f2972825509a248"
       ],
       "layout": "IPY_MODEL_df6bf03f404846c895e66d32c2cf99e6"
      }
     },
     "3936956a19b442fbb916c1f734b60892": {
      "model_module": "@jupyter-widgets/controls",
      "model_module_version": "1.5.0",
      "model_name": "HTMLModel",
      "state": {
       "layout": "IPY_MODEL_934639a4e5e240fc9894cbd3fdd0dcf0",
       "style": "IPY_MODEL_6292a5375be3408c88f0cd24c8f2222c",
       "value": "<h3 style='padding:0;margin:0;'>&nbsp &nbsp<a href='https://github.com/pupster90/10k_Immunomes'>10k_Immunomes</a> &nbsp</h3>"
      }
     },
     "39391562d2344b2b8208202499b21968": {
      "model_module": "@jupyter-widgets/controls",
      "model_module_version": "1.5.0",
      "model_name": "ButtonStyleModel",
      "state": {}
     },
     "396e3d318b8c435e9ce2b9ae9a037ecd": {
      "model_module": "@jupyter-widgets/base",
      "model_module_version": "1.2.0",
      "model_name": "LayoutModel",
      "state": {
       "padding": "0px 20px 5px 0px"
      }
     },
     "3993bb648387444cb1f771943ff12180": {
      "model_module": "@jupyter-widgets/base",
      "model_module_version": "1.2.0",
      "model_name": "LayoutModel",
      "state": {}
     },
     "39a990e0380c4bb0a20a5f5342673813": {
      "model_module": "@jupyter-widgets/controls",
      "model_module_version": "1.5.0",
      "model_name": "HBoxModel",
      "state": {
       "children": [
        "IPY_MODEL_4b72aa6ba100414e882b04dd61d49831",
        "IPY_MODEL_e7fd00e5c43149ec9aec75586dc9d89c",
        "IPY_MODEL_e476c5dc4fcf4ae2b175b8f71104b444",
        "IPY_MODEL_f10230c1035d4cbfa0624462a307856b"
       ],
       "layout": "IPY_MODEL_be448212dbc74f36bf1c75b980f8445c"
      }
     },
     "39d51dae41674112bc8f082e22d741e4": {
      "model_module": "@jupyter-widgets/controls",
      "model_module_version": "1.5.0",
      "model_name": "ButtonModel",
      "state": {
       "button_style": "info",
       "description": "Download",
       "layout": "IPY_MODEL_03466adc442c49d5aa76682c3cf3a37d",
       "style": "IPY_MODEL_b911f8e9f15d4df6a549eb79b857069b"
      }
     },
     "39d93df52a334303a4222dd958ab00e4": {
      "model_module": "@jupyter-widgets/controls",
      "model_module_version": "1.5.0",
      "model_name": "DescriptionStyleModel",
      "state": {
       "description_width": ""
      }
     },
     "3a046acfe9b74ff8840afcf4fecf813a": {
      "model_module": "@jupyter-widgets/base",
      "model_module_version": "1.2.0",
      "model_name": "LayoutModel",
      "state": {}
     },
     "3a15ecdd73494bdd96e8cf46d2a4a5ff": {
      "model_module": "@jupyter-widgets/controls",
      "model_module_version": "1.5.0",
      "model_name": "HTMLModel",
      "state": {
       "layout": "IPY_MODEL_d082a3b983794363adee1d81b86f3ec0",
       "style": "IPY_MODEL_e572004ef78341dc9a9e125a15ad3248",
       "value": "<font color='orange'> &nbsp Stars: 0</font>"
      }
     },
     "3a2453b61f5a4bfd8dcb038fc92aac0d": {
      "model_module": "@jupyter-widgets/base",
      "model_module_version": "1.2.0",
      "model_name": "LayoutModel",
      "state": {}
     },
     "3a280410341144f295c1e0c0b8e29cf8": {
      "model_module": "@jupyter-widgets/controls",
      "model_module_version": "1.5.0",
      "model_name": "HBoxModel",
      "state": {
       "children": [
        "IPY_MODEL_226233d454c74d499075d535d79ecbd6",
        "IPY_MODEL_83aa6223ff0d492889a748d03a3eefca",
        "IPY_MODEL_e69f3b17fa954cb288f85ff60776ba13",
        "IPY_MODEL_f074a78cc3d140fd8191d457755aa992",
        "IPY_MODEL_3309b9f5e62547f387e9cec1dc1f7863",
        "IPY_MODEL_fdaf3e35b90d4a83a66944af30753fee",
        "IPY_MODEL_ec763bbd460a4bc6a24016bcd264e7e3"
       ],
       "layout": "IPY_MODEL_1942291e42ba4000858b902ba084a54e"
      }
     },
     "3a2db6278397417caee30c589b5a6c20": {
      "model_module": "@jupyter-widgets/controls",
      "model_module_version": "1.5.0",
      "model_name": "HTMLModel",
      "state": {
       "layout": "IPY_MODEL_cbbf1cf055144514b36e7318183a67be",
       "style": "IPY_MODEL_e4e90575a1e3494b8d9a47893978fa83",
       "value": "<h3 style='padding:0;margin:0;'>&nbsp &nbsp<a href='https://github.com/derekguo31/My_First_Research_Paper'>My_First_Research_Paper</a> &nbsp</h3>"
      }
     },
     "3a3efad626f44efc9e532eb50a901955": {
      "model_module": "@jupyter-widgets/base",
      "model_module_version": "1.2.0",
      "model_name": "LayoutModel",
      "state": {}
     },
     "3a51a7897f0c4397a8f546d54f29f163": {
      "model_module": "@jupyter-widgets/base",
      "model_module_version": "1.2.0",
      "model_name": "LayoutModel",
      "state": {}
     },
     "3a596e7d56334f4aa931eddd53cb129b": {
      "model_module": "@jupyter-widgets/controls",
      "model_module_version": "1.5.0",
      "model_name": "DescriptionStyleModel",
      "state": {
       "description_width": ""
      }
     },
     "3a61993b1cd44b48943591c5c68ca542": {
      "model_module": "@jupyter-widgets/base",
      "model_module_version": "1.2.0",
      "model_name": "LayoutModel",
      "state": {}
     },
     "3a6b4c29e1254568b11e59e365cd14ea": {
      "model_module": "@jupyter-widgets/base",
      "model_module_version": "1.2.0",
      "model_name": "LayoutModel",
      "state": {}
     },
     "3a6c9bd434234998aad93db83082bfb8": {
      "model_module": "@jupyter-widgets/controls",
      "model_module_version": "1.5.0",
      "model_name": "DescriptionStyleModel",
      "state": {
       "description_width": ""
      }
     },
     "3a8f874107d74aa4a1ba9fd54ff5a53a": {
      "model_module": "@jupyter-widgets/controls",
      "model_module_version": "1.5.0",
      "model_name": "HTMLModel",
      "state": {
       "layout": "IPY_MODEL_546490ffe30e4254a583ccf3f80e0ab8",
       "style": "IPY_MODEL_a37daa5a74ab4bd880eef14f9c435c99",
       "value": "<h3 style='padding:0;margin:0;'>&nbsp &nbsp<a href='https://github.com/spockman12/io_Presentation'>io_Presentation</a> &nbsp</h3>"
      }
     },
     "3af95e5ce5b94d6a90f7c0c374dabfb5": {
      "model_module": "@jupyter-widgets/base",
      "model_module_version": "1.2.0",
      "model_name": "LayoutModel",
      "state": {
       "width": "auto"
      }
     },
     "3b0b1d798f4a4f648a7e435e5e026209": {
      "model_module": "@jupyter-widgets/controls",
      "model_module_version": "1.5.0",
      "model_name": "DescriptionStyleModel",
      "state": {
       "description_width": ""
      }
     },
     "3b0ec2873b5e4003a32fb6dff927fb25": {
      "model_module": "@jupyter-widgets/controls",
      "model_module_version": "1.5.0",
      "model_name": "HBoxModel",
      "state": {
       "children": [
        "IPY_MODEL_30a92a59649346978225c0344b4230d0",
        "IPY_MODEL_43cf6a213d0b4fde893921b5ec8c6c41",
        "IPY_MODEL_1e9bc8085f5f4321990a6f2e62929391",
        "IPY_MODEL_ae1c911e978f4223ae778d9797ee78a1"
       ],
       "layout": "IPY_MODEL_b163779002d94e7e9bc07d4bc455b734"
      }
     },
     "3b62959f69cf4673b7ded2ea137a8245": {
      "model_module": "@jupyter-widgets/controls",
      "model_module_version": "1.5.0",
      "model_name": "HBoxModel",
      "state": {
       "children": [
        "IPY_MODEL_38e53cceeb6d47d8a186f2b7dcf6de3f",
        "IPY_MODEL_cd42bb5067074a908bfcefa599d984bc",
        "IPY_MODEL_a3c8c0caa9b94f15bb7af7e3bc0ec9e9",
        "IPY_MODEL_f387f4c6e78947f587804488dd7fe816"
       ],
       "layout": "IPY_MODEL_784a497714d34731a3db2149f78bf7d3"
      }
     },
     "3b6ee4dbc59b423a806f88270ce0550c": {
      "model_module": "@jupyter-widgets/controls",
      "model_module_version": "1.5.0",
      "model_name": "DescriptionStyleModel",
      "state": {
       "description_width": ""
      }
     },
     "3ba179def44f4f63a6b079000bca1731": {
      "model_module": "@jupyter-widgets/controls",
      "model_module_version": "1.5.0",
      "model_name": "DescriptionStyleModel",
      "state": {
       "description_width": ""
      }
     },
     "3bc155229a194702a3a8df72acd8790b": {
      "model_module": "@jupyter-widgets/controls",
      "model_module_version": "1.5.0",
      "model_name": "DescriptionStyleModel",
      "state": {
       "description_width": ""
      }
     },
     "3c0ff637309d4913bbfaeaf7a2bc2659": {
      "model_module": "@jupyter-widgets/controls",
      "model_module_version": "1.5.0",
      "model_name": "ButtonModel",
      "state": {
       "button_style": "success",
       "description": "Set",
       "layout": "IPY_MODEL_bca5584a6b894a588675e00f56555bff",
       "style": "IPY_MODEL_b524a2037dc54bf8827e775cab72b24e"
      }
     },
     "3c1b2b4f0f894e8ca1cfcd7e08d4c2d2": {
      "model_module": "@jupyter-widgets/controls",
      "model_module_version": "1.5.0",
      "model_name": "ButtonStyleModel",
      "state": {}
     },
     "3c1b42bc0bf24d1a84704c295b31e449": {
      "model_module": "@jupyter-widgets/controls",
      "model_module_version": "1.5.0",
      "model_name": "DescriptionStyleModel",
      "state": {
       "description_width": ""
      }
     },
     "3c328e88b5884b85a5ef7082fa8b892c": {
      "model_module": "@jupyter-widgets/base",
      "model_module_version": "1.2.0",
      "model_name": "LayoutModel",
      "state": {
       "width": "100px"
      }
     },
     "3c37a9423bab434eb466939c715169e1": {
      "model_module": "@jupyter-widgets/base",
      "model_module_version": "1.2.0",
      "model_name": "LayoutModel",
      "state": {
       "width": "100px"
      }
     },
     "3c38763fd47a43b9a39a820874375e6c": {
      "model_module": "@jupyter-widgets/base",
      "model_module_version": "1.2.0",
      "model_name": "LayoutModel",
      "state": {}
     },
     "3c5b5043e2b44e1492d81afc38e131b4": {
      "model_module": "@jupyter-widgets/controls",
      "model_module_version": "1.5.0",
      "model_name": "LabelModel",
      "state": {
       "layout": "IPY_MODEL_6f8ca8c32329432b935d4efbf78d51c6",
       "style": "IPY_MODEL_1c6f6d10185b41a49b1cb511acb75253"
      }
     },
     "3c85ebaeb6044de988f462ac851843a9": {
      "model_module": "@jupyter-widgets/controls",
      "model_module_version": "1.5.0",
      "model_name": "DescriptionStyleModel",
      "state": {
       "description_width": ""
      }
     },
     "3cf310545e0a41ce98344889d870b3c3": {
      "model_module": "@jupyter-widgets/controls",
      "model_module_version": "1.5.0",
      "model_name": "HBoxModel",
      "state": {
       "children": [
        "IPY_MODEL_6acababa86a747afb49e0e3af703cc35",
        "IPY_MODEL_edadf73d13144ad8871b92117194946f"
       ],
       "layout": "IPY_MODEL_e7af27c7d109473fb1b5efc99a667290"
      }
     },
     "3d114dfb90f6477c8bbf26785b977575": {
      "model_module": "@jupyter-widgets/controls",
      "model_module_version": "1.5.0",
      "model_name": "HBoxModel",
      "state": {
       "children": [
        "IPY_MODEL_cd0c8789655c44e5b869bf19d9c61952",
        "IPY_MODEL_0d726d00cfbc4c4c85fbbf1bdbd01066",
        "IPY_MODEL_599ca12273e84a788a78f4ea0a05c2f8",
        "IPY_MODEL_dab14eb483b8446e8205793eb86d1e9a",
        "IPY_MODEL_1c48258e91cc452b86485f6539598017",
        "IPY_MODEL_c38ab9dcf74d4edba6b13be7aabd1293",
        "IPY_MODEL_e77474fae0c44093a34c77d3cf9e5617"
       ],
       "layout": "IPY_MODEL_79964e2a2b46481f986a8a85ccc4b4ce"
      }
     },
     "3d18d2bf50374fcfa5083a3754c4d724": {
      "model_module": "@jupyter-widgets/controls",
      "model_module_version": "1.5.0",
      "model_name": "HTMLModel",
      "state": {
       "layout": "IPY_MODEL_74a0eaedac0b4d82ae91abb1ea27ee96",
       "style": "IPY_MODEL_0b229a803cfc4543b225e45f9beb3d45",
       "value": "<h3 style='padding:0;margin:0;'>&nbsp &nbsp<a href='https://github.com/pupster90/io_Hub_Setup'>io_Hub_Setup</a> &nbsp</h3>"
      }
     },
     "3d32e250cdf24b5082d759281c9516e6": {
      "model_module": "@jupyter-widgets/base",
      "model_module_version": "1.2.0",
      "model_name": "LayoutModel",
      "state": {
       "align_items": "center",
       "justify_content": "center"
      }
     },
     "3d506bcb3be945f5b17c7281eff72768": {
      "model_module": "@jupyter-widgets/controls",
      "model_module_version": "1.5.0",
      "model_name": "HTMLModel",
      "state": {
       "layout": "IPY_MODEL_85488c6d31a449e08334533614a6a91a",
       "style": "IPY_MODEL_835cde8c0360426588da5c7612b0092e",
       "value": "<h3 style='padding:0;margin:0;'>&nbsp &nbsp<a href='https://github.com/SourabhSomdeve/my_first_io_project'>my_first_io_project</a> &nbsp</h3>"
      }
     },
     "3d5b39cca4154baa89d990c1e1692aeb": {
      "model_module": "@jupyter-widgets/base",
      "model_module_version": "1.2.0",
      "model_name": "LayoutModel",
      "state": {}
     },
     "3d652eb51471422c91bd13b7312bff73": {
      "model_module": "@jupyter-widgets/controls",
      "model_module_version": "1.5.0",
      "model_name": "DescriptionStyleModel",
      "state": {
       "description_width": ""
      }
     },
     "3de9426f8c734f01b1ddc2c4c3147fac": {
      "model_module": "@jupyter-widgets/base",
      "model_module_version": "1.2.0",
      "model_name": "LayoutModel",
      "state": {}
     },
     "3e2ef8caac774ee98c8c5354f479e6c6": {
      "model_module": "@jupyter-widgets/base",
      "model_module_version": "1.2.0",
      "model_name": "LayoutModel",
      "state": {
       "visibility": "hidden"
      }
     },
     "3e6941348fa74954acb91db3148b0bc6": {
      "model_module": "@jupyter-widgets/controls",
      "model_module_version": "1.5.0",
      "model_name": "HTMLModel",
      "state": {
       "layout": "IPY_MODEL_bcb292d9a23548dcaeefad418460dbb1",
       "style": "IPY_MODEL_8234f30b531e4e97878cc7efa462a48f",
       "value": "<font color='green'> &nbsp Downloads: 0</font>"
      }
     },
     "3ea89de80bd0465e8d63dc49aef2aea1": {
      "model_module": "@jupyter-widgets/controls",
      "model_module_version": "1.5.0",
      "model_name": "LabelModel",
      "state": {
       "layout": "IPY_MODEL_0b63b22dfb41474da7f13a03d7e638de",
       "style": "IPY_MODEL_01470691f68a4f3183542c04bd3fec43",
       "value": "7 months ago"
      }
     },
     "3ea94740fe65495ea251c358fbcf9869": {
      "model_module": "@jupyter-widgets/controls",
      "model_module_version": "1.5.0",
      "model_name": "LabelModel",
      "state": {
       "layout": "IPY_MODEL_c116ce999bbd46578ad8459bdf926194",
       "style": "IPY_MODEL_b49f6ecf18b6453595b2eb9734d62fd2",
       "value": "2 months ago"
      }
     },
     "3ee63dd565c74fffbfc26ff6a5d9a06d": {
      "model_module": "@jupyter-widgets/controls",
      "model_module_version": "1.5.0",
      "model_name": "HTMLModel",
      "state": {
       "layout": "IPY_MODEL_6dcf4456b60f4f6e851c394f37bae6cd",
       "style": "IPY_MODEL_14fd6e26dc0b4fe8815f44f45255f47b",
       "value": "<font color='green'> &nbsp Downloads: 0</font>"
      }
     },
     "3f1c36c30a234c1b893c41cbce7eef24": {
      "model_module": "@jupyter-widgets/controls",
      "model_module_version": "1.5.0",
      "model_name": "VBoxModel",
      "state": {
       "children": [
        "IPY_MODEL_5e8f2f8a62894d4d913e91ee25c3723b",
        "IPY_MODEL_90ecac2925294273b4c7c230343f8a82"
       ],
       "layout": "IPY_MODEL_93161e92f9204435bb4a8eccf189be93"
      }
     },
     "3f665f27b6f54479a940d31ae0dca8e8": {
      "model_module": "@jupyter-widgets/base",
      "model_module_version": "1.2.0",
      "model_name": "LayoutModel",
      "state": {
       "width": "100px"
      }
     },
     "3f87ac3f1855421c856375bbb2e38b6a": {
      "model_module": "@jupyter-widgets/base",
      "model_module_version": "1.2.0",
      "model_name": "LayoutModel",
      "state": {}
     },
     "3f968293eb3a4a8b96fa637c5d00aec5": {
      "model_module": "@jupyter-widgets/controls",
      "model_module_version": "1.5.0",
      "model_name": "LabelModel",
      "state": {
       "layout": "IPY_MODEL_0d48069b1cb042f0964157f1574e1993",
       "style": "IPY_MODEL_4dcd9667fb7a44e0af132ee5b20b7b10",
       "value": "FINAL VERSION"
      }
     },
     "3fa723293f5b4b4389970dc6edd2b535": {
      "model_module": "@jupyter-widgets/controls",
      "model_module_version": "1.5.0",
      "model_name": "LabelModel",
      "state": {
       "layout": "IPY_MODEL_e1ac8d6f306943b5a743f226fe1e54ae",
       "style": "IPY_MODEL_2c88210fe17f479eb63b2651df953764",
       "value": "Created Repo"
      }
     },
     "400ae42baf42482fa43de9c916f43ee0": {
      "model_module": "@jupyter-widgets/controls",
      "model_module_version": "1.5.0",
      "model_name": "DescriptionStyleModel",
      "state": {
       "description_width": ""
      }
     },
     "400c81477fb54d4bb8963c6955d5ca4f": {
      "model_module": "@jupyter-widgets/base",
      "model_module_version": "1.2.0",
      "model_name": "LayoutModel",
      "state": {
       "width": "100px"
      }
     },
     "4011667ea9034f64a26fd920589d9190": {
      "model_module": "@jupyter-widgets/controls",
      "model_module_version": "1.5.0",
      "model_name": "HBoxModel",
      "state": {
       "children": [
        "IPY_MODEL_0c35f853e93645d98706a765573281ff",
        "IPY_MODEL_835adc60982a4ada8706c30cda1916f0",
        "IPY_MODEL_b1c6d5c680154d6eb8a3766f770deae7",
        "IPY_MODEL_4e8b7f8c645744358bb576168636aa67",
        "IPY_MODEL_a9cff590683d45afbfcab76080628201"
       ],
       "layout": "IPY_MODEL_df2c38dda1f3476199309762437768cd"
      }
     },
     "40805d53962e4fe493efa62a38bdb54b": {
      "model_module": "@jupyter-widgets/controls",
      "model_module_version": "1.5.0",
      "model_name": "DescriptionStyleModel",
      "state": {
       "description_width": ""
      }
     },
     "4092f4f6bd644740a452626acf1776ec": {
      "model_module": "@jupyter-widgets/base",
      "model_module_version": "1.2.0",
      "model_name": "LayoutModel",
      "state": {}
     },
     "40a9b941b97e44718ad4dbad6aac1aba": {
      "model_module": "@jupyter-widgets/controls",
      "model_module_version": "1.5.0",
      "model_name": "DescriptionStyleModel",
      "state": {
       "description_width": ""
      }
     },
     "40b6f9dff4e1414da7aaf368d350d177": {
      "model_module": "@jupyter-widgets/controls",
      "model_module_version": "1.5.0",
      "model_name": "HTMLModel",
      "state": {
       "layout": "IPY_MODEL_65acd5e5c68b4126aa5ab02774db212f",
       "style": "IPY_MODEL_d987843e40c34448aa97ba76e623f5e4",
       "value": "<font color='green'> &nbsp Downloads: 0</font>"
      }
     },
     "40b8b4071c3d4e368ce21bfc89289367": {
      "model_module": "@jupyter-widgets/controls",
      "model_module_version": "1.5.0",
      "model_name": "ButtonStyleModel",
      "state": {}
     },
     "4132782272c04fb1901a59e34375b065": {
      "model_module": "@jupyter-widgets/base",
      "model_module_version": "1.2.0",
      "model_name": "LayoutModel",
      "state": {}
     },
     "418e28abb9534729a3782b667f073de0": {
      "model_module": "@jupyter-widgets/controls",
      "model_module_version": "1.5.0",
      "model_name": "DescriptionStyleModel",
      "state": {
       "description_width": ""
      }
     },
     "41af5bdeade14dcc9d05e2a47f588305": {
      "model_module": "@jupyter-widgets/base",
      "model_module_version": "1.2.0",
      "model_name": "LayoutModel",
      "state": {}
     },
     "41b3132bf6ad43a486cded8cdea1e8dd": {
      "model_module": "@jupyter-widgets/base",
      "model_module_version": "1.2.0",
      "model_name": "LayoutModel",
      "state": {}
     },
     "41c8742e88f54776881c76213c371f58": {
      "model_module": "@jupyter-widgets/controls",
      "model_module_version": "1.5.0",
      "model_name": "ButtonModel",
      "state": {
       "button_style": "success",
       "description": "Publish",
       "layout": "IPY_MODEL_ebd7b3528a104e50807e8d95eae31076",
       "style": "IPY_MODEL_2b2457b061ee4437b8b34d2882f3ad8e"
      }
     },
     "41eb50f5d5964c8ca36c9c563da444be": {
      "model_module": "@jupyter-widgets/base",
      "model_module_version": "1.2.0",
      "model_name": "LayoutModel",
      "state": {
       "width": "100px"
      }
     },
     "42011e7bee1f424b947ff05354cd900f": {
      "model_module": "@jupyter-widgets/controls",
      "model_module_version": "1.5.0",
      "model_name": "HTMLModel",
      "state": {
       "layout": "IPY_MODEL_d1e1aa7597b649148f60e28e8766c387",
       "style": "IPY_MODEL_8d0e5daaa04641d9bba4b248d5cc8b9f",
       "value": "<h3>Lab: <font color='red'>Not Set</font></h3>"
      }
     },
     "42251f33a4954eecb490d7197ac5f3c4": {
      "model_module": "@jupyter-widgets/controls",
      "model_module_version": "1.5.0",
      "model_name": "LabelModel",
      "state": {
       "layout": "IPY_MODEL_452c16ba0fa643ff91d376047348f569",
       "style": "IPY_MODEL_38e7e007bfde4edf8d020cc54ed5b770",
       "value": "Created Repo"
      }
     },
     "4229d56d6b9348f4b6c14768e34dc3e0": {
      "model_module": "@jupyter-widgets/base",
      "model_module_version": "1.2.0",
      "model_name": "LayoutModel",
      "state": {}
     },
     "423c613f68b448c7b6d1db9cf2b1460e": {
      "model_module": "@jupyter-widgets/base",
      "model_module_version": "1.2.0",
      "model_name": "LayoutModel",
      "state": {
       "width": "auto"
      }
     },
     "42457cd82ad44b9886b8cb0f82a43050": {
      "model_module": "@jupyter-widgets/controls",
      "model_module_version": "1.5.0",
      "model_name": "HBoxModel",
      "state": {
       "children": [
        "IPY_MODEL_4931b34b8e3349fcaa751b1e9d9ccb30",
        "IPY_MODEL_1db58aa82f3a4d14b4a857214389fd7d",
        "IPY_MODEL_002118e8888c495390c5e73bf41b180f",
        "IPY_MODEL_d9b17abe26b246bfb0d0751817ce0e49",
        "IPY_MODEL_a573b8c2a8a14a7a82d862a3a4b430f2",
        "IPY_MODEL_da52088aec744772a982012dbc16c03a",
        "IPY_MODEL_fb8e954c84054010aec3acf61c60d061"
       ],
       "layout": "IPY_MODEL_16c53178230c43c29a022ff7c9f3de55"
      }
     },
     "424b2ea5cb8948caa5474ea748320dc9": {
      "model_module": "@jupyter-widgets/base",
      "model_module_version": "1.2.0",
      "model_name": "LayoutModel",
      "state": {
       "width": "auto"
      }
     },
     "426e16b407514f37a2aad1646d60e928": {
      "model_module": "@jupyter-widgets/controls",
      "model_module_version": "1.5.0",
      "model_name": "DescriptionStyleModel",
      "state": {
       "description_width": ""
      }
     },
     "428493a4e29541ad970e40e8ada3b345": {
      "model_module": "@jupyter-widgets/base",
      "model_module_version": "1.2.0",
      "model_name": "LayoutModel",
      "state": {
       "width": "auto"
      }
     },
     "42bae67aa1314809aa9a2f1314b6ba81": {
      "model_module": "@jupyter-widgets/base",
      "model_module_version": "1.2.0",
      "model_name": "LayoutModel",
      "state": {}
     },
     "42e1216f9dbd46b1874fc3b89ad18fe2": {
      "model_module": "@jupyter-widgets/controls",
      "model_module_version": "1.5.0",
      "model_name": "ButtonStyleModel",
      "state": {}
     },
     "42e44587f64648d79551c34179f1a049": {
      "model_module": "@jupyter-widgets/base",
      "model_module_version": "1.2.0",
      "model_name": "LayoutModel",
      "state": {
       "width": "auto"
      }
     },
     "43131bade9eb4b4888e0eb9722d6a917": {
      "model_module": "@jupyter-widgets/controls",
      "model_module_version": "1.5.0",
      "model_name": "DescriptionStyleModel",
      "state": {
       "description_width": ""
      }
     },
     "4322448414d645cebc2bf321bce5deea": {
      "model_module": "@jupyter-widgets/controls",
      "model_module_version": "1.5.0",
      "model_name": "ValidModel",
      "state": {
       "layout": "IPY_MODEL_a74f8fb3654d4e2cb64f782063b2f2c0",
       "style": "IPY_MODEL_caceb27cbb70403097bec5c734a48d41"
      }
     },
     "4330006ae88b478481e2cd7c4225a008": {
      "model_module": "@jupyter-widgets/controls",
      "model_module_version": "1.5.0",
      "model_name": "DescriptionStyleModel",
      "state": {
       "description_width": ""
      }
     },
     "435a6846633b4373bc739a27b26ba3e8": {
      "model_module": "@jupyter-widgets/controls",
      "model_module_version": "1.5.0",
      "model_name": "HBoxModel",
      "state": {
       "children": [
        "IPY_MODEL_d89df164f8f1439a90805dc090b09e7d",
        "IPY_MODEL_00f4705d8cfb4d82a9e55a9a6002b453"
       ],
       "layout": "IPY_MODEL_ef08ab5d1a354b4a901e327a95bebbb5"
      }
     },
     "435b2a0489f24148a6c7c0b305af16bf": {
      "model_module": "@jupyter-widgets/controls",
      "model_module_version": "1.5.0",
      "model_name": "DescriptionStyleModel",
      "state": {
       "description_width": ""
      }
     },
     "43822891d8b941ea820a6a543e6d2e0c": {
      "model_module": "@jupyter-widgets/controls",
      "model_module_version": "1.5.0",
      "model_name": "LabelModel",
      "state": {
       "layout": "IPY_MODEL_2a4af3305b2b4355b30262deb4df7591",
       "style": "IPY_MODEL_cb0769ccb9694da68f1eaa227d093531",
       "value": "Created Repo"
      }
     },
     "43cf6a213d0b4fde893921b5ec8c6c41": {
      "model_module": "@jupyter-widgets/controls",
      "model_module_version": "1.5.0",
      "model_name": "TextModel",
      "state": {
       "layout": "IPY_MODEL_742caf9710d1417da359e81f6376968f",
       "style": "IPY_MODEL_b5cedfae5650416f819e9ea0c34de4b2"
      }
     },
     "43f7daed7e8e4e829f03c6be4795f3e1": {
      "model_module": "@jupyter-widgets/base",
      "model_module_version": "1.2.0",
      "model_name": "LayoutModel",
      "state": {}
     },
     "44023056c08a475a834b04f62956357a": {
      "model_module": "@jupyter-widgets/base",
      "model_module_version": "1.2.0",
      "model_name": "LayoutModel",
      "state": {
       "width": "auto"
      }
     },
     "4435978ece834d4996e4f9449d9645c5": {
      "model_module": "@jupyter-widgets/controls",
      "model_module_version": "1.5.0",
      "model_name": "HTMLModel",
      "state": {
       "layout": "IPY_MODEL_b2c2054446a643f699ed6092c3f4586b",
       "style": "IPY_MODEL_acdc5343f5724cd7a46929222fff6298",
       "value": "<h3 style='padding:0;margin:0;'>&nbsp &nbsp<a href='https://github.com/SourabhSomdeve/Public_Profile'>Public_Profile</a> &nbsp</h3>"
      }
     },
     "446a43e2dfb943b4ae5feab2b5b2a14d": {
      "model_module": "@jupyter-widgets/controls",
      "model_module_version": "1.5.0",
      "model_name": "DescriptionStyleModel",
      "state": {
       "description_width": ""
      }
     },
     "447fe705d838482a8a92dccd9014ac73": {
      "model_module": "@jupyter-widgets/base",
      "model_module_version": "1.2.0",
      "model_name": "LayoutModel",
      "state": {}
     },
     "44bb7eff460c46a1afa3b5de20e16dc2": {
      "model_module": "@jupyter-widgets/controls",
      "model_module_version": "1.5.0",
      "model_name": "ButtonStyleModel",
      "state": {}
     },
     "44da90414c944bfda19adcaf2c4c7469": {
      "model_module": "@jupyter-widgets/controls",
      "model_module_version": "1.5.0",
      "model_name": "HTMLModel",
      "state": {
       "layout": "IPY_MODEL_1691d88574ba4127bfac073ad9764e6f",
       "style": "IPY_MODEL_884721c62e994a3b8d541f65be12e1f2",
       "value": "<h3 style='padding:0;margin:0;'>&nbsp &nbsp<a href='https://github.com/ksadlek/My_First_io'>My_First_io</a> &nbsp</h3>"
      }
     },
     "450be5379fb64c2cb0e6d06341ee4104": {
      "model_module": "@jupyter-widgets/base",
      "model_module_version": "1.2.0",
      "model_name": "LayoutModel",
      "state": {}
     },
     "452c16ba0fa643ff91d376047348f569": {
      "model_module": "@jupyter-widgets/base",
      "model_module_version": "1.2.0",
      "model_name": "LayoutModel",
      "state": {}
     },
     "456730f485c2498c8a48ec5688a18379": {
      "model_module": "@jupyter-widgets/controls",
      "model_module_version": "1.5.0",
      "model_name": "DescriptionStyleModel",
      "state": {
       "description_width": ""
      }
     },
     "45767ddfec054cbaa96f3c498c2d4560": {
      "model_module": "@jupyter-widgets/base",
      "model_module_version": "1.2.0",
      "model_name": "LayoutModel",
      "state": {}
     },
     "457bde17459b49668124d0cb67f9888c": {
      "model_module": "@jupyter-widgets/controls",
      "model_module_version": "1.5.0",
      "model_name": "DescriptionStyleModel",
      "state": {
       "description_width": ""
      }
     },
     "457d0d80c60645a58b896bc87d6d46a8": {
      "model_module": "@jupyter-widgets/controls",
      "model_module_version": "1.5.0",
      "model_name": "DescriptionStyleModel",
      "state": {
       "description_width": ""
      }
     },
     "458417c7c75a42aa8fd9b57ec8163ad5": {
      "model_module": "@jupyter-widgets/base",
      "model_module_version": "1.2.0",
      "model_name": "LayoutModel",
      "state": {
       "justify_content": "center",
       "padding": "20px 0 0 0"
      }
     },
     "459400d1a0d0423ca6ed0ad2418f4472": {
      "model_module": "@jupyter-widgets/controls",
      "model_module_version": "1.5.0",
      "model_name": "DescriptionStyleModel",
      "state": {
       "description_width": ""
      }
     },
     "45ac79b4ffa24060b3552237e4cc685f": {
      "model_module": "@jupyter-widgets/controls",
      "model_module_version": "1.5.0",
      "model_name": "ButtonModel",
      "state": {
       "button_style": "info",
       "description": "Download",
       "layout": "IPY_MODEL_e4b228c8aa794b61898a80a702950a5b",
       "style": "IPY_MODEL_92814d20317f45f5b55bd0c30262167a"
      }
     },
     "45b5c9ad72f64378aed3567ab3d17565": {
      "model_module": "@jupyter-widgets/controls",
      "model_module_version": "1.5.0",
      "model_name": "HTMLModel",
      "state": {
       "layout": "IPY_MODEL_0b3c774838e44ad8935f0baf7b7724fe",
       "style": "IPY_MODEL_93584818e3874e3cac8b2daf29c15f51",
       "value": "<h3 style='padding:0;margin:0;'>&nbsp &nbsp<a href='https://github.com/manojakm/Test_Project'>Test_Project</a> &nbsp</h3>"
      }
     },
     "45bfc52088fb4afe87a45ff749310107": {
      "model_module": "@jupyter-widgets/base",
      "model_module_version": "1.2.0",
      "model_name": "LayoutModel",
      "state": {}
     },
     "46189b96108e4ebb83be72364391252e": {
      "model_module": "@jupyter-widgets/base",
      "model_module_version": "1.2.0",
      "model_name": "LayoutModel",
      "state": {}
     },
     "46191334c6d349199ceda443e1aa0da8": {
      "model_module": "@jupyter-widgets/base",
      "model_module_version": "1.2.0",
      "model_name": "LayoutModel",
      "state": {
       "justify_content": "center",
       "padding": "20px 0 0 0"
      }
     },
     "462c60efaaca4183bfd354ffa2988256": {
      "model_module": "@jupyter-widgets/base",
      "model_module_version": "1.2.0",
      "model_name": "LayoutModel",
      "state": {}
     },
     "4637a7c67de04d7cb7bb0d5e281bcf1a": {
      "model_module": "@jupyter-widgets/controls",
      "model_module_version": "1.5.0",
      "model_name": "DescriptionStyleModel",
      "state": {
       "description_width": ""
      }
     },
     "4641d4e850364a898e927ce9c519d530": {
      "model_module": "@jupyter-widgets/base",
      "model_module_version": "1.2.0",
      "model_name": "LayoutModel",
      "state": {}
     },
     "467dae45114240ea99a90b16009adeec": {
      "model_module": "@jupyter-widgets/base",
      "model_module_version": "1.2.0",
      "model_name": "LayoutModel",
      "state": {
       "justify_content": "center",
       "padding": "15px 0 0 0"
      }
     },
     "46b8a28ad77f420aa96d7ae9c40339f9": {
      "model_module": "@jupyter-widgets/controls",
      "model_module_version": "1.5.0",
      "model_name": "ButtonStyleModel",
      "state": {}
     },
     "471e21ab563c4b6baec0ab0e1b694037": {
      "model_module": "@jupyter-widgets/controls",
      "model_module_version": "1.5.0",
      "model_name": "DescriptionStyleModel",
      "state": {
       "description_width": ""
      }
     },
     "472993b2c40945caae781d9ad88cb8b2": {
      "model_module": "@jupyter-widgets/controls",
      "model_module_version": "1.5.0",
      "model_name": "HTMLModel",
      "state": {
       "layout": "IPY_MODEL_b9ebcfe1ccdf43a0a75e5211680a41c5",
       "style": "IPY_MODEL_b9d8f09fded84e88945a2f07002bfaa0",
       "value": "<h3 style='padding:0;margin:0;'>&nbsp &nbsp<a href='https://github.com/spockman12/Public_Profile'>Public_Profile</a> &nbsp</h3>"
      }
     },
     "47786ba021ae4c7ca4e212a9d0d7fd85": {
      "model_module": "@jupyter-widgets/controls",
      "model_module_version": "1.5.0",
      "model_name": "ToggleButtonsStyleModel",
      "state": {
       "button_width": "",
       "description_width": ""
      }
     },
     "47b96c8cc4a34261aa947d4fdbbe32ae": {
      "model_module": "@jupyter-widgets/controls",
      "model_module_version": "1.5.0",
      "model_name": "DescriptionStyleModel",
      "state": {
       "description_width": ""
      }
     },
     "47c58447e1324717b6ccbf9b09d4ed67": {
      "model_module": "@jupyter-widgets/base",
      "model_module_version": "1.2.0",
      "model_name": "LayoutModel",
      "state": {
       "width": "auto"
      }
     },
     "47d45dc930b54ec1ae49c1e5f636e49b": {
      "model_module": "@jupyter-widgets/base",
      "model_module_version": "1.2.0",
      "model_name": "LayoutModel",
      "state": {}
     },
     "47dd5bf45126491bb5c281daaaf4ed13": {
      "model_module": "@jupyter-widgets/base",
      "model_module_version": "1.2.0",
      "model_name": "LayoutModel",
      "state": {}
     },
     "47df09ea371f4904bcf805c8507b7dbd": {
      "model_module": "@jupyter-widgets/controls",
      "model_module_version": "1.5.0",
      "model_name": "LabelModel",
      "state": {
       "layout": "IPY_MODEL_e4c6c77a5c6548b8883140b74d310e78",
       "style": "IPY_MODEL_18f202ce9b634325b6b00bd572223012",
       "value": "new code added"
      }
     },
     "47f57528b9f947e294fc3547d733d618": {
      "model_module": "@jupyter-widgets/base",
      "model_module_version": "1.2.0",
      "model_name": "LayoutModel",
      "state": {
       "visibility": "hidden"
      }
     },
     "482389b9b6b64d7e81a4c9178fa6fe1b": {
      "model_module": "@jupyter-widgets/controls",
      "model_module_version": "1.5.0",
      "model_name": "DescriptionStyleModel",
      "state": {
       "description_width": ""
      }
     },
     "482c4dcba6f04f56bc86f84c55e11531": {
      "model_module": "@jupyter-widgets/controls",
      "model_module_version": "1.5.0",
      "model_name": "DescriptionStyleModel",
      "state": {
       "description_width": ""
      }
     },
     "483a18891b99415a8326260bf0c07daa": {
      "model_module": "@jupyter-widgets/controls",
      "model_module_version": "1.5.0",
      "model_name": "HBoxModel",
      "state": {
       "children": [
        "IPY_MODEL_7534de63223548ee90887904a0e15389",
        "IPY_MODEL_f11da3eb7410478db6eedcd7cdd72022",
        "IPY_MODEL_b420ba6f77a24d949d3b62252ba4ba7e",
        "IPY_MODEL_4fac5690ce92414fbae42d9abce114e1",
        "IPY_MODEL_3a8f874107d74aa4a1ba9fd54ff5a53a",
        "IPY_MODEL_8b8180bd97674cfcaa59f339e7858152",
        "IPY_MODEL_6179103fc8ba4ba6ae4ed28df0416afe"
       ],
       "layout": "IPY_MODEL_318015ea56964b31ac49113aa3d12e22"
      }
     },
     "483f53ff391042a4b755e77d35595cff": {
      "model_module": "@jupyter-widgets/controls",
      "model_module_version": "1.5.0",
      "model_name": "ButtonModel",
      "state": {
       "button_style": "info",
       "description": "Download",
       "layout": "IPY_MODEL_3332c66fcfcc463b85d8cce21f4c07f3",
       "style": "IPY_MODEL_24d2e66f69b4411486b2f8be5736d1cd"
      }
     },
     "486b54f667424cb7a1862edb4e9c526d": {
      "model_module": "@jupyter-widgets/controls",
      "model_module_version": "1.5.0",
      "model_name": "DescriptionStyleModel",
      "state": {
       "description_width": ""
      }
     },
     "4917891151b342b38c8b38a8b41fd388": {
      "model_module": "@jupyter-widgets/controls",
      "model_module_version": "1.5.0",
      "model_name": "ToggleButtonsStyleModel",
      "state": {
       "button_width": "",
       "description_width": ""
      }
     },
     "4931b34b8e3349fcaa751b1e9d9ccb30": {
      "model_module": "@jupyter-widgets/controls",
      "model_module_version": "1.5.0",
      "model_name": "LabelModel",
      "state": {
       "layout": "IPY_MODEL_3c37a9423bab434eb466939c715169e1",
       "style": "IPY_MODEL_50d206f879614d9b848074a9915e390d",
       "value": "2 months ago"
      }
     },
     "493973f29d7a401f8d97e385dd5b8274": {
      "model_module": "@jupyter-widgets/controls",
      "model_module_version": "1.5.0",
      "model_name": "DescriptionStyleModel",
      "state": {
       "description_width": ""
      }
     },
     "493f037b2ba74c25bec47ca893138ff4": {
      "model_module": "@jupyter-widgets/controls",
      "model_module_version": "1.5.0",
      "model_name": "DescriptionStyleModel",
      "state": {
       "description_width": ""
      }
     },
     "4955d01d39fc4a30afdab18b2896a1e7": {
      "model_module": "@jupyter-widgets/controls",
      "model_module_version": "1.5.0",
      "model_name": "ButtonStyleModel",
      "state": {}
     },
     "4996bbad6d6947d9ae2c22467deb3b46": {
      "model_module": "@jupyter-widgets/controls",
      "model_module_version": "1.5.0",
      "model_name": "TextModel",
      "state": {
       "layout": "IPY_MODEL_b12985df96c349b09de00469cf2a4cc2",
       "style": "IPY_MODEL_e3c25fd109954049997f8a2b613402c0"
      }
     },
     "499d44f8117149f797d3ca50c68270c9": {
      "model_module": "@jupyter-widgets/controls",
      "model_module_version": "1.5.0",
      "model_name": "DescriptionStyleModel",
      "state": {
       "description_width": ""
      }
     },
     "49a0a7fb08c9479b8d7f67f15a99c18c": {
      "model_module": "@jupyter-widgets/controls",
      "model_module_version": "1.5.0",
      "model_name": "VBoxModel",
      "state": {
       "children": [
        "IPY_MODEL_1e705c3aa4d34b61ab9409b32c468fa0",
        "IPY_MODEL_b9b20bc7004747b182be229c7b76b87c"
       ],
       "layout": "IPY_MODEL_85bc1852fd6c4344ad3bc6627cb4dbe0"
      }
     },
     "49f3d450bab5429f8f8d73ac3d23635a": {
      "model_module": "@jupyter-widgets/controls",
      "model_module_version": "1.5.0",
      "model_name": "HTMLModel",
      "state": {
       "layout": "IPY_MODEL_726da4f1af344d0487dfaeed1e1e2370",
       "style": "IPY_MODEL_486b54f667424cb7a1862edb4e9c526d",
       "value": "<h3 style='padding:0;margin:0;'>&nbsp &nbsp<a href='https://github.com/TRM13/my_first_io'>my_first_io</a> &nbsp</h3>"
      }
     },
     "4a0bf3e9870249dc87991d12476c0b32": {
      "model_module": "@jupyter-widgets/controls",
      "model_module_version": "1.5.0",
      "model_name": "HTMLModel",
      "state": {
       "layout": "IPY_MODEL_4d78552f1b0d4a8d952a27a77623376e",
       "style": "IPY_MODEL_0f1a05561063409899ec00ee2b50b066",
       "value": "<h3 class='text-center'><font color='red'>Logout</font> of <a stc='https://github.com/'>Github </a> &nbsp&nbsp<h3>"
      }
     },
     "4a3cddd485a04db8aa4cc738d5749b3d": {
      "model_module": "@jupyter-widgets/base",
      "model_module_version": "1.2.0",
      "model_name": "LayoutModel",
      "state": {
       "align_items": "center",
       "justify_content": "center"
      }
     },
     "4a3f3f78838243608f972a933dfe0b3f": {
      "model_module": "@jupyter-widgets/controls",
      "model_module_version": "1.5.0",
      "model_name": "ButtonModel",
      "state": {
       "button_style": "primary",
       "description": " Refresh",
       "icon": "refresh",
       "layout": "IPY_MODEL_714495ce6063420da01af3772aaa6199",
       "style": "IPY_MODEL_95805c4324e740cea1bc66dd2133a063"
      }
     },
     "4a488504d37e46f6a53fef90b2cadd2b": {
      "model_module": "@jupyter-widgets/controls",
      "model_module_version": "1.5.0",
      "model_name": "LabelModel",
      "state": {
       "layout": "IPY_MODEL_cc2f051b59024060b54b2ac08d079436",
       "style": "IPY_MODEL_27b234c03a1542dd8a110083d0aa713d",
       "value": "Created Repo"
      }
     },
     "4a65802bdc984d2188b2e1ff037948c8": {
      "model_module": "@jupyter-widgets/controls",
      "model_module_version": "1.5.0",
      "model_name": "HTMLModel",
      "state": {
       "layout": "IPY_MODEL_ba4db934aa8a4bd0b5f5f6f7c3f103c5",
       "style": "IPY_MODEL_dfa80c4928804d6b81aec60291c0db91",
       "value": "<h3 style='padding:0;margin:0;'>&nbsp &nbsp<a href='https://github.com/stcline/Test_Lessons'>Test_Lessons</a> &nbsp</h3>"
      }
     },
     "4a7c1da188b64b1496adb98037c63064": {
      "model_module": "@jupyter-widgets/controls",
      "model_module_version": "1.5.0",
      "model_name": "DescriptionStyleModel",
      "state": {
       "description_width": ""
      }
     },
     "4a9802d7084f4198851a3f5883c120c3": {
      "model_module": "@jupyter-widgets/controls",
      "model_module_version": "1.5.0",
      "model_name": "ButtonModel",
      "state": {
       "button_style": "warning",
       "description": "add",
       "layout": "IPY_MODEL_d2f3b776d01948b1a838cb31450a655f",
       "style": "IPY_MODEL_931af6442e2343429264d0cf4b65125b"
      }
     },
     "4a9c877c66d04c6cafcc2b5396c73ae8": {
      "model_module": "@jupyter-widgets/controls",
      "model_module_version": "1.5.0",
      "model_name": "HTMLModel",
      "state": {
       "layout": "IPY_MODEL_7e5079d8f2874df589fd593d08013a88",
       "style": "IPY_MODEL_92500ae86bca46d4a729ab6f0b19a9e6",
       "value": "<h5 style='padding:0;margin:0;'>&nbsp <a href='https://github.com/SourabhSomdeve' style='color:silver'>SourabhSomdeve</a> &nbsp</h5>"
      }
     },
     "4aacfea4d9cf4e0a84e5a474e891d26b": {
      "model_module": "@jupyter-widgets/controls",
      "model_module_version": "1.5.0",
      "model_name": "DescriptionStyleModel",
      "state": {
       "description_width": ""
      }
     },
     "4aaee70106a047e79c50d641d107bd77": {
      "model_module": "@jupyter-widgets/base",
      "model_module_version": "1.2.0",
      "model_name": "LayoutModel",
      "state": {
       "width": "auto"
      }
     },
     "4ac65f189bac460d87ee1c471a4aef98": {
      "model_module": "@jupyter-widgets/base",
      "model_module_version": "1.2.0",
      "model_name": "LayoutModel",
      "state": {}
     },
     "4b17ce674f6545d79699437d9b4013d2": {
      "model_module": "@jupyter-widgets/controls",
      "model_module_version": "1.5.0",
      "model_name": "LabelModel",
      "state": {
       "layout": "IPY_MODEL_602e8e7d98da4dc6aa5445dc3f61220f",
       "style": "IPY_MODEL_6f550e7726a14b5eb00fdeb7066b218b",
       "value": "Created Repo"
      }
     },
     "4b1ca73fa99a4186ab50cb8fb0ee5c31": {
      "model_module": "@jupyter-widgets/controls",
      "model_module_version": "1.5.0",
      "model_name": "HTMLModel",
      "state": {
       "layout": "IPY_MODEL_c7ae20c716ac4bcb891ae3a460944056",
       "style": "IPY_MODEL_4e8165e43b964ac69cce5effb4201b35",
       "value": "<h5 style='padding:0;margin:0;'>&nbsp <a href='https://github.com/kadencewaggoner' style='color:silver'>kadencewaggoner</a> &nbsp</h5>"
      }
     },
     "4b4d7fe979da4be5ac5d294919a3b582": {
      "model_module": "@jupyter-widgets/controls",
      "model_module_version": "1.5.0",
      "model_name": "HTMLModel",
      "state": {
       "layout": "IPY_MODEL_c64fa2f787bc44ed9a6add01b74893a5",
       "style": "IPY_MODEL_26771bd0b4a0421d8aa6fc9f0840617c",
       "value": "<h4><font color='red'>Example : my-lab-23</font></h4>"
      }
     },
     "4b631cdf419f4b3785a8b8669d844255": {
      "model_module": "@jupyter-widgets/controls",
      "model_module_version": "1.5.0",
      "model_name": "HTMLModel",
      "state": {
       "layout": "IPY_MODEL_e429a33e1f96434db066b562d067cf92",
       "style": "IPY_MODEL_70933dc31e724c1ab97061411de65c14",
       "value": "<h3 style='padding:0;margin:0;'>&nbsp &nbsp<a href='https://github.com/ugunal/Samil_Hoca'>Samil_Hoca</a> &nbsp</h3>"
      }
     },
     "4b72aa6ba100414e882b04dd61d49831": {
      "model_module": "@jupyter-widgets/controls",
      "model_module_version": "1.5.0",
      "model_name": "HTMLMathModel",
      "state": {
       "layout": "IPY_MODEL_0624b0544e43480cbff37d3a262fa4b9",
       "style": "IPY_MODEL_b474480e26c04cccaa574a8a28e6f7d5",
       "value": "<h4>Url :</h4>"
      }
     },
     "4b7c488a8e984ada85b1d51829aa39ca": {
      "model_module": "@jupyter-widgets/controls",
      "model_module_version": "1.5.0",
      "model_name": "HTMLMathModel",
      "state": {
       "layout": "IPY_MODEL_3330e50df07e418c81898dd43b24fe91",
       "style": "IPY_MODEL_287c8eb58d534d369594502a4bb3e184",
       "value": "<h4>Url :</h4>"
      }
     },
     "4b7d40ce17eb424c984d2b6a83ebb179": {
      "model_module": "@jupyter-widgets/base",
      "model_module_version": "1.2.0",
      "model_name": "LayoutModel",
      "state": {}
     },
     "4b94577dec6e4f2a8b1798af0f9410d0": {
      "model_module": "@jupyter-widgets/base",
      "model_module_version": "1.2.0",
      "model_name": "LayoutModel",
      "state": {}
     },
     "4ba1b5917730439bb38a9e6587ebfdd4": {
      "model_module": "@jupyter-widgets/controls",
      "model_module_version": "1.5.0",
      "model_name": "ButtonModel",
      "state": {
       "button_style": "info",
       "description": "Download",
       "layout": "IPY_MODEL_706aba54c5374b838a9b76eeb02aea96",
       "style": "IPY_MODEL_ecf7d64b9c8a41ee851a78553f126a9a"
      }
     },
     "4bae92675031431a89faf18607fbf7cb": {
      "model_module": "@jupyter-widgets/base",
      "model_module_version": "1.2.0",
      "model_name": "LayoutModel",
      "state": {
       "align_items": "center",
       "justify_content": "center"
      }
     },
     "4bcb83ffd23142e89a99c7400947e331": {
      "model_module": "@jupyter-widgets/base",
      "model_module_version": "1.2.0",
      "model_name": "LayoutModel",
      "state": {}
     },
     "4beb23a8cd9d48c6b35ef9c1bf84c2fe": {
      "model_module": "@jupyter-widgets/base",
      "model_module_version": "1.2.0",
      "model_name": "LayoutModel",
      "state": {}
     },
     "4cd83163fcce43d68e65d2a2ba713a80": {
      "model_module": "@jupyter-widgets/controls",
      "model_module_version": "1.5.0",
      "model_name": "DescriptionStyleModel",
      "state": {
       "description_width": ""
      }
     },
     "4ce2217f130f4b4580a60c162afcd4b5": {
      "model_module": "@jupyter-widgets/controls",
      "model_module_version": "1.5.0",
      "model_name": "DescriptionStyleModel",
      "state": {
       "description_width": ""
      }
     },
     "4ce5087f778b4a8790e089e84207f71f": {
      "model_module": "@jupyter-widgets/controls",
      "model_module_version": "1.5.0",
      "model_name": "HBoxModel",
      "state": {
       "children": [
        "IPY_MODEL_42011e7bee1f424b947ff05354cd900f",
        "IPY_MODEL_610775b4814847ef8e08748317b628d4",
        "IPY_MODEL_a64aaa2d715e4dfeba7e054a471f1924",
        "IPY_MODEL_34044c737e4d46b88c28a4e0bd2144a8",
        "IPY_MODEL_04b5f4fee0064544a29990e45e7dff17"
       ],
       "layout": "IPY_MODEL_e574107a5426491faafc8a93795d4442"
      }
     },
     "4d0959bba8354672a4553c9db7333118": {
      "model_module": "@jupyter-widgets/controls",
      "model_module_version": "1.5.0",
      "model_name": "HTMLModel",
      "state": {
       "layout": "IPY_MODEL_1c37de8bef2a4b76badcde037d4706c7",
       "style": "IPY_MODEL_621cc590e2ad4169ac65530e14ab5014",
       "value": "<font color='green'> &nbsp Downloads: 1</font>"
      }
     },
     "4d62e01c4f8348db977de4f5e7907333": {
      "model_module": "@jupyter-widgets/base",
      "model_module_version": "1.2.0",
      "model_name": "LayoutModel",
      "state": {}
     },
     "4d77ac69adb346fea4579781b7759c04": {
      "model_module": "@jupyter-widgets/controls",
      "model_module_version": "1.5.0",
      "model_name": "VBoxModel",
      "state": {
       "children": [
        "IPY_MODEL_ae600c36b1fc4675855fd3c4efd246cb",
        "IPY_MODEL_7104200e486f414cad41df01e55c8a95"
       ],
       "layout": "IPY_MODEL_b6d460117a7047e297c275f2ab0b2562"
      }
     },
     "4d78552f1b0d4a8d952a27a77623376e": {
      "model_module": "@jupyter-widgets/base",
      "model_module_version": "1.2.0",
      "model_name": "LayoutModel",
      "state": {}
     },
     "4d9632a1867242d0aba5876629518765": {
      "model_module": "@jupyter-widgets/controls",
      "model_module_version": "1.5.0",
      "model_name": "DescriptionStyleModel",
      "state": {
       "description_width": ""
      }
     },
     "4dbc96a2bb8e48ecac038ae97d05800a": {
      "model_module": "@jupyter-widgets/controls",
      "model_module_version": "1.5.0",
      "model_name": "DescriptionStyleModel",
      "state": {
       "description_width": ""
      }
     },
     "4dcd9667fb7a44e0af132ee5b20b7b10": {
      "model_module": "@jupyter-widgets/controls",
      "model_module_version": "1.5.0",
      "model_name": "DescriptionStyleModel",
      "state": {
       "description_width": ""
      }
     },
     "4e1fe98582a84a8587930e6c63102e37": {
      "model_module": "@jupyter-widgets/controls",
      "model_module_version": "1.5.0",
      "model_name": "DescriptionStyleModel",
      "state": {
       "description_width": ""
      }
     },
     "4e5ad0fbde9c4521a3bf86ef5afb0bb5": {
      "model_module": "@jupyter-widgets/base",
      "model_module_version": "1.2.0",
      "model_name": "LayoutModel",
      "state": {
       "width": "100px"
      }
     },
     "4e5f44336068432bbd36fa12fe00c880": {
      "model_module": "@jupyter-widgets/controls",
      "model_module_version": "1.5.0",
      "model_name": "DescriptionStyleModel",
      "state": {
       "description_width": ""
      }
     },
     "4e65974aacf04019906b8d2e5c5236bb": {
      "model_module": "@jupyter-widgets/controls",
      "model_module_version": "1.5.0",
      "model_name": "HTMLModel",
      "state": {
       "layout": "IPY_MODEL_338ab6f66bfd4ebd9a767028507bd278",
       "style": "IPY_MODEL_5c918814ad794a4d85b7cba2358f42da",
       "value": "<h3 style='padding:0;margin:0;'>&nbsp &nbsp<a href='https://github.com/p10raveen/Assignment-1'>Assignment-1</a> &nbsp</h3>"
      }
     },
     "4e699d99c03d4952ab0b8bab812d8ceb": {
      "model_module": "@jupyter-widgets/base",
      "model_module_version": "1.2.0",
      "model_name": "LayoutModel",
      "state": {}
     },
     "4e6fef3dcffe4a489981f5d990a49178": {
      "model_module": "@jupyter-widgets/controls",
      "model_module_version": "1.5.0",
      "model_name": "HBoxModel",
      "state": {
       "children": [
        "IPY_MODEL_a9e9da1bacaf44d692ffc04b885da846",
        "IPY_MODEL_5d29ba7d6b304577a97aecc85bb113fb",
        "IPY_MODEL_9985ccf16aa8400eb2623ed32e0561e7",
        "IPY_MODEL_b24bbf390b0f4877a7bf0a910b2f1970",
        "IPY_MODEL_19d6dfe158fc474cbb014d1073df770c",
        "IPY_MODEL_55a0c0c8b94f4fb0aea6313a6aa82b43",
        "IPY_MODEL_5c0943f54d434f5bbf37f9c72dc6dd0b"
       ],
       "layout": "IPY_MODEL_89c14a36353a4ae2933c0ec57ff1997f"
      }
     },
     "4e7824cf7ecf47259985064037d4f603": {
      "model_module": "@jupyter-widgets/base",
      "model_module_version": "1.2.0",
      "model_name": "LayoutModel",
      "state": {}
     },
     "4e8165e43b964ac69cce5effb4201b35": {
      "model_module": "@jupyter-widgets/controls",
      "model_module_version": "1.5.0",
      "model_name": "DescriptionStyleModel",
      "state": {
       "description_width": ""
      }
     },
     "4e8b7f8c645744358bb576168636aa67": {
      "model_module": "@jupyter-widgets/controls",
      "model_module_version": "1.5.0",
      "model_name": "HTMLModel",
      "state": {
       "layout": "IPY_MODEL_47f57528b9f947e294fc3547d733d618",
       "style": "IPY_MODEL_c54d50fb22b74f5295e6ce1600389227",
       "value": "<h4><font color='red'>Example : my-lab-23</font></h4>"
      }
     },
     "4ea9ebf5ebf74a8cbd4ce1ee5b4b3088": {
      "model_module": "@jupyter-widgets/controls",
      "model_module_version": "1.5.0",
      "model_name": "HTMLModel",
      "state": {
       "layout": "IPY_MODEL_f28c60a6cc80467d9b1e1644f969638e",
       "style": "IPY_MODEL_36f249a4e1f942369dab15123b0c4435",
       "value": "<font color='green'> &nbsp Downloads: 0</font>"
      }
     },
     "4eb2c3a1b1d34b8cb36f5381d37023e8": {
      "model_module": "@jupyter-widgets/controls",
      "model_module_version": "1.5.0",
      "model_name": "ButtonStyleModel",
      "state": {}
     },
     "4ed4c275d5904a6eb1ecc34e3430fa8c": {
      "model_module": "@jupyter-widgets/base",
      "model_module_version": "1.2.0",
      "model_name": "LayoutModel",
      "state": {}
     },
     "4ee512e5e8754e4b9eea6d1cf5d8598c": {
      "model_module": "@jupyter-widgets/base",
      "model_module_version": "1.2.0",
      "model_name": "LayoutModel",
      "state": {
       "width": "auto"
      }
     },
     "4ee59ffe73c0482485e1463de6cc9d8f": {
      "model_module": "@jupyter-widgets/controls",
      "model_module_version": "1.5.0",
      "model_name": "DescriptionStyleModel",
      "state": {
       "description_width": ""
      }
     },
     "4ef3b6ed14ee49baa2a1c329b4e6c3d2": {
      "model_module": "@jupyter-widgets/base",
      "model_module_version": "1.2.0",
      "model_name": "LayoutModel",
      "state": {}
     },
     "4f194d337af449539574c856ab3e925a": {
      "model_module": "@jupyter-widgets/controls",
      "model_module_version": "1.5.0",
      "model_name": "VBoxModel",
      "state": {
       "children": [
        "IPY_MODEL_172c5cf69c6a4f8a8ce14e16064ffc47",
        "IPY_MODEL_0ac12ae013f74ff3b029e78e81ee25ad",
        "IPY_MODEL_76bf50ab6a604794b5637a176037c366",
        "IPY_MODEL_f01c02ba7f9a464e96fc33e12d6b15f6"
       ],
       "layout": "IPY_MODEL_a68172690f9b424e82d96bb0d04d4fd7"
      }
     },
     "4fac5690ce92414fbae42d9abce114e1": {
      "model_module": "@jupyter-widgets/controls",
      "model_module_version": "1.5.0",
      "model_name": "HTMLModel",
      "state": {
       "layout": "IPY_MODEL_d6d30cf7937a472aae8604234828e22d",
       "style": "IPY_MODEL_4cd83163fcce43d68e65d2a2ba713a80",
       "value": "<font color='orange'> &nbsp Stars: 0</font>"
      }
     },
     "4fc344e18ace48b28b4ee28c1f792a89": {
      "model_module": "@jupyter-widgets/controls",
      "model_module_version": "1.5.0",
      "model_name": "ButtonStyleModel",
      "state": {}
     },
     "500dcafdadc94c05b7d496bf0074c3ee": {
      "model_module": "@jupyter-widgets/base",
      "model_module_version": "1.2.0",
      "model_name": "LayoutModel",
      "state": {}
     },
     "5013b3b3eab14cc18b3c02dfd206f8bd": {
      "model_module": "@jupyter-widgets/controls",
      "model_module_version": "1.5.0",
      "model_name": "LabelModel",
      "state": {
       "layout": "IPY_MODEL_f19d91caaa9a4b1fba132ec70688b81f",
       "style": "IPY_MODEL_3b6ee4dbc59b423a806f88270ce0550c",
       "value": "new code added"
      }
     },
     "501def9921c2439b9932d51fc9f0b54f": {
      "model_module": "@jupyter-widgets/controls",
      "model_module_version": "1.5.0",
      "model_name": "ButtonModel",
      "state": {
       "button_style": "primary",
       "description": " Refresh",
       "icon": "refresh",
       "layout": "IPY_MODEL_20d23d3f43054d25941288790faf299a",
       "style": "IPY_MODEL_ec3841c8fad54c3baad90329290d6545"
      }
     },
     "505996216a274268b22f61c0997f4394": {
      "model_module": "@jupyter-widgets/controls",
      "model_module_version": "1.5.0",
      "model_name": "LabelModel",
      "state": {
       "layout": "IPY_MODEL_7dd440e9b51448608017dca4bf39e617",
       "style": "IPY_MODEL_e616f72815584b8183676ce837acb839",
       "value": "7 months ago"
      }
     },
     "50b4f1c833a240c5b791f775508774d3": {
      "model_module": "@jupyter-widgets/base",
      "model_module_version": "1.2.0",
      "model_name": "LayoutModel",
      "state": {}
     },
     "50c426b866e440f0a736827752d71726": {
      "model_module": "@jupyter-widgets/controls",
      "model_module_version": "1.5.0",
      "model_name": "ButtonModel",
      "state": {
       "button_style": "success",
       "description": "Login",
       "layout": "IPY_MODEL_679a50e033334110a797988feb172228",
       "style": "IPY_MODEL_5f699bb9089740aaa8a98173b22cecde"
      }
     },
     "50d206f879614d9b848074a9915e390d": {
      "model_module": "@jupyter-widgets/controls",
      "model_module_version": "1.5.0",
      "model_name": "DescriptionStyleModel",
      "state": {
       "description_width": ""
      }
     },
     "50e240cd04004e8c91e015084a3ac3de": {
      "model_module": "@jupyter-widgets/controls",
      "model_module_version": "1.5.0",
      "model_name": "HBoxModel",
      "state": {
       "children": [
        "IPY_MODEL_bff61066c6fe4f13b05d391ca6cea8e6",
        "IPY_MODEL_0b9cec3453784870bb4ca3da616655ef"
       ],
       "layout": "IPY_MODEL_4a3cddd485a04db8aa4cc738d5749b3d"
      }
     },
     "5107a4b79f97493ba784fe1c8f92c7df": {
      "model_module": "@jupyter-widgets/base",
      "model_module_version": "1.2.0",
      "model_name": "LayoutModel",
      "state": {}
     },
     "516895a8246c4a3faba577a10c8b1274": {
      "model_module": "@jupyter-widgets/base",
      "model_module_version": "1.2.0",
      "model_name": "LayoutModel",
      "state": {}
     },
     "517f303fbfb44d34a7888d1234cc66ba": {
      "model_module": "@jupyter-widgets/controls",
      "model_module_version": "1.5.0",
      "model_name": "DescriptionStyleModel",
      "state": {
       "description_width": ""
      }
     },
     "51b2a2f178a34d97a2cdb6b30bd12a53": {
      "model_module": "@jupyter-widgets/controls",
      "model_module_version": "1.5.0",
      "model_name": "HTMLMathModel",
      "state": {
       "layout": "IPY_MODEL_821ebeabfd4741b4a35629dd6af5eb90",
       "style": "IPY_MODEL_90ea4cad690d4d74a17e82deaaa355d0",
       "value": "<h4>Url :</h4>"
      }
     },
     "51e7a6cc673443708e54b4566ba6757e": {
      "model_module": "@jupyter-widgets/base",
      "model_module_version": "1.2.0",
      "model_name": "LayoutModel",
      "state": {
       "width": "auto"
      }
     },
     "51fb7367f57a4b308ef1fd5fb654cbb1": {
      "model_module": "@jupyter-widgets/controls",
      "model_module_version": "1.5.0",
      "model_name": "DescriptionStyleModel",
      "state": {
       "description_width": ""
      }
     },
     "520922064b674bb7b020f784f328cfad": {
      "model_module": "@jupyter-widgets/base",
      "model_module_version": "1.2.0",
      "model_name": "LayoutModel",
      "state": {}
     },
     "52135ba3abd24be5bee57a4021a802c8": {
      "model_module": "@jupyter-widgets/controls",
      "model_module_version": "1.5.0",
      "model_name": "LabelModel",
      "state": {
       "layout": "IPY_MODEL_41af5bdeade14dcc9d05e2a47f588305",
       "style": "IPY_MODEL_be01331325e6404ba5f374006ef6e11d",
       "value": "Created Repo"
      }
     },
     "52a31fc264dd4ddb8519addb3a8eca06": {
      "model_module": "@jupyter-widgets/controls",
      "model_module_version": "1.5.0",
      "model_name": "ButtonStyleModel",
      "state": {}
     },
     "52db1ebcee0245a0adb18ac2199a237c": {
      "model_module": "@jupyter-widgets/controls",
      "model_module_version": "1.5.0",
      "model_name": "HTMLModel",
      "state": {
       "layout": "IPY_MODEL_5ed47ad406344bf78dc842e92ac3686c",
       "style": "IPY_MODEL_791a641537b94d61a2eaa03952d3eab1",
       "value": "<font color='green'> &nbsp Downloads: 1</font>"
      }
     },
     "52e2100bbff7472da8d8e4b2514b4a03": {
      "model_module": "@jupyter-widgets/base",
      "model_module_version": "1.2.0",
      "model_name": "LayoutModel",
      "state": {}
     },
     "5314b9d71de6443683e4842c3c813532": {
      "model_module": "@jupyter-widgets/controls",
      "model_module_version": "1.5.0",
      "model_name": "HBoxModel",
      "state": {
       "children": [
        "IPY_MODEL_835adc60982a4ada8706c30cda1916f0",
        "IPY_MODEL_b1c6d5c680154d6eb8a3766f770deae7",
        "IPY_MODEL_4e8b7f8c645744358bb576168636aa67"
       ],
       "layout": "IPY_MODEL_71390abb9bdb48df8813414b51bae449"
      }
     },
     "533f1b11bf184e989c9ad0e9c3690fb1": {
      "model_module": "@jupyter-widgets/controls",
      "model_module_version": "1.5.0",
      "model_name": "ButtonModel",
      "state": {
       "button_style": "info",
       "description": "Download",
       "layout": "IPY_MODEL_f1a78887e3ae414e970e5565919097e0",
       "style": "IPY_MODEL_9bda825d96184412812c06a3c1234eb8"
      }
     },
     "536b1a0a59a84d87a46dfdd20fe4848c": {
      "model_module": "@jupyter-widgets/base",
      "model_module_version": "1.2.0",
      "model_name": "LayoutModel",
      "state": {}
     },
     "537effeb292d445c8e79baa301d6b0d7": {
      "model_module": "@jupyter-widgets/controls",
      "model_module_version": "1.5.0",
      "model_name": "HBoxModel",
      "state": {
       "children": [
        "IPY_MODEL_501def9921c2439b9932d51fc9f0b54f"
       ],
       "layout": "IPY_MODEL_467dae45114240ea99a90b16009adeec"
      }
     },
     "539af72091b14b8daaa1c78550cb915b": {
      "model_module": "@jupyter-widgets/controls",
      "model_module_version": "1.5.0",
      "model_name": "HBoxModel",
      "state": {
       "children": [
        "IPY_MODEL_a3487cb01e2e4bf8a07efc2a7d39ab23",
        "IPY_MODEL_80094f3781f04abe9c88c076b7f81a15"
       ],
       "layout": "IPY_MODEL_e8be3eb47fb246b1b77eafc5d2177649"
      }
     },
     "53a3b8600d7844ae8137c02fbd2753c1": {
      "model_module": "@jupyter-widgets/controls",
      "model_module_version": "1.5.0",
      "model_name": "HBoxModel",
      "state": {
       "children": [
        "IPY_MODEL_005ac9fdcf4e49c28182ff5b66aec5b0",
        "IPY_MODEL_5d58ded9a55c4bd391270c036f60a2f5"
       ],
       "layout": "IPY_MODEL_ed71f0505d86463c9e024227104f3d21"
      }
     },
     "53ca06a8bba24e039f24cd23d759b54b": {
      "model_module": "@jupyter-widgets/base",
      "model_module_version": "1.2.0",
      "model_name": "LayoutModel",
      "state": {}
     },
     "53cbbe527f0f4e4d86234ab8d8ed4298": {
      "model_module": "@jupyter-widgets/controls",
      "model_module_version": "1.5.0",
      "model_name": "DescriptionStyleModel",
      "state": {
       "description_width": ""
      }
     },
     "53d797b193254f7a91a37eb0f8df7c4c": {
      "model_module": "@jupyter-widgets/base",
      "model_module_version": "1.2.0",
      "model_name": "LayoutModel",
      "state": {}
     },
     "54047aa0838c4ba1aa4c03255ca75a64": {
      "model_module": "@jupyter-widgets/base",
      "model_module_version": "1.2.0",
      "model_name": "LayoutModel",
      "state": {}
     },
     "542671ddee134b42ac1f8573f427af77": {
      "model_module": "@jupyter-widgets/base",
      "model_module_version": "1.2.0",
      "model_name": "LayoutModel",
      "state": {
       "width": "auto"
      }
     },
     "5440b824de0e41af8acb5c3eca7cccae": {
      "model_module": "@jupyter-widgets/base",
      "model_module_version": "1.2.0",
      "model_name": "LayoutModel",
      "state": {
       "width": "100px"
      }
     },
     "546490ffe30e4254a583ccf3f80e0ab8": {
      "model_module": "@jupyter-widgets/base",
      "model_module_version": "1.2.0",
      "model_name": "LayoutModel",
      "state": {}
     },
     "54706567a29f4179be06f3d06e4ce0ce": {
      "model_module": "@jupyter-widgets/controls",
      "model_module_version": "1.5.0",
      "model_name": "ButtonModel",
      "state": {
       "button_style": "info",
       "description": "Download",
       "layout": "IPY_MODEL_6efe4e0b87794d8caeadda6850b8c9c2",
       "style": "IPY_MODEL_d883a4dcf385429ea286628672a3bd00"
      }
     },
     "547dd381c476421ab971b6cd7f6e3665": {
      "model_module": "@jupyter-widgets/controls",
      "model_module_version": "1.5.0",
      "model_name": "HTMLModel",
      "state": {
       "layout": "IPY_MODEL_b15d50a14735475ba739f53367c25fe0",
       "style": "IPY_MODEL_c6201072f3cd4cca8bf8d1480b60f46a",
       "value": "<h5 style='padding:0;margin:0;'>&nbsp <a href='https://github.com/SourabhSomdeve' style='color:silver'>SourabhSomdeve</a> &nbsp</h5>"
      }
     },
     "5498202ae08748ff9566d1947ff035d8": {
      "model_module": "@jupyter-widgets/controls",
      "model_module_version": "1.5.0",
      "model_name": "HTMLModel",
      "state": {
       "layout": "IPY_MODEL_c98eff3d27e64968abdc5f2e8d53a923",
       "style": "IPY_MODEL_435b2a0489f24148a6c7c0b305af16bf",
       "value": "<font color='green'> &nbsp Downloads: 0</font>"
      }
     },
     "54a7bc11cd3c430d9af8ebb365349918": {
      "model_module": "@jupyter-widgets/base",
      "model_module_version": "1.2.0",
      "model_name": "LayoutModel",
      "state": {}
     },
     "54b325a73a344457bc5ac425914a4775": {
      "model_module": "@jupyter-widgets/controls",
      "model_module_version": "1.5.0",
      "model_name": "DescriptionStyleModel",
      "state": {
       "description_width": ""
      }
     },
     "5517a903a5e9467fbed04354765f90c3": {
      "model_module": "@jupyter-widgets/controls",
      "model_module_version": "1.5.0",
      "model_name": "LabelModel",
      "state": {
       "layout": "IPY_MODEL_dd68ef9de2084796a79fe1d7cc992322",
       "style": "IPY_MODEL_3421fcc711714e4bbcdaa633739c891f",
       "value": "5 months ago"
      }
     },
     "553e5e12413440ff82f4e2b1e5c06096": {
      "model_module": "@jupyter-widgets/controls",
      "model_module_version": "1.5.0",
      "model_name": "DescriptionStyleModel",
      "state": {
       "description_width": ""
      }
     },
     "554a9b81bc304204b26771da5e09a9a9": {
      "model_module": "@jupyter-widgets/controls",
      "model_module_version": "1.5.0",
      "model_name": "HBoxModel",
      "state": {
       "children": [
        "IPY_MODEL_edfe0ae22eca419fa1b66b397905bd87",
        "IPY_MODEL_d8befc7d92f04b79a897f3e7173bbd48",
        "IPY_MODEL_d56be23c353e4ab1b0dc8163b7872826",
        "IPY_MODEL_3614c139b029449da985aaae49a43edc",
        "IPY_MODEL_44da90414c944bfda19adcaf2c4c7469",
        "IPY_MODEL_4a488504d37e46f6a53fef90b2cadd2b",
        "IPY_MODEL_f0a9e6edbfb7478396e76cc99d499d50"
       ],
       "layout": "IPY_MODEL_2f5f168edcb242b5af44a5535b14a961"
      }
     },
     "556e52e017364dbca9ca319cfefe060a": {
      "model_module": "@jupyter-widgets/base",
      "model_module_version": "1.2.0",
      "model_name": "LayoutModel",
      "state": {
       "width": "auto"
      }
     },
     "55a0c0c8b94f4fb0aea6313a6aa82b43": {
      "model_module": "@jupyter-widgets/controls",
      "model_module_version": "1.5.0",
      "model_name": "LabelModel",
      "state": {
       "layout": "IPY_MODEL_6db192cad2b047afa07c1846c8aa5b95",
       "style": "IPY_MODEL_c1bda7f77dc44e1981bd4fe36912d8eb",
       "value": "Created Repo"
      }
     },
     "55a85fd215a0465c8683052a9dd26a3d": {
      "model_module": "@jupyter-widgets/base",
      "model_module_version": "1.2.0",
      "model_name": "LayoutModel",
      "state": {}
     },
     "55d8849754e94674a00b1e2183f172cf": {
      "model_module": "@jupyter-widgets/base",
      "model_module_version": "1.2.0",
      "model_name": "LayoutModel",
      "state": {}
     },
     "55fa8028170245c38a9297cb3ea15e4d": {
      "model_module": "@jupyter-widgets/controls",
      "model_module_version": "1.5.0",
      "model_name": "HTMLModel",
      "state": {
       "layout": "IPY_MODEL_55d8849754e94674a00b1e2183f172cf",
       "style": "IPY_MODEL_0f5363eab03e408286cf2b48fe5bce63",
       "value": "<h3 style='padding:0;margin:0;'>&nbsp &nbsp<a href='https://github.com/p10raveen/Assignment-1'>Assignment-1</a> &nbsp</h3>"
      }
     },
     "5631773514b8422b8c1cabcc6be6e7a1": {
      "model_module": "@jupyter-widgets/controls",
      "model_module_version": "1.5.0",
      "model_name": "HTMLModel",
      "state": {
       "layout": "IPY_MODEL_75d6b64100014deb9c995f9d24fcf686",
       "style": "IPY_MODEL_7fafcefb25c747ca8c86282041412b81",
       "value": "<h3 style='padding:0;margin:0;'>&nbsp &nbsp<a href='https://github.com/ksadlek/My_First_io'>My_First_io</a> &nbsp</h3>"
      }
     },
     "56545ed6780e45fa9b72821a644e0214": {
      "model_module": "@jupyter-widgets/base",
      "model_module_version": "1.2.0",
      "model_name": "LayoutModel",
      "state": {}
     },
     "567a8018daf94df8b525c5394597a31b": {
      "model_module": "@jupyter-widgets/base",
      "model_module_version": "1.2.0",
      "model_name": "LayoutModel",
      "state": {
       "width": "auto"
      }
     },
     "568ffc43b4cd40168b76ca167b551615": {
      "model_module": "@jupyter-widgets/controls",
      "model_module_version": "1.5.0",
      "model_name": "HTMLModel",
      "state": {
       "layout": "IPY_MODEL_9cdb78681d87489489ad6ead17269181",
       "style": "IPY_MODEL_51fb7367f57a4b308ef1fd5fb654cbb1",
       "value": "<h3 class='text-center'><font color='red'>Logout</font> of <a stc='https://github.com/'>Github </a> &nbsp&nbsp<h3>"
      }
     },
     "56ed1ef0a45940798e15c6289ae2bf87": {
      "model_module": "@jupyter-widgets/controls",
      "model_module_version": "1.5.0",
      "model_name": "DescriptionStyleModel",
      "state": {
       "description_width": ""
      }
     },
     "56fdb0070f584096ab65f4b24bc338aa": {
      "model_module": "@jupyter-widgets/controls",
      "model_module_version": "1.5.0",
      "model_name": "HTMLModel",
      "state": {
       "layout": "IPY_MODEL_689f6e95166042f79bf45d578decb70a",
       "style": "IPY_MODEL_3a596e7d56334f4aa931eddd53cb129b",
       "value": "<h5 style='padding:0;margin:0;'>&nbsp <a href='https://github.com/stcline' style='color:silver'>stcline</a> &nbsp</h5>"
      }
     },
     "571cb97394fb4479a56636752eae8a9a": {
      "model_module": "@jupyter-widgets/controls",
      "model_module_version": "1.5.0",
      "model_name": "LabelModel",
      "state": {
       "layout": "IPY_MODEL_59fc4485924a4634bd6f05b4163038d8",
       "style": "IPY_MODEL_4637a7c67de04d7cb7bb0d5e281bcf1a",
       "value": "4 months ago"
      }
     },
     "572c77b1167e45609c80f0a078b30b0c": {
      "model_module": "@jupyter-widgets/controls",
      "model_module_version": "1.5.0",
      "model_name": "HTMLModel",
      "state": {
       "layout": "IPY_MODEL_095a1b7c180842e189e9a554759c453b",
       "style": "IPY_MODEL_c8e10f2c2b064aadb373bd9ba6c97b1c",
       "value": "<h3 style='padding:0;margin:0;'>&nbsp &nbsp<a href='https://github.com/ragyibrahimRNA/raptor_admin_dashboard'>raptor_admin_dashboard</a> &nbsp</h3>"
      }
     },
     "57a3c57bf1324f16b30272130327a44b": {
      "model_module": "@jupyter-widgets/base",
      "model_module_version": "1.2.0",
      "model_name": "LayoutModel",
      "state": {}
     },
     "57a90cbe1dae40d29758ce1ff5829506": {
      "model_module": "@jupyter-widgets/base",
      "model_module_version": "1.2.0",
      "model_name": "LayoutModel",
      "state": {}
     },
     "57b4bd189a6b4380822ecd097beb2932": {
      "model_module": "@jupyter-widgets/controls",
      "model_module_version": "1.5.0",
      "model_name": "DescriptionStyleModel",
      "state": {
       "description_width": ""
      }
     },
     "5806db812b614536b025af9c3235bd44": {
      "model_module": "@jupyter-widgets/base",
      "model_module_version": "1.2.0",
      "model_name": "LayoutModel",
      "state": {}
     },
     "580ac9c663d446fba770311fa8a75535": {
      "model_module": "@jupyter-widgets/base",
      "model_module_version": "1.2.0",
      "model_name": "LayoutModel",
      "state": {}
     },
     "5814a986f9e94f5aa5db70e20e0ee602": {
      "model_module": "@jupyter-widgets/controls",
      "model_module_version": "1.5.0",
      "model_name": "ValidModel",
      "state": {
       "layout": "IPY_MODEL_3626f054d6c24a4c9d7d9d0b2680011d",
       "style": "IPY_MODEL_ee86c55fd13c4bc994ddfb7ba51f275d",
       "value": true
      }
     },
     "5874a80754494bc796dd016aef430e08": {
      "model_module": "@jupyter-widgets/controls",
      "model_module_version": "1.5.0",
      "model_name": "DescriptionStyleModel",
      "state": {
       "description_width": ""
      }
     },
     "588f6adf5c794eefaa2ff8b31bca5704": {
      "model_module": "@jupyter-widgets/controls",
      "model_module_version": "1.5.0",
      "model_name": "ButtonModel",
      "state": {
       "button_style": "info",
       "description": "Download",
       "layout": "IPY_MODEL_e23db20f15e444788749386894d3d291",
       "style": "IPY_MODEL_39391562d2344b2b8208202499b21968"
      }
     },
     "58b84a3bf95d45e9869eb93c12214e28": {
      "model_module": "@jupyter-widgets/base",
      "model_module_version": "1.2.0",
      "model_name": "LayoutModel",
      "state": {
       "visibility": "hidden"
      }
     },
     "58c8727a58ed4b15bd6c1be570423d9d": {
      "model_module": "@jupyter-widgets/controls",
      "model_module_version": "1.5.0",
      "model_name": "HBoxModel",
      "state": {
       "children": [
        "IPY_MODEL_9c3431597fe74ad491472ad70dba44b3",
        "IPY_MODEL_e18fb00086a84f648d0b420a56f7da8c",
        "IPY_MODEL_14d9d94699e341c7ae6dd8a63f773813",
        "IPY_MODEL_ec4f226fbbfd44efa98407eff96e2fd4",
        "IPY_MODEL_65de25e653e54afb94f4632d25eec465",
        "IPY_MODEL_0f07f6062e4c4d679ac03ee9d4677f1e",
        "IPY_MODEL_22d31649fdf54ae78de5c12d5e520c9a"
       ],
       "layout": "IPY_MODEL_5ddadd8f1c4f424186d606f65d81c03e"
      }
     },
     "58c947adf95342838648ed52243bd13b": {
      "model_module": "@jupyter-widgets/base",
      "model_module_version": "1.2.0",
      "model_name": "LayoutModel",
      "state": {}
     },
     "58d6f3883cb246d09c7359b9b1cad9a8": {
      "model_module": "@jupyter-widgets/base",
      "model_module_version": "1.2.0",
      "model_name": "LayoutModel",
      "state": {}
     },
     "58da4c61c081426f8a3b3051e4ea7719": {
      "model_module": "@jupyter-widgets/controls",
      "model_module_version": "1.5.0",
      "model_name": "ButtonModel",
      "state": {
       "button_style": "success",
       "description": "Login",
       "layout": "IPY_MODEL_423c613f68b448c7b6d1db9cf2b1460e",
       "style": "IPY_MODEL_85c3630e2ea44182ad13f20514c96119"
      }
     },
     "58dd114a441f48dab77bac74f885db1a": {
      "model_module": "@jupyter-widgets/controls",
      "model_module_version": "1.5.0",
      "model_name": "HBoxModel",
      "state": {
       "children": [
        "IPY_MODEL_e75130fb04f94477a61b8d622b7a8e9a",
        "IPY_MODEL_f6789a0fe2ff4c9ea42df214e96dfad0",
        "IPY_MODEL_0246e4473ee74150b1c0b36aae9d9c9e",
        "IPY_MODEL_ab3399a9632c475fa954cab2a870e83b",
        "IPY_MODEL_45b5c9ad72f64378aed3567ab3d17565",
        "IPY_MODEL_65510fc69ebe4149a5c1778521a63562",
        "IPY_MODEL_e60561f98bf44b2d836e00a1b62352c6"
       ],
       "layout": "IPY_MODEL_43f7daed7e8e4e829f03c6be4795f3e1"
      }
     },
     "58eaf55d5cd14c6a8a4687a2658f4a2f": {
      "model_module": "@jupyter-widgets/base",
      "model_module_version": "1.2.0",
      "model_name": "LayoutModel",
      "state": {}
     },
     "5900630393314a89b0d3eff7b800330e": {
      "model_module": "@jupyter-widgets/controls",
      "model_module_version": "1.5.0",
      "model_name": "HTMLModel",
      "state": {
       "layout": "IPY_MODEL_5e11f8f6111c48b2835bd5efe69c9bb4",
       "style": "IPY_MODEL_9eed1c631d8349519e85988ad0349830",
       "value": "<h3 style='padding:0;margin:0;'>&nbsp &nbsp<a href='https://github.com/DZO-II/Public_Profile'>Public_Profile</a> &nbsp</h3>"
      }
     },
     "5925db33b4164d18a67882b73959fdab": {
      "model_module": "@jupyter-widgets/base",
      "model_module_version": "1.2.0",
      "model_name": "LayoutModel",
      "state": {}
     },
     "592be1cccc514fdeb069142ac404d3f7": {
      "model_module": "@jupyter-widgets/controls",
      "model_module_version": "1.5.0",
      "model_name": "DescriptionStyleModel",
      "state": {
       "description_width": ""
      }
     },
     "5936041bba5d4158bf992ff50aaa7ec0": {
      "model_module": "@jupyter-widgets/controls",
      "model_module_version": "1.5.0",
      "model_name": "DescriptionStyleModel",
      "state": {
       "description_width": ""
      }
     },
     "59534b9c12c94f4882ec4ab2f602527e": {
      "model_module": "@jupyter-widgets/controls",
      "model_module_version": "1.5.0",
      "model_name": "DescriptionStyleModel",
      "state": {
       "description_width": ""
      }
     },
     "5988f4b2501240008e74db512c2efa25": {
      "model_module": "@jupyter-widgets/controls",
      "model_module_version": "1.5.0",
      "model_name": "DescriptionStyleModel",
      "state": {
       "description_width": ""
      }
     },
     "599ca12273e84a788a78f4ea0a05c2f8": {
      "model_module": "@jupyter-widgets/controls",
      "model_module_version": "1.5.0",
      "model_name": "HTMLModel",
      "state": {
       "layout": "IPY_MODEL_9ffe41a26a4a46a8980e6457efb55140",
       "style": "IPY_MODEL_cc03e2bfaa4e4906a09f53fe979d98a8",
       "value": "<font color='green'> &nbsp Downloads: 0</font>"
      }
     },
     "59c34d9761be41c5bcfdd52c34360a6c": {
      "model_module": "@jupyter-widgets/base",
      "model_module_version": "1.2.0",
      "model_name": "LayoutModel",
      "state": {}
     },
     "59c7c4b2200548a09604988a7f855fb4": {
      "model_module": "@jupyter-widgets/controls",
      "model_module_version": "1.5.0",
      "model_name": "ToggleButtonsModel",
      "state": {
       "_options_labels": [
        "Public",
        "Private"
       ],
       "button_style": "info",
       "icons": [],
       "index": 0,
       "layout": "IPY_MODEL_d9e79d632d84418fa55a12216ccd2d5f",
       "style": "IPY_MODEL_f2700f6481a2430aa58a2b0e535cdc89",
       "tooltips": []
      }
     },
     "59d47f2d0b0545f49d8b3a01a99da608": {
      "model_module": "@jupyter-widgets/controls",
      "model_module_version": "1.5.0",
      "model_name": "HTMLModel",
      "state": {
       "layout": "IPY_MODEL_18b2f5c5c0da4836bff5605f510754c8",
       "style": "IPY_MODEL_6375c8fd54b64895a5944aeb5b96bb51",
       "value": "<font color='orange'> &nbsp Stars: 0</font>"
      }
     },
     "59f4299ff5794835a41c16be43370223": {
      "model_module": "@jupyter-widgets/controls",
      "model_module_version": "1.5.0",
      "model_name": "DescriptionStyleModel",
      "state": {
       "description_width": ""
      }
     },
     "59fc4485924a4634bd6f05b4163038d8": {
      "model_module": "@jupyter-widgets/base",
      "model_module_version": "1.2.0",
      "model_name": "LayoutModel",
      "state": {
       "width": "100px"
      }
     },
     "5a1ec864f7f244119c9a6c642d773be4": {
      "model_module": "@jupyter-widgets/base",
      "model_module_version": "1.2.0",
      "model_name": "LayoutModel",
      "state": {}
     },
     "5a565efd8a2b4df3ac3a83f3b150ea41": {
      "model_module": "@jupyter-widgets/base",
      "model_module_version": "1.2.0",
      "model_name": "LayoutModel",
      "state": {}
     },
     "5a9489949ac0460a98dae9c5c1599893": {
      "model_module": "@jupyter-widgets/base",
      "model_module_version": "1.2.0",
      "model_name": "LayoutModel",
      "state": {}
     },
     "5b0018467f814031b7031672e79097f4": {
      "model_module": "@jupyter-widgets/controls",
      "model_module_version": "1.5.0",
      "model_name": "LabelModel",
      "state": {
       "layout": "IPY_MODEL_b75680ccfbc0466881e1e30e571bdbc8",
       "style": "IPY_MODEL_5c7d4f64f8fa4272a1ce4f8737b5bc56"
      }
     },
     "5b4b13d1dbfd47b1aec0abac835544a1": {
      "model_module": "@jupyter-widgets/controls",
      "model_module_version": "1.5.0",
      "model_name": "DescriptionStyleModel",
      "state": {
       "description_width": ""
      }
     },
     "5b5c8b9070a9437ba61aa6b286716c63": {
      "model_module": "@jupyter-widgets/base",
      "model_module_version": "1.2.0",
      "model_name": "LayoutModel",
      "state": {}
     },
     "5b82f0a723ab4d788a26d34dce86be5a": {
      "model_module": "@jupyter-widgets/controls",
      "model_module_version": "1.5.0",
      "model_name": "ButtonStyleModel",
      "state": {}
     },
     "5c0943f54d434f5bbf37f9c72dc6dd0b": {
      "model_module": "@jupyter-widgets/controls",
      "model_module_version": "1.5.0",
      "model_name": "HTMLModel",
      "state": {
       "layout": "IPY_MODEL_92c448dac7b0468798b00cb4c53255e8",
       "style": "IPY_MODEL_d8ff2b1d60c9430eba0d13548cec5540",
       "value": "<h5 style='padding:0;margin:0;'>&nbsp <a href='https://github.com/spockman12' style='color:silver'>spockman12</a> &nbsp</h5>"
      }
     },
     "5c0a373a0f484bd19288762908ce88ed": {
      "model_module": "@jupyter-widgets/controls",
      "model_module_version": "1.5.0",
      "model_name": "DescriptionStyleModel",
      "state": {
       "description_width": ""
      }
     },
     "5c16ba1c2f00467aaaf4cb12b70794dc": {
      "model_module": "@jupyter-widgets/controls",
      "model_module_version": "1.5.0",
      "model_name": "DescriptionStyleModel",
      "state": {
       "description_width": ""
      }
     },
     "5c1f91b1330a4e18814a7ef25e8110e6": {
      "model_module": "@jupyter-widgets/controls",
      "model_module_version": "1.5.0",
      "model_name": "HTMLModel",
      "state": {
       "layout": "IPY_MODEL_138eb4e0d09f42d0a9659e848d153108",
       "style": "IPY_MODEL_7316b3c7364a4136a78f67f71bf87eb1",
       "value": "<h5 style='padding:0;margin:0;'>&nbsp <a href='https://github.com/pupster90' style='color:silver'>pupster90</a> &nbsp</h5>"
      }
     },
     "5c72c9f6f50243709ea170e08eee2e90": {
      "model_module": "@jupyter-widgets/controls",
      "model_module_version": "1.5.0",
      "model_name": "LabelModel",
      "state": {
       "layout": "IPY_MODEL_2dfcc4ea2ec540ea94398272493484ed",
       "style": "IPY_MODEL_8d225450247b4d4c9cf168b6275af6eb"
      }
     },
     "5c7cbf07b44044839590740a98d78051": {
      "model_module": "@jupyter-widgets/controls",
      "model_module_version": "1.5.0",
      "model_name": "ButtonModel",
      "state": {
       "button_style": "info",
       "description": "Download",
       "layout": "IPY_MODEL_dae3cf23f5b84f838c37efab84a7ab57",
       "style": "IPY_MODEL_1c6f763ac0e64c98bf01dc55526fc12d"
      }
     },
     "5c7d4f64f8fa4272a1ce4f8737b5bc56": {
      "model_module": "@jupyter-widgets/controls",
      "model_module_version": "1.5.0",
      "model_name": "DescriptionStyleModel",
      "state": {
       "description_width": ""
      }
     },
     "5c918814ad794a4d85b7cba2358f42da": {
      "model_module": "@jupyter-widgets/controls",
      "model_module_version": "1.5.0",
      "model_name": "DescriptionStyleModel",
      "state": {
       "description_width": ""
      }
     },
     "5c9aea95f04a4e95a9960e9ee0fa6801": {
      "model_module": "@jupyter-widgets/controls",
      "model_module_version": "1.5.0",
      "model_name": "LabelModel",
      "state": {
       "layout": "IPY_MODEL_fd18c9834bf9403b80a6d19b38bb989f",
       "style": "IPY_MODEL_0c9a6853f7224e5da444147f8240fd25",
       "value": "7 months ago"
      }
     },
     "5cb6200141ba4a1393a69215ecf9620e": {
      "model_module": "@jupyter-widgets/controls",
      "model_module_version": "1.5.0",
      "model_name": "DescriptionStyleModel",
      "state": {
       "description_width": ""
      }
     },
     "5ccb437addb84e8fa372d8f0f46c62b2": {
      "model_module": "@jupyter-widgets/controls",
      "model_module_version": "1.5.0",
      "model_name": "DescriptionStyleModel",
      "state": {
       "description_width": ""
      }
     },
     "5cdd76abe06345df8c9420630f8ee1eb": {
      "model_module": "@jupyter-widgets/controls",
      "model_module_version": "1.5.0",
      "model_name": "HTMLModel",
      "state": {
       "layout": "IPY_MODEL_3820f14fc8034407a6a15f2d2c1942a4",
       "style": "IPY_MODEL_457bde17459b49668124d0cb67f9888c",
       "value": "<h3 style='padding:0;margin:0;'>&nbsp &nbsp<a href='https://github.com/ugunal/Public_Profile'>Public_Profile</a> &nbsp</h3>"
      }
     },
     "5ce18166d8444686aa2a72462fd0f766": {
      "model_module": "@jupyter-widgets/controls",
      "model_module_version": "1.5.0",
      "model_name": "DescriptionStyleModel",
      "state": {
       "description_width": ""
      }
     },
     "5cf7e6a949d2466f94dfd9ae31ebe232": {
      "model_module": "@jupyter-widgets/controls",
      "model_module_version": "1.5.0",
      "model_name": "DescriptionStyleModel",
      "state": {
       "description_width": ""
      }
     },
     "5d0849f7f5d64527a1d28a308c525b67": {
      "model_module": "@jupyter-widgets/controls",
      "model_module_version": "1.5.0",
      "model_name": "ButtonModel",
      "state": {
       "button_style": "info",
       "description": "Download",
       "layout": "IPY_MODEL_3066e6b6ca23462f8c620dc931bad1c8",
       "style": "IPY_MODEL_40b8b4071c3d4e368ce21bfc89289367"
      }
     },
     "5d28c91c33814f8bbe52978407ea2af6": {
      "model_module": "@jupyter-widgets/controls",
      "model_module_version": "1.5.0",
      "model_name": "HTMLModel",
      "state": {
       "layout": "IPY_MODEL_6c8fb987ac8d4f768fbca1b6de0906ad",
       "style": "IPY_MODEL_5de16cbf69624b91bab64222050d044b",
       "value": "<h5 style='padding:0;margin:0;'>&nbsp <a href='https://github.com/igchin' style='color:silver'>igchin</a> &nbsp</h5>"
      }
     },
     "5d29ba7d6b304577a97aecc85bb113fb": {
      "model_module": "@jupyter-widgets/controls",
      "model_module_version": "1.5.0",
      "model_name": "ButtonModel",
      "state": {
       "button_style": "info",
       "description": "Download",
       "layout": "IPY_MODEL_e47c2c9ba1d44093b6113a70765e6372",
       "style": "IPY_MODEL_99e45da6a00a41bd9fa5cf600bb97611"
      }
     },
     "5d3539e9a81144a7a2c06e6332aaa6cc": {
      "model_module": "@jupyter-widgets/controls",
      "model_module_version": "1.5.0",
      "model_name": "DescriptionStyleModel",
      "state": {
       "description_width": ""
      }
     },
     "5d362f365cb440218318aeedc92942d4": {
      "model_module": "@jupyter-widgets/controls",
      "model_module_version": "1.5.0",
      "model_name": "DescriptionStyleModel",
      "state": {
       "description_width": ""
      }
     },
     "5d4bda24285e46d4b480dc425cbaa75e": {
      "model_module": "@jupyter-widgets/controls",
      "model_module_version": "1.5.0",
      "model_name": "ButtonModel",
      "state": {
       "button_style": "info",
       "description": "Download",
       "layout": "IPY_MODEL_f76a8c3886044b38a933ff944438f54e",
       "style": "IPY_MODEL_9366d54393d24ace8bb76abab999f5e8"
      }
     },
     "5d508af240784a69bcf7225892bfecd2": {
      "model_module": "@jupyter-widgets/base",
      "model_module_version": "1.2.0",
      "model_name": "LayoutModel",
      "state": {
       "width": "100px"
      }
     },
     "5d58ded9a55c4bd391270c036f60a2f5": {
      "model_module": "@jupyter-widgets/controls",
      "model_module_version": "1.5.0",
      "model_name": "ToggleButtonsModel",
      "state": {
       "_options_labels": [
        "Recent",
        "Popular",
        "Stars"
       ],
       "button_style": "",
       "icons": [],
       "index": 0,
       "layout": "IPY_MODEL_2ffd97d91a484547a433eb725c41bbd2",
       "style": "IPY_MODEL_0d9cd6a147464825b8785cfe5c83ffdf",
       "tooltips": []
      }
     },
     "5d6bdab5bd7d4f7696c738143c089077": {
      "model_module": "@jupyter-widgets/controls",
      "model_module_version": "1.5.0",
      "model_name": "HTMLModel",
      "state": {
       "layout": "IPY_MODEL_580ac9c663d446fba770311fa8a75535",
       "style": "IPY_MODEL_87fba7bcc1d146d38eb42df8f3bce8a0",
       "value": "<font color='orange'> &nbsp Stars: 0</font>"
      }
     },
     "5d74764a9c0140e1aca6e07119c17da7": {
      "model_module": "@jupyter-widgets/controls",
      "model_module_version": "1.5.0",
      "model_name": "HTMLModel",
      "state": {
       "layout": "IPY_MODEL_a22f3850c7c24010954cfdc61857e99b",
       "style": "IPY_MODEL_756c38da16ae43f3a7d301b87e171ab4",
       "value": "<font color='orange'> &nbsp Stars: 0</font>"
      }
     },
     "5dc5346b14334deaaa659cfd02c36987": {
      "model_module": "@jupyter-widgets/base",
      "model_module_version": "1.2.0",
      "model_name": "LayoutModel",
      "state": {
       "justify_content": "center",
       "padding": "20px 0 0 0"
      }
     },
     "5ddadd8f1c4f424186d606f65d81c03e": {
      "model_module": "@jupyter-widgets/base",
      "model_module_version": "1.2.0",
      "model_name": "LayoutModel",
      "state": {}
     },
     "5de16cbf69624b91bab64222050d044b": {
      "model_module": "@jupyter-widgets/controls",
      "model_module_version": "1.5.0",
      "model_name": "DescriptionStyleModel",
      "state": {
       "description_width": ""
      }
     },
     "5df47b2a0425462388f8cf793ffc3208": {
      "model_module": "@jupyter-widgets/base",
      "model_module_version": "1.2.0",
      "model_name": "LayoutModel",
      "state": {}
     },
     "5e11f8f6111c48b2835bd5efe69c9bb4": {
      "model_module": "@jupyter-widgets/base",
      "model_module_version": "1.2.0",
      "model_name": "LayoutModel",
      "state": {}
     },
     "5e22ee298e3444cbbb4a557c23d8fb1e": {
      "model_module": "@jupyter-widgets/controls",
      "model_module_version": "1.5.0",
      "model_name": "DescriptionStyleModel",
      "state": {
       "description_width": ""
      }
     },
     "5e82c0855bb24bc985f7b91d0a3d6aaf": {
      "model_module": "@jupyter-widgets/controls",
      "model_module_version": "1.5.0",
      "model_name": "HBoxModel",
      "state": {
       "children": [
        "IPY_MODEL_88d39b83c129430a8cbad7849e8e0e06",
        "IPY_MODEL_d4da7c3868c8478382762496cf147741",
        "IPY_MODEL_7e067e4233e2473c96389abd19f1bd0b",
        "IPY_MODEL_f5baa26191c641198f0cf278488b9d9f",
        "IPY_MODEL_6803cb786c264f1eb66db939c42d0dae",
        "IPY_MODEL_6953becf5f2049e1856749a55550695e",
        "IPY_MODEL_cd1c9272eb564eec93c589cc0ce3c95d"
       ],
       "layout": "IPY_MODEL_667267b6ca1f48ba96babc7e6aaa8113"
      }
     },
     "5e8f2f8a62894d4d913e91ee25c3723b": {
      "model_module": "@jupyter-widgets/controls",
      "model_module_version": "1.5.0",
      "model_name": "VBoxModel",
      "state": {
       "children": [
        "IPY_MODEL_aa283b1abb3e468292e92e55ae9647d9",
        "IPY_MODEL_3215b02f3d0645b8a57b888cff171662",
        "IPY_MODEL_8c3a52997a6d43a58fe5825a41f9f659",
        "IPY_MODEL_cf478bffb94446fe92bb6c29a6971cd7"
       ],
       "layout": "IPY_MODEL_e18f9ebc789c428a87257597f2ca0745"
      }
     },
     "5e97ac004e9b488b9dc24a1ddc0bfe62": {
      "model_module": "@jupyter-widgets/controls",
      "model_module_version": "1.5.0",
      "model_name": "DescriptionStyleModel",
      "state": {
       "description_width": ""
      }
     },
     "5ea0427a18aa4f6baf09bf53635a26c6": {
      "model_module": "@jupyter-widgets/controls",
      "model_module_version": "1.5.0",
      "model_name": "ButtonModel",
      "state": {
       "button_style": "warning",
       "description": "add",
       "layout": "IPY_MODEL_567a8018daf94df8b525c5394597a31b",
       "style": "IPY_MODEL_ed0bd5770aea408b97856c29fba74a37"
      }
     },
     "5eadcb53ca8b41ba8753678362707551": {
      "model_module": "@jupyter-widgets/controls",
      "model_module_version": "1.5.0",
      "model_name": "DescriptionStyleModel",
      "state": {
       "description_width": ""
      }
     },
     "5ed47ad406344bf78dc842e92ac3686c": {
      "model_module": "@jupyter-widgets/base",
      "model_module_version": "1.2.0",
      "model_name": "LayoutModel",
      "state": {}
     },
     "5ee2ed2e130845f69d2bc9ecc360aadf": {
      "model_module": "@jupyter-widgets/controls",
      "model_module_version": "1.5.0",
      "model_name": "HTMLModel",
      "state": {
       "layout": "IPY_MODEL_f31ea86d51134d1c8a2ed451976981d6",
       "style": "IPY_MODEL_8f6aae3f862b4b56b86f9ee43db81757",
       "value": "<h5 style='padding:0;margin:0;'>&nbsp <a href='https://github.com/pupster90' style='color:silver'>pupster90</a> &nbsp</h5>"
      }
     },
     "5f47a72768e149758f457e3c24b3cb0a": {
      "model_module": "@jupyter-widgets/base",
      "model_module_version": "1.2.0",
      "model_name": "LayoutModel",
      "state": {
       "width": "100px"
      }
     },
     "5f699bb9089740aaa8a98173b22cecde": {
      "model_module": "@jupyter-widgets/controls",
      "model_module_version": "1.5.0",
      "model_name": "ButtonStyleModel",
      "state": {}
     },
     "5f769f648c0b4050bc2bc4f3efb7dcde": {
      "model_module": "@jupyter-widgets/base",
      "model_module_version": "1.2.0",
      "model_name": "LayoutModel",
      "state": {}
     },
     "5f8318b4a3fb44cfa5db2f96c00f123e": {
      "model_module": "@jupyter-widgets/controls",
      "model_module_version": "1.5.0",
      "model_name": "ButtonModel",
      "state": {
       "button_style": "primary",
       "description": " Refresh",
       "icon": "refresh",
       "layout": "IPY_MODEL_74009c4b25744deaa9f1fabd83030179",
       "style": "IPY_MODEL_8c44068268bb4a22bd7e5fe18b690823"
      }
     },
     "5f8515fdb8a24be68b4d54da531ab746": {
      "model_module": "@jupyter-widgets/controls",
      "model_module_version": "1.5.0",
      "model_name": "DescriptionStyleModel",
      "state": {
       "description_width": ""
      }
     },
     "5f9eefa0b1f748199126549c04daa73a": {
      "model_module": "@jupyter-widgets/controls",
      "model_module_version": "1.5.0",
      "model_name": "DescriptionStyleModel",
      "state": {
       "description_width": ""
      }
     },
     "5fd3627f566a4dddb2bafee0e6d506f1": {
      "model_module": "@jupyter-widgets/base",
      "model_module_version": "1.2.0",
      "model_name": "LayoutModel",
      "state": {}
     },
     "602431f048ed45afb86fd6bf547b5c0c": {
      "model_module": "@jupyter-widgets/base",
      "model_module_version": "1.2.0",
      "model_name": "LayoutModel",
      "state": {}
     },
     "602e8e7d98da4dc6aa5445dc3f61220f": {
      "model_module": "@jupyter-widgets/base",
      "model_module_version": "1.2.0",
      "model_name": "LayoutModel",
      "state": {}
     },
     "6080648ac1e6445b8f083dd3fa09951d": {
      "model_module": "@jupyter-widgets/controls",
      "model_module_version": "1.5.0",
      "model_name": "HBoxModel",
      "state": {
       "children": [
        "IPY_MODEL_e971e69aa5f24372a841e4dd91a767de",
        "IPY_MODEL_45ac79b4ffa24060b3552237e4cc685f",
        "IPY_MODEL_adf890fb5bc94fe9be180efe12d54ddf",
        "IPY_MODEL_af2a57bde9824e8eb23adedd448f9331",
        "IPY_MODEL_b75fba7961a442b2844dc67115924a53",
        "IPY_MODEL_b317e7b218f449dba5ba9e95494bb9d0",
        "IPY_MODEL_b60db07d6e20435b86dde69a43484666"
       ],
       "layout": "IPY_MODEL_56545ed6780e45fa9b72821a644e0214"
      }
     },
     "60a24f62509a4a939f6f97c8b5a1ce46": {
      "model_module": "@jupyter-widgets/base",
      "model_module_version": "1.2.0",
      "model_name": "LayoutModel",
      "state": {}
     },
     "60d74714514143f580c64916a88bb66a": {
      "model_module": "@jupyter-widgets/controls",
      "model_module_version": "1.5.0",
      "model_name": "HTMLModel",
      "state": {
       "layout": "IPY_MODEL_0f37961c6a4047d996cf263a47b432ed",
       "style": "IPY_MODEL_8545d9ada09f4c90aeafbff160c52e88",
       "value": "<font color='green'> &nbsp Downloads: 0</font>"
      }
     },
     "60ebfd9e559f4943a8b7a9650afb6437": {
      "model_module": "@jupyter-widgets/base",
      "model_module_version": "1.2.0",
      "model_name": "LayoutModel",
      "state": {}
     },
     "6103104dd66c458c963fc529105b8c16": {
      "model_module": "@jupyter-widgets/controls",
      "model_module_version": "1.5.0",
      "model_name": "DescriptionStyleModel",
      "state": {
       "description_width": ""
      }
     },
     "610775b4814847ef8e08748317b628d4": {
      "model_module": "@jupyter-widgets/controls",
      "model_module_version": "1.5.0",
      "model_name": "ButtonModel",
      "state": {
       "button_style": "success",
       "description": "Set",
       "layout": "IPY_MODEL_8a10a30b116547e6871828dea6ee4b41",
       "style": "IPY_MODEL_8eea9aa776fe4aefa057d4eecd8fd217"
      }
     },
     "610c026bf66048c98d96a89e57234408": {
      "model_module": "@jupyter-widgets/base",
      "model_module_version": "1.2.0",
      "model_name": "LayoutModel",
      "state": {}
     },
     "6179103fc8ba4ba6ae4ed28df0416afe": {
      "model_module": "@jupyter-widgets/controls",
      "model_module_version": "1.5.0",
      "model_name": "HTMLModel",
      "state": {
       "layout": "IPY_MODEL_014d024dd9b242ca99d4c4cb5e83d76e",
       "style": "IPY_MODEL_e3b57676f9214482978d54a3ffcb0e5c",
       "value": "<h5 style='padding:0;margin:0;'>&nbsp <a href='https://github.com/spockman12' style='color:silver'>spockman12</a> &nbsp</h5>"
      }
     },
     "6188aea6725344c7aa32f4e3c76d7ce6": {
      "model_module": "@jupyter-widgets/controls",
      "model_module_version": "1.5.0",
      "model_name": "LabelModel",
      "state": {
       "layout": "IPY_MODEL_842fd784fecd497d8a68ae866297859c",
       "style": "IPY_MODEL_1529bd90360849f4bfb08a6540fd7dcd",
       "value": "Created Repo"
      }
     },
     "619c8dc592c246849d5a4a45e58654d5": {
      "model_module": "@jupyter-widgets/controls",
      "model_module_version": "1.5.0",
      "model_name": "HTMLModel",
      "state": {
       "layout": "IPY_MODEL_46189b96108e4ebb83be72364391252e",
       "style": "IPY_MODEL_d813fa8689654615b69d93bde111d6ee",
       "value": "<font color='orange'> &nbsp Stars: 0</font>"
      }
     },
     "61bf71081f744151bb4ed2d9086b2e38": {
      "model_module": "@jupyter-widgets/base",
      "model_module_version": "1.2.0",
      "model_name": "LayoutModel",
      "state": {
       "width": "auto"
      }
     },
     "61e7354e8cfe43a8aee64b8a66d3c982": {
      "model_module": "@jupyter-widgets/controls",
      "model_module_version": "1.5.0",
      "model_name": "LabelModel",
      "state": {
       "layout": "IPY_MODEL_36c347518b084b359e7e5f15861c3f0a",
       "style": "IPY_MODEL_1fc7e94b20414d1a8d089aa0ef4c3181",
       "value": "5 months ago"
      }
     },
     "61f2db49b6b241e18f91c10e7c1565d5": {
      "model_module": "@jupyter-widgets/controls",
      "model_module_version": "1.5.0",
      "model_name": "DescriptionStyleModel",
      "state": {
       "description_width": ""
      }
     },
     "61f3983d9fec49c6a2005728885b015b": {
      "model_module": "@jupyter-widgets/controls",
      "model_module_version": "1.5.0",
      "model_name": "HBoxModel",
      "state": {
       "children": [
        "IPY_MODEL_93adcd2248f3430b95228a5927dfeecb",
        "IPY_MODEL_a81b8e6d46af49dfbdf7d4aeed98e87b",
        "IPY_MODEL_21a9c773171e4311960240b07609240b",
        "IPY_MODEL_b05f1fc945504baeadf4c6c7e514c0a6",
        "IPY_MODEL_026a509d98304bd9a4f3dba04552db0c",
        "IPY_MODEL_d470965b76cc4f7d8d184ae5501811a7",
        "IPY_MODEL_8346a476e6a740faac9dff4d0c0c4097"
       ],
       "layout": "IPY_MODEL_ec9a71c88f9b4d7d8436ffd7739be83f"
      }
     },
     "61fab564310b4b5e8755bc12f349e54a": {
      "model_module": "@jupyter-widgets/controls",
      "model_module_version": "1.5.0",
      "model_name": "ButtonModel",
      "state": {
       "button_style": "danger",
       "description": "Logout",
       "layout": "IPY_MODEL_113ace32eb3e41d5bdc735ec71d6cd2b",
       "style": "IPY_MODEL_17b3896aee8345c08907c40edcd3b468"
      }
     },
     "621cc590e2ad4169ac65530e14ab5014": {
      "model_module": "@jupyter-widgets/controls",
      "model_module_version": "1.5.0",
      "model_name": "DescriptionStyleModel",
      "state": {
       "description_width": ""
      }
     },
     "62297968d4764a31bcf7dbab3e592b49": {
      "model_module": "@jupyter-widgets/controls",
      "model_module_version": "1.5.0",
      "model_name": "DescriptionStyleModel",
      "state": {
       "description_width": ""
      }
     },
     "6240a28cb21244938125d657113453dd": {
      "model_module": "@jupyter-widgets/controls",
      "model_module_version": "1.5.0",
      "model_name": "HTMLModel",
      "state": {
       "layout": "IPY_MODEL_c37baf4cab334e8a92385d4a13795a91",
       "style": "IPY_MODEL_c792fddd756c42d7ac266ff9a32645d6",
       "value": "<h5 style='padding:0;margin:0;'>&nbsp <a href='https://github.com/ksadlek' style='color:silver'>ksadlek</a> &nbsp</h5>"
      }
     },
     "624178f1af50476ca9f091b92a4bfbf5": {
      "model_module": "@jupyter-widgets/base",
      "model_module_version": "1.2.0",
      "model_name": "LayoutModel",
      "state": {}
     },
     "626fc874f226487285f072676e24811f": {
      "model_module": "@jupyter-widgets/controls",
      "model_module_version": "1.5.0",
      "model_name": "HTMLModel",
      "state": {
       "layout": "IPY_MODEL_b3ba77257bcd491aa69ad003e603c1f2",
       "style": "IPY_MODEL_d2b5406d9a5645d3b85118c15786b5be",
       "value": "<font color='green'> &nbsp Downloads: 0</font>"
      }
     },
     "6292a5375be3408c88f0cd24c8f2222c": {
      "model_module": "@jupyter-widgets/controls",
      "model_module_version": "1.5.0",
      "model_name": "DescriptionStyleModel",
      "state": {
       "description_width": ""
      }
     },
     "62b74cd6c7854d709747e17a3e3cc626": {
      "model_module": "@jupyter-widgets/controls",
      "model_module_version": "1.5.0",
      "model_name": "DescriptionStyleModel",
      "state": {
       "description_width": ""
      }
     },
     "62d3ab3d0541479e95dd1355355282ea": {
      "model_module": "@jupyter-widgets/controls",
      "model_module_version": "1.5.0",
      "model_name": "DescriptionStyleModel",
      "state": {
       "description_width": ""
      }
     },
     "633344e895cc4914adaeafc512c3cf2a": {
      "model_module": "@jupyter-widgets/base",
      "model_module_version": "1.2.0",
      "model_name": "LayoutModel",
      "state": {}
     },
     "6347c3c40b8841d09fbdec126d2d09c9": {
      "model_module": "@jupyter-widgets/base",
      "model_module_version": "1.2.0",
      "model_name": "LayoutModel",
      "state": {
       "width": "auto"
      }
     },
     "63543d27a80c4712acede070c1781779": {
      "model_module": "@jupyter-widgets/controls",
      "model_module_version": "1.5.0",
      "model_name": "ButtonModel",
      "state": {
       "button_style": "warning",
       "description": "add",
       "layout": "IPY_MODEL_1d2b72d0f73c4f4a98201fc451930ddc",
       "style": "IPY_MODEL_b9ad1c3ba9fd406aa6d96166a6bb1f40"
      }
     },
     "6358fc7a76fd4afd92032b416d781243": {
      "model_module": "@jupyter-widgets/base",
      "model_module_version": "1.2.0",
      "model_name": "LayoutModel",
      "state": {
       "justify_content": "center",
       "margin": "0 0 0 100px"
      }
     },
     "6375c8fd54b64895a5944aeb5b96bb51": {
      "model_module": "@jupyter-widgets/controls",
      "model_module_version": "1.5.0",
      "model_name": "DescriptionStyleModel",
      "state": {
       "description_width": ""
      }
     },
     "6382f7a6a404452faa403513ce1d886b": {
      "model_module": "@jupyter-widgets/controls",
      "model_module_version": "1.5.0",
      "model_name": "HBoxModel",
      "state": {
       "children": [
        "IPY_MODEL_10a735755eed4837b32023cc67fbfaa1",
        "IPY_MODEL_84f58ee090454fd98cc10d808c10d642",
        "IPY_MODEL_352671b9b824446a932ae0d6f081ad54",
        "IPY_MODEL_1b11acec2a194adcb544a279dbf773e2",
        "IPY_MODEL_3d18d2bf50374fcfa5083a3754c4d724",
        "IPY_MODEL_117c05d9e9594ed0ad77e76b98434329",
        "IPY_MODEL_74a7fadabf534b49bf68804bf6f58284"
       ],
       "layout": "IPY_MODEL_843d5c3c472b495f99645448cb824e2e"
      }
     },
     "63954d4041d545708d15b98ce067b90c": {
      "model_module": "@jupyter-widgets/controls",
      "model_module_version": "1.5.0",
      "model_name": "ValidModel",
      "state": {
       "layout": "IPY_MODEL_6abf544044d74a59a83c8ca8dad875c6",
       "style": "IPY_MODEL_c66a61db3bdb49d0a764bfb39d44bde2"
      }
     },
     "64561dbdef41447cb7ef4225183db88e": {
      "model_module": "@jupyter-widgets/controls",
      "model_module_version": "1.5.0",
      "model_name": "DescriptionStyleModel",
      "state": {
       "description_width": ""
      }
     },
     "647ae3dc174b4201820ad1071e526ec4": {
      "model_module": "@jupyter-widgets/controls",
      "model_module_version": "1.5.0",
      "model_name": "DescriptionStyleModel",
      "state": {
       "description_width": ""
      }
     },
     "647f3b1f728c4c70b72db0e02be8990d": {
      "model_module": "@jupyter-widgets/base",
      "model_module_version": "1.2.0",
      "model_name": "LayoutModel",
      "state": {
       "justify_content": "center",
       "padding": "20px 0 0 0"
      }
     },
     "6487c23d58674d7797b20413f58a1f83": {
      "model_module": "@jupyter-widgets/controls",
      "model_module_version": "1.5.0",
      "model_name": "ButtonModel",
      "state": {
       "button_style": "info",
       "description": "Download",
       "layout": "IPY_MODEL_70e6714592f2451089226f73a5fdae27",
       "style": "IPY_MODEL_908e363e1c3942a9ae1f802267fd8aec"
      }
     },
     "64c9cf15657840be91a009ce1c711ca5": {
      "model_module": "@jupyter-widgets/controls",
      "model_module_version": "1.5.0",
      "model_name": "HBoxModel",
      "state": {
       "children": [
        "IPY_MODEL_c804bdfb818b40abbe4ff5b272bb24f8",
        "IPY_MODEL_6487c23d58674d7797b20413f58a1f83",
        "IPY_MODEL_02d3cc0c5fc847fcaf81a392aa15463e",
        "IPY_MODEL_1a0071ddf52c4b94b9fe548aea92cb43",
        "IPY_MODEL_322d6dfb44d443328c359b3907f42479",
        "IPY_MODEL_47df09ea371f4904bcf805c8507b7dbd",
        "IPY_MODEL_293d60da6c414fd9aa864de3e46ae367"
       ],
       "layout": "IPY_MODEL_90bb7efafd844ab89a78808bac4fa013"
      }
     },
     "64dee45c83254d6090dc0a380faa9dd6": {
      "model_module": "@jupyter-widgets/base",
      "model_module_version": "1.2.0",
      "model_name": "LayoutModel",
      "state": {}
     },
     "650ee0c6a9574d5d801226546d802269": {
      "model_module": "@jupyter-widgets/controls",
      "model_module_version": "1.5.0",
      "model_name": "ButtonModel",
      "state": {
       "button_style": "primary",
       "description": " Refresh",
       "icon": "refresh",
       "layout": "IPY_MODEL_1821e5362f0e4d05bd4942839ec121eb",
       "style": "IPY_MODEL_a526b04c9daf4f02ac3548f7d006e1ee"
      }
     },
     "6516d22224e5442a8d635d18ddb0c0f0": {
      "model_module": "@jupyter-widgets/controls",
      "model_module_version": "1.5.0",
      "model_name": "ButtonStyleModel",
      "state": {}
     },
     "65510fc69ebe4149a5c1778521a63562": {
      "model_module": "@jupyter-widgets/controls",
      "model_module_version": "1.5.0",
      "model_name": "LabelModel",
      "state": {
       "layout": "IPY_MODEL_58c947adf95342838648ed52243bd13b",
       "style": "IPY_MODEL_57b4bd189a6b4380822ecd097beb2932",
       "value": "Created Repo"
      }
     },
     "659e9f1a0df746dcb8dd28a4f9f3a39f": {
      "model_module": "@jupyter-widgets/controls",
      "model_module_version": "1.5.0",
      "model_name": "ToggleButtonsStyleModel",
      "state": {
       "button_width": "",
       "description_width": ""
      }
     },
     "65acd5e5c68b4126aa5ab02774db212f": {
      "model_module": "@jupyter-widgets/base",
      "model_module_version": "1.2.0",
      "model_name": "LayoutModel",
      "state": {}
     },
     "65ae496459ac4d05b55b37db0167cd1c": {
      "model_module": "@jupyter-widgets/base",
      "model_module_version": "1.2.0",
      "model_name": "LayoutModel",
      "state": {
       "width": "100px"
      }
     },
     "65ba412a9e2549d6a924aef7b5fe06ea": {
      "model_module": "@jupyter-widgets/controls",
      "model_module_version": "1.5.0",
      "model_name": "DescriptionStyleModel",
      "state": {
       "description_width": ""
      }
     },
     "65be5e84828e48619cee3454baaecff6": {
      "model_module": "@jupyter-widgets/controls",
      "model_module_version": "1.5.0",
      "model_name": "HBoxModel",
      "state": {
       "children": [
        "IPY_MODEL_77533c354bc74379bc7e50fb277db6db",
        "IPY_MODEL_2beb7c3c92744f4ea466fb8639bc6c54",
        "IPY_MODEL_bbdcb9ba5dc94c859be41be47f7a9328",
        "IPY_MODEL_911eb667f5e3411f8d9f0ed173ac77b3",
        "IPY_MODEL_062a9e088a3e4391a08c95100b9b1682",
        "IPY_MODEL_43822891d8b941ea820a6a543e6d2e0c",
        "IPY_MODEL_0f89c371b3564225ba003fa96fe31c7f"
       ],
       "layout": "IPY_MODEL_06f0941690c448d5887ee2829e8998fc"
      }
     },
     "65c7cc4c7ed64796b2d3b3c8f36f6ee0": {
      "model_module": "@jupyter-widgets/controls",
      "model_module_version": "1.5.0",
      "model_name": "HBoxModel",
      "state": {
       "children": [
        "IPY_MODEL_851dc488004746b8916d2b22a337ac45",
        "IPY_MODEL_f790cae5943b495283b8196bb0ce744c",
        "IPY_MODEL_30cc9cf210054cda8f9135186020db0e",
        "IPY_MODEL_a89acb899925447ea492da56148345f8",
        "IPY_MODEL_28ab9955080c4bf6ac2063e98adfcf52",
        "IPY_MODEL_3f968293eb3a4a8b96fa637c5d00aec5",
        "IPY_MODEL_c9550ed4c94046ada75e141c2bc73d09"
       ],
       "layout": "IPY_MODEL_500dcafdadc94c05b7d496bf0074c3ee"
      }
     },
     "65de25e653e54afb94f4632d25eec465": {
      "model_module": "@jupyter-widgets/controls",
      "model_module_version": "1.5.0",
      "model_name": "HTMLModel",
      "state": {
       "layout": "IPY_MODEL_45bfc52088fb4afe87a45ff749310107",
       "style": "IPY_MODEL_f4933971e3e1463cbe2be20de5f36319",
       "value": "<h3 style='padding:0;margin:0;'>&nbsp &nbsp<a href='https://github.com/derekguo31/io_Presentation'>io_Presentation</a> &nbsp</h3>"
      }
     },
     "661457d125d241a6b03417b5cfa9788e": {
      "model_module": "@jupyter-widgets/base",
      "model_module_version": "1.2.0",
      "model_name": "LayoutModel",
      "state": {}
     },
     "661e3711c61745d094bb78cec0aca956": {
      "model_module": "@jupyter-widgets/controls",
      "model_module_version": "1.5.0",
      "model_name": "ButtonStyleModel",
      "state": {}
     },
     "6625b7b20a1d4e5c8081ca2a21b337e4": {
      "model_module": "@jupyter-widgets/controls",
      "model_module_version": "1.5.0",
      "model_name": "DescriptionStyleModel",
      "state": {
       "description_width": ""
      }
     },
     "66621b5bf28c446f91b7d609443eb1f6": {
      "model_module": "@jupyter-widgets/controls",
      "model_module_version": "1.5.0",
      "model_name": "DescriptionStyleModel",
      "state": {
       "description_width": ""
      }
     },
     "666a233bf1484642abdbf55bdac80798": {
      "model_module": "@jupyter-widgets/base",
      "model_module_version": "1.2.0",
      "model_name": "LayoutModel",
      "state": {}
     },
     "667267b6ca1f48ba96babc7e6aaa8113": {
      "model_module": "@jupyter-widgets/base",
      "model_module_version": "1.2.0",
      "model_name": "LayoutModel",
      "state": {}
     },
     "66801cf8c2624af6acc5f4ca1e45e3e9": {
      "model_module": "@jupyter-widgets/controls",
      "model_module_version": "1.5.0",
      "model_name": "ToggleButtonsModel",
      "state": {
       "_options_labels": [
        "Public",
        "Private"
       ],
       "button_style": "info",
       "icons": [],
       "index": 0,
       "layout": "IPY_MODEL_38738102c3c74fde8aedb44bedfd81e3",
       "style": "IPY_MODEL_b612d2ffe3fa4e0a83127b0b2d1907a2",
       "tooltips": []
      }
     },
     "6681f0ae34d842db85ba1e58f8571c2d": {
      "model_module": "@jupyter-widgets/controls",
      "model_module_version": "1.5.0",
      "model_name": "DescriptionStyleModel",
      "state": {
       "description_width": ""
      }
     },
     "66876c598e4741559900c20a37bf0a1f": {
      "model_module": "@jupyter-widgets/controls",
      "model_module_version": "1.5.0",
      "model_name": "DescriptionStyleModel",
      "state": {
       "description_width": ""
      }
     },
     "6729954b78a44ca5878ff31cc29defe7": {
      "model_module": "@jupyter-widgets/base",
      "model_module_version": "1.2.0",
      "model_name": "LayoutModel",
      "state": {}
     },
     "679a50e033334110a797988feb172228": {
      "model_module": "@jupyter-widgets/base",
      "model_module_version": "1.2.0",
      "model_name": "LayoutModel",
      "state": {
       "width": "auto"
      }
     },
     "67dba928e1d943bc960de985f162f40b": {
      "model_module": "@jupyter-widgets/base",
      "model_module_version": "1.2.0",
      "model_name": "LayoutModel",
      "state": {
       "width": "100px"
      }
     },
     "6803cb786c264f1eb66db939c42d0dae": {
      "model_module": "@jupyter-widgets/controls",
      "model_module_version": "1.5.0",
      "model_name": "HTMLModel",
      "state": {
       "layout": "IPY_MODEL_819dedc061994edda5f0b12f0d08b25a",
       "style": "IPY_MODEL_8ddbefebd9b24d2bb0b28d39732c86fa",
       "value": "<h3 style='padding:0;margin:0;'>&nbsp &nbsp<a href='https://github.com/spockman12/My_First_Research_Paper'>My_First_Research_Paper</a> &nbsp</h3>"
      }
     },
     "68128bd04b4049f5be5cc59aad33907c": {
      "model_module": "@jupyter-widgets/controls",
      "model_module_version": "1.5.0",
      "model_name": "ValidModel",
      "state": {
       "layout": "IPY_MODEL_bb144eb074884f2695f3c75143b94ff1",
       "style": "IPY_MODEL_5cf7e6a949d2466f94dfd9ae31ebe232"
      }
     },
     "681f6a2466cf496ca47941a1a82e78c8": {
      "model_module": "@jupyter-widgets/controls",
      "model_module_version": "1.5.0",
      "model_name": "DescriptionStyleModel",
      "state": {
       "description_width": ""
      }
     },
     "683b505153904f9489a8ad1af83c672c": {
      "model_module": "@jupyter-widgets/controls",
      "model_module_version": "1.5.0",
      "model_name": "ButtonModel",
      "state": {
       "button_style": "danger",
       "description": "Logout",
       "layout": "IPY_MODEL_77d204582e674a5d8d3aa532faa345ea",
       "style": "IPY_MODEL_e3cc2d4773de4a26bce85d5dc4321c05"
      }
     },
     "68467ac6dfae4758928a634daea27c6a": {
      "model_module": "@jupyter-widgets/controls",
      "model_module_version": "1.5.0",
      "model_name": "LabelModel",
      "state": {
       "layout": "IPY_MODEL_8e7cc33b605246839f51e8545116ab1e",
       "style": "IPY_MODEL_b58fbbdaa770482e92f4e94b86be960c",
       "value": "1 month ago"
      }
     },
     "685a2c54e4a14278b2b7447d7cdd5c0a": {
      "model_module": "@jupyter-widgets/controls",
      "model_module_version": "1.5.0",
      "model_name": "DescriptionStyleModel",
      "state": {
       "description_width": ""
      }
     },
     "68760a22a47a4aa3b224efce9af10171": {
      "model_module": "@jupyter-widgets/controls",
      "model_module_version": "1.5.0",
      "model_name": "DescriptionStyleModel",
      "state": {
       "description_width": ""
      }
     },
     "689f6e95166042f79bf45d578decb70a": {
      "model_module": "@jupyter-widgets/base",
      "model_module_version": "1.2.0",
      "model_name": "LayoutModel",
      "state": {}
     },
     "68e1fb7abc934860b7052867b315fd8a": {
      "model_module": "@jupyter-widgets/base",
      "model_module_version": "1.2.0",
      "model_name": "LayoutModel",
      "state": {}
     },
     "69063f2df8374443ab9aa6af7857be6a": {
      "model_module": "@jupyter-widgets/base",
      "model_module_version": "1.2.0",
      "model_name": "LayoutModel",
      "state": {}
     },
     "6953becf5f2049e1856749a55550695e": {
      "model_module": "@jupyter-widgets/controls",
      "model_module_version": "1.5.0",
      "model_name": "LabelModel",
      "state": {
       "layout": "IPY_MODEL_caaa71a38d40413fb18a4f3f9a46ffed",
       "style": "IPY_MODEL_499d44f8117149f797d3ca50c68270c9",
       "value": "Created Repo"
      }
     },
     "697107e68a794882bcee0e9f891ad4b3": {
      "model_module": "@jupyter-widgets/base",
      "model_module_version": "1.2.0",
      "model_name": "LayoutModel",
      "state": {}
     },
     "697fdbf3e5f9473f9a6bfb6eb86aa482": {
      "model_module": "@jupyter-widgets/controls",
      "model_module_version": "1.5.0",
      "model_name": "HTMLModel",
      "state": {
       "layout": "IPY_MODEL_6c37b5f990ac4cbe8fbeac7ec48b9f76",
       "style": "IPY_MODEL_222a8fe4d3ac4cc89e5858a887946474",
       "value": "<h4><font color='red'>Example : my-lab-23</font></h4>"
      }
     },
     "69adbac34749496a9f06ca24ee5c32d5": {
      "model_module": "@jupyter-widgets/controls",
      "model_module_version": "1.5.0",
      "model_name": "HTMLModel",
      "state": {
       "layout": "IPY_MODEL_1ebe77d61161413ba7eb878e40188f8c",
       "style": "IPY_MODEL_40a9b941b97e44718ad4dbad6aac1aba",
       "value": "<h3 style='padding:0;margin:0;'>&nbsp &nbsp<a href='https://github.com/SebPython/Python_learning'>Python_learning</a> &nbsp</h3>"
      }
     },
     "6aab80f746a94fc988bc6715196150ed": {
      "model_module": "@jupyter-widgets/controls",
      "model_module_version": "1.5.0",
      "model_name": "HTMLModel",
      "state": {
       "layout": "IPY_MODEL_370e36efd8fc499ebc22b45e61b2223b",
       "style": "IPY_MODEL_2d8ec7605436407d98e87d8e2b4d9471",
       "value": "<font color='orange'> &nbsp Stars: 4</font>"
      }
     },
     "6ab16a20ff754bc68c58a71c49f080a8": {
      "model_module": "@jupyter-widgets/base",
      "model_module_version": "1.2.0",
      "model_name": "LayoutModel",
      "state": {}
     },
     "6abd8260cb2d44c89979fede8ce631dd": {
      "model_module": "@jupyter-widgets/base",
      "model_module_version": "1.2.0",
      "model_name": "LayoutModel",
      "state": {}
     },
     "6abf544044d74a59a83c8ca8dad875c6": {
      "model_module": "@jupyter-widgets/base",
      "model_module_version": "1.2.0",
      "model_name": "LayoutModel",
      "state": {
       "visibility": "visible"
      }
     },
     "6ac273344cc54ad790e66cabacd3e252": {
      "model_module": "@jupyter-widgets/controls",
      "model_module_version": "1.5.0",
      "model_name": "DescriptionStyleModel",
      "state": {
       "description_width": ""
      }
     },
     "6acababa86a747afb49e0e3af703cc35": {
      "model_module": "@jupyter-widgets/controls",
      "model_module_version": "1.5.0",
      "model_name": "HTMLMathModel",
      "state": {
       "layout": "IPY_MODEL_f0b2fd5df22847609a377186d22fdb90",
       "style": "IPY_MODEL_b87529fa471e4588a219cf60125d3a51",
       "value": "<h4>Order By Most &nbsp</h4>"
      }
     },
     "6af73bd6ff55481393878dbf30c05f32": {
      "model_module": "@jupyter-widgets/controls",
      "model_module_version": "1.5.0",
      "model_name": "DescriptionStyleModel",
      "state": {
       "description_width": ""
      }
     },
     "6b28b6297c0348d58117482b3703fbdb": {
      "model_module": "@jupyter-widgets/controls",
      "model_module_version": "1.5.0",
      "model_name": "DescriptionStyleModel",
      "state": {
       "description_width": ""
      }
     },
     "6b509b4b309a420d926a47828726bef5": {
      "model_module": "@jupyter-widgets/controls",
      "model_module_version": "1.5.0",
      "model_name": "ButtonModel",
      "state": {
       "button_style": "info",
       "description": "Download",
       "layout": "IPY_MODEL_51e7a6cc673443708e54b4566ba6757e",
       "style": "IPY_MODEL_1fa20e96dbac4856ba61967abd3acbca"
      }
     },
     "6b5cc871f272478f90eec050eacd86a5": {
      "model_module": "@jupyter-widgets/controls",
      "model_module_version": "1.5.0",
      "model_name": "HBoxModel",
      "state": {
       "children": [
        "IPY_MODEL_06a9d392e6e0433f92629d5709b47c6f",
        "IPY_MODEL_e15fa75ebdce405298e43f0bdf08cb73",
        "IPY_MODEL_f8e30b99d48c46619882f0aa0356779e",
        "IPY_MODEL_f9038a3cbf604090b30a20e254bbcf92",
        "IPY_MODEL_249f1ffe7ad34d2a9058b1c88f174241",
        "IPY_MODEL_f07e94b0b05a4cd68fb1b0ce8d81a374",
        "IPY_MODEL_4b1ca73fa99a4186ab50cb8fb0ee5c31"
       ],
       "layout": "IPY_MODEL_9aa27043bae4440d8484fc3777753dbf"
      }
     },
     "6b6ad8feddf8448ba4184eb4ef6d7d6e": {
      "model_module": "@jupyter-widgets/controls",
      "model_module_version": "1.5.0",
      "model_name": "HTMLModel",
      "state": {
       "layout": "IPY_MODEL_b17263ea3fa34c89aebfe330690de023",
       "style": "IPY_MODEL_0ed758509edd40778df11d1977cde0c2",
       "value": "<font color='orange'> &nbsp Stars: 0</font>"
      }
     },
     "6bee3e05d2714083ab18c98a5c44293f": {
      "model_module": "@jupyter-widgets/controls",
      "model_module_version": "1.5.0",
      "model_name": "DescriptionStyleModel",
      "state": {
       "description_width": ""
      }
     },
     "6c2d882d20f747c389565f01ca7d1dfa": {
      "model_module": "@jupyter-widgets/base",
      "model_module_version": "1.2.0",
      "model_name": "LayoutModel",
      "state": {
       "width": "auto"
      }
     },
     "6c31d2a075504cb582efecce59f76b13": {
      "model_module": "@jupyter-widgets/base",
      "model_module_version": "1.2.0",
      "model_name": "LayoutModel",
      "state": {}
     },
     "6c37b5f990ac4cbe8fbeac7ec48b9f76": {
      "model_module": "@jupyter-widgets/base",
      "model_module_version": "1.2.0",
      "model_name": "LayoutModel",
      "state": {
       "visibility": "hidden"
      }
     },
     "6c39b598984d4b868ae644b2ed7a8837": {
      "model_module": "@jupyter-widgets/controls",
      "model_module_version": "1.5.0",
      "model_name": "LabelModel",
      "state": {
       "layout": "IPY_MODEL_5df47b2a0425462388f8cf793ffc3208",
       "style": "IPY_MODEL_2f98c13e08a749bab0a86781d43fac7c",
       "value": "Created Repo"
      }
     },
     "6c5b7fe0448d4976926f96cdb462dfe8": {
      "model_module": "@jupyter-widgets/base",
      "model_module_version": "1.2.0",
      "model_name": "LayoutModel",
      "state": {
       "align_items": "center"
      }
     },
     "6c676bd8b2174070ac785b112972a909": {
      "model_module": "@jupyter-widgets/controls",
      "model_module_version": "1.5.0",
      "model_name": "HTMLModel",
      "state": {
       "layout": "IPY_MODEL_4e7824cf7ecf47259985064037d4f603",
       "style": "IPY_MODEL_1d93da5a15c242248618187dda981171",
       "value": "<h3 style='padding:0;margin:0;'>&nbsp &nbsp<a href='https://github.com/spockman12/io_Presentation'>io_Presentation</a> &nbsp</h3>"
      }
     },
     "6c7b54d76e8f473789b5e01cbe6cbc4f": {
      "model_module": "@jupyter-widgets/controls",
      "model_module_version": "1.5.0",
      "model_name": "LabelModel",
      "state": {
       "layout": "IPY_MODEL_41eb50f5d5964c8ca36c9c563da444be",
       "style": "IPY_MODEL_beb064e8f50f4e76a76baf062578d5c1",
       "value": "7 months ago"
      }
     },
     "6c7c6e9c7dff4ac2a2b48369d891394c": {
      "model_module": "@jupyter-widgets/base",
      "model_module_version": "1.2.0",
      "model_name": "LayoutModel",
      "state": {}
     },
     "6c85e59f006e4045bc7138e3dabeb194": {
      "model_module": "@jupyter-widgets/controls",
      "model_module_version": "1.5.0",
      "model_name": "HBoxModel",
      "state": {
       "children": [
        "IPY_MODEL_0ac12ae013f74ff3b029e78e81ee25ad",
        "IPY_MODEL_76bf50ab6a604794b5637a176037c366",
        "IPY_MODEL_50c426b866e440f0a736827752d71726",
        "IPY_MODEL_4322448414d645cebc2bf321bce5deea"
       ],
       "layout": "IPY_MODEL_7b234fcb23f1420385c8a8862793d99e"
      }
     },
     "6c8fb987ac8d4f768fbca1b6de0906ad": {
      "model_module": "@jupyter-widgets/base",
      "model_module_version": "1.2.0",
      "model_name": "LayoutModel",
      "state": {}
     },
     "6ca38139a9d7408f815a37cc608cdcaf": {
      "model_module": "@jupyter-widgets/base",
      "model_module_version": "1.2.0",
      "model_name": "LayoutModel",
      "state": {}
     },
     "6cba632321d94f23a07368b3d214503c": {
      "model_module": "@jupyter-widgets/controls",
      "model_module_version": "1.5.0",
      "model_name": "HTMLModel",
      "state": {
       "layout": "IPY_MODEL_eefc785ee45c4b038be1a842855662c9",
       "style": "IPY_MODEL_30cf1e73c6a1498c98c02a3c7bc8e185",
       "value": "<font color='green'> &nbsp Downloads: 0</font>"
      }
     },
     "6d040e05b14743639537db5d3283542b": {
      "model_module": "@jupyter-widgets/controls",
      "model_module_version": "1.5.0",
      "model_name": "HTMLModel",
      "state": {
       "layout": "IPY_MODEL_7e6f6544b9074711b928eecd0e97dcd6",
       "style": "IPY_MODEL_5c0a373a0f484bd19288762908ce88ed",
       "value": "<h5 style='padding:0;margin:0;'>&nbsp <a href='https://github.com/SourabhSomdeve' style='color:silver'>SourabhSomdeve</a> &nbsp</h5>"
      }
     },
     "6d1406c295c24780b9913609491536bf": {
      "model_module": "@jupyter-widgets/controls",
      "model_module_version": "1.5.0",
      "model_name": "ButtonStyleModel",
      "state": {}
     },
     "6d26b881d7ff4a80aba06d0266eb8dd0": {
      "model_module": "@jupyter-widgets/controls",
      "model_module_version": "1.5.0",
      "model_name": "ButtonStyleModel",
      "state": {}
     },
     "6d31a907eb9b4091879a39bb7247f6cc": {
      "model_module": "@jupyter-widgets/controls",
      "model_module_version": "1.5.0",
      "model_name": "HTMLModel",
      "state": {
       "layout": "IPY_MODEL_6c7c6e9c7dff4ac2a2b48369d891394c",
       "style": "IPY_MODEL_53cbbe527f0f4e4d86234ab8d8ed4298",
       "value": "<h5 style='padding:0;margin:0;'>&nbsp <a href='https://github.com/SebPython' style='color:silver'>SebPython</a> &nbsp</h5>"
      }
     },
     "6db192cad2b047afa07c1846c8aa5b95": {
      "model_module": "@jupyter-widgets/base",
      "model_module_version": "1.2.0",
      "model_name": "LayoutModel",
      "state": {}
     },
     "6dcf4456b60f4f6e851c394f37bae6cd": {
      "model_module": "@jupyter-widgets/base",
      "model_module_version": "1.2.0",
      "model_name": "LayoutModel",
      "state": {}
     },
     "6e012ec4480e42eea567a776e97508f9": {
      "model_module": "@jupyter-widgets/base",
      "model_module_version": "1.2.0",
      "model_name": "LayoutModel",
      "state": {
       "justify_content": "center",
       "margin": "0 0 0 100px"
      }
     },
     "6e2c334d54df43f18b8d2582d14a10f1": {
      "model_module": "@jupyter-widgets/base",
      "model_module_version": "1.2.0",
      "model_name": "LayoutModel",
      "state": {}
     },
     "6e48650b5f7649719de41573ae0656a0": {
      "model_module": "@jupyter-widgets/controls",
      "model_module_version": "1.5.0",
      "model_name": "HBoxModel",
      "state": {
       "children": [
        "IPY_MODEL_3ea89de80bd0465e8d63dc49aef2aea1",
        "IPY_MODEL_5d0849f7f5d64527a1d28a308c525b67",
        "IPY_MODEL_19cd09d58f4b4fc48873418c1dfc5dcf",
        "IPY_MODEL_a9374b6546da447586dc018ad51c55dd",
        "IPY_MODEL_b4d5f0a5eba9496c8add6ef7d83ef688",
        "IPY_MODEL_3fa723293f5b4b4389970dc6edd2b535",
        "IPY_MODEL_5c1f91b1330a4e18814a7ef25e8110e6"
       ],
       "layout": "IPY_MODEL_031f909337d74bc88ff906312e76580b"
      }
     },
     "6e6179434ea740a4b766977f22abfc97": {
      "model_module": "@jupyter-widgets/controls",
      "model_module_version": "1.5.0",
      "model_name": "LabelModel",
      "state": {
       "layout": "IPY_MODEL_ab0569f19bc34487b7c98920dac7ba63",
       "style": "IPY_MODEL_93d656cbb94040bcaf78c2e538ba4147",
       "value": "Created Repo"
      }
     },
     "6e97d332fa924147879697670d71948a": {
      "model_module": "@jupyter-widgets/controls",
      "model_module_version": "1.5.0",
      "model_name": "DescriptionStyleModel",
      "state": {
       "description_width": ""
      }
     },
     "6ea4fe24bdd44542b27f62cb3c061d7f": {
      "model_module": "@jupyter-widgets/controls",
      "model_module_version": "1.5.0",
      "model_name": "VBoxModel",
      "state": {
       "children": [
        "IPY_MODEL_50e240cd04004e8c91e015084a3ac3de",
        "IPY_MODEL_184388c16fff4cb48f6897b771973fd0"
       ],
       "layout": "IPY_MODEL_887ab54d1f0a437bbab1bfcd9f2e8faf"
      }
     },
     "6ed425ba26cb402389c30cfd39ab0d67": {
      "model_module": "@jupyter-widgets/controls",
      "model_module_version": "1.5.0",
      "model_name": "DescriptionStyleModel",
      "state": {
       "description_width": ""
      }
     },
     "6ed98e7896d04abbbd981c6692bb89e3": {
      "model_module": "@jupyter-widgets/base",
      "model_module_version": "1.2.0",
      "model_name": "LayoutModel",
      "state": {}
     },
     "6ef61386c67f4199bd4e14e6d9f2bc70": {
      "model_module": "@jupyter-widgets/controls",
      "model_module_version": "1.5.0",
      "model_name": "LabelModel",
      "state": {
       "layout": "IPY_MODEL_400c81477fb54d4bb8963c6955d5ca4f",
       "style": "IPY_MODEL_3c85ebaeb6044de988f462ac851843a9",
       "value": "5 months ago"
      }
     },
     "6efe4e0b87794d8caeadda6850b8c9c2": {
      "model_module": "@jupyter-widgets/base",
      "model_module_version": "1.2.0",
      "model_name": "LayoutModel",
      "state": {
       "width": "auto"
      }
     },
     "6f0a846f179c44a4a3a271cb2672821b": {
      "model_module": "@jupyter-widgets/controls",
      "model_module_version": "1.5.0",
      "model_name": "HTMLModel",
      "state": {
       "layout": "IPY_MODEL_9cabf825454341f39683c3146b0f2b9a",
       "style": "IPY_MODEL_ddc977f54768476b984434b400e3e49a",
       "value": "<h3 style='padding:0;margin:0;'>&nbsp &nbsp<a href='https://github.com/ugunal/My_First_Research_Paper'>My_First_Research_Paper</a> &nbsp</h3>"
      }
     },
     "6f550e7726a14b5eb00fdeb7066b218b": {
      "model_module": "@jupyter-widgets/controls",
      "model_module_version": "1.5.0",
      "model_name": "DescriptionStyleModel",
      "state": {
       "description_width": ""
      }
     },
     "6f791e0564a84e6aaa359c538288733b": {
      "model_module": "@jupyter-widgets/controls",
      "model_module_version": "1.5.0",
      "model_name": "HTMLModel",
      "state": {
       "layout": "IPY_MODEL_8216bd5f95924c8496dfc595142a528e",
       "style": "IPY_MODEL_95ce949bf1044df59138b9e64a46e992",
       "value": "<h4><font color='red'>Example : my-lab-23</font></h4>"
      }
     },
     "6f7f39511a7c45db9e856a0e39c23dc6": {
      "model_module": "@jupyter-widgets/base",
      "model_module_version": "1.2.0",
      "model_name": "LayoutModel",
      "state": {}
     },
     "6f8aae2ea9bf4403ac0290c7fb800644": {
      "model_module": "@jupyter-widgets/base",
      "model_module_version": "1.2.0",
      "model_name": "LayoutModel",
      "state": {}
     },
     "6f8ca8c32329432b935d4efbf78d51c6": {
      "model_module": "@jupyter-widgets/base",
      "model_module_version": "1.2.0",
      "model_name": "LayoutModel",
      "state": {}
     },
     "6fe45a371b4545ca83e10c0a456e8e44": {
      "model_module": "@jupyter-widgets/controls",
      "model_module_version": "1.5.0",
      "model_name": "DescriptionStyleModel",
      "state": {
       "description_width": ""
      }
     },
     "6feb546d4c614ddea7dc5b7fdd0785d2": {
      "model_module": "@jupyter-widgets/base",
      "model_module_version": "1.2.0",
      "model_name": "LayoutModel",
      "state": {}
     },
     "70137a9db7474dc2985d8af7290b86cb": {
      "model_module": "@jupyter-widgets/controls",
      "model_module_version": "1.5.0",
      "model_name": "DescriptionStyleModel",
      "state": {
       "description_width": ""
      }
     },
     "7024b23945d841708519623c7263beda": {
      "model_module": "@jupyter-widgets/controls",
      "model_module_version": "1.5.0",
      "model_name": "HTMLModel",
      "state": {
       "layout": "IPY_MODEL_7c099d35ce71402cad2911c8ce7ea530",
       "style": "IPY_MODEL_0414317e33cc4e48bb9a0b249876a96d",
       "value": "<font color='orange'> &nbsp Stars: 0</font>"
      }
     },
     "7029080e0ca44b43aa23b552d68a7e39": {
      "model_module": "@jupyter-widgets/controls",
      "model_module_version": "1.5.0",
      "model_name": "DescriptionStyleModel",
      "state": {
       "description_width": ""
      }
     },
     "7046342daedc4a9c85c184725ea7976c": {
      "model_module": "@jupyter-widgets/controls",
      "model_module_version": "1.5.0",
      "model_name": "TextModel",
      "state": {
       "description": "Username",
       "layout": "IPY_MODEL_af93ad38c07d4bbbb7128758450ff453",
       "style": "IPY_MODEL_f41208ab1d7f4c448c78c448b213e5bd",
       "value": "pupster90"
      }
     },
     "7051f529fc364d37bc970e9a217837ab": {
      "model_module": "@jupyter-widgets/controls",
      "model_module_version": "1.5.0",
      "model_name": "LabelModel",
      "state": {
       "layout": "IPY_MODEL_bc672f0b4ce64adab122f5fa524d2a82",
       "style": "IPY_MODEL_62d3ab3d0541479e95dd1355355282ea",
       "value": "Created Repo"
      }
     },
     "706aba54c5374b838a9b76eeb02aea96": {
      "model_module": "@jupyter-widgets/base",
      "model_module_version": "1.2.0",
      "model_name": "LayoutModel",
      "state": {
       "width": "auto"
      }
     },
     "70933dc31e724c1ab97061411de65c14": {
      "model_module": "@jupyter-widgets/controls",
      "model_module_version": "1.5.0",
      "model_name": "DescriptionStyleModel",
      "state": {
       "description_width": ""
      }
     },
     "709487f0bc43407abf33813d320b2103": {
      "model_module": "@jupyter-widgets/base",
      "model_module_version": "1.2.0",
      "model_name": "LayoutModel",
      "state": {}
     },
     "70cddbd51dc84f78b784604d63938190": {
      "model_module": "@jupyter-widgets/controls",
      "model_module_version": "1.5.0",
      "model_name": "ButtonModel",
      "state": {
       "button_style": "primary",
       "description": "Download",
       "layout": "IPY_MODEL_a75ace3ac3c74846a442c365ae6a8b7d",
       "style": "IPY_MODEL_315859e8cdf34c90839dd8afd22e76a7"
      }
     },
     "70db8996bafa480081b110c20b8aa590": {
      "model_module": "@jupyter-widgets/controls",
      "model_module_version": "1.5.0",
      "model_name": "HTMLModel",
      "state": {
       "layout": "IPY_MODEL_45767ddfec054cbaa96f3c498c2d4560",
       "style": "IPY_MODEL_d9ad79f250424fd8bd3dd13c1d41300f",
       "value": "<h5 style='padding:0;margin:0;'>&nbsp <a href='https://github.com/p10raveen' style='color:silver'>p10raveen</a> &nbsp</h5>"
      }
     },
     "70e6714592f2451089226f73a5fdae27": {
      "model_module": "@jupyter-widgets/base",
      "model_module_version": "1.2.0",
      "model_name": "LayoutModel",
      "state": {
       "width": "auto"
      }
     },
     "7104200e486f414cad41df01e55c8a95": {
      "model_module": "@jupyter-widgets/controls",
      "model_module_version": "1.5.0",
      "model_name": "ButtonModel",
      "state": {
       "button_style": "danger",
       "description": "Logout",
       "layout": "IPY_MODEL_e138080993304411a7d3baea225e51cc",
       "style": "IPY_MODEL_6d26b881d7ff4a80aba06d0266eb8dd0"
      }
     },
     "711531f3ccfa495e801757e2f4259dbf": {
      "model_module": "@jupyter-widgets/base",
      "model_module_version": "1.2.0",
      "model_name": "LayoutModel",
      "state": {}
     },
     "7134ebbc8c6a4a9f8561926a642e0dd5": {
      "model_module": "@jupyter-widgets/base",
      "model_module_version": "1.2.0",
      "model_name": "LayoutModel",
      "state": {}
     },
     "71390abb9bdb48df8813414b51bae449": {
      "model_module": "@jupyter-widgets/base",
      "model_module_version": "1.2.0",
      "model_name": "LayoutModel",
      "state": {
       "align_items": "center",
       "justify_content": "center"
      }
     },
     "713a048e1ba94ae6890db12f7dac6dd4": {
      "model_module": "@jupyter-widgets/controls",
      "model_module_version": "1.5.0",
      "model_name": "HTMLModel",
      "state": {
       "layout": "IPY_MODEL_5107a4b79f97493ba784fe1c8f92c7df",
       "style": "IPY_MODEL_64561dbdef41447cb7ef4225183db88e",
       "value": "<h5 style='padding:0;margin:0;'>&nbsp <a href='https://github.com/derekguo31' style='color:silver'>derekguo31</a> &nbsp</h5>"
      }
     },
     "714495ce6063420da01af3772aaa6199": {
      "model_module": "@jupyter-widgets/base",
      "model_module_version": "1.2.0",
      "model_name": "LayoutModel",
      "state": {}
     },
     "71b097638b684b14be9a6465fb5d1585": {
      "model_module": "@jupyter-widgets/controls",
      "model_module_version": "1.5.0",
      "model_name": "DescriptionStyleModel",
      "state": {
       "description_width": ""
      }
     },
     "71e1b9a6bfac4df5b06ad9db0732719e": {
      "model_module": "@jupyter-widgets/base",
      "model_module_version": "1.2.0",
      "model_name": "LayoutModel",
      "state": {
       "width": "auto"
      }
     },
     "71e2186523934de78911d5d79dc6f8fe": {
      "model_module": "@jupyter-widgets/base",
      "model_module_version": "1.2.0",
      "model_name": "LayoutModel",
      "state": {}
     },
     "724937e0f9a94f5dbc280ece675004c5": {
      "model_module": "@jupyter-widgets/controls",
      "model_module_version": "1.5.0",
      "model_name": "ButtonStyleModel",
      "state": {}
     },
     "724b3fb8234340c5b6749fb79d89c42c": {
      "model_module": "@jupyter-widgets/base",
      "model_module_version": "1.2.0",
      "model_name": "LayoutModel",
      "state": {}
     },
     "726da4f1af344d0487dfaeed1e1e2370": {
      "model_module": "@jupyter-widgets/base",
      "model_module_version": "1.2.0",
      "model_name": "LayoutModel",
      "state": {}
     },
     "72817d42b20b4303b517fa4c6e28a677": {
      "model_module": "@jupyter-widgets/base",
      "model_module_version": "1.2.0",
      "model_name": "LayoutModel",
      "state": {}
     },
     "72fb3f1855984a01abe1ac484a5a3090": {
      "model_module": "@jupyter-widgets/controls",
      "model_module_version": "1.5.0",
      "model_name": "HBoxModel",
      "state": {
       "children": [
        "IPY_MODEL_f725a527f4cf40b69fc12de825963399"
       ],
       "layout": "IPY_MODEL_24c423a0a7eb4964a22b0bea3d6885bc"
      }
     },
     "7316b3c7364a4136a78f67f71bf87eb1": {
      "model_module": "@jupyter-widgets/controls",
      "model_module_version": "1.5.0",
      "model_name": "DescriptionStyleModel",
      "state": {
       "description_width": ""
      }
     },
     "7380176908154caeb336d330ea8eff70": {
      "model_module": "@jupyter-widgets/controls",
      "model_module_version": "1.5.0",
      "model_name": "ButtonStyleModel",
      "state": {}
     },
     "73b1ddfe4cfc471eb78451914262033b": {
      "model_module": "@jupyter-widgets/controls",
      "model_module_version": "1.5.0",
      "model_name": "DescriptionStyleModel",
      "state": {
       "description_width": ""
      }
     },
     "73f2ddd8a3db405dbbfe46e28746d5fb": {
      "model_module": "@jupyter-widgets/base",
      "model_module_version": "1.2.0",
      "model_name": "LayoutModel",
      "state": {}
     },
     "74009c4b25744deaa9f1fabd83030179": {
      "model_module": "@jupyter-widgets/base",
      "model_module_version": "1.2.0",
      "model_name": "LayoutModel",
      "state": {}
     },
     "741ae51d1a0a423fb5ccb5645e4d9ec2": {
      "model_module": "@jupyter-widgets/controls",
      "model_module_version": "1.5.0",
      "model_name": "HBoxModel",
      "state": {
       "children": [
        "IPY_MODEL_571cb97394fb4479a56636752eae8a9a",
        "IPY_MODEL_92bb8ecdd5a84968ac0211434ca1ee39",
        "IPY_MODEL_832e7aa7eda9486ca7b7661290f6b516",
        "IPY_MODEL_e0256cc13a7a4312b063338a86fd5982",
        "IPY_MODEL_bcfcec69b7ef4470b3a743bb1a19d31c",
        "IPY_MODEL_ec99de39bb844ea1b720729e0d9c9778",
        "IPY_MODEL_ae0a945ec7774b91b3581f6bc186bb06"
       ],
       "layout": "IPY_MODEL_0b533f1090fd4591be57ff0088bffd07"
      }
     },
     "74268914f38c4385aacff45f4dafd917": {
      "model_module": "@jupyter-widgets/controls",
      "model_module_version": "1.5.0",
      "model_name": "HTMLModel",
      "state": {
       "layout": "IPY_MODEL_55a85fd215a0465c8683052a9dd26a3d",
       "style": "IPY_MODEL_a165cad8947d4705a13048c0d7f16f3b",
       "value": "<font color='green'> &nbsp Downloads: 1</font>"
      }
     },
     "742caf9710d1417da359e81f6376968f": {
      "model_module": "@jupyter-widgets/base",
      "model_module_version": "1.2.0",
      "model_name": "LayoutModel",
      "state": {}
     },
     "74305a336f744d81832331aa0b9e44e3": {
      "model_module": "@jupyter-widgets/controls",
      "model_module_version": "1.5.0",
      "model_name": "HTMLModel",
      "state": {
       "layout": "IPY_MODEL_eebb2f126c024b0ba688619fc7c520bc",
       "style": "IPY_MODEL_8328d1b1692a4ddd9a74faa51524c610",
       "value": "<font color='green'> &nbsp Downloads: 0</font>"
      }
     },
     "7463373330a340eb98be3d55c192c38a": {
      "model_module": "@jupyter-widgets/controls",
      "model_module_version": "1.5.0",
      "model_name": "ButtonStyleModel",
      "state": {}
     },
     "74687bf162fe486c9d7699a818b69c58": {
      "model_module": "@jupyter-widgets/controls",
      "model_module_version": "1.5.0",
      "model_name": "DescriptionStyleModel",
      "state": {
       "description_width": ""
      }
     },
     "746cd9cb622c466981d1b23919ea09f5": {
      "model_module": "@jupyter-widgets/controls",
      "model_module_version": "1.5.0",
      "model_name": "ButtonModel",
      "state": {
       "button_style": "primary",
       "description": "Download",
       "layout": "IPY_MODEL_1071476af0094367b6c89f35db7552eb",
       "style": "IPY_MODEL_234c1872fdb442dab871ebfec7b5bbf9"
      }
     },
     "748d0246d95245a6b3c61d404e8ff304": {
      "model_module": "@jupyter-widgets/base",
      "model_module_version": "1.2.0",
      "model_name": "LayoutModel",
      "state": {}
     },
     "749ebef8172a4d02948a5e9e12baa7d1": {
      "model_module": "@jupyter-widgets/controls",
      "model_module_version": "1.5.0",
      "model_name": "LabelModel",
      "state": {
       "layout": "IPY_MODEL_9e24f8712ec64678a67e21aaa9e09dec",
       "style": "IPY_MODEL_f0f0025e466f489da476655be7b74098",
       "value": "7 months ago"
      }
     },
     "74a0eaedac0b4d82ae91abb1ea27ee96": {
      "model_module": "@jupyter-widgets/base",
      "model_module_version": "1.2.0",
      "model_name": "LayoutModel",
      "state": {}
     },
     "74a7fadabf534b49bf68804bf6f58284": {
      "model_module": "@jupyter-widgets/controls",
      "model_module_version": "1.5.0",
      "model_name": "HTMLModel",
      "state": {
       "layout": "IPY_MODEL_60a24f62509a4a939f6f97c8b5a1ce46",
       "style": "IPY_MODEL_17e2b912e8464ec3a649ecb85ed50ecf",
       "value": "<h5 style='padding:0;margin:0;'>&nbsp <a href='https://github.com/pupster90' style='color:silver'>pupster90</a> &nbsp</h5>"
      }
     },
     "74af4a235df04ceba3b7b0cfdffe58a5": {
      "model_module": "@jupyter-widgets/base",
      "model_module_version": "1.2.0",
      "model_name": "LayoutModel",
      "state": {
       "width": "auto"
      }
     },
     "74cd9a65dff048f08176892fc5b50fbf": {
      "model_module": "@jupyter-widgets/base",
      "model_module_version": "1.2.0",
      "model_name": "LayoutModel",
      "state": {
       "width": "auto"
      }
     },
     "7503c82757fc4cbcaef22193176ef209": {
      "model_module": "@jupyter-widgets/base",
      "model_module_version": "1.2.0",
      "model_name": "LayoutModel",
      "state": {}
     },
     "75070866918b4b2fbf81492ee05aeef7": {
      "model_module": "@jupyter-widgets/controls",
      "model_module_version": "1.5.0",
      "model_name": "ToggleButtonsModel",
      "state": {
       "_options_labels": [
        "Recent",
        "Popular",
        "Stars"
       ],
       "button_style": "",
       "icons": [],
       "index": 0,
       "layout": "IPY_MODEL_5a1ec864f7f244119c9a6c642d773be4",
       "style": "IPY_MODEL_e8f2ab1ad0244ff9b0b2aad543db9b59",
       "tooltips": []
      }
     },
     "7511c9a53f164f13bb91551eea328692": {
      "model_module": "@jupyter-widgets/controls",
      "model_module_version": "1.5.0",
      "model_name": "HBoxModel",
      "state": {
       "children": [
        "IPY_MODEL_58da4c61c081426f8a3b3051e4ea7719",
        "IPY_MODEL_5814a986f9e94f5aa5db70e20e0ee602"
       ],
       "layout": "IPY_MODEL_84b12af6a1f347ad893f16581d9235eb"
      }
     },
     "7534de63223548ee90887904a0e15389": {
      "model_module": "@jupyter-widgets/controls",
      "model_module_version": "1.5.0",
      "model_name": "LabelModel",
      "state": {
       "layout": "IPY_MODEL_5440b824de0e41af8acb5c3eca7cccae",
       "style": "IPY_MODEL_6681f0ae34d842db85ba1e58f8571c2d",
       "value": "7 months ago"
      }
     },
     "75480c2c122f43f08f5a9cb951223717": {
      "model_module": "@jupyter-widgets/controls",
      "model_module_version": "1.5.0",
      "model_name": "VBoxModel",
      "state": {
       "children": [
        "IPY_MODEL_e01de09d6cc84c329c67c9d6c4748b22",
        "IPY_MODEL_f1ea09a6590648b1bc4ee16ffffb251a",
        "IPY_MODEL_fceaebff22774b6f8af403ab3147938d",
        "IPY_MODEL_3419b91bbc4e4cbb9f982472db22cec2"
       ],
       "layout": "IPY_MODEL_5f769f648c0b4050bc2bc4f3efb7dcde"
      }
     },
     "755e22fbed1640598c2cd04ef3c3404c": {
      "model_module": "@jupyter-widgets/controls",
      "model_module_version": "1.5.0",
      "model_name": "DescriptionStyleModel",
      "state": {
       "description_width": ""
      }
     },
     "756c38da16ae43f3a7d301b87e171ab4": {
      "model_module": "@jupyter-widgets/controls",
      "model_module_version": "1.5.0",
      "model_name": "DescriptionStyleModel",
      "state": {
       "description_width": ""
      }
     },
     "75d6b64100014deb9c995f9d24fcf686": {
      "model_module": "@jupyter-widgets/base",
      "model_module_version": "1.2.0",
      "model_name": "LayoutModel",
      "state": {}
     },
     "75da2da7dacc45298bf3a9beada4a902": {
      "model_module": "@jupyter-widgets/controls",
      "model_module_version": "1.5.0",
      "model_name": "DescriptionStyleModel",
      "state": {
       "description_width": ""
      }
     },
     "7643a649a1c44827af705a641b70a1c8": {
      "model_module": "@jupyter-widgets/controls",
      "model_module_version": "1.5.0",
      "model_name": "DescriptionStyleModel",
      "state": {
       "description_width": ""
      }
     },
     "765fd92f42e7443bb3936e35a3aa4a22": {
      "model_module": "@jupyter-widgets/base",
      "model_module_version": "1.2.0",
      "model_name": "LayoutModel",
      "state": {
       "width": "auto"
      }
     },
     "7660c2834bab46d19ed0ae13905af751": {
      "model_module": "@jupyter-widgets/controls",
      "model_module_version": "1.5.0",
      "model_name": "HBoxModel",
      "state": {
       "children": [
        "IPY_MODEL_b945226413ad4b6ab404fb32c0dac996",
        "IPY_MODEL_bd9bd6249b47469d98a54947a52ce7da",
        "IPY_MODEL_e81e763abc144e2da68f537efd8b8f41",
        "IPY_MODEL_cf64a75c9e9a452a92a93cc5b02fd9be",
        "IPY_MODEL_4435978ece834d4996e4f9449d9645c5",
        "IPY_MODEL_4b17ce674f6545d79699437d9b4013d2",
        "IPY_MODEL_f422e3262b4a4c79a07266b5560e52b3"
       ],
       "layout": "IPY_MODEL_a6903f22230242a5b116fab4d94d9fdf"
      }
     },
     "7675aef10ebe4f05aecaee64eba4d340": {
      "model_module": "@jupyter-widgets/controls",
      "model_module_version": "1.5.0",
      "model_name": "HTMLModel",
      "state": {
       "layout": "IPY_MODEL_26fc5ffe57ac45dca57ec3f85c2018a1",
       "style": "IPY_MODEL_8cad73ed13414d76a7dfb9b3f252058c",
       "value": "<h3 style='padding:0;margin:0;'>&nbsp &nbsp<a href='https://github.com/ugunal/io_Presentation'>io_Presentation</a> &nbsp</h3>"
      }
     },
     "76bf50ab6a604794b5637a176037c366": {
      "model_module": "@jupyter-widgets/controls",
      "model_module_version": "1.5.0",
      "model_name": "PasswordModel",
      "state": {
       "description": "Password",
       "layout": "IPY_MODEL_3207e9b06d2d4e1f90e7a65f7a9d84e8",
       "style": "IPY_MODEL_799a3a4f53ba4966a49eead05a0d8778"
      }
     },
     "76f33c07ebe440b09b453c4b018667cf": {
      "model_module": "@jupyter-widgets/controls",
      "model_module_version": "1.5.0",
      "model_name": "DescriptionStyleModel",
      "state": {
       "description_width": ""
      }
     },
     "77113ebc6fdf4f6faa10e8122a59ff92": {
      "model_module": "@jupyter-widgets/controls",
      "model_module_version": "1.5.0",
      "model_name": "HTMLMathModel",
      "state": {
       "layout": "IPY_MODEL_bf7d701d209e4335b9f6b99814559362",
       "style": "IPY_MODEL_09a88a6a90154c3a86099eee4e0ef02c"
      }
     },
     "77252897aea048638b612bd3adec1a94": {
      "model_module": "@jupyter-widgets/base",
      "model_module_version": "1.2.0",
      "model_name": "LayoutModel",
      "state": {}
     },
     "773d3f8492214902a5352830f0f12537": {
      "model_module": "@jupyter-widgets/controls",
      "model_module_version": "1.5.0",
      "model_name": "HTMLModel",
      "state": {
       "layout": "IPY_MODEL_c6649f91e7b740128ece9797f0002170",
       "style": "IPY_MODEL_a0b30cd11b6949deaafca20c6cf6f846",
       "value": "<h3 style='padding:0;margin:0;'>&nbsp &nbsp<a href='https://github.com/spockman12/Public_Profile'>Public_Profile</a> &nbsp</h3>"
      }
     },
     "77533c354bc74379bc7e50fb277db6db": {
      "model_module": "@jupyter-widgets/controls",
      "model_module_version": "1.5.0",
      "model_name": "LabelModel",
      "state": {
       "layout": "IPY_MODEL_5f47a72768e149758f457e3c24b3cb0a",
       "style": "IPY_MODEL_c0acdf15d437456f8f7f7c784283ea53",
       "value": "6 months ago"
      }
     },
     "778820cd4d744226aa85e86d2bcb51da": {
      "model_module": "@jupyter-widgets/base",
      "model_module_version": "1.2.0",
      "model_name": "LayoutModel",
      "state": {}
     },
     "77af460ce4fb4df08286d28aafcc29de": {
      "model_module": "@jupyter-widgets/controls",
      "model_module_version": "1.5.0",
      "model_name": "HBoxModel",
      "state": {
       "children": [
        "IPY_MODEL_6ef61386c67f4199bd4e14e6d9f2bc70",
        "IPY_MODEL_27ef85a0b2114c7ea5cf4ed49ca48444",
        "IPY_MODEL_40b6f9dff4e1414da7aaf368d350d177",
        "IPY_MODEL_ca3470d7268a41e8af80e155fba8b825",
        "IPY_MODEL_f70ad62229c543b4b7b215f6116c0283",
        "IPY_MODEL_c5c6aefe3d8e45fca6c2171be419e6bb",
        "IPY_MODEL_3343607605ad4cdb84793b2912999004"
       ],
       "layout": "IPY_MODEL_a4191b9bf00b46fe9113c93d7987691e"
      }
     },
     "77c3f3b9616d47f28cb4377d9d9c7644": {
      "model_module": "@jupyter-widgets/controls",
      "model_module_version": "1.5.0",
      "model_name": "ButtonModel",
      "state": {
       "button_style": "info",
       "description": "Download",
       "layout": "IPY_MODEL_9964b24f423943259aae6b3842cf8e5d",
       "style": "IPY_MODEL_0e3e5012f2f64a38a1d6db95ee94969f"
      }
     },
     "77d204582e674a5d8d3aa532faa345ea": {
      "model_module": "@jupyter-widgets/base",
      "model_module_version": "1.2.0",
      "model_name": "LayoutModel",
      "state": {
       "width": "auto"
      }
     },
     "77dca2bcc36b40fcaf6e465fca885018": {
      "model_module": "@jupyter-widgets/base",
      "model_module_version": "1.2.0",
      "model_name": "LayoutModel",
      "state": {}
     },
     "77eb3aea57e448b19e2c64161ad079a5": {
      "model_module": "@jupyter-widgets/base",
      "model_module_version": "1.2.0",
      "model_name": "LayoutModel",
      "state": {}
     },
     "77f56e447bf948f88d146779cfeb3500": {
      "model_module": "@jupyter-widgets/controls",
      "model_module_version": "1.5.0",
      "model_name": "HTMLModel",
      "state": {
       "layout": "IPY_MODEL_9adbf03643184a24af5c6c1d8cba63be",
       "style": "IPY_MODEL_c1e487ab34f6473b8f91e48a1fb73033",
       "value": "<h3 style='padding:0;margin:0;color'>ls: cannot access '/home/jovyan/Public': No such file or directory &nbsp &nbsp &nbsp <small class='text-danger'>Name does not follow Github format</small></h3>"
      }
     },
     "782e5f918a0645feb07d50d67f8de696": {
      "model_module": "@jupyter-widgets/base",
      "model_module_version": "1.2.0",
      "model_name": "LayoutModel",
      "state": {
       "padding": "0px 20px 5px 0px"
      }
     },
     "7833a4ba53ef40a9a4b5017a0ba4546e": {
      "model_module": "@jupyter-widgets/controls",
      "model_module_version": "1.5.0",
      "model_name": "DescriptionStyleModel",
      "state": {
       "description_width": ""
      }
     },
     "7841d31f64f74734accf113760c7dd17": {
      "model_module": "@jupyter-widgets/controls",
      "model_module_version": "1.5.0",
      "model_name": "DescriptionStyleModel",
      "state": {
       "description_width": ""
      }
     },
     "784a497714d34731a3db2149f78bf7d3": {
      "model_module": "@jupyter-widgets/base",
      "model_module_version": "1.2.0",
      "model_name": "LayoutModel",
      "state": {}
     },
     "789752cffb7a446fac48c48a53a2fafc": {
      "model_module": "@jupyter-widgets/base",
      "model_module_version": "1.2.0",
      "model_name": "LayoutModel",
      "state": {}
     },
     "78a387260e964132adab78e8c8997fd0": {
      "model_module": "@jupyter-widgets/controls",
      "model_module_version": "1.5.0",
      "model_name": "ButtonStyleModel",
      "state": {}
     },
     "78b71a9e04fa4026a1ed66d59b7d2fd0": {
      "model_module": "@jupyter-widgets/base",
      "model_module_version": "1.2.0",
      "model_name": "LayoutModel",
      "state": {}
     },
     "78e778f4e880443fa8716316287defeb": {
      "model_module": "@jupyter-widgets/controls",
      "model_module_version": "1.5.0",
      "model_name": "DescriptionStyleModel",
      "state": {
       "description_width": ""
      }
     },
     "791a641537b94d61a2eaa03952d3eab1": {
      "model_module": "@jupyter-widgets/controls",
      "model_module_version": "1.5.0",
      "model_name": "DescriptionStyleModel",
      "state": {
       "description_width": ""
      }
     },
     "794377334ec04a26b1945b8d6a2b8330": {
      "model_module": "@jupyter-widgets/base",
      "model_module_version": "1.2.0",
      "model_name": "LayoutModel",
      "state": {}
     },
     "7961e67028924f0abb604173d57f6af3": {
      "model_module": "@jupyter-widgets/controls",
      "model_module_version": "1.5.0",
      "model_name": "DescriptionStyleModel",
      "state": {
       "description_width": ""
      }
     },
     "79964e2a2b46481f986a8a85ccc4b4ce": {
      "model_module": "@jupyter-widgets/base",
      "model_module_version": "1.2.0",
      "model_name": "LayoutModel",
      "state": {}
     },
     "799a3a4f53ba4966a49eead05a0d8778": {
      "model_module": "@jupyter-widgets/controls",
      "model_module_version": "1.5.0",
      "model_name": "DescriptionStyleModel",
      "state": {
       "description_width": ""
      }
     },
     "79d4ae0fc73b4898a9b2b9dee6049a4c": {
      "model_module": "@jupyter-widgets/controls",
      "model_module_version": "1.5.0",
      "model_name": "LabelModel",
      "state": {
       "layout": "IPY_MODEL_db4e84765a0149e3a0f8d2663ad347e4",
       "style": "IPY_MODEL_685a2c54e4a14278b2b7447d7cdd5c0a",
       "value": "1 month ago"
      }
     },
     "79ea19858b06479993bc8c627d25f31d": {
      "model_module": "@jupyter-widgets/controls",
      "model_module_version": "1.5.0",
      "model_name": "ButtonModel",
      "state": {
       "button_style": "danger",
       "icon": "times",
       "layout": "IPY_MODEL_299000f191544d7aba723b9b763daf69",
       "style": "IPY_MODEL_d608f4023a694d1898728c89d3daf4f2"
      }
     },
     "79f560d1f7bf4e4d950bc9ba535578a4": {
      "model_module": "@jupyter-widgets/controls",
      "model_module_version": "1.5.0",
      "model_name": "DescriptionStyleModel",
      "state": {
       "description_width": ""
      }
     },
     "7a46c836805d4061b3c31c62ff9ed9fb": {
      "model_module": "@jupyter-widgets/base",
      "model_module_version": "1.2.0",
      "model_name": "LayoutModel",
      "state": {
       "justify_content": "center",
       "padding": "15px 0 0 0"
      }
     },
     "7a5f01ea95964c8aab5ab0160863f773": {
      "model_module": "@jupyter-widgets/controls",
      "model_module_version": "1.5.0",
      "model_name": "DescriptionStyleModel",
      "state": {
       "description_width": ""
      }
     },
     "7a797ab8ca2749d78530138f35dea113": {
      "model_module": "@jupyter-widgets/base",
      "model_module_version": "1.2.0",
      "model_name": "LayoutModel",
      "state": {}
     },
     "7a947b55e27a4b96a156dbc330211c2f": {
      "model_module": "@jupyter-widgets/base",
      "model_module_version": "1.2.0",
      "model_name": "LayoutModel",
      "state": {}
     },
     "7aa0cb12daba4b59a140f19dced2594e": {
      "model_module": "@jupyter-widgets/controls",
      "model_module_version": "1.5.0",
      "model_name": "DescriptionStyleModel",
      "state": {
       "description_width": ""
      }
     },
     "7aa4c55163de4de691f2e37e8c0d1317": {
      "model_module": "@jupyter-widgets/base",
      "model_module_version": "1.2.0",
      "model_name": "LayoutModel",
      "state": {}
     },
     "7ac2c59fe23d471b82c65e57652a6f6f": {
      "model_module": "@jupyter-widgets/controls",
      "model_module_version": "1.5.0",
      "model_name": "LabelModel",
      "state": {
       "layout": "IPY_MODEL_a7ab0193f7c0494e8075a33feaf6f257",
       "style": "IPY_MODEL_73b1ddfe4cfc471eb78451914262033b",
       "value": "1 month ago"
      }
     },
     "7b1055b8e6f44e6d916c644d1a3ed227": {
      "model_module": "@jupyter-widgets/controls",
      "model_module_version": "1.5.0",
      "model_name": "HBoxModel",
      "state": {
       "children": [
        "IPY_MODEL_0eba1e4b37b74945b86b89b49112311a",
        "IPY_MODEL_f4d9e5cf86fc46aa9ee60e62fb0d5378",
        "IPY_MODEL_8fdcff8ced2e4b3e93bab5539f112414",
        "IPY_MODEL_f6ad8056de454526a295c55936ce3368",
        "IPY_MODEL_01398b8cbe8a411f9703cbcd02b0f23f",
        "IPY_MODEL_2cde46c0f7ad409dbaee0f7abff43f7a",
        "IPY_MODEL_ab76c88dad67461bbb9d698c52568d75"
       ],
       "layout": "IPY_MODEL_c994fd1f99344f28b02b09351e9e4051"
      }
     },
     "7b234fcb23f1420385c8a8862793d99e": {
      "model_module": "@jupyter-widgets/base",
      "model_module_version": "1.2.0",
      "model_name": "LayoutModel",
      "state": {}
     },
     "7b85267c18224d1da1f6da317fa2ee4a": {
      "model_module": "@jupyter-widgets/base",
      "model_module_version": "1.2.0",
      "model_name": "LayoutModel",
      "state": {}
     },
     "7bc316206e8a49ebbc2ec4876f770d8b": {
      "model_module": "@jupyter-widgets/controls",
      "model_module_version": "1.5.0",
      "model_name": "DescriptionStyleModel",
      "state": {
       "description_width": ""
      }
     },
     "7bd6d9a8e7644d198a0709b286170817": {
      "model_module": "@jupyter-widgets/base",
      "model_module_version": "1.2.0",
      "model_name": "LayoutModel",
      "state": {}
     },
     "7be0273f757f40a9bee1284e7be14944": {
      "model_module": "@jupyter-widgets/base",
      "model_module_version": "1.2.0",
      "model_name": "LayoutModel",
      "state": {}
     },
     "7be9a8e530684e88960042cdd92f80b4": {
      "model_module": "@jupyter-widgets/controls",
      "model_module_version": "1.5.0",
      "model_name": "HBoxModel",
      "state": {
       "children": [
        "IPY_MODEL_c8adaf5c253444f5a46d72973b37d0c4",
        "IPY_MODEL_2e8a325bff364e62a210b62f60160aa0"
       ],
       "layout": "IPY_MODEL_a473ae48e9dd44958fbc0d7320d4cb75"
      }
     },
     "7c099d35ce71402cad2911c8ce7ea530": {
      "model_module": "@jupyter-widgets/base",
      "model_module_version": "1.2.0",
      "model_name": "LayoutModel",
      "state": {}
     },
     "7c0a74b4daa94a8984d3e9065c0f9109": {
      "model_module": "@jupyter-widgets/controls",
      "model_module_version": "1.5.0",
      "model_name": "DescriptionStyleModel",
      "state": {
       "description_width": ""
      }
     },
     "7c33b8c1c9f347b7b67d74b77a902b80": {
      "model_module": "@jupyter-widgets/base",
      "model_module_version": "1.2.0",
      "model_name": "LayoutModel",
      "state": {}
     },
     "7c4f5fbdef1546e5a29e37588a6aafe0": {
      "model_module": "@jupyter-widgets/base",
      "model_module_version": "1.2.0",
      "model_name": "LayoutModel",
      "state": {
       "width": "auto"
      }
     },
     "7c79f63e8cd0496e8f4445ae5ee1c651": {
      "model_module": "@jupyter-widgets/base",
      "model_module_version": "1.2.0",
      "model_name": "LayoutModel",
      "state": {
       "width": "auto"
      }
     },
     "7ca81a64dd8f4965a9021ff0a857c7b8": {
      "model_module": "@jupyter-widgets/base",
      "model_module_version": "1.2.0",
      "model_name": "LayoutModel",
      "state": {
       "width": "100px"
      }
     },
     "7ca86fcb83f84297a72f773a1fd62891": {
      "model_module": "@jupyter-widgets/base",
      "model_module_version": "1.2.0",
      "model_name": "LayoutModel",
      "state": {
       "width": "auto"
      }
     },
     "7cba659a34f74897a9522b069af656dd": {
      "model_module": "@jupyter-widgets/controls",
      "model_module_version": "1.5.0",
      "model_name": "ButtonModel",
      "state": {
       "button_style": "info",
       "description": "Download",
       "layout": "IPY_MODEL_aa18a271ddb54441a3d710e057bf43ba",
       "style": "IPY_MODEL_84cabb0b2d6e4746a95fa9b8c3ca2be6"
      }
     },
     "7cd319f72e424f8fb459bc32c17c8201": {
      "model_module": "@jupyter-widgets/controls",
      "model_module_version": "1.5.0",
      "model_name": "DescriptionStyleModel",
      "state": {
       "description_width": ""
      }
     },
     "7ce29bd346f6480fb2fbed2daa050de5": {
      "model_module": "@jupyter-widgets/base",
      "model_module_version": "1.2.0",
      "model_name": "LayoutModel",
      "state": {
       "justify_content": "center",
       "padding": "20px 0 0 0"
      }
     },
     "7d1073105c7c453583cefb22130e1527": {
      "model_module": "@jupyter-widgets/controls",
      "model_module_version": "1.5.0",
      "model_name": "ButtonStyleModel",
      "state": {}
     },
     "7d1d0aea57e84e4c8fc7fbce5b27d8aa": {
      "model_module": "@jupyter-widgets/controls",
      "model_module_version": "1.5.0",
      "model_name": "HTMLModel",
      "state": {
       "layout": "IPY_MODEL_a7c6fbb524fb47628e244675f2689f6e",
       "style": "IPY_MODEL_ed46d488feab44329ffe17fea13b58df",
       "value": "<font color='orange'> &nbsp Stars: 0</font>"
      }
     },
     "7d1db6b099544558bf93032d3326f52a": {
      "model_module": "@jupyter-widgets/controls",
      "model_module_version": "1.5.0",
      "model_name": "LabelModel",
      "state": {
       "layout": "IPY_MODEL_ffd1b12bdaa743ccaedfbf62ca74d80e",
       "style": "IPY_MODEL_83f3f014d5174799a5fdd014afc2f363",
       "value": "2 months ago"
      }
     },
     "7d40a586ac254ae29d5511523d7fec26": {
      "model_module": "@jupyter-widgets/controls",
      "model_module_version": "1.5.0",
      "model_name": "HBoxModel",
      "state": {
       "children": [
        "IPY_MODEL_e926f863d1be427f8bd1ca4c921be440",
        "IPY_MODEL_7ee2a52a50eb4c5bbd3c6be296ffefb1",
        "IPY_MODEL_a9717748834d4f5db14cbb1120f9e393",
        "IPY_MODEL_0696ab168a124e318a7b0c5720d375c8",
        "IPY_MODEL_773d3f8492214902a5352830f0f12537",
        "IPY_MODEL_42251f33a4954eecb490d7197ac5f3c4",
        "IPY_MODEL_ce3f1c0578524445925be695bffbd07e"
       ],
       "layout": "IPY_MODEL_4229d56d6b9348f4b6c14768e34dc3e0"
      }
     },
     "7d5555fd0f9c462fa0006d757bf31132": {
      "model_module": "@jupyter-widgets/base",
      "model_module_version": "1.2.0",
      "model_name": "LayoutModel",
      "state": {}
     },
     "7d798dbcc2e1459f96746af9db34fe41": {
      "model_module": "@jupyter-widgets/controls",
      "model_module_version": "1.5.0",
      "model_name": "DescriptionStyleModel",
      "state": {
       "description_width": ""
      }
     },
     "7d8c9abf8dd5490da011d0389b54f174": {
      "model_module": "@jupyter-widgets/controls",
      "model_module_version": "1.5.0",
      "model_name": "ToggleButtonsModel",
      "state": {
       "_options_labels": [
        "Public",
        "Private"
       ],
       "button_style": "info",
       "icons": [],
       "index": 0,
       "layout": "IPY_MODEL_647f3b1f728c4c70b72db0e02be8990d",
       "style": "IPY_MODEL_20dcde7507894ca7bb81fd682873e6ce",
       "tooltips": []
      }
     },
     "7db52031160541bfa92348b6b224075d": {
      "model_module": "@jupyter-widgets/controls",
      "model_module_version": "1.5.0",
      "model_name": "HBoxModel",
      "state": {
       "children": [
        "IPY_MODEL_d54377a17ca6476ca5ce6dab03a3d105"
       ],
       "layout": "IPY_MODEL_de8512866e2c4ea4b8a71614f606beb9"
      }
     },
     "7dd440e9b51448608017dca4bf39e617": {
      "model_module": "@jupyter-widgets/base",
      "model_module_version": "1.2.0",
      "model_name": "LayoutModel",
      "state": {
       "width": "100px"
      }
     },
     "7de7a04fddc3481bbd8c7b8299b3437b": {
      "model_module": "@jupyter-widgets/controls",
      "model_module_version": "1.5.0",
      "model_name": "VBoxModel",
      "state": {
       "children": [
        "IPY_MODEL_f87326fca4f54c49b3a9229a4cf8b9ea",
        "IPY_MODEL_94b1b5deef354a79a5c03eda4f72f8ca"
       ],
       "layout": "IPY_MODEL_c1ee4ae55d3f4cc3a251425b7e904c52"
      }
     },
     "7de7cdfd20b04ed5a5ce5a417f104e3f": {
      "model_module": "@jupyter-widgets/controls",
      "model_module_version": "1.5.0",
      "model_name": "HBoxModel",
      "state": {
       "children": [
        "IPY_MODEL_bc8da87e4c6948568b25db66d14dddf9",
        "IPY_MODEL_4ba1b5917730439bb38a9e6587ebfdd4",
        "IPY_MODEL_74305a336f744d81832331aa0b9e44e3",
        "IPY_MODEL_b1462bfff4824c29a3cd39f878572c10",
        "IPY_MODEL_b9676831cf4e4720a28aac3a5c4e453b",
        "IPY_MODEL_cda47587b296429ba0c13cf602f43a0e",
        "IPY_MODEL_c21dc7da3d0e46e098bed59610d0fa94"
       ],
       "layout": "IPY_MODEL_34a2fb98a49f4ea88825e6226b46006e"
      }
     },
     "7e067e4233e2473c96389abd19f1bd0b": {
      "model_module": "@jupyter-widgets/controls",
      "model_module_version": "1.5.0",
      "model_name": "HTMLModel",
      "state": {
       "layout": "IPY_MODEL_624178f1af50476ca9f091b92a4bfbf5",
       "style": "IPY_MODEL_ee6112ef48e14fb8a55ed45a3d71c871",
       "value": "<font color='green'> &nbsp Downloads: 0</font>"
      }
     },
     "7e1f4a96ee744ed58429ebaf3f7f624a": {
      "model_module": "@jupyter-widgets/controls",
      "model_module_version": "1.5.0",
      "model_name": "ButtonStyleModel",
      "state": {}
     },
     "7e2093bf646941de877bf797219d5996": {
      "model_module": "@jupyter-widgets/base",
      "model_module_version": "1.2.0",
      "model_name": "LayoutModel",
      "state": {
       "margin": "0px 100px 0px 0px",
       "visibility": "hidden",
       "width": "auto"
      }
     },
     "7e2ce02bdbe04c8296bead7852b0fe5b": {
      "model_module": "@jupyter-widgets/controls",
      "model_module_version": "1.5.0",
      "model_name": "DescriptionStyleModel",
      "state": {
       "description_width": ""
      }
     },
     "7e3c87955a434889a8b120b1bf94bb54": {
      "model_module": "@jupyter-widgets/controls",
      "model_module_version": "1.5.0",
      "model_name": "LabelModel",
      "state": {
       "layout": "IPY_MODEL_bc651f92b96741369099ae493ea4c78c",
       "style": "IPY_MODEL_36b24d4f85da46aaa0b993b6bd9bef12",
       "value": "FINAL VERSION"
      }
     },
     "7e5079d8f2874df589fd593d08013a88": {
      "model_module": "@jupyter-widgets/base",
      "model_module_version": "1.2.0",
      "model_name": "LayoutModel",
      "state": {}
     },
     "7e6f6544b9074711b928eecd0e97dcd6": {
      "model_module": "@jupyter-widgets/base",
      "model_module_version": "1.2.0",
      "model_name": "LayoutModel",
      "state": {}
     },
     "7ed77e998d5b49b8be43fa2157cafce7": {
      "model_module": "@jupyter-widgets/controls",
      "model_module_version": "1.5.0",
      "model_name": "HTMLModel",
      "state": {
       "layout": "IPY_MODEL_6ca38139a9d7408f815a37cc608cdcaf",
       "style": "IPY_MODEL_6e97d332fa924147879697670d71948a",
       "value": "<h3 class='text-center'><font color='red'>Logout</font> of <a stc='https://github.com/'>Github </a> &nbsp&nbsp<h3>"
      }
     },
     "7ee2a52a50eb4c5bbd3c6be296ffefb1": {
      "model_module": "@jupyter-widgets/controls",
      "model_module_version": "1.5.0",
      "model_name": "ButtonModel",
      "state": {
       "button_style": "info",
       "description": "Download",
       "layout": "IPY_MODEL_337b8f800cca4e299469261da85032ef",
       "style": "IPY_MODEL_6516d22224e5442a8d635d18ddb0c0f0"
      }
     },
     "7f2f7c249a174cf0aa30bdc6beac1c58": {
      "model_module": "@jupyter-widgets/controls",
      "model_module_version": "1.5.0",
      "model_name": "DescriptionStyleModel",
      "state": {
       "description_width": ""
      }
     },
     "7f48ceeebdfc41d19860256c83464108": {
      "model_module": "@jupyter-widgets/controls",
      "model_module_version": "1.5.0",
      "model_name": "DescriptionStyleModel",
      "state": {
       "description_width": ""
      }
     },
     "7f52c91d1bb143e888ca7b37d07b5f19": {
      "model_module": "@jupyter-widgets/controls",
      "model_module_version": "1.5.0",
      "model_name": "DescriptionStyleModel",
      "state": {
       "description_width": ""
      }
     },
     "7fafcefb25c747ca8c86282041412b81": {
      "model_module": "@jupyter-widgets/controls",
      "model_module_version": "1.5.0",
      "model_name": "DescriptionStyleModel",
      "state": {
       "description_width": ""
      }
     },
     "80094f3781f04abe9c88c076b7f81a15": {
      "model_module": "@jupyter-widgets/controls",
      "model_module_version": "1.5.0",
      "model_name": "ToggleButtonsModel",
      "state": {
       "_options_labels": [
        "Recent",
        "Popular",
        "Stars"
       ],
       "button_style": "",
       "icons": [],
       "index": 0,
       "layout": "IPY_MODEL_9609df5c8ff949849a0dd2291bae79e9",
       "style": "IPY_MODEL_0cdd98bd1c4844108ca4241025cb9f54",
       "tooltips": []
      }
     },
     "8035fc01f83f4dff95217f63eb96ca85": {
      "model_module": "@jupyter-widgets/base",
      "model_module_version": "1.2.0",
      "model_name": "LayoutModel",
      "state": {}
     },
     "80d44044ae2040478be9f309b876e550": {
      "model_module": "@jupyter-widgets/controls",
      "model_module_version": "1.5.0",
      "model_name": "DescriptionStyleModel",
      "state": {
       "description_width": ""
      }
     },
     "80d6feac6d2f4ebdb255ab0e5343cfc7": {
      "model_module": "@jupyter-widgets/base",
      "model_module_version": "1.2.0",
      "model_name": "LayoutModel",
      "state": {}
     },
     "819dedc061994edda5f0b12f0d08b25a": {
      "model_module": "@jupyter-widgets/base",
      "model_module_version": "1.2.0",
      "model_name": "LayoutModel",
      "state": {}
     },
     "81b5d24b2a624149996ff98a24b042c3": {
      "model_module": "@jupyter-widgets/controls",
      "model_module_version": "1.5.0",
      "model_name": "HBoxModel",
      "state": {
       "children": [
        "IPY_MODEL_c3a1fe74fb5442f7ab2937ead3cbbbda",
        "IPY_MODEL_eee8c76164994a52812421cd97b27962",
        "IPY_MODEL_70cddbd51dc84f78b784604d63938190",
        "IPY_MODEL_b742683c719f4448945b802ad51ced1d"
       ],
       "layout": "IPY_MODEL_6c5b7fe0448d4976926f96cdb462dfe8"
      }
     },
     "81b70e4df5584f9daca31bef172d06dd": {
      "model_module": "@jupyter-widgets/controls",
      "model_module_version": "1.5.0",
      "model_name": "ToggleButtonsModel",
      "state": {
       "_options_labels": [
        "Recent",
        "Popular",
        "Stars"
       ],
       "button_style": "",
       "icons": [],
       "index": 0,
       "layout": "IPY_MODEL_1191b7a599ad468dad351b2a0cd6b91b",
       "style": "IPY_MODEL_e2b14c6225c84db19b3e79761fef1944",
       "tooltips": []
      }
     },
     "81b98c192b3c4980842150c0fb98bcca": {
      "model_module": "@jupyter-widgets/controls",
      "model_module_version": "1.5.0",
      "model_name": "HTMLModel",
      "state": {
       "layout": "IPY_MODEL_3a046acfe9b74ff8840afcf4fecf813a",
       "style": "IPY_MODEL_b4958b1f61e64ddcb71809a700f97792",
       "value": "<font color='orange'> &nbsp Stars: 0</font>"
      }
     },
     "81c95eb62c6c41479f863a6c3165f9b2": {
      "model_module": "@jupyter-widgets/base",
      "model_module_version": "1.2.0",
      "model_name": "LayoutModel",
      "state": {}
     },
     "82068d100aa949aabd4eb49315e11d2c": {
      "model_module": "@jupyter-widgets/base",
      "model_module_version": "1.2.0",
      "model_name": "LayoutModel",
      "state": {}
     },
     "820e1a8927fa498094f37c256c9e1337": {
      "model_module": "@jupyter-widgets/base",
      "model_module_version": "1.2.0",
      "model_name": "LayoutModel",
      "state": {}
     },
     "821506bdac4249129a7c3bb96b401493": {
      "model_module": "@jupyter-widgets/controls",
      "model_module_version": "1.5.0",
      "model_name": "DescriptionStyleModel",
      "state": {
       "description_width": ""
      }
     },
     "8216bd5f95924c8496dfc595142a528e": {
      "model_module": "@jupyter-widgets/base",
      "model_module_version": "1.2.0",
      "model_name": "LayoutModel",
      "state": {
       "visibility": "hidden"
      }
     },
     "821ebeabfd4741b4a35629dd6af5eb90": {
      "model_module": "@jupyter-widgets/base",
      "model_module_version": "1.2.0",
      "model_name": "LayoutModel",
      "state": {}
     },
     "8234f30b531e4e97878cc7efa462a48f": {
      "model_module": "@jupyter-widgets/controls",
      "model_module_version": "1.5.0",
      "model_name": "DescriptionStyleModel",
      "state": {
       "description_width": ""
      }
     },
     "823e11cc157a4b8987144799d97d5ff5": {
      "model_module": "@jupyter-widgets/base",
      "model_module_version": "1.2.0",
      "model_name": "LayoutModel",
      "state": {}
     },
     "831aa68a29a044779f1b10cd1f380ae6": {
      "model_module": "@jupyter-widgets/controls",
      "model_module_version": "1.5.0",
      "model_name": "HTMLModel",
      "state": {
       "layout": "IPY_MODEL_7134ebbc8c6a4a9f8561926a642e0dd5",
       "style": "IPY_MODEL_8dc4e065bdeb4bcf8a47ba2d0683b340",
       "value": "<h5 style='padding:0;margin:0;'>&nbsp <a href='https://github.com/ugunal' style='color:silver'>ugunal</a> &nbsp</h5>"
      }
     },
     "8328d1b1692a4ddd9a74faa51524c610": {
      "model_module": "@jupyter-widgets/controls",
      "model_module_version": "1.5.0",
      "model_name": "DescriptionStyleModel",
      "state": {
       "description_width": ""
      }
     },
     "832e7aa7eda9486ca7b7661290f6b516": {
      "model_module": "@jupyter-widgets/controls",
      "model_module_version": "1.5.0",
      "model_name": "HTMLModel",
      "state": {
       "layout": "IPY_MODEL_d5d6965b9fb24909a2c9cd222773ca97",
       "style": "IPY_MODEL_a127d6527d93466db5f226893353ed71",
       "value": "<font color='green'> &nbsp Downloads: 0</font>"
      }
     },
     "83393856d45c4aeeac158812a1d95a8b": {
      "model_module": "@jupyter-widgets/controls",
      "model_module_version": "1.5.0",
      "model_name": "DescriptionStyleModel",
      "state": {
       "description_width": ""
      }
     },
     "8346a476e6a740faac9dff4d0c0c4097": {
      "model_module": "@jupyter-widgets/controls",
      "model_module_version": "1.5.0",
      "model_name": "HTMLModel",
      "state": {
       "layout": "IPY_MODEL_b5c13ecb825943f6b9a04e94c93d86de",
       "style": "IPY_MODEL_7bc316206e8a49ebbc2ec4876f770d8b",
       "value": "<h5 style='padding:0;margin:0;'>&nbsp <a href='https://github.com/pupster90' style='color:silver'>pupster90</a> &nbsp</h5>"
      }
     },
     "8351c180dd5142709a5f2b009a166b3b": {
      "model_module": "@jupyter-widgets/controls",
      "model_module_version": "1.5.0",
      "model_name": "DescriptionStyleModel",
      "state": {
       "description_width": ""
      }
     },
     "835adc60982a4ada8706c30cda1916f0": {
      "model_module": "@jupyter-widgets/controls",
      "model_module_version": "1.5.0",
      "model_name": "ButtonModel",
      "state": {
       "button_style": "success",
       "description": "Set",
       "layout": "IPY_MODEL_7ca86fcb83f84297a72f773a1fd62891",
       "style": "IPY_MODEL_9c6e9a6f08d142c98f04ab557f090969"
      }
     },
     "835cde8c0360426588da5c7612b0092e": {
      "model_module": "@jupyter-widgets/controls",
      "model_module_version": "1.5.0",
      "model_name": "DescriptionStyleModel",
      "state": {
       "description_width": ""
      }
     },
     "837fcfb1559349e883eb62bc45f2f4f7": {
      "model_module": "@jupyter-widgets/base",
      "model_module_version": "1.2.0",
      "model_name": "LayoutModel",
      "state": {
       "width": "auto"
      }
     },
     "83aa6223ff0d492889a748d03a3eefca": {
      "model_module": "@jupyter-widgets/controls",
      "model_module_version": "1.5.0",
      "model_name": "ButtonModel",
      "state": {
       "button_style": "info",
       "description": "Download",
       "layout": "IPY_MODEL_42e44587f64648d79551c34179f1a049",
       "style": "IPY_MODEL_c39819aa9a97405dbb77e1f95184b88b"
      }
     },
     "83c76c303aa74359b211304f187d0713": {
      "model_module": "@jupyter-widgets/base",
      "model_module_version": "1.2.0",
      "model_name": "LayoutModel",
      "state": {
       "width": "auto"
      }
     },
     "83d2299f85d242b98f13d05ce5757544": {
      "model_module": "@jupyter-widgets/base",
      "model_module_version": "1.2.0",
      "model_name": "LayoutModel",
      "state": {}
     },
     "83f3f014d5174799a5fdd014afc2f363": {
      "model_module": "@jupyter-widgets/controls",
      "model_module_version": "1.5.0",
      "model_name": "DescriptionStyleModel",
      "state": {
       "description_width": ""
      }
     },
     "842fd784fecd497d8a68ae866297859c": {
      "model_module": "@jupyter-widgets/base",
      "model_module_version": "1.2.0",
      "model_name": "LayoutModel",
      "state": {}
     },
     "843d5c3c472b495f99645448cb824e2e": {
      "model_module": "@jupyter-widgets/base",
      "model_module_version": "1.2.0",
      "model_name": "LayoutModel",
      "state": {}
     },
     "846c0ad3a0304ed1b465405c953b0595": {
      "model_module": "@jupyter-widgets/base",
      "model_module_version": "1.2.0",
      "model_name": "LayoutModel",
      "state": {}
     },
     "84b12af6a1f347ad893f16581d9235eb": {
      "model_module": "@jupyter-widgets/base",
      "model_module_version": "1.2.0",
      "model_name": "LayoutModel",
      "state": {
       "justify_content": "center",
       "margin": "0 0 0 100px"
      }
     },
     "84cabb0b2d6e4746a95fa9b8c3ca2be6": {
      "model_module": "@jupyter-widgets/controls",
      "model_module_version": "1.5.0",
      "model_name": "ButtonStyleModel",
      "state": {}
     },
     "84f41e8479c84e24a2559abd21170b45": {
      "model_module": "@jupyter-widgets/controls",
      "model_module_version": "1.5.0",
      "model_name": "DescriptionStyleModel",
      "state": {
       "description_width": ""
      }
     },
     "84f58ee090454fd98cc10d808c10d642": {
      "model_module": "@jupyter-widgets/controls",
      "model_module_version": "1.5.0",
      "model_name": "ButtonModel",
      "state": {
       "button_style": "info",
       "description": "Download",
       "layout": "IPY_MODEL_c7122a6908a24a5f8678807aa21274fa",
       "style": "IPY_MODEL_ed5b1dc74577415dab67ae658e083b47"
      }
     },
     "851632ba780e43e0970b1eb3d1f12454": {
      "model_module": "@jupyter-widgets/controls",
      "model_module_version": "1.5.0",
      "model_name": "DescriptionStyleModel",
      "state": {
       "description_width": ""
      }
     },
     "851dc488004746b8916d2b22a337ac45": {
      "model_module": "@jupyter-widgets/controls",
      "model_module_version": "1.5.0",
      "model_name": "LabelModel",
      "state": {
       "layout": "IPY_MODEL_ae7da744091144bda2cf361ac4e6501e",
       "style": "IPY_MODEL_bcf055b91d8c405392b5f47f5c2e4011",
       "value": "5 days ago"
      }
     },
     "8545d9ada09f4c90aeafbff160c52e88": {
      "model_module": "@jupyter-widgets/controls",
      "model_module_version": "1.5.0",
      "model_name": "DescriptionStyleModel",
      "state": {
       "description_width": ""
      }
     },
     "85488c6d31a449e08334533614a6a91a": {
      "model_module": "@jupyter-widgets/base",
      "model_module_version": "1.2.0",
      "model_name": "LayoutModel",
      "state": {}
     },
     "858c710e92944c28adf388ec8f09206b": {
      "model_module": "@jupyter-widgets/base",
      "model_module_version": "1.2.0",
      "model_name": "LayoutModel",
      "state": {
       "width": "auto"
      }
     },
     "858ca0d891c147e89e0ba8b5759a3a82": {
      "model_module": "@jupyter-widgets/base",
      "model_module_version": "1.2.0",
      "model_name": "LayoutModel",
      "state": {}
     },
     "85a71d34ecf444a3a83885b4eec3d7ae": {
      "model_module": "@jupyter-widgets/base",
      "model_module_version": "1.2.0",
      "model_name": "LayoutModel",
      "state": {
       "width": "auto"
      }
     },
     "85bc1852fd6c4344ad3bc6627cb4dbe0": {
      "model_module": "@jupyter-widgets/base",
      "model_module_version": "1.2.0",
      "model_name": "LayoutModel",
      "state": {}
     },
     "85c0f42d3d6e4d74949208b590325ae7": {
      "model_module": "@jupyter-widgets/base",
      "model_module_version": "1.2.0",
      "model_name": "LayoutModel",
      "state": {}
     },
     "85c3630e2ea44182ad13f20514c96119": {
      "model_module": "@jupyter-widgets/controls",
      "model_module_version": "1.5.0",
      "model_name": "ButtonStyleModel",
      "state": {}
     },
     "85c90b33114f4c18b63183ab4f5b96f3": {
      "model_module": "@jupyter-widgets/controls",
      "model_module_version": "1.5.0",
      "model_name": "DescriptionStyleModel",
      "state": {
       "description_width": ""
      }
     },
     "86185573be044271a3efc2d7d50e738a": {
      "model_module": "@jupyter-widgets/controls",
      "model_module_version": "1.5.0",
      "model_name": "HBoxModel",
      "state": {
       "children": [
        "IPY_MODEL_94cc64ae8a7c46509d7022897c07ffad",
        "IPY_MODEL_d1618f5a36984081bfb0afe79a60bc69",
        "IPY_MODEL_ff8745a4c7f44bd1bdee9373224319bb",
        "IPY_MODEL_8a842418239e4af2925b99e1c408ed7a",
        "IPY_MODEL_55fa8028170245c38a9297cb3ea15e4d",
        "IPY_MODEL_6188aea6725344c7aa32f4e3c76d7ce6",
        "IPY_MODEL_d60080ff2e3c4692923fede4cac814cb"
       ],
       "layout": "IPY_MODEL_e5e245588390422bbac28dd41d7484b3"
      }
     },
     "86191554ab71485299de1e78f8dfb5cc": {
      "model_module": "@jupyter-widgets/controls",
      "model_module_version": "1.5.0",
      "model_name": "ButtonModel",
      "state": {
       "button_style": "danger",
       "description": "Logout",
       "layout": "IPY_MODEL_85a71d34ecf444a3a83885b4eec3d7ae",
       "style": "IPY_MODEL_028649ddf2d0463b8ba274069fd3538e"
      }
     },
     "8628157ef1a6402c916b6aba0ade2fef": {
      "model_module": "@jupyter-widgets/base",
      "model_module_version": "1.2.0",
      "model_name": "LayoutModel",
      "state": {
       "width": "auto"
      }
     },
     "862f597af3ed407c923f68438155e48d": {
      "model_module": "@jupyter-widgets/controls",
      "model_module_version": "1.5.0",
      "model_name": "DescriptionStyleModel",
      "state": {
       "description_width": ""
      }
     },
     "8633114e62cf4c60adc1fcb99ab249e9": {
      "model_module": "@jupyter-widgets/controls",
      "model_module_version": "1.5.0",
      "model_name": "LabelModel",
      "state": {
       "layout": "IPY_MODEL_a5b90a4ad5dd4d5991112237755807ea",
       "style": "IPY_MODEL_4aacfea4d9cf4e0a84e5a474e891d26b",
       "value": "Created Repo"
      }
     },
     "864efb4d896b48178dfa57a5eb6b078b": {
      "model_module": "@jupyter-widgets/controls",
      "model_module_version": "1.5.0",
      "model_name": "ToggleButtonsModel",
      "state": {
       "_options_labels": [
        "Public",
        "Private"
       ],
       "button_style": "info",
       "icons": [],
       "index": 0,
       "layout": "IPY_MODEL_7ce29bd346f6480fb2fbed2daa050de5",
       "style": "IPY_MODEL_93b4cbf15b104ebe984b0b90288a8fb3",
       "tooltips": []
      }
     },
     "86641784a6974cb89033c9b96b4e5851": {
      "model_module": "@jupyter-widgets/base",
      "model_module_version": "1.2.0",
      "model_name": "LayoutModel",
      "state": {}
     },
     "867686cd107d4ca4b6c34fb49d07be73": {
      "model_module": "@jupyter-widgets/controls",
      "model_module_version": "1.5.0",
      "model_name": "DescriptionStyleModel",
      "state": {
       "description_width": ""
      }
     },
     "869b22b8ed7e4f829bdcbceee34c10e7": {
      "model_module": "@jupyter-widgets/base",
      "model_module_version": "1.2.0",
      "model_name": "LayoutModel",
      "state": {}
     },
     "86e0a50ddff540658e850903a8b9d08e": {
      "model_module": "@jupyter-widgets/base",
      "model_module_version": "1.2.0",
      "model_name": "LayoutModel",
      "state": {
       "align_items": "center",
       "display": "none"
      }
     },
     "86e55f8d08c948ff8001bdb82e6a4c08": {
      "model_module": "@jupyter-widgets/base",
      "model_module_version": "1.2.0",
      "model_name": "LayoutModel",
      "state": {}
     },
     "8732eb1a76fb494aa2b2a3634880bb62": {
      "model_module": "@jupyter-widgets/base",
      "model_module_version": "1.2.0",
      "model_name": "LayoutModel",
      "state": {
       "width": "100px"
      }
     },
     "876ab61a3e7f4064bf13cfc1cf697021": {
      "model_module": "@jupyter-widgets/base",
      "model_module_version": "1.2.0",
      "model_name": "LayoutModel",
      "state": {
       "align_items": "center",
       "justify_content": "center"
      }
     },
     "8793fb0c3f754821a0405cb0f04dec87": {
      "model_module": "@jupyter-widgets/controls",
      "model_module_version": "1.5.0",
      "model_name": "LabelModel",
      "state": {
       "layout": "IPY_MODEL_b31a1dde3f254699a876ffceec348f58",
       "style": "IPY_MODEL_456730f485c2498c8a48ec5688a18379",
       "value": "5 months ago"
      }
     },
     "87ab63310a194928be8878b3102e184a": {
      "model_module": "@jupyter-widgets/controls",
      "model_module_version": "1.5.0",
      "model_name": "DescriptionStyleModel",
      "state": {
       "description_width": ""
      }
     },
     "87aceee0b8e3450ea322e1d2a20a050d": {
      "model_module": "@jupyter-widgets/base",
      "model_module_version": "1.2.0",
      "model_name": "LayoutModel",
      "state": {}
     },
     "87e31b6d212a48ee97499a2c8a599dda": {
      "model_module": "@jupyter-widgets/base",
      "model_module_version": "1.2.0",
      "model_name": "LayoutModel",
      "state": {
       "width": "auto"
      }
     },
     "87ed96bbb70f4adfbdc23336469ecec8": {
      "model_module": "@jupyter-widgets/controls",
      "model_module_version": "1.5.0",
      "model_name": "HTMLModel",
      "state": {
       "layout": "IPY_MODEL_516895a8246c4a3faba577a10c8b1274",
       "style": "IPY_MODEL_d54fddb1b3c94c26b75d4f332aff20ff",
       "value": "<h3 style='padding:0;margin:0;'>&nbsp &nbsp<a href='https://github.com/SourabhSomdeve/Public_Profile'>Public_Profile</a> &nbsp</h3>"
      }
     },
     "87fba7bcc1d146d38eb42df8f3bce8a0": {
      "model_module": "@jupyter-widgets/controls",
      "model_module_version": "1.5.0",
      "model_name": "DescriptionStyleModel",
      "state": {
       "description_width": ""
      }
     },
     "8823092ee33b4ce899b0ef0b82ca59b8": {
      "model_module": "@jupyter-widgets/controls",
      "model_module_version": "1.5.0",
      "model_name": "HBoxModel",
      "state": {
       "children": [
        "IPY_MODEL_03e61a7a78a9429094bd154f5d41c84e",
        "IPY_MODEL_f7cf45b9c1d34140a8b387d20d970076"
       ],
       "layout": "IPY_MODEL_6e012ec4480e42eea567a776e97508f9"
      }
     },
     "884721c62e994a3b8d541f65be12e1f2": {
      "model_module": "@jupyter-widgets/controls",
      "model_module_version": "1.5.0",
      "model_name": "DescriptionStyleModel",
      "state": {
       "description_width": ""
      }
     },
     "887ab54d1f0a437bbab1bfcd9f2e8faf": {
      "model_module": "@jupyter-widgets/base",
      "model_module_version": "1.2.0",
      "model_name": "LayoutModel",
      "state": {}
     },
     "8893a1b5cea4453d95d452a0c41d7b62": {
      "model_module": "@jupyter-widgets/controls",
      "model_module_version": "1.5.0",
      "model_name": "DescriptionStyleModel",
      "state": {
       "description_width": ""
      }
     },
     "88a2d1a99cc94477b7e1629be54fd050": {
      "model_module": "@jupyter-widgets/controls",
      "model_module_version": "1.5.0",
      "model_name": "HBoxModel",
      "state": {
       "children": [
        "IPY_MODEL_8ef6c7b3474144f1a829e6de42cd8cec",
        "IPY_MODEL_c6993767129542f69e7de8cb058f3473",
        "IPY_MODEL_915e0492610f4b6a8ef1dea00a20f300",
        "IPY_MODEL_619c8dc592c246849d5a4a45e58654d5",
        "IPY_MODEL_3d506bcb3be945f5b17c7281eff72768",
        "IPY_MODEL_2b67a0fac7d947e3a5e00726278feb3b",
        "IPY_MODEL_547dd381c476421ab971b6cd7f6e3665"
       ],
       "layout": "IPY_MODEL_8dc9f36641754c0cb73e65856e426996"
      }
     },
     "88d39b83c129430a8cbad7849e8e0e06": {
      "model_module": "@jupyter-widgets/controls",
      "model_module_version": "1.5.0",
      "model_name": "LabelModel",
      "state": {
       "layout": "IPY_MODEL_b8fc044353974338b3353c4bb4b97287",
       "style": "IPY_MODEL_b7e2a1345a624cdf9e9fcf5e017e8a46",
       "value": "7 months ago"
      }
     },
     "88f39602adad4ee683773e57d73ffbd9": {
      "model_module": "@jupyter-widgets/base",
      "model_module_version": "1.2.0",
      "model_name": "LayoutModel",
      "state": {}
     },
     "88f453ea93584254a6db034f98967bd1": {
      "model_module": "@jupyter-widgets/base",
      "model_module_version": "1.2.0",
      "model_name": "LayoutModel",
      "state": {}
     },
     "891b0f76aedc4c89aa247a34cde961b9": {
      "model_module": "@jupyter-widgets/base",
      "model_module_version": "1.2.0",
      "model_name": "LayoutModel",
      "state": {}
     },
     "89200cf54a594dd2b0add3eb1ba6236d": {
      "model_module": "@jupyter-widgets/base",
      "model_module_version": "1.2.0",
      "model_name": "LayoutModel",
      "state": {}
     },
     "892cc7a622c741739d1f46def534df50": {
      "model_module": "@jupyter-widgets/controls",
      "model_module_version": "1.5.0",
      "model_name": "DescriptionStyleModel",
      "state": {
       "description_width": ""
      }
     },
     "8945dade5ea84d4bb488f4cbd084124b": {
      "model_module": "@jupyter-widgets/base",
      "model_module_version": "1.2.0",
      "model_name": "LayoutModel",
      "state": {
       "width": "100px"
      }
     },
     "8948e55ba93f4313a0e020fa1c3ff929": {
      "model_module": "@jupyter-widgets/base",
      "model_module_version": "1.2.0",
      "model_name": "LayoutModel",
      "state": {}
     },
     "8954a544501d42af9562c0d8b71affb9": {
      "model_module": "@jupyter-widgets/controls",
      "model_module_version": "1.5.0",
      "model_name": "TextModel",
      "state": {
       "description": "Username",
       "layout": "IPY_MODEL_891b0f76aedc4c89aa247a34cde961b9",
       "style": "IPY_MODEL_7029080e0ca44b43aa23b552d68a7e39",
       "value": "pupster90"
      }
     },
     "8971702121d84a4cac360f832d0557d9": {
      "model_module": "@jupyter-widgets/base",
      "model_module_version": "1.2.0",
      "model_name": "LayoutModel",
      "state": {}
     },
     "898b402e3ff449cb820b6a4956db85d2": {
      "model_module": "@jupyter-widgets/base",
      "model_module_version": "1.2.0",
      "model_name": "LayoutModel",
      "state": {}
     },
     "898c32f17ca04b7d9e731b21b41f7a83": {
      "model_module": "@jupyter-widgets/controls",
      "model_module_version": "1.5.0",
      "model_name": "ButtonStyleModel",
      "state": {}
     },
     "89c14a36353a4ae2933c0ec57ff1997f": {
      "model_module": "@jupyter-widgets/base",
      "model_module_version": "1.2.0",
      "model_name": "LayoutModel",
      "state": {}
     },
     "89c4079053d447b38130fd2402a57c66": {
      "model_module": "@jupyter-widgets/base",
      "model_module_version": "1.2.0",
      "model_name": "LayoutModel",
      "state": {}
     },
     "89d0447392fa47608c4c83d6e86105e6": {
      "model_module": "@jupyter-widgets/controls",
      "model_module_version": "1.5.0",
      "model_name": "ButtonModel",
      "state": {
       "button_style": "info",
       "description": "Download",
       "layout": "IPY_MODEL_9d1359fe9a1d42c1939ea8055a3efbbe",
       "style": "IPY_MODEL_e769ea536de94245a290be744c7ceff6"
      }
     },
     "89e2dfcb808c4b60ae0503bf521ae43b": {
      "model_module": "@jupyter-widgets/base",
      "model_module_version": "1.2.0",
      "model_name": "LayoutModel",
      "state": {
       "width": "auto"
      }
     },
     "89e6f408689646dbb72b95cdad4e8212": {
      "model_module": "@jupyter-widgets/base",
      "model_module_version": "1.2.0",
      "model_name": "LayoutModel",
      "state": {}
     },
     "8a0d347d363444cd996f86e77fd1dbe5": {
      "model_module": "@jupyter-widgets/controls",
      "model_module_version": "1.5.0",
      "model_name": "DescriptionStyleModel",
      "state": {
       "description_width": ""
      }
     },
     "8a10a30b116547e6871828dea6ee4b41": {
      "model_module": "@jupyter-widgets/base",
      "model_module_version": "1.2.0",
      "model_name": "LayoutModel",
      "state": {
       "width": "auto"
      }
     },
     "8a13243ea4f6428ba960982e0ede6448": {
      "model_module": "@jupyter-widgets/base",
      "model_module_version": "1.2.0",
      "model_name": "LayoutModel",
      "state": {}
     },
     "8a842418239e4af2925b99e1c408ed7a": {
      "model_module": "@jupyter-widgets/controls",
      "model_module_version": "1.5.0",
      "model_name": "HTMLModel",
      "state": {
       "layout": "IPY_MODEL_f067bd04966c4107938ac0ab60042381",
       "style": "IPY_MODEL_7cd319f72e424f8fb459bc32c17c8201",
       "value": "<font color='orange'> &nbsp Stars: 0</font>"
      }
     },
     "8abd788907a3423bb9fc233af3dd4900": {
      "model_module": "@jupyter-widgets/controls",
      "model_module_version": "1.5.0",
      "model_name": "DescriptionStyleModel",
      "state": {
       "description_width": ""
      }
     },
     "8ace7aadb7e54f5da29ef137a8a1c934": {
      "model_module": "@jupyter-widgets/base",
      "model_module_version": "1.2.0",
      "model_name": "LayoutModel",
      "state": {
       "width": "100px"
      }
     },
     "8ae9417383e24e8daca430ed4c38ed99": {
      "model_module": "@jupyter-widgets/base",
      "model_module_version": "1.2.0",
      "model_name": "LayoutModel",
      "state": {
       "align_items": "center",
       "display": "none"
      }
     },
     "8b02404eb3ee41b7bb74202325223eb5": {
      "model_module": "@jupyter-widgets/controls",
      "model_module_version": "1.5.0",
      "model_name": "ButtonStyleModel",
      "state": {}
     },
     "8b461834d047467ba829b0aeb0ed8360": {
      "model_module": "@jupyter-widgets/base",
      "model_module_version": "1.2.0",
      "model_name": "LayoutModel",
      "state": {}
     },
     "8b6151a5db654390abb203435cd332ca": {
      "model_module": "@jupyter-widgets/base",
      "model_module_version": "1.2.0",
      "model_name": "LayoutModel",
      "state": {}
     },
     "8b726a32a89f4b5c8a899fa7c80f84b7": {
      "model_module": "@jupyter-widgets/controls",
      "model_module_version": "1.5.0",
      "model_name": "DescriptionStyleModel",
      "state": {
       "description_width": ""
      }
     },
     "8b8180bd97674cfcaa59f339e7858152": {
      "model_module": "@jupyter-widgets/controls",
      "model_module_version": "1.5.0",
      "model_name": "LabelModel",
      "state": {
       "layout": "IPY_MODEL_e347a37898bd4b8a93f8b3cd2a3f99f3",
       "style": "IPY_MODEL_a00c480e68df4c5b9e68b7c78621b184",
       "value": "Created Repo"
      }
     },
     "8bcc0e50628b41bcb78f97893903c3ed": {
      "model_module": "@jupyter-widgets/base",
      "model_module_version": "1.2.0",
      "model_name": "LayoutModel",
      "state": {
       "width": "100px"
      }
     },
     "8bf17193c440469199c5a0fd110b73cd": {
      "model_module": "@jupyter-widgets/base",
      "model_module_version": "1.2.0",
      "model_name": "LayoutModel",
      "state": {}
     },
     "8bf31affd958456e9c9d0b83ec90c2a8": {
      "model_module": "@jupyter-widgets/controls",
      "model_module_version": "1.5.0",
      "model_name": "DescriptionStyleModel",
      "state": {
       "description_width": ""
      }
     },
     "8c3a52997a6d43a58fe5825a41f9f659": {
      "model_module": "@jupyter-widgets/controls",
      "model_module_version": "1.5.0",
      "model_name": "PasswordModel",
      "state": {
       "description": "Password",
       "layout": "IPY_MODEL_cd166fe214f045ec867c13981ae31a6f",
       "style": "IPY_MODEL_f1f120e78e9545a1a6bcdcfaf2c3443a",
       "value": "Sir Puppington90"
      }
     },
     "8c3ca8f9a17a4f198145fd17e48a60dc": {
      "model_module": "@jupyter-widgets/controls",
      "model_module_version": "1.5.0",
      "model_name": "VBoxModel",
      "state": {
       "children": [
        "IPY_MODEL_052192d707d447f887dbd6b85648d1cf",
        "IPY_MODEL_23abfa3c7e8f47e3b1de756407b8ddf4"
       ],
       "layout": "IPY_MODEL_2855bc5480ac45f0b337e105fbd1544f"
      }
     },
     "8c44068268bb4a22bd7e5fe18b690823": {
      "model_module": "@jupyter-widgets/controls",
      "model_module_version": "1.5.0",
      "model_name": "ButtonStyleModel",
      "state": {}
     },
     "8c5dd7edfc2942a9a38a0ffba9649eca": {
      "model_module": "@jupyter-widgets/base",
      "model_module_version": "1.2.0",
      "model_name": "LayoutModel",
      "state": {
       "justify_content": "center",
       "margin": "0 0 0 100px"
      }
     },
     "8cad73ed13414d76a7dfb9b3f252058c": {
      "model_module": "@jupyter-widgets/controls",
      "model_module_version": "1.5.0",
      "model_name": "DescriptionStyleModel",
      "state": {
       "description_width": ""
      }
     },
     "8cd22b5227654d05b6f3241416edb91e": {
      "model_module": "@jupyter-widgets/controls",
      "model_module_version": "1.5.0",
      "model_name": "DescriptionStyleModel",
      "state": {
       "description_width": ""
      }
     },
     "8d0e5daaa04641d9bba4b248d5cc8b9f": {
      "model_module": "@jupyter-widgets/controls",
      "model_module_version": "1.5.0",
      "model_name": "DescriptionStyleModel",
      "state": {
       "description_width": ""
      }
     },
     "8d169d4eab454b57b2b220ac7039da1c": {
      "model_module": "@jupyter-widgets/base",
      "model_module_version": "1.2.0",
      "model_name": "LayoutModel",
      "state": {
       "justify_content": "center",
       "padding": "15px 0 0 0"
      }
     },
     "8d225450247b4d4c9cf168b6275af6eb": {
      "model_module": "@jupyter-widgets/controls",
      "model_module_version": "1.5.0",
      "model_name": "DescriptionStyleModel",
      "state": {
       "description_width": ""
      }
     },
     "8d2fcb6cdba544568a2e5588696786b8": {
      "model_module": "@jupyter-widgets/controls",
      "model_module_version": "1.5.0",
      "model_name": "ButtonModel",
      "state": {
       "button_style": "info",
       "description": "Download",
       "layout": "IPY_MODEL_837fcfb1559349e883eb62bc45f2f4f7",
       "style": "IPY_MODEL_31777a17bb5b4d49a1f15716b6ed188f"
      }
     },
     "8d7bdb69f3ee4c20a71e1792be425165": {
      "model_module": "@jupyter-widgets/base",
      "model_module_version": "1.2.0",
      "model_name": "LayoutModel",
      "state": {
       "width": "auto"
      }
     },
     "8d974d18021c4406872c7ae036a3ae6c": {
      "model_module": "@jupyter-widgets/controls",
      "model_module_version": "1.5.0",
      "model_name": "DescriptionStyleModel",
      "state": {
       "description_width": ""
      }
     },
     "8dc4e065bdeb4bcf8a47ba2d0683b340": {
      "model_module": "@jupyter-widgets/controls",
      "model_module_version": "1.5.0",
      "model_name": "DescriptionStyleModel",
      "state": {
       "description_width": ""
      }
     },
     "8dc9f36641754c0cb73e65856e426996": {
      "model_module": "@jupyter-widgets/base",
      "model_module_version": "1.2.0",
      "model_name": "LayoutModel",
      "state": {}
     },
     "8ddbefebd9b24d2bb0b28d39732c86fa": {
      "model_module": "@jupyter-widgets/controls",
      "model_module_version": "1.5.0",
      "model_name": "DescriptionStyleModel",
      "state": {
       "description_width": ""
      }
     },
     "8e2467d4f8784c5ab782d48890867821": {
      "model_module": "@jupyter-widgets/controls",
      "model_module_version": "1.5.0",
      "model_name": "DescriptionStyleModel",
      "state": {
       "description_width": ""
      }
     },
     "8e3630fd5a44477caa74d6e536e3ca2e": {
      "model_module": "@jupyter-widgets/controls",
      "model_module_version": "1.5.0",
      "model_name": "DescriptionStyleModel",
      "state": {
       "description_width": ""
      }
     },
     "8e3911e7550f4f7982b4af5fcbb13c76": {
      "model_module": "@jupyter-widgets/controls",
      "model_module_version": "1.5.0",
      "model_name": "DescriptionStyleModel",
      "state": {
       "description_width": ""
      }
     },
     "8e7cc33b605246839f51e8545116ab1e": {
      "model_module": "@jupyter-widgets/base",
      "model_module_version": "1.2.0",
      "model_name": "LayoutModel",
      "state": {
       "width": "100px"
      }
     },
     "8e7dee218d384a7fa9b1accc14fc56a3": {
      "model_module": "@jupyter-widgets/base",
      "model_module_version": "1.2.0",
      "model_name": "LayoutModel",
      "state": {}
     },
     "8e91bc1db14c446e92da212b13bb301f": {
      "model_module": "@jupyter-widgets/base",
      "model_module_version": "1.2.0",
      "model_name": "LayoutModel",
      "state": {}
     },
     "8ee7e5850d4546aabd807a05d98a3b29": {
      "model_module": "@jupyter-widgets/controls",
      "model_module_version": "1.5.0",
      "model_name": "HTMLModel",
      "state": {
       "layout": "IPY_MODEL_869b22b8ed7e4f829bdcbceee34c10e7",
       "style": "IPY_MODEL_addafda0a974428188a6d2854fbc47f6",
       "value": "<h5 style='padding:0;margin:0;'>&nbsp <a href='https://github.com/derekguo31' style='color:silver'>derekguo31</a> &nbsp</h5>"
      }
     },
     "8eea9aa776fe4aefa057d4eecd8fd217": {
      "model_module": "@jupyter-widgets/controls",
      "model_module_version": "1.5.0",
      "model_name": "ButtonStyleModel",
      "state": {}
     },
     "8ef6c7b3474144f1a829e6de42cd8cec": {
      "model_module": "@jupyter-widgets/controls",
      "model_module_version": "1.5.0",
      "model_name": "LabelModel",
      "state": {
       "layout": "IPY_MODEL_eb5c243a3cd948118fa48df09362ec4b",
       "style": "IPY_MODEL_20e93cae4f4d4a27b15c20cde8dd14d8",
       "value": "1 month ago"
      }
     },
     "8f19055e8b184436936732a47f57754b": {
      "model_module": "@jupyter-widgets/controls",
      "model_module_version": "1.5.0",
      "model_name": "LabelModel",
      "state": {
       "layout": "IPY_MODEL_a5171547373d41b1a570decf83caddb2",
       "style": "IPY_MODEL_821506bdac4249129a7c3bb96b401493"
      }
     },
     "8f6aae3f862b4b56b86f9ee43db81757": {
      "model_module": "@jupyter-widgets/controls",
      "model_module_version": "1.5.0",
      "model_name": "DescriptionStyleModel",
      "state": {
       "description_width": ""
      }
     },
     "8f705e7f2fda425dba252cc6f4767743": {
      "model_module": "@jupyter-widgets/controls",
      "model_module_version": "1.5.0",
      "model_name": "HBoxModel",
      "state": {
       "children": [
        "IPY_MODEL_8954a544501d42af9562c0d8b71affb9",
        "IPY_MODEL_2ea147c5bca84ab9b4ad5dda88727d77",
        "IPY_MODEL_03e61a7a78a9429094bd154f5d41c84e",
        "IPY_MODEL_f7cf45b9c1d34140a8b387d20d970076"
       ],
       "layout": "IPY_MODEL_21d28c93d67a42b1894c7ef35921a819"
      }
     },
     "8f85ad859d4b4355a6a3362b69ce5115": {
      "model_module": "@jupyter-widgets/controls",
      "model_module_version": "1.5.0",
      "model_name": "ButtonStyleModel",
      "state": {}
     },
     "8fc553ab527644978bfe0fd0af2aa3f0": {
      "model_module": "@jupyter-widgets/controls",
      "model_module_version": "1.5.0",
      "model_name": "DescriptionStyleModel",
      "state": {
       "description_width": ""
      }
     },
     "8fcc7bc1b7b442f69753293ac4c0a484": {
      "model_module": "@jupyter-widgets/controls",
      "model_module_version": "1.5.0",
      "model_name": "DescriptionStyleModel",
      "state": {
       "description_width": ""
      }
     },
     "8fdcff8ced2e4b3e93bab5539f112414": {
      "model_module": "@jupyter-widgets/controls",
      "model_module_version": "1.5.0",
      "model_name": "HTMLModel",
      "state": {
       "layout": "IPY_MODEL_0fdaf9ab7336466f90832abbe89ef0f3",
       "style": "IPY_MODEL_2ea1b658a79d46fcb5bf5f499cd9fed0",
       "value": "<font color='green'> &nbsp Downloads: 0</font>"
      }
     },
     "9065f81e27594214b32c107471fb383c": {
      "model_module": "@jupyter-widgets/base",
      "model_module_version": "1.2.0",
      "model_name": "LayoutModel",
      "state": {
       "width": "100px"
      }
     },
     "908494ef55e04f489a1b3cad9f40e221": {
      "model_module": "@jupyter-widgets/controls",
      "model_module_version": "1.5.0",
      "model_name": "DescriptionStyleModel",
      "state": {
       "description_width": ""
      }
     },
     "908e363e1c3942a9ae1f802267fd8aec": {
      "model_module": "@jupyter-widgets/controls",
      "model_module_version": "1.5.0",
      "model_name": "ButtonStyleModel",
      "state": {}
     },
     "90bb7efafd844ab89a78808bac4fa013": {
      "model_module": "@jupyter-widgets/base",
      "model_module_version": "1.2.0",
      "model_name": "LayoutModel",
      "state": {}
     },
     "90c4f32c4d914c4f8fc9a4c13a61e474": {
      "model_module": "@jupyter-widgets/controls",
      "model_module_version": "1.5.0",
      "model_name": "HTMLModel",
      "state": {
       "layout": "IPY_MODEL_e3dcfd0d1a2847d796f8dec782611773",
       "style": "IPY_MODEL_493f037b2ba74c25bec47ca893138ff4",
       "value": "<h3 style='padding:0;margin:0;'>&nbsp &nbsp<a href='https://github.com/SSRGHVN/707proj'>707proj</a> &nbsp</h3>"
      }
     },
     "90d10d31539c40dd816e518536129ce7": {
      "model_module": "@jupyter-widgets/base",
      "model_module_version": "1.2.0",
      "model_name": "LayoutModel",
      "state": {
       "width": "100px"
      }
     },
     "90d9e89257394c8fb0e2ab3a62f9bbde": {
      "model_module": "@jupyter-widgets/base",
      "model_module_version": "1.2.0",
      "model_name": "LayoutModel",
      "state": {}
     },
     "90e653bb187a47aa8625a30523f491e3": {
      "model_module": "@jupyter-widgets/controls",
      "model_module_version": "1.5.0",
      "model_name": "ButtonModel",
      "state": {
       "button_style": "success",
       "description": "Publish",
       "layout": "IPY_MODEL_74af4a235df04ceba3b7b0cfdffe58a5",
       "style": "IPY_MODEL_3232b50b685640cda957de238ea27b4a"
      }
     },
     "90ea4cad690d4d74a17e82deaaa355d0": {
      "model_module": "@jupyter-widgets/controls",
      "model_module_version": "1.5.0",
      "model_name": "DescriptionStyleModel",
      "state": {
       "description_width": ""
      }
     },
     "90eab7b92f0b41e785bbe673652e1940": {
      "model_module": "@jupyter-widgets/base",
      "model_module_version": "1.2.0",
      "model_name": "LayoutModel",
      "state": {
       "width": "auto"
      }
     },
     "90ecac2925294273b4c7c230343f8a82": {
      "model_module": "@jupyter-widgets/controls",
      "model_module_version": "1.5.0",
      "model_name": "VBoxModel",
      "state": {
       "children": [
        "IPY_MODEL_a704a14ead5749b5ae64d836a56ca867",
        "IPY_MODEL_683b505153904f9489a8ad1af83c672c"
       ],
       "layout": "IPY_MODEL_141818c966d34d11a28e380732e12ee2"
      }
     },
     "911531a87434484986d43725c7f9cb8e": {
      "model_module": "@jupyter-widgets/controls",
      "model_module_version": "1.5.0",
      "model_name": "VBoxModel",
      "state": {
       "children": [
        "IPY_MODEL_b7709c8d59a041d5bc6e5cd9a16ee970",
        "IPY_MODEL_4d77ac69adb346fea4579781b7759c04"
       ],
       "layout": "IPY_MODEL_47dd5bf45126491bb5c281daaaf4ed13"
      }
     },
     "911eb667f5e3411f8d9f0ed173ac77b3": {
      "model_module": "@jupyter-widgets/controls",
      "model_module_version": "1.5.0",
      "model_name": "HTMLModel",
      "state": {
       "layout": "IPY_MODEL_f785b810b029428991f50df4c6e8e958",
       "style": "IPY_MODEL_457d0d80c60645a58b896bc87d6d46a8",
       "value": "<font color='orange'> &nbsp Stars: 0</font>"
      }
     },
     "913aa131f4cb4a4fa036452a0a9b55aa": {
      "model_module": "@jupyter-widgets/base",
      "model_module_version": "1.2.0",
      "model_name": "LayoutModel",
      "state": {}
     },
     "91410d9a69a04368a80d728e5a00ec05": {
      "model_module": "@jupyter-widgets/controls",
      "model_module_version": "1.5.0",
      "model_name": "DescriptionStyleModel",
      "state": {
       "description_width": ""
      }
     },
     "9150956958524b09af6ccbbf7cc91766": {
      "model_module": "@jupyter-widgets/base",
      "model_module_version": "1.2.0",
      "model_name": "LayoutModel",
      "state": {
       "width": "auto"
      }
     },
     "915e0492610f4b6a8ef1dea00a20f300": {
      "model_module": "@jupyter-widgets/controls",
      "model_module_version": "1.5.0",
      "model_name": "HTMLModel",
      "state": {
       "layout": "IPY_MODEL_69063f2df8374443ab9aa6af7857be6a",
       "style": "IPY_MODEL_6103104dd66c458c963fc529105b8c16",
       "value": "<font color='green'> &nbsp Downloads: 0</font>"
      }
     },
     "917a474cbddb4ccb9997961b10fb8db5": {
      "model_module": "@jupyter-widgets/controls",
      "model_module_version": "1.5.0",
      "model_name": "HBoxModel",
      "state": {
       "children": [
        "IPY_MODEL_dc74b4fa2a8043f291e69a5ff673d76d",
        "IPY_MODEL_aa9f7db947154aa1b3dea86b074724a4",
        "IPY_MODEL_146bb4cfc24e4fc5974bbd9d418bb73a",
        "IPY_MODEL_f7fcee65881e41f6a742897594eb6914",
        "IPY_MODEL_21d67825adc9468d9cde5a70ace25cde",
        "IPY_MODEL_0a5872f955334eef89b9d1c221a9d9aa",
        "IPY_MODEL_a7f39b8aeaa24a458bdf613c344a05ee"
       ],
       "layout": "IPY_MODEL_3a6b4c29e1254568b11e59e365cd14ea"
      }
     },
     "91c6b41d9dd74b8e8e22d220f6e643d9": {
      "model_module": "@jupyter-widgets/base",
      "model_module_version": "1.2.0",
      "model_name": "LayoutModel",
      "state": {}
     },
     "9232978f264f4d54b3c408273fc202a6": {
      "model_module": "@jupyter-widgets/base",
      "model_module_version": "1.2.0",
      "model_name": "LayoutModel",
      "state": {}
     },
     "923bfa537106409f963d28df89b3cd87": {
      "model_module": "@jupyter-widgets/controls",
      "model_module_version": "1.5.0",
      "model_name": "HTMLModel",
      "state": {
       "layout": "IPY_MODEL_57a90cbe1dae40d29758ce1ff5829506",
       "style": "IPY_MODEL_a0258cef23b542819cea978aac44c723",
       "value": "<font color='orange'> &nbsp Stars: 0</font>"
      }
     },
     "92500ae86bca46d4a729ab6f0b19a9e6": {
      "model_module": "@jupyter-widgets/controls",
      "model_module_version": "1.5.0",
      "model_name": "DescriptionStyleModel",
      "state": {
       "description_width": ""
      }
     },
     "92814d20317f45f5b55bd0c30262167a": {
      "model_module": "@jupyter-widgets/controls",
      "model_module_version": "1.5.0",
      "model_name": "ButtonStyleModel",
      "state": {}
     },
     "929bf980de074fd6a8bc0a49aaa8c730": {
      "model_module": "@jupyter-widgets/controls",
      "model_module_version": "1.5.0",
      "model_name": "DescriptionStyleModel",
      "state": {
       "description_width": ""
      }
     },
     "92a582cf880d4737a9b86acbe4738f34": {
      "model_module": "@jupyter-widgets/base",
      "model_module_version": "1.2.0",
      "model_name": "LayoutModel",
      "state": {
       "width": "auto"
      }
     },
     "92ad47d2c3b347e89d07ee9989e7d75a": {
      "model_module": "@jupyter-widgets/base",
      "model_module_version": "1.2.0",
      "model_name": "LayoutModel",
      "state": {}
     },
     "92bb8ecdd5a84968ac0211434ca1ee39": {
      "model_module": "@jupyter-widgets/controls",
      "model_module_version": "1.5.0",
      "model_name": "ButtonModel",
      "state": {
       "button_style": "info",
       "description": "Download",
       "layout": "IPY_MODEL_fd835bf531184e0d9305290a07700387",
       "style": "IPY_MODEL_32155a7c886a4f60abdbd5c1394bfc00"
      }
     },
     "92bf01e4f90849b9b96536bb52767e21": {
      "model_module": "@jupyter-widgets/controls",
      "model_module_version": "1.5.0",
      "model_name": "ToggleButtonsStyleModel",
      "state": {
       "button_width": "",
       "description_width": ""
      }
     },
     "92c448dac7b0468798b00cb4c53255e8": {
      "model_module": "@jupyter-widgets/base",
      "model_module_version": "1.2.0",
      "model_name": "LayoutModel",
      "state": {}
     },
     "92ce3a9d890c4729b8af962acd135edc": {
      "model_module": "@jupyter-widgets/controls",
      "model_module_version": "1.5.0",
      "model_name": "HTMLModel",
      "state": {
       "layout": "IPY_MODEL_17e4f85cf5c64b98b416b8d60e060521",
       "style": "IPY_MODEL_dfff817c1f0840bb9d04728755c10b6d",
       "value": "<h3>Lab: <font color='red'>Not Set</font></h3>"
      }
     },
     "92d3c8a97ffe4d4f8a44de82e428735c": {
      "model_module": "@jupyter-widgets/controls",
      "model_module_version": "1.5.0",
      "model_name": "ButtonModel",
      "state": {
       "button_style": "warning",
       "description": "add",
       "layout": "IPY_MODEL_29ca87fad4994a35b7eb517e70179875",
       "style": "IPY_MODEL_018350019209469f898c6cb9bd93571b"
      }
     },
     "93067b2d53264c03ac5b92e8fc934b59": {
      "model_module": "@jupyter-widgets/controls",
      "model_module_version": "1.5.0",
      "model_name": "DescriptionStyleModel",
      "state": {
       "description_width": ""
      }
     },
     "93161e92f9204435bb4a8eccf189be93": {
      "model_module": "@jupyter-widgets/base",
      "model_module_version": "1.2.0",
      "model_name": "LayoutModel",
      "state": {}
     },
     "931af6442e2343429264d0cf4b65125b": {
      "model_module": "@jupyter-widgets/controls",
      "model_module_version": "1.5.0",
      "model_name": "ButtonStyleModel",
      "state": {}
     },
     "934029f433424b2d878d7c2a1b6d6ece": {
      "model_module": "@jupyter-widgets/controls",
      "model_module_version": "1.5.0",
      "model_name": "ButtonModel",
      "state": {
       "button_style": "success",
       "description": "Set",
       "layout": "IPY_MODEL_b864348022fe499ebc34b255ebb73a3d",
       "style": "IPY_MODEL_52a31fc264dd4ddb8519addb3a8eca06"
      }
     },
     "934639a4e5e240fc9894cbd3fdd0dcf0": {
      "model_module": "@jupyter-widgets/base",
      "model_module_version": "1.2.0",
      "model_name": "LayoutModel",
      "state": {}
     },
     "93584818e3874e3cac8b2daf29c15f51": {
      "model_module": "@jupyter-widgets/controls",
      "model_module_version": "1.5.0",
      "model_name": "DescriptionStyleModel",
      "state": {
       "description_width": ""
      }
     },
     "9366c7559e3e477f9742199b73fa9d4e": {
      "model_module": "@jupyter-widgets/controls",
      "model_module_version": "1.5.0",
      "model_name": "DescriptionStyleModel",
      "state": {
       "description_width": ""
      }
     },
     "9366d54393d24ace8bb76abab999f5e8": {
      "model_module": "@jupyter-widgets/controls",
      "model_module_version": "1.5.0",
      "model_name": "ButtonStyleModel",
      "state": {}
     },
     "93950dec1c3b4934825d41226b353695": {
      "model_module": "@jupyter-widgets/base",
      "model_module_version": "1.2.0",
      "model_name": "LayoutModel",
      "state": {}
     },
     "93adcd2248f3430b95228a5927dfeecb": {
      "model_module": "@jupyter-widgets/controls",
      "model_module_version": "1.5.0",
      "model_name": "LabelModel",
      "state": {
       "layout": "IPY_MODEL_0d39319564b54acca7a48c2737e3517e",
       "style": "IPY_MODEL_c2619677bd9740ada9e8ae5027fe1ff7",
       "value": "3 months ago"
      }
     },
     "93b4cbf15b104ebe984b0b90288a8fb3": {
      "model_module": "@jupyter-widgets/controls",
      "model_module_version": "1.5.0",
      "model_name": "ToggleButtonsStyleModel",
      "state": {
       "button_width": "",
       "description_width": ""
      }
     },
     "93d656cbb94040bcaf78c2e538ba4147": {
      "model_module": "@jupyter-widgets/controls",
      "model_module_version": "1.5.0",
      "model_name": "DescriptionStyleModel",
      "state": {
       "description_width": ""
      }
     },
     "9456c8612ca742f4aecdd3ca6dfe97cc": {
      "model_module": "@jupyter-widgets/base",
      "model_module_version": "1.2.0",
      "model_name": "LayoutModel",
      "state": {
       "width": "100px"
      }
     },
     "94ae9c4975b74c8794d535bb06829eb6": {
      "model_module": "@jupyter-widgets/controls",
      "model_module_version": "1.5.0",
      "model_name": "ButtonModel",
      "state": {
       "button_style": "warning",
       "description": "add",
       "layout": "IPY_MODEL_bc3e2f3777714d9d96b61d5e599650a1",
       "style": "IPY_MODEL_b07323b926544251a80547eacb96c60c"
      }
     },
     "94b0c2bb1fc647299a1a92ed01fd4899": {
      "model_module": "@jupyter-widgets/controls",
      "model_module_version": "1.5.0",
      "model_name": "ButtonStyleModel",
      "state": {}
     },
     "94b1b5deef354a79a5c03eda4f72f8ca": {
      "model_module": "@jupyter-widgets/controls",
      "model_module_version": "1.5.0",
      "model_name": "HBoxModel",
      "state": {
       "children": [
        "IPY_MODEL_610775b4814847ef8e08748317b628d4",
        "IPY_MODEL_a64aaa2d715e4dfeba7e054a471f1924",
        "IPY_MODEL_34044c737e4d46b88c28a4e0bd2144a8"
       ],
       "layout": "IPY_MODEL_01d44412932540249804c4a32f474d90"
      }
     },
     "94cc64ae8a7c46509d7022897c07ffad": {
      "model_module": "@jupyter-widgets/controls",
      "model_module_version": "1.5.0",
      "model_name": "LabelModel",
      "state": {
       "layout": "IPY_MODEL_f62c90e214ca4a6b9c853a62d0b14b34",
       "style": "IPY_MODEL_80d44044ae2040478be9f309b876e550",
       "value": "5 months ago"
      }
     },
     "94f8647a7cf941deb9304a10d012a78d": {
      "model_module": "@jupyter-widgets/base",
      "model_module_version": "1.2.0",
      "model_name": "LayoutModel",
      "state": {}
     },
     "94fb1c8a50c64c0bad3ba66a5239e2cb": {
      "model_module": "@jupyter-widgets/controls",
      "model_module_version": "1.5.0",
      "model_name": "HBoxModel",
      "state": {
       "children": [
        "IPY_MODEL_5c9aea95f04a4e95a9960e9ee0fa6801",
        "IPY_MODEL_244a6ab98d514274b7cec026d01e9936",
        "IPY_MODEL_5498202ae08748ff9566d1947ff035d8",
        "IPY_MODEL_d717c220e2e1438b94c18898cd9e8cd7",
        "IPY_MODEL_e07e517374eb461f98e7efea9a46542d",
        "IPY_MODEL_9bd12241171849d2be3ab1210d949b44",
        "IPY_MODEL_0fedec5034da45ab9a82d81a8bdc7236"
       ],
       "layout": "IPY_MODEL_b1ae7d3e8c9a475a8d24182637b2e279"
      }
     },
     "94fb5b52df2c463bab82d5eebbf3b03e": {
      "model_module": "@jupyter-widgets/base",
      "model_module_version": "1.2.0",
      "model_name": "LayoutModel",
      "state": {}
     },
     "957fae6ce4e54ec8926b298c05f7d874": {
      "model_module": "@jupyter-widgets/base",
      "model_module_version": "1.2.0",
      "model_name": "LayoutModel",
      "state": {}
     },
     "95805c4324e740cea1bc66dd2133a063": {
      "model_module": "@jupyter-widgets/controls",
      "model_module_version": "1.5.0",
      "model_name": "ButtonStyleModel",
      "state": {}
     },
     "95ce949bf1044df59138b9e64a46e992": {
      "model_module": "@jupyter-widgets/controls",
      "model_module_version": "1.5.0",
      "model_name": "DescriptionStyleModel",
      "state": {
       "description_width": ""
      }
     },
     "95ced53b69d546f08cc9298640908222": {
      "model_module": "@jupyter-widgets/controls",
      "model_module_version": "1.5.0",
      "model_name": "DescriptionStyleModel",
      "state": {
       "description_width": ""
      }
     },
     "96085112c0494ac3b8ceac8630418a3e": {
      "model_module": "@jupyter-widgets/base",
      "model_module_version": "1.2.0",
      "model_name": "LayoutModel",
      "state": {}
     },
     "9609df5c8ff949849a0dd2291bae79e9": {
      "model_module": "@jupyter-widgets/base",
      "model_module_version": "1.2.0",
      "model_name": "LayoutModel",
      "state": {}
     },
     "96313e45046e40138ec1a39a95ab2d73": {
      "model_module": "@jupyter-widgets/base",
      "model_module_version": "1.2.0",
      "model_name": "LayoutModel",
      "state": {
       "width": "100px"
      }
     },
     "96c8bdbfcfe548bbbfc352a98686ce3c": {
      "model_module": "@jupyter-widgets/base",
      "model_module_version": "1.2.0",
      "model_name": "LayoutModel",
      "state": {}
     },
     "96d4e16701aa46fe8c551e7bfed94ece": {
      "model_module": "@jupyter-widgets/base",
      "model_module_version": "1.2.0",
      "model_name": "LayoutModel",
      "state": {
       "width": "100px"
      }
     },
     "96e93d231e84441b959971761c22a107": {
      "model_module": "@jupyter-widgets/controls",
      "model_module_version": "1.5.0",
      "model_name": "LabelModel",
      "state": {
       "layout": "IPY_MODEL_04a843b7aa254c7fbb44373841921b7b",
       "style": "IPY_MODEL_62297968d4764a31bcf7dbab3e592b49",
       "value": "Created Repo"
      }
     },
     "971933fdd5f74baabbf4450765310e0b": {
      "model_module": "@jupyter-widgets/controls",
      "model_module_version": "1.5.0",
      "model_name": "HTMLModel",
      "state": {
       "layout": "IPY_MODEL_78b71a9e04fa4026a1ed66d59b7d2fd0",
       "style": "IPY_MODEL_4ce2217f130f4b4580a60c162afcd4b5",
       "value": "<font color='orange'> &nbsp Stars: 0</font>"
      }
     },
     "9755e3368c094be188da0de0d0c59e81": {
      "model_module": "@jupyter-widgets/controls",
      "model_module_version": "1.5.0",
      "model_name": "DescriptionStyleModel",
      "state": {
       "description_width": ""
      }
     },
     "9762401b2c3e45ee9a5cb91109bdd023": {
      "model_module": "@jupyter-widgets/base",
      "model_module_version": "1.2.0",
      "model_name": "LayoutModel",
      "state": {}
     },
     "9777c8da31194d7abc41042de6730f67": {
      "model_module": "@jupyter-widgets/controls",
      "model_module_version": "1.5.0",
      "model_name": "LabelModel",
      "state": {
       "layout": "IPY_MODEL_7ca81a64dd8f4965a9021ff0a857c7b8",
       "style": "IPY_MODEL_2c5a8bacd0a84dcebdd043ef92e56ce3",
       "value": "6 months ago"
      }
     },
     "97d4e03e6f014b6baf10904866963937": {
      "model_module": "@jupyter-widgets/base",
      "model_module_version": "1.2.0",
      "model_name": "LayoutModel",
      "state": {}
     },
     "97f49f853c3b4bca9b4504ac7824a238": {
      "model_module": "@jupyter-widgets/base",
      "model_module_version": "1.2.0",
      "model_name": "LayoutModel",
      "state": {}
     },
     "98058720329f4062b5238f49a8fd6a23": {
      "model_module": "@jupyter-widgets/controls",
      "model_module_version": "1.5.0",
      "model_name": "DescriptionStyleModel",
      "state": {
       "description_width": ""
      }
     },
     "985bf6f149e341fb88660c1acbb0f9aa": {
      "model_module": "@jupyter-widgets/base",
      "model_module_version": "1.2.0",
      "model_name": "LayoutModel",
      "state": {}
     },
     "98681440f39343b6b9ab03d575337b05": {
      "model_module": "@jupyter-widgets/controls",
      "model_module_version": "1.5.0",
      "model_name": "DescriptionStyleModel",
      "state": {
       "description_width": ""
      }
     },
     "98682d1139ba4f12b3eab963070fd8e1": {
      "model_module": "@jupyter-widgets/controls",
      "model_module_version": "1.5.0",
      "model_name": "HTMLModel",
      "state": {
       "layout": "IPY_MODEL_eb2763e0ac904dd992bd2e1c50fd48bb",
       "style": "IPY_MODEL_1d3a374146384ef3bb91242854a88447",
       "value": "<h3 style='padding:0;margin:0;'>&nbsp &nbsp<a href='https://github.com/SourabhSomdeve/my_first_io_project'>my_first_io_project</a> &nbsp</h3>"
      }
     },
     "9896abf320f347fabe05664be25b7a0c": {
      "model_module": "@jupyter-widgets/controls",
      "model_module_version": "1.5.0",
      "model_name": "ButtonStyleModel",
      "state": {}
     },
     "98bc3216e1b94e7d868a0090f0a7b240": {
      "model_module": "@jupyter-widgets/base",
      "model_module_version": "1.2.0",
      "model_name": "LayoutModel",
      "state": {}
     },
     "98d71cf4158e4f45a01ef86986d8418b": {
      "model_module": "@jupyter-widgets/controls",
      "model_module_version": "1.5.0",
      "model_name": "DescriptionStyleModel",
      "state": {
       "description_width": ""
      }
     },
     "9907580963bf49f3b3ea82872b18ea10": {
      "model_module": "@jupyter-widgets/controls",
      "model_module_version": "1.5.0",
      "model_name": "HBoxModel",
      "state": {
       "children": [
        "IPY_MODEL_3ea94740fe65495ea251c358fbcf9869",
        "IPY_MODEL_6b509b4b309a420d926a47828726bef5",
        "IPY_MODEL_17142188a1574fb0a20fd30013ee7c6f",
        "IPY_MODEL_6b6ad8feddf8448ba4184eb4ef6d7d6e",
        "IPY_MODEL_31776073e9b44ee1be4699c4789dfd2c",
        "IPY_MODEL_aa8df604ce4d45b9bee029d94c8df517",
        "IPY_MODEL_8ee7e5850d4546aabd807a05d98a3b29"
       ],
       "layout": "IPY_MODEL_661457d125d241a6b03417b5cfa9788e"
      }
     },
     "991c9d58bafa4fc6ae60b86e33491477": {
      "model_module": "@jupyter-widgets/controls",
      "model_module_version": "1.5.0",
      "model_name": "ButtonStyleModel",
      "state": {}
     },
     "9950b3c3aa42455c9451bf8a89a7c0da": {
      "model_module": "@jupyter-widgets/controls",
      "model_module_version": "1.5.0",
      "model_name": "DescriptionStyleModel",
      "state": {
       "description_width": ""
      }
     },
     "995385a00c5e4951a54ec5868f473196": {
      "model_module": "@jupyter-widgets/controls",
      "model_module_version": "1.5.0",
      "model_name": "DescriptionStyleModel",
      "state": {
       "description_width": ""
      }
     },
     "995bc1fb787946b9814b9d69d10cdf48": {
      "model_module": "@jupyter-widgets/controls",
      "model_module_version": "1.5.0",
      "model_name": "LabelModel",
      "state": {
       "layout": "IPY_MODEL_83d2299f85d242b98f13d05ce5757544",
       "style": "IPY_MODEL_87ab63310a194928be8878b3102e184a",
       "value": "Created Repo"
      }
     },
     "9964b24f423943259aae6b3842cf8e5d": {
      "model_module": "@jupyter-widgets/base",
      "model_module_version": "1.2.0",
      "model_name": "LayoutModel",
      "state": {
       "width": "auto"
      }
     },
     "997d94f0bb3349fd8388687edc23ee5f": {
      "model_module": "@jupyter-widgets/base",
      "model_module_version": "1.2.0",
      "model_name": "LayoutModel",
      "state": {}
     },
     "9985ccf16aa8400eb2623ed32e0561e7": {
      "model_module": "@jupyter-widgets/controls",
      "model_module_version": "1.5.0",
      "model_name": "HTMLModel",
      "state": {
       "layout": "IPY_MODEL_94fb5b52df2c463bab82d5eebbf3b03e",
       "style": "IPY_MODEL_76f33c07ebe440b09b453c4b018667cf",
       "value": "<font color='green'> &nbsp Downloads: 0</font>"
      }
     },
     "99b0931556794dd79607808779227c68": {
      "model_module": "@jupyter-widgets/controls",
      "model_module_version": "1.5.0",
      "model_name": "DescriptionStyleModel",
      "state": {
       "description_width": ""
      }
     },
     "99ceab71be9a4ef1ae8fe3c0a4f7c8b2": {
      "model_module": "@jupyter-widgets/controls",
      "model_module_version": "1.5.0",
      "model_name": "ButtonStyleModel",
      "state": {}
     },
     "99dee4e485624552bca0ae515c6400b2": {
      "model_module": "@jupyter-widgets/controls",
      "model_module_version": "1.5.0",
      "model_name": "HTMLModel",
      "state": {
       "layout": "IPY_MODEL_58b84a3bf95d45e9869eb93c12214e28",
       "style": "IPY_MODEL_d7afcb94d3c543d886fb30a9480c7b10",
       "value": "<h4><font color='red'>Example : my-lab-23</font></h4>"
      }
     },
     "99e45da6a00a41bd9fa5cf600bb97611": {
      "model_module": "@jupyter-widgets/controls",
      "model_module_version": "1.5.0",
      "model_name": "ButtonStyleModel",
      "state": {}
     },
     "99e537d7553c4312ad99bc212ba9c6ed": {
      "model_module": "@jupyter-widgets/controls",
      "model_module_version": "1.5.0",
      "model_name": "DescriptionStyleModel",
      "state": {
       "description_width": ""
      }
     },
     "9a21d803427a4c64a97026a4575284f2": {
      "model_module": "@jupyter-widgets/controls",
      "model_module_version": "1.5.0",
      "model_name": "DescriptionStyleModel",
      "state": {
       "description_width": ""
      }
     },
     "9a6976f1cd6b40eda54ee2dd1568f977": {
      "model_module": "@jupyter-widgets/controls",
      "model_module_version": "1.5.0",
      "model_name": "DescriptionStyleModel",
      "state": {
       "description_width": ""
      }
     },
     "9a7a5599d13745199b0d02a0ad3332f3": {
      "model_module": "@jupyter-widgets/base",
      "model_module_version": "1.2.0",
      "model_name": "LayoutModel",
      "state": {}
     },
     "9aa27043bae4440d8484fc3777753dbf": {
      "model_module": "@jupyter-widgets/base",
      "model_module_version": "1.2.0",
      "model_name": "LayoutModel",
      "state": {}
     },
     "9ad8149bbb1d4647bf1b4ac4bac82a4a": {
      "model_module": "@jupyter-widgets/controls",
      "model_module_version": "1.5.0",
      "model_name": "HBoxModel",
      "state": {
       "children": [
        "IPY_MODEL_92ce3a9d890c4729b8af962acd135edc",
        "IPY_MODEL_934029f433424b2d878d7c2a1b6d6ece",
        "IPY_MODEL_fd67ca64515743158dbd7e53b55a5145",
        "IPY_MODEL_99dee4e485624552bca0ae515c6400b2",
        "IPY_MODEL_ef764e0c91ea42a4a70c65b035be6725"
       ],
       "layout": "IPY_MODEL_58d6f3883cb246d09c7359b9b1cad9a8"
      }
     },
     "9adbf03643184a24af5c6c1d8cba63be": {
      "model_module": "@jupyter-widgets/base",
      "model_module_version": "1.2.0",
      "model_name": "LayoutModel",
      "state": {}
     },
     "9af3c1c9303f441d960aba641d8139cb": {
      "model_module": "@jupyter-widgets/controls",
      "model_module_version": "1.5.0",
      "model_name": "DescriptionStyleModel",
      "state": {
       "description_width": ""
      }
     },
     "9b3f7c343b58467a8fad1aa0e851ea12": {
      "model_module": "@jupyter-widgets/controls",
      "model_module_version": "1.5.0",
      "model_name": "DescriptionStyleModel",
      "state": {
       "description_width": ""
      }
     },
     "9bd12241171849d2be3ab1210d949b44": {
      "model_module": "@jupyter-widgets/controls",
      "model_module_version": "1.5.0",
      "model_name": "LabelModel",
      "state": {
       "layout": "IPY_MODEL_bfa742a284274be0a91decd1f86d6c52",
       "style": "IPY_MODEL_6fe45a371b4545ca83e10c0a456e8e44",
       "value": "Created Repo"
      }
     },
     "9bda825d96184412812c06a3c1234eb8": {
      "model_module": "@jupyter-widgets/controls",
      "model_module_version": "1.5.0",
      "model_name": "ButtonStyleModel",
      "state": {}
     },
     "9c08883205af49c7a07a77dc94c9a6cd": {
      "model_module": "@jupyter-widgets/controls",
      "model_module_version": "1.5.0",
      "model_name": "ButtonStyleModel",
      "state": {}
     },
     "9c252be3498a49218eab875892a3d6f1": {
      "model_module": "@jupyter-widgets/controls",
      "model_module_version": "1.5.0",
      "model_name": "DescriptionStyleModel",
      "state": {
       "description_width": ""
      }
     },
     "9c3431597fe74ad491472ad70dba44b3": {
      "model_module": "@jupyter-widgets/controls",
      "model_module_version": "1.5.0",
      "model_name": "LabelModel",
      "state": {
       "layout": "IPY_MODEL_b20efacf288540dbba8ba2584853f8f0",
       "style": "IPY_MODEL_5c16ba1c2f00467aaaf4cb12b70794dc",
       "value": "2 months ago"
      }
     },
     "9c3a0945e637417eac521ace38426480": {
      "model_module": "@jupyter-widgets/controls",
      "model_module_version": "1.5.0",
      "model_name": "HTMLModel",
      "state": {
       "layout": "IPY_MODEL_2df1e2af716042eba758d82cde3afbce",
       "style": "IPY_MODEL_239d04d3600840dba20c015ddde4a492",
       "value": "<font color='orange'> &nbsp Stars: 0</font>"
      }
     },
     "9c6e9a6f08d142c98f04ab557f090969": {
      "model_module": "@jupyter-widgets/controls",
      "model_module_version": "1.5.0",
      "model_name": "ButtonStyleModel",
      "state": {}
     },
     "9cabf825454341f39683c3146b0f2b9a": {
      "model_module": "@jupyter-widgets/base",
      "model_module_version": "1.2.0",
      "model_name": "LayoutModel",
      "state": {}
     },
     "9cdb78681d87489489ad6ead17269181": {
      "model_module": "@jupyter-widgets/base",
      "model_module_version": "1.2.0",
      "model_name": "LayoutModel",
      "state": {}
     },
     "9d1359fe9a1d42c1939ea8055a3efbbe": {
      "model_module": "@jupyter-widgets/base",
      "model_module_version": "1.2.0",
      "model_name": "LayoutModel",
      "state": {
       "width": "auto"
      }
     },
     "9d73c1d8fb5448e7956df68dd9c42ec3": {
      "model_module": "@jupyter-widgets/base",
      "model_module_version": "1.2.0",
      "model_name": "LayoutModel",
      "state": {
       "justify_content": "center",
       "margin": "0 0 0 100px"
      }
     },
     "9d832d7f7cfe45c39d6bf266f5e485e9": {
      "model_module": "@jupyter-widgets/base",
      "model_module_version": "1.2.0",
      "model_name": "LayoutModel",
      "state": {
       "width": "100px"
      }
     },
     "9d8eacd76ad048d7a073d6031e9c5c4d": {
      "model_module": "@jupyter-widgets/controls",
      "model_module_version": "1.5.0",
      "model_name": "DescriptionStyleModel",
      "state": {
       "description_width": ""
      }
     },
     "9e24f8712ec64678a67e21aaa9e09dec": {
      "model_module": "@jupyter-widgets/base",
      "model_module_version": "1.2.0",
      "model_name": "LayoutModel",
      "state": {
       "width": "100px"
      }
     },
     "9e72cf4c4a1848169d47581f8a33c83e": {
      "model_module": "@jupyter-widgets/base",
      "model_module_version": "1.2.0",
      "model_name": "LayoutModel",
      "state": {
       "width": "auto"
      }
     },
     "9e8ef02081d74db8bd0ccfd48b6e2157": {
      "model_module": "@jupyter-widgets/base",
      "model_module_version": "1.2.0",
      "model_name": "LayoutModel",
      "state": {}
     },
     "9eed1c631d8349519e85988ad0349830": {
      "model_module": "@jupyter-widgets/controls",
      "model_module_version": "1.5.0",
      "model_name": "DescriptionStyleModel",
      "state": {
       "description_width": ""
      }
     },
     "9f0c8a70071941c69b4692cc9895c829": {
      "model_module": "@jupyter-widgets/controls",
      "model_module_version": "1.5.0",
      "model_name": "HTMLModel",
      "state": {
       "layout": "IPY_MODEL_a333f3b8151941a6a9a8a5e11dcc9456",
       "style": "IPY_MODEL_8d974d18021c4406872c7ae036a3ae6c",
       "value": "<h3 style='padding:0;margin:0;'>&nbsp &nbsp<a href='https://github.com/SourabhSomdeve/Peter_files'>Peter_files</a> &nbsp</h3>"
      }
     },
     "9ffe41a26a4a46a8980e6457efb55140": {
      "model_module": "@jupyter-widgets/base",
      "model_module_version": "1.2.0",
      "model_name": "LayoutModel",
      "state": {}
     },
     "a00c480e68df4c5b9e68b7c78621b184": {
      "model_module": "@jupyter-widgets/controls",
      "model_module_version": "1.5.0",
      "model_name": "DescriptionStyleModel",
      "state": {
       "description_width": ""
      }
     },
     "a0258cef23b542819cea978aac44c723": {
      "model_module": "@jupyter-widgets/controls",
      "model_module_version": "1.5.0",
      "model_name": "DescriptionStyleModel",
      "state": {
       "description_width": ""
      }
     },
     "a0b30cd11b6949deaafca20c6cf6f846": {
      "model_module": "@jupyter-widgets/controls",
      "model_module_version": "1.5.0",
      "model_name": "DescriptionStyleModel",
      "state": {
       "description_width": ""
      }
     },
     "a0db3be4b7724a588f10a2250a1721d4": {
      "model_module": "@jupyter-widgets/controls",
      "model_module_version": "1.5.0",
      "model_name": "HTMLModel",
      "state": {
       "layout": "IPY_MODEL_3f87ac3f1855421c856375bbb2e38b6a",
       "style": "IPY_MODEL_9755e3368c094be188da0de0d0c59e81",
       "value": "<font color='green'> &nbsp Downloads: 0</font>"
      }
     },
     "a109641279a24c65b34d0564a32a0803": {
      "model_module": "@jupyter-widgets/base",
      "model_module_version": "1.2.0",
      "model_name": "LayoutModel",
      "state": {}
     },
     "a1213891d9904d33bedc30e9a75221bc": {
      "model_module": "@jupyter-widgets/controls",
      "model_module_version": "1.5.0",
      "model_name": "LabelModel",
      "state": {
       "layout": "IPY_MODEL_fcb0300b6d9e44208ee4d3b87722078d",
       "style": "IPY_MODEL_e8408be15d9647e0bcfb93d1e5810d34",
       "value": "5 months ago"
      }
     },
     "a125386dfa34480cbc24db4ad43822fe": {
      "model_module": "@jupyter-widgets/controls",
      "model_module_version": "1.5.0",
      "model_name": "DescriptionStyleModel",
      "state": {
       "description_width": ""
      }
     },
     "a127d6527d93466db5f226893353ed71": {
      "model_module": "@jupyter-widgets/controls",
      "model_module_version": "1.5.0",
      "model_name": "DescriptionStyleModel",
      "state": {
       "description_width": ""
      }
     },
     "a165cad8947d4705a13048c0d7f16f3b": {
      "model_module": "@jupyter-widgets/controls",
      "model_module_version": "1.5.0",
      "model_name": "DescriptionStyleModel",
      "state": {
       "description_width": ""
      }
     },
     "a1b3467f600d4a45af6c99ac966b8d86": {
      "model_module": "@jupyter-widgets/controls",
      "model_module_version": "1.5.0",
      "model_name": "HTMLModel",
      "state": {
       "layout": "IPY_MODEL_58eaf55d5cd14c6a8a4687a2658f4a2f",
       "style": "IPY_MODEL_19262ef4dd404d02859bd3478e41bb36",
       "value": "<font color='green'> &nbsp Downloads: 0</font>"
      }
     },
     "a1d8c954f2a74bb3bd440a05170701ac": {
      "model_module": "@jupyter-widgets/controls",
      "model_module_version": "1.5.0",
      "model_name": "TextModel",
      "state": {
       "layout": "IPY_MODEL_212537cfc33c405f975bde4536ee1a50",
       "style": "IPY_MODEL_d86f92bdc0f847c8a5c1babaa8f64383"
      }
     },
     "a22f3850c7c24010954cfdc61857e99b": {
      "model_module": "@jupyter-widgets/base",
      "model_module_version": "1.2.0",
      "model_name": "LayoutModel",
      "state": {}
     },
     "a28efe92f3424c3a9f15475573bbbd7c": {
      "model_module": "@jupyter-widgets/controls",
      "model_module_version": "1.5.0",
      "model_name": "DescriptionStyleModel",
      "state": {
       "description_width": ""
      }
     },
     "a3091ee41545400483c59148c6729dca": {
      "model_module": "@jupyter-widgets/controls",
      "model_module_version": "1.5.0",
      "model_name": "HBoxModel",
      "state": {
       "children": [
        "IPY_MODEL_749ebef8172a4d02948a5e9e12baa7d1",
        "IPY_MODEL_77c3f3b9616d47f28cb4377d9d9c7644",
        "IPY_MODEL_a1b3467f600d4a45af6c99ac966b8d86",
        "IPY_MODEL_ad8898de75cf4b5ab76493cec6dae19f",
        "IPY_MODEL_cef3d745dca140b39d9880f2373b3434",
        "IPY_MODEL_e0ae3116f11f4a489ab80cd3b2e98236",
        "IPY_MODEL_b1b8e3e6b16d4b1eb58bcc7057e44520"
       ],
       "layout": "IPY_MODEL_697107e68a794882bcee0e9f891ad4b3"
      }
     },
     "a333f3b8151941a6a9a8a5e11dcc9456": {
      "model_module": "@jupyter-widgets/base",
      "model_module_version": "1.2.0",
      "model_name": "LayoutModel",
      "state": {}
     },
     "a3487cb01e2e4bf8a07efc2a7d39ab23": {
      "model_module": "@jupyter-widgets/controls",
      "model_module_version": "1.5.0",
      "model_name": "HTMLMathModel",
      "state": {
       "layout": "IPY_MODEL_bdb361a21b974ba0aa0bd5487ba70d36",
       "style": "IPY_MODEL_ac65e3f310474cb78aae3e3f70bc014a",
       "value": "<h4>Order By Most &nbsp</h4>"
      }
     },
     "a37daa5a74ab4bd880eef14f9c435c99": {
      "model_module": "@jupyter-widgets/controls",
      "model_module_version": "1.5.0",
      "model_name": "DescriptionStyleModel",
      "state": {
       "description_width": ""
      }
     },
     "a37e9646833b4ead867a33d6d4338339": {
      "model_module": "@jupyter-widgets/controls",
      "model_module_version": "1.5.0",
      "model_name": "DescriptionStyleModel",
      "state": {
       "description_width": ""
      }
     },
     "a394369199cd493ab3c7889224e677bf": {
      "model_module": "@jupyter-widgets/controls",
      "model_module_version": "1.5.0",
      "model_name": "HTMLModel",
      "state": {
       "layout": "IPY_MODEL_77eb3aea57e448b19e2c64161ad079a5",
       "style": "IPY_MODEL_7841d31f64f74734accf113760c7dd17",
       "value": "<font color='orange'> &nbsp Stars: 0</font>"
      }
     },
     "a3c8c0caa9b94f15bb7af7e3bc0ec9e9": {
      "model_module": "@jupyter-widgets/controls",
      "model_module_version": "1.5.0",
      "model_name": "ButtonModel",
      "state": {
       "button_style": "success",
       "description": "Login",
       "layout": "IPY_MODEL_ced2cf893fd741909020537f524daee1",
       "style": "IPY_MODEL_d070d35db047468a8f6907f1e7988bfd"
      }
     },
     "a3cb6cf6a1b44d908794003f0a85b8d3": {
      "model_module": "@jupyter-widgets/controls",
      "model_module_version": "1.5.0",
      "model_name": "HTMLModel",
      "state": {
       "layout": "IPY_MODEL_e9538901eb9c45168501436e09d7df79",
       "style": "IPY_MODEL_e64b0b527c4e43c8b5678c805ecbe9b2",
       "value": "<font color='orange'> &nbsp Stars: 0</font>"
      }
     },
     "a3f05be2e52c4e628b6673f8806b9bd8": {
      "model_module": "@jupyter-widgets/controls",
      "model_module_version": "1.5.0",
      "model_name": "ButtonStyleModel",
      "state": {}
     },
     "a4150bf69e854158ae2484b0e6195d74": {
      "model_module": "@jupyter-widgets/controls",
      "model_module_version": "1.5.0",
      "model_name": "HBoxModel",
      "state": {
       "children": [
        "IPY_MODEL_9777c8da31194d7abc41042de6730f67",
        "IPY_MODEL_2b4a7182cad34c08922fee3571efb458",
        "IPY_MODEL_a0db3be4b7724a588f10a2250a1721d4",
        "IPY_MODEL_923bfa537106409f963d28df89b3cd87",
        "IPY_MODEL_4a65802bdc984d2188b2e1ff037948c8",
        "IPY_MODEL_06aeb633623c434db2acdbdd9cfc6565",
        "IPY_MODEL_56fdb0070f584096ab65f4b24bc338aa"
       ],
       "layout": "IPY_MODEL_c19e24f2ae0d474fbdf1c54fec195d70"
      }
     },
     "a4191b9bf00b46fe9113c93d7987691e": {
      "model_module": "@jupyter-widgets/base",
      "model_module_version": "1.2.0",
      "model_name": "LayoutModel",
      "state": {}
     },
     "a41af3e0568643f5938b32055544aa9d": {
      "model_module": "@jupyter-widgets/controls",
      "model_module_version": "1.5.0",
      "model_name": "TextModel",
      "state": {
       "layout": "IPY_MODEL_f00ff1d5d72d4d179008b4e55b611797",
       "style": "IPY_MODEL_03930717f4b646bab7e1756a2e89ad80"
      }
     },
     "a44af3a3ce504ffdbd24ad662e25d539": {
      "model_module": "@jupyter-widgets/controls",
      "model_module_version": "1.5.0",
      "model_name": "HTMLModel",
      "state": {
       "layout": "IPY_MODEL_d6353380310d440dac5a85f2acc5ee7d",
       "style": "IPY_MODEL_5988f4b2501240008e74db512c2efa25",
       "value": "<h5 style='padding:0;margin:0;'>&nbsp <a href='https://github.com/pupster90' style='color:silver'>pupster90</a> &nbsp</h5>"
      }
     },
     "a473ae48e9dd44958fbc0d7320d4cb75": {
      "model_module": "@jupyter-widgets/base",
      "model_module_version": "1.2.0",
      "model_name": "LayoutModel",
      "state": {
       "align_items": "center",
       "justify_content": "center"
      }
     },
     "a50740a074804d8eae8f131ed12cfa64": {
      "model_module": "@jupyter-widgets/base",
      "model_module_version": "1.2.0",
      "model_name": "LayoutModel",
      "state": {}
     },
     "a5171547373d41b1a570decf83caddb2": {
      "model_module": "@jupyter-widgets/base",
      "model_module_version": "1.2.0",
      "model_name": "LayoutModel",
      "state": {}
     },
     "a526b04c9daf4f02ac3548f7d006e1ee": {
      "model_module": "@jupyter-widgets/controls",
      "model_module_version": "1.5.0",
      "model_name": "ButtonStyleModel",
      "state": {}
     },
     "a52be622b5594d38aa94469b0f618f40": {
      "model_module": "@jupyter-widgets/controls",
      "model_module_version": "1.5.0",
      "model_name": "ButtonModel",
      "state": {
       "button_style": "primary",
       "description": " Refresh",
       "icon": "refresh",
       "layout": "IPY_MODEL_3090044beb864cf7b33f06eb92bee84d",
       "style": "IPY_MODEL_2fb32ec2e27f435c8e54e0631348c5aa"
      }
     },
     "a573b8c2a8a14a7a82d862a3a4b430f2": {
      "model_module": "@jupyter-widgets/controls",
      "model_module_version": "1.5.0",
      "model_name": "HTMLModel",
      "state": {
       "layout": "IPY_MODEL_b45f224bca124be6b2b99ab733f1052d",
       "style": "IPY_MODEL_3c1b42bc0bf24d1a84704c295b31e449",
       "value": "<h3 style='padding:0;margin:0;'>&nbsp &nbsp<a href='https://github.com/derekguo31/My_First_Research_Paper'>My_First_Research_Paper</a> &nbsp</h3>"
      }
     },
     "a5b90a4ad5dd4d5991112237755807ea": {
      "model_module": "@jupyter-widgets/base",
      "model_module_version": "1.2.0",
      "model_name": "LayoutModel",
      "state": {}
     },
     "a5cfc4f1dfda4398834c9aea7000a5a1": {
      "model_module": "@jupyter-widgets/controls",
      "model_module_version": "1.5.0",
      "model_name": "ButtonModel",
      "state": {
       "button_style": "primary",
       "description": " Refresh",
       "icon": "refresh",
       "layout": "IPY_MODEL_1b226ca7526a4a729a84735607303928",
       "style": "IPY_MODEL_bc1aabe71df94a2fa2b6e059d7845565"
      }
     },
     "a64aaa2d715e4dfeba7e054a471f1924": {
      "model_module": "@jupyter-widgets/controls",
      "model_module_version": "1.5.0",
      "model_name": "TextModel",
      "state": {
       "layout": "IPY_MODEL_85c0f42d3d6e4d74949208b590325ae7",
       "style": "IPY_MODEL_e9db622561fd4d92945e60dff1d5723e"
      }
     },
     "a68172690f9b424e82d96bb0d04d4fd7": {
      "model_module": "@jupyter-widgets/base",
      "model_module_version": "1.2.0",
      "model_name": "LayoutModel",
      "state": {}
     },
     "a6903f22230242a5b116fab4d94d9fdf": {
      "model_module": "@jupyter-widgets/base",
      "model_module_version": "1.2.0",
      "model_name": "LayoutModel",
      "state": {}
     },
     "a704a14ead5749b5ae64d836a56ca867": {
      "model_module": "@jupyter-widgets/controls",
      "model_module_version": "1.5.0",
      "model_name": "HTMLModel",
      "state": {
       "layout": "IPY_MODEL_06b68f610cc9488a88e0da82ec083738",
       "style": "IPY_MODEL_e9cfc2a2408e4608b693a6a63a2fdb26",
       "value": "<h3 class='text-center'><font color='red'>Logout</font> of <a stc='https://github.com/'>Github </a> &nbsp&nbsp<h3>"
      }
     },
     "a708046394e243b699791f8457c848c1": {
      "model_module": "@jupyter-widgets/controls",
      "model_module_version": "1.5.0",
      "model_name": "LabelModel",
      "state": {
       "layout": "IPY_MODEL_09d90e453bfd4332bf54364b35fc521d",
       "style": "IPY_MODEL_70137a9db7474dc2985d8af7290b86cb",
       "value": "7 months ago"
      }
     },
     "a730c7bae7624b5cae3bb991d0d0de2c": {
      "model_module": "@jupyter-widgets/controls",
      "model_module_version": "1.5.0",
      "model_name": "DescriptionStyleModel",
      "state": {
       "description_width": ""
      }
     },
     "a7371c7daddd4832ae25dcb5593e4375": {
      "model_module": "@jupyter-widgets/controls",
      "model_module_version": "1.5.0",
      "model_name": "HBoxModel",
      "state": {
       "children": [
        "IPY_MODEL_3215b02f3d0645b8a57b888cff171662",
        "IPY_MODEL_8c3a52997a6d43a58fe5825a41f9f659",
        "IPY_MODEL_da9a56736507411187fea08e1a4c3444",
        "IPY_MODEL_68128bd04b4049f5be5cc59aad33907c"
       ],
       "layout": "IPY_MODEL_794377334ec04a26b1945b8d6a2b8330"
      }
     },
     "a74f8fb3654d4e2cb64f782063b2f2c0": {
      "model_module": "@jupyter-widgets/base",
      "model_module_version": "1.2.0",
      "model_name": "LayoutModel",
      "state": {
       "visibility": "visible"
      }
     },
     "a75ace3ac3c74846a442c365ae6a8b7d": {
      "model_module": "@jupyter-widgets/base",
      "model_module_version": "1.2.0",
      "model_name": "LayoutModel",
      "state": {
       "width": "auto"
      }
     },
     "a7ab0193f7c0494e8075a33feaf6f257": {
      "model_module": "@jupyter-widgets/base",
      "model_module_version": "1.2.0",
      "model_name": "LayoutModel",
      "state": {
       "width": "100px"
      }
     },
     "a7c6fbb524fb47628e244675f2689f6e": {
      "model_module": "@jupyter-widgets/base",
      "model_module_version": "1.2.0",
      "model_name": "LayoutModel",
      "state": {}
     },
     "a7f39b8aeaa24a458bdf613c344a05ee": {
      "model_module": "@jupyter-widgets/controls",
      "model_module_version": "1.5.0",
      "model_name": "HTMLModel",
      "state": {
       "layout": "IPY_MODEL_dc0833411fc042bba2b7b22153bef332",
       "style": "IPY_MODEL_c60497db94464a2a807668358fb65f67",
       "value": "<h5 style='padding:0;margin:0;'>&nbsp <a href='https://github.com/ugunal' style='color:silver'>ugunal</a> &nbsp</h5>"
      }
     },
     "a81b8e6d46af49dfbdf7d4aeed98e87b": {
      "model_module": "@jupyter-widgets/controls",
      "model_module_version": "1.5.0",
      "model_name": "ButtonModel",
      "state": {
       "button_style": "info",
       "description": "Download",
       "layout": "IPY_MODEL_17b173b029e248f7982429a5a00e12b2",
       "style": "IPY_MODEL_99ceab71be9a4ef1ae8fe3c0a4f7c8b2"
      }
     },
     "a82458d9af8a4f329ecf2a010504d9cb": {
      "model_module": "@jupyter-widgets/base",
      "model_module_version": "1.2.0",
      "model_name": "LayoutModel",
      "state": {}
     },
     "a844e648065143259f71b9f3f716cddf": {
      "model_module": "@jupyter-widgets/controls",
      "model_module_version": "1.5.0",
      "model_name": "LabelModel",
      "state": {
       "layout": "IPY_MODEL_c6ba07dd745d4fbfa03f412d328adcd4",
       "style": "IPY_MODEL_f39454c4f67f4e43989548758f7106ad",
       "value": "Created Repo"
      }
     },
     "a86eea3da8164d74b489cdc386513aa0": {
      "model_module": "@jupyter-widgets/controls",
      "model_module_version": "1.5.0",
      "model_name": "DescriptionStyleModel",
      "state": {
       "description_width": ""
      }
     },
     "a87008cef8a94cf6be346d8efb990591": {
      "model_module": "@jupyter-widgets/controls",
      "model_module_version": "1.5.0",
      "model_name": "VBoxModel",
      "state": {
       "children": [
        "IPY_MODEL_4a0bf3e9870249dc87991d12476c0b32",
        "IPY_MODEL_86191554ab71485299de1e78f8dfb5cc"
       ],
       "layout": "IPY_MODEL_bca02548b1be41e3a643cd4279b394c1"
      }
     },
     "a89acb899925447ea492da56148345f8": {
      "model_module": "@jupyter-widgets/controls",
      "model_module_version": "1.5.0",
      "model_name": "HTMLModel",
      "state": {
       "layout": "IPY_MODEL_f801753a814540a3b9a2cf6aa479fa93",
       "style": "IPY_MODEL_6bee3e05d2714083ab18c98a5c44293f",
       "value": "<font color='orange'> &nbsp Stars: 4</font>"
      }
     },
     "a8ce59ee50ca4169ad5fdbd63a4bea0a": {
      "model_module": "@jupyter-widgets/base",
      "model_module_version": "1.2.0",
      "model_name": "LayoutModel",
      "state": {}
     },
     "a8e158c680e44d5f9769386798f5c92b": {
      "model_module": "@jupyter-widgets/base",
      "model_module_version": "1.2.0",
      "model_name": "LayoutModel",
      "state": {}
     },
     "a8f2a269d84944cda29a19ef493144f8": {
      "model_module": "@jupyter-widgets/base",
      "model_module_version": "1.2.0",
      "model_name": "LayoutModel",
      "state": {}
     },
     "a9374b6546da447586dc018ad51c55dd": {
      "model_module": "@jupyter-widgets/controls",
      "model_module_version": "1.5.0",
      "model_name": "HTMLModel",
      "state": {
       "layout": "IPY_MODEL_027886718b8048e481e1f0abf9d242bc",
       "style": "IPY_MODEL_c2bda83f7eed43e9a795a787e457b3f0",
       "value": "<font color='orange'> &nbsp Stars: 0</font>"
      }
     },
     "a951bcfae7b84b57b24cff5b4c9f348e": {
      "model_module": "@jupyter-widgets/controls",
      "model_module_version": "1.5.0",
      "model_name": "DescriptionStyleModel",
      "state": {
       "description_width": ""
      }
     },
     "a9717748834d4f5db14cbb1120f9e393": {
      "model_module": "@jupyter-widgets/controls",
      "model_module_version": "1.5.0",
      "model_name": "HTMLModel",
      "state": {
       "layout": "IPY_MODEL_8e7dee218d384a7fa9b1accc14fc56a3",
       "style": "IPY_MODEL_6af73bd6ff55481393878dbf30c05f32",
       "value": "<font color='green'> &nbsp Downloads: 0</font>"
      }
     },
     "a976bf2eecc44a609402abb85632c2ab": {
      "model_module": "@jupyter-widgets/base",
      "model_module_version": "1.2.0",
      "model_name": "LayoutModel",
      "state": {}
     },
     "a988458b8fa2438d93bfd9754dc459a5": {
      "model_module": "@jupyter-widgets/controls",
      "model_module_version": "1.5.0",
      "model_name": "DescriptionStyleModel",
      "state": {
       "description_width": ""
      }
     },
     "a98fc1e60619496aa78fb1016e377509": {
      "model_module": "@jupyter-widgets/controls",
      "model_module_version": "1.5.0",
      "model_name": "ButtonStyleModel",
      "state": {}
     },
     "a9cff590683d45afbfcab76080628201": {
      "model_module": "@jupyter-widgets/controls",
      "model_module_version": "1.5.0",
      "model_name": "ButtonModel",
      "state": {
       "button_style": "danger",
       "icon": "times",
       "layout": "IPY_MODEL_0f91cef103a4421ea827f93175dfca6d",
       "style": "IPY_MODEL_f5fcc51ce3d64c9283f50dface87e6a4"
      }
     },
     "a9da9644795646e18cfaab3a7bf1b959": {
      "model_module": "@jupyter-widgets/base",
      "model_module_version": "1.2.0",
      "model_name": "LayoutModel",
      "state": {
       "align_items": "center"
      }
     },
     "a9e9da1bacaf44d692ffc04b885da846": {
      "model_module": "@jupyter-widgets/controls",
      "model_module_version": "1.5.0",
      "model_name": "LabelModel",
      "state": {
       "layout": "IPY_MODEL_b6cd4423a60f45cc89ad24d00c66e1aa",
       "style": "IPY_MODEL_5b4b13d1dbfd47b1aec0abac835544a1",
       "value": "7 months ago"
      }
     },
     "aa18a271ddb54441a3d710e057bf43ba": {
      "model_module": "@jupyter-widgets/base",
      "model_module_version": "1.2.0",
      "model_name": "LayoutModel",
      "state": {
       "width": "auto"
      }
     },
     "aa283b1abb3e468292e92e55ae9647d9": {
      "model_module": "@jupyter-widgets/controls",
      "model_module_version": "1.5.0",
      "model_name": "HTMLModel",
      "state": {
       "layout": "IPY_MODEL_aaaabbd03661434687e242ee49ba10d9",
       "style": "IPY_MODEL_4dbc96a2bb8e48ecac038ae97d05800a",
       "value": "<h3 class='text-center'><font color='green'>Login</font> to <a stc='https://github.com/'>Github</a><h3>"
      }
     },
     "aa34bc424d1341388407394206c102d0": {
      "model_module": "@jupyter-widgets/controls",
      "model_module_version": "1.5.0",
      "model_name": "DescriptionStyleModel",
      "state": {
       "description_width": ""
      }
     },
     "aa365d1f941e4e60962d4e9af85f5598": {
      "model_module": "@jupyter-widgets/base",
      "model_module_version": "1.2.0",
      "model_name": "LayoutModel",
      "state": {}
     },
     "aa43a3ab50e7414ea2d1dca91805f31f": {
      "model_module": "@jupyter-widgets/base",
      "model_module_version": "1.2.0",
      "model_name": "LayoutModel",
      "state": {}
     },
     "aa56a3cb3e054f8b8521d23db476a5eb": {
      "model_module": "@jupyter-widgets/controls",
      "model_module_version": "1.5.0",
      "model_name": "HBoxModel",
      "state": {
       "children": [
        "IPY_MODEL_fef368f4b1b349bebcfcaf888261043c",
        "IPY_MODEL_132f077a27aa4480b8bc604eaff1fd25",
        "IPY_MODEL_3e6941348fa74954acb91db3148b0bc6",
        "IPY_MODEL_5d74764a9c0140e1aca6e07119c17da7",
        "IPY_MODEL_90c4f32c4d914c4f8fc9a4c13a61e474",
        "IPY_MODEL_8f19055e8b184436936732a47f57754b",
        "IPY_MODEL_13bae08adf574ba0877940a18adea38f"
       ],
       "layout": "IPY_MODEL_d68dae12cae74e088692f9cef08bc5ab"
      }
     },
     "aa8df604ce4d45b9bee029d94c8df517": {
      "model_module": "@jupyter-widgets/controls",
      "model_module_version": "1.5.0",
      "model_name": "LabelModel",
      "state": {
       "layout": "IPY_MODEL_7a947b55e27a4b96a156dbc330211c2f",
       "style": "IPY_MODEL_f3f44588d8d3423984dfe8650d012d9b",
       "value": "Created Repo"
      }
     },
     "aa96f55c85674644823e4b103a0ded95": {
      "model_module": "@jupyter-widgets/base",
      "model_module_version": "1.2.0",
      "model_name": "LayoutModel",
      "state": {
       "justify_content": "center",
       "padding": "15px 0 0 0"
      }
     },
     "aa9f7db947154aa1b3dea86b074724a4": {
      "model_module": "@jupyter-widgets/controls",
      "model_module_version": "1.5.0",
      "model_name": "ButtonModel",
      "state": {
       "button_style": "info",
       "description": "Download",
       "layout": "IPY_MODEL_47c58447e1324717b6ccbf9b09d4ed67",
       "style": "IPY_MODEL_34eacc6ed3e840be923afc91e5e2c764"
      }
     },
     "aaaabbd03661434687e242ee49ba10d9": {
      "model_module": "@jupyter-widgets/base",
      "model_module_version": "1.2.0",
      "model_name": "LayoutModel",
      "state": {}
     },
     "aaab9a05bce9432b9fdc7bee073649f0": {
      "model_module": "@jupyter-widgets/controls",
      "model_module_version": "1.5.0",
      "model_name": "DescriptionStyleModel",
      "state": {
       "description_width": ""
      }
     },
     "aacb86a62f904074aa20bf531eff884d": {
      "model_module": "@jupyter-widgets/controls",
      "model_module_version": "1.5.0",
      "model_name": "HTMLModel",
      "state": {
       "layout": "IPY_MODEL_353c7353614d44d8a9699d9ebc7086ff",
       "style": "IPY_MODEL_6625b7b20a1d4e5c8081ca2a21b337e4",
       "value": "<h3 style='padding:0;margin:0;'>&nbsp &nbsp<a href='https://github.com/igchin/io_Presentation'>io_Presentation</a> &nbsp</h3>"
      }
     },
     "aada046d95044d2f9e2047c73b845089": {
      "model_module": "@jupyter-widgets/base",
      "model_module_version": "1.2.0",
      "model_name": "LayoutModel",
      "state": {}
     },
     "aaf011bc2ee74226bcb7d40c154934dc": {
      "model_module": "@jupyter-widgets/base",
      "model_module_version": "1.2.0",
      "model_name": "LayoutModel",
      "state": {}
     },
     "ab0569f19bc34487b7c98920dac7ba63": {
      "model_module": "@jupyter-widgets/base",
      "model_module_version": "1.2.0",
      "model_name": "LayoutModel",
      "state": {}
     },
     "ab3399a9632c475fa954cab2a870e83b": {
      "model_module": "@jupyter-widgets/controls",
      "model_module_version": "1.5.0",
      "model_name": "HTMLModel",
      "state": {
       "layout": "IPY_MODEL_8a13243ea4f6428ba960982e0ede6448",
       "style": "IPY_MODEL_7a5f01ea95964c8aab5ab0160863f773",
       "value": "<font color='orange'> &nbsp Stars: 0</font>"
      }
     },
     "ab76c88dad67461bbb9d698c52568d75": {
      "model_module": "@jupyter-widgets/controls",
      "model_module_version": "1.5.0",
      "model_name": "HTMLModel",
      "state": {
       "layout": "IPY_MODEL_1ce254ef740b4a55bd401f6feceb3ef3",
       "style": "IPY_MODEL_9c252be3498a49218eab875892a3d6f1",
       "value": "<h5 style='padding:0;margin:0;'>&nbsp <a href='https://github.com/ugunal' style='color:silver'>ugunal</a> &nbsp</h5>"
      }
     },
     "abeb1c5e363f4cdb8194bbefa74b1c4a": {
      "model_module": "@jupyter-widgets/controls",
      "model_module_version": "1.5.0",
      "model_name": "DescriptionStyleModel",
      "state": {
       "description_width": ""
      }
     },
     "ac4a8fce07124efda2e25b9d39cb74af": {
      "model_module": "@jupyter-widgets/controls",
      "model_module_version": "1.5.0",
      "model_name": "HBoxModel",
      "state": {
       "children": [
        "IPY_MODEL_32dd0fe552304ff0afd2c9eed7f96daa",
        "IPY_MODEL_4996bbad6d6947d9ae2c22467deb3b46",
        "IPY_MODEL_4b4d7fe979da4be5ac5d294919a3b582"
       ],
       "layout": "IPY_MODEL_153b22377e3a491792e5a1a0988f7926"
      }
     },
     "ac56f78d7aa74f5c85358c83ca77d95a": {
      "model_module": "@jupyter-widgets/controls",
      "model_module_version": "1.5.0",
      "model_name": "HBoxModel",
      "state": {
       "children": [
        "IPY_MODEL_c5b96d9a7fd14a7cb7be034dbf89f110",
        "IPY_MODEL_313f3ff5c06a470b8e96a7b424a17408",
        "IPY_MODEL_b9b2d82a0f854e35bb9862b9de2ff3f4",
        "IPY_MODEL_7024b23945d841708519623c7263beda",
        "IPY_MODEL_7675aef10ebe4f05aecaee64eba4d340",
        "IPY_MODEL_05b58abe36804b48ad30b36484558b3e",
        "IPY_MODEL_1fb2b79e207c4bdaa69fceea0b67a810"
       ],
       "layout": "IPY_MODEL_60ebfd9e559f4943a8b7a9650afb6437"
      }
     },
     "ac65e3f310474cb78aae3e3f70bc014a": {
      "model_module": "@jupyter-widgets/controls",
      "model_module_version": "1.5.0",
      "model_name": "DescriptionStyleModel",
      "state": {
       "description_width": ""
      }
     },
     "ac8753b30f6048bd8611d2e6794da318": {
      "model_module": "@jupyter-widgets/controls",
      "model_module_version": "1.5.0",
      "model_name": "VBoxModel",
      "state": {
       "children": [
        "IPY_MODEL_d6e52741493a42a3a1b17309d9b14dc8",
        "IPY_MODEL_38e53cceeb6d47d8a186f2b7dcf6de3f",
        "IPY_MODEL_cd42bb5067074a908bfcefa599d984bc",
        "IPY_MODEL_d6db13e0f37248c58b2fb3d68ce55c18"
       ],
       "layout": "IPY_MODEL_52e2100bbff7472da8d8e4b2514b4a03"
      }
     },
     "acb5b065d6d1464c824db109f3780887": {
      "model_module": "@jupyter-widgets/base",
      "model_module_version": "1.2.0",
      "model_name": "LayoutModel",
      "state": {}
     },
     "acdc5343f5724cd7a46929222fff6298": {
      "model_module": "@jupyter-widgets/controls",
      "model_module_version": "1.5.0",
      "model_name": "DescriptionStyleModel",
      "state": {
       "description_width": ""
      }
     },
     "ad3f0241aa3a44cba08c65a8e364f063": {
      "model_module": "@jupyter-widgets/controls",
      "model_module_version": "1.5.0",
      "model_name": "PasswordModel",
      "state": {
       "description": "Password",
       "layout": "IPY_MODEL_33ab7f105be447be83cc128b6eb6746c",
       "style": "IPY_MODEL_aeeca7e5f011474f8063982c98abebd2",
       "value": "Sir Puppington90"
      }
     },
     "ad6b9f09eadb4873ae9f346d56a574de": {
      "model_module": "@jupyter-widgets/controls",
      "model_module_version": "1.5.0",
      "model_name": "DescriptionStyleModel",
      "state": {
       "description_width": ""
      }
     },
     "ad885468c72f4339a06e3962a291fd7c": {
      "model_module": "@jupyter-widgets/controls",
      "model_module_version": "1.5.0",
      "model_name": "HTMLModel",
      "state": {
       "layout": "IPY_MODEL_82068d100aa949aabd4eb49315e11d2c",
       "style": "IPY_MODEL_7f52c91d1bb143e888ca7b37d07b5f19",
       "value": "<font color='orange'> &nbsp Stars: 0</font>"
      }
     },
     "ad8898de75cf4b5ab76493cec6dae19f": {
      "model_module": "@jupyter-widgets/controls",
      "model_module_version": "1.5.0",
      "model_name": "HTMLModel",
      "state": {
       "layout": "IPY_MODEL_1bc35a678b6b48839ebf543c0501ac28",
       "style": "IPY_MODEL_f9810f1e29b74bf2977bfa993ef173ac",
       "value": "<font color='orange'> &nbsp Stars: 0</font>"
      }
     },
     "add06a6f8ef043e2ae1a8fc577968980": {
      "model_module": "@jupyter-widgets/controls",
      "model_module_version": "1.5.0",
      "model_name": "ButtonStyleModel",
      "state": {}
     },
     "addafda0a974428188a6d2854fbc47f6": {
      "model_module": "@jupyter-widgets/controls",
      "model_module_version": "1.5.0",
      "model_name": "DescriptionStyleModel",
      "state": {
       "description_width": ""
      }
     },
     "adf890fb5bc94fe9be180efe12d54ddf": {
      "model_module": "@jupyter-widgets/controls",
      "model_module_version": "1.5.0",
      "model_name": "HTMLModel",
      "state": {
       "layout": "IPY_MODEL_b75a918d99d943c7bdd4fa135dac4426",
       "style": "IPY_MODEL_84f41e8479c84e24a2559abd21170b45",
       "value": "<font color='green'> &nbsp Downloads: 0</font>"
      }
     },
     "ae0a945ec7774b91b3581f6bc186bb06": {
      "model_module": "@jupyter-widgets/controls",
      "model_module_version": "1.5.0",
      "model_name": "HTMLModel",
      "state": {
       "layout": "IPY_MODEL_90d9e89257394c8fb0e2ab3a62f9bbde",
       "style": "IPY_MODEL_9366c7559e3e477f9742199b73fa9d4e",
       "value": "<h5 style='padding:0;margin:0;'>&nbsp <a href='https://github.com/ragyibrahimRNA' style='color:silver'>ragyibrahimRNA</a> &nbsp</h5>"
      }
     },
     "ae1c911e978f4223ae778d9797ee78a1": {
      "model_module": "@jupyter-widgets/controls",
      "model_module_version": "1.5.0",
      "model_name": "HTMLMathModel",
      "state": {
       "layout": "IPY_MODEL_fc163d9159774c2796220fcdc343e9df",
       "style": "IPY_MODEL_c4664f813fbd4dcabb18055aae50e34b"
      }
     },
     "ae3dfb50700143d3b04bb2b23302a930": {
      "model_module": "@jupyter-widgets/controls",
      "model_module_version": "1.5.0",
      "model_name": "DescriptionStyleModel",
      "state": {
       "description_width": ""
      }
     },
     "ae462cb311e540bbb90fed78d07978e8": {
      "model_module": "@jupyter-widgets/controls",
      "model_module_version": "1.5.0",
      "model_name": "DescriptionStyleModel",
      "state": {
       "description_width": ""
      }
     },
     "ae600c36b1fc4675855fd3c4efd246cb": {
      "model_module": "@jupyter-widgets/controls",
      "model_module_version": "1.5.0",
      "model_name": "HTMLModel",
      "state": {
       "layout": "IPY_MODEL_5806db812b614536b025af9c3235bd44",
       "style": "IPY_MODEL_38043bc59d824655bb2613ed53bbfed8",
       "value": "<h3 class='text-center'><font color='red'>Logout</font> of <a stc='https://github.com/'>Github </a> &nbsp&nbsp<h3>"
      }
     },
     "ae7da744091144bda2cf361ac4e6501e": {
      "model_module": "@jupyter-widgets/base",
      "model_module_version": "1.2.0",
      "model_name": "LayoutModel",
      "state": {
       "width": "100px"
      }
     },
     "aeb13abb26ea422fac17245bdf7803d9": {
      "model_module": "@jupyter-widgets/controls",
      "model_module_version": "1.5.0",
      "model_name": "DescriptionStyleModel",
      "state": {
       "description_width": ""
      }
     },
     "aebb0ec9e30c4ebaa54ea187e4008e7e": {
      "model_module": "@jupyter-widgets/controls",
      "model_module_version": "1.5.0",
      "model_name": "HTMLModel",
      "state": {
       "layout": "IPY_MODEL_a8ce59ee50ca4169ad5fdbd63a4bea0a",
       "style": "IPY_MODEL_553e5e12413440ff82f4e2b1e5c06096",
       "value": "<font color='green'> &nbsp Downloads: 0</font>"
      }
     },
     "aeeca7e5f011474f8063982c98abebd2": {
      "model_module": "@jupyter-widgets/controls",
      "model_module_version": "1.5.0",
      "model_name": "DescriptionStyleModel",
      "state": {
       "description_width": ""
      }
     },
     "af2a57bde9824e8eb23adedd448f9331": {
      "model_module": "@jupyter-widgets/controls",
      "model_module_version": "1.5.0",
      "model_name": "HTMLModel",
      "state": {
       "layout": "IPY_MODEL_084b8fdac5374f5f8c60f8df031d43dd",
       "style": "IPY_MODEL_7f2f7c249a174cf0aa30bdc6beac1c58",
       "value": "<font color='orange'> &nbsp Stars: 0</font>"
      }
     },
     "af7165fcb1854b6292819e6c49b0915e": {
      "model_module": "@jupyter-widgets/controls",
      "model_module_version": "1.5.0",
      "model_name": "LabelModel",
      "state": {
       "layout": "IPY_MODEL_e063828a80874d75ba82728ead691dc7",
       "style": "IPY_MODEL_8abd788907a3423bb9fc233af3dd4900",
       "value": "sourabh added code"
      }
     },
     "af8ea583709b4d0589d3de8bdcce0e93": {
      "model_module": "@jupyter-widgets/controls",
      "model_module_version": "1.5.0",
      "model_name": "DescriptionStyleModel",
      "state": {
       "description_width": ""
      }
     },
     "af93ad38c07d4bbbb7128758450ff453": {
      "model_module": "@jupyter-widgets/base",
      "model_module_version": "1.2.0",
      "model_name": "LayoutModel",
      "state": {}
     },
     "afd4ec74b14c4338bdab82929852ed33": {
      "model_module": "@jupyter-widgets/controls",
      "model_module_version": "1.5.0",
      "model_name": "DescriptionStyleModel",
      "state": {
       "description_width": ""
      }
     },
     "affdef90a1a04cdd93be4279d4331227": {
      "model_module": "@jupyter-widgets/base",
      "model_module_version": "1.2.0",
      "model_name": "LayoutModel",
      "state": {}
     },
     "b007692bbf5e4484b5e783bc00283718": {
      "model_module": "@jupyter-widgets/controls",
      "model_module_version": "1.5.0",
      "model_name": "VBoxModel",
      "state": {
       "children": [
        "IPY_MODEL_7be9a8e530684e88960042cdd92f80b4",
        "IPY_MODEL_ac4a8fce07124efda2e25b9d39cb74af"
       ],
       "layout": "IPY_MODEL_dfe4af56526b45d7a6b74dbedc31527b"
      }
     },
     "b00fa17e655a42a79f1aee390d863ced": {
      "model_module": "@jupyter-widgets/base",
      "model_module_version": "1.2.0",
      "model_name": "LayoutModel",
      "state": {}
     },
     "b03491cbb01e4f6895557c473989777c": {
      "model_module": "@jupyter-widgets/controls",
      "model_module_version": "1.5.0",
      "model_name": "HBoxModel",
      "state": {
       "children": [
        "IPY_MODEL_8793fb0c3f754821a0405cb0f04dec87",
        "IPY_MODEL_39d51dae41674112bc8f082e22d741e4",
        "IPY_MODEL_38e550c27d884fdda48308ae10236411",
        "IPY_MODEL_e6443269ff5c4629806a9557285d56c1",
        "IPY_MODEL_1ad0f217b1584a1c99dd4e1985f36ee3",
        "IPY_MODEL_d5878168ad5d4c4b90c68f58583fb95a",
        "IPY_MODEL_2e268ab272ca4533b7f46551d6d3f9f0"
       ],
       "layout": "IPY_MODEL_18c57f9495d6455ba4a40c15b8b11027"
      }
     },
     "b0429737b4df4decb5d90dab7dfbbb44": {
      "model_module": "@jupyter-widgets/controls",
      "model_module_version": "1.5.0",
      "model_name": "DescriptionStyleModel",
      "state": {
       "description_width": ""
      }
     },
     "b04ff0e3a8b24b1b919a73c7a815cef9": {
      "model_module": "@jupyter-widgets/base",
      "model_module_version": "1.2.0",
      "model_name": "LayoutModel",
      "state": {
       "width": "100px"
      }
     },
     "b05f1fc945504baeadf4c6c7e514c0a6": {
      "model_module": "@jupyter-widgets/controls",
      "model_module_version": "1.5.0",
      "model_name": "HTMLModel",
      "state": {
       "layout": "IPY_MODEL_97f49f853c3b4bca9b4504ac7824a238",
       "style": "IPY_MODEL_017b19b62c9d4526a80b569c4b8042bc",
       "value": "<font color='orange'> &nbsp Stars: 19</font>"
      }
     },
     "b07323b926544251a80547eacb96c60c": {
      "model_module": "@jupyter-widgets/controls",
      "model_module_version": "1.5.0",
      "model_name": "ButtonStyleModel",
      "state": {}
     },
     "b079fe25e23d427789e95af140aa0798": {
      "model_module": "@jupyter-widgets/controls",
      "model_module_version": "1.5.0",
      "model_name": "ToggleButtonsStyleModel",
      "state": {
       "button_width": "",
       "description_width": ""
      }
     },
     "b0c369f8b43d4bd49350255072380cc5": {
      "model_module": "@jupyter-widgets/controls",
      "model_module_version": "1.5.0",
      "model_name": "DescriptionStyleModel",
      "state": {
       "description_width": ""
      }
     },
     "b12985df96c349b09de00469cf2a4cc2": {
      "model_module": "@jupyter-widgets/base",
      "model_module_version": "1.2.0",
      "model_name": "LayoutModel",
      "state": {}
     },
     "b145187a11454c1aa6a3d7627b989200": {
      "model_module": "@jupyter-widgets/controls",
      "model_module_version": "1.5.0",
      "model_name": "ButtonStyleModel",
      "state": {}
     },
     "b1462bfff4824c29a3cd39f878572c10": {
      "model_module": "@jupyter-widgets/controls",
      "model_module_version": "1.5.0",
      "model_name": "HTMLModel",
      "state": {
       "layout": "IPY_MODEL_8b461834d047467ba829b0aeb0ed8360",
       "style": "IPY_MODEL_5f9eefa0b1f748199126549c04daa73a",
       "value": "<font color='orange'> &nbsp Stars: 0</font>"
      }
     },
     "b15d50a14735475ba739f53367c25fe0": {
      "model_module": "@jupyter-widgets/base",
      "model_module_version": "1.2.0",
      "model_name": "LayoutModel",
      "state": {}
     },
     "b163779002d94e7e9bc07d4bc455b734": {
      "model_module": "@jupyter-widgets/base",
      "model_module_version": "1.2.0",
      "model_name": "LayoutModel",
      "state": {
       "align_items": "center"
      }
     },
     "b16b88fd62aa4725831f49a7d308c2cb": {
      "model_module": "@jupyter-widgets/controls",
      "model_module_version": "1.5.0",
      "model_name": "ToggleButtonsStyleModel",
      "state": {
       "button_width": "",
       "description_width": ""
      }
     },
     "b17263ea3fa34c89aebfe330690de023": {
      "model_module": "@jupyter-widgets/base",
      "model_module_version": "1.2.0",
      "model_name": "LayoutModel",
      "state": {}
     },
     "b177f0f33bc84e55a576692a1e3c423b": {
      "model_module": "@jupyter-widgets/base",
      "model_module_version": "1.2.0",
      "model_name": "LayoutModel",
      "state": {}
     },
     "b1ae7d3e8c9a475a8d24182637b2e279": {
      "model_module": "@jupyter-widgets/base",
      "model_module_version": "1.2.0",
      "model_name": "LayoutModel",
      "state": {}
     },
     "b1b8e3e6b16d4b1eb58bcc7057e44520": {
      "model_module": "@jupyter-widgets/controls",
      "model_module_version": "1.5.0",
      "model_name": "HTMLModel",
      "state": {
       "layout": "IPY_MODEL_97d4e03e6f014b6baf10904866963937",
       "style": "IPY_MODEL_7f48ceeebdfc41d19860256c83464108",
       "value": "<h5 style='padding:0;margin:0;'>&nbsp <a href='https://github.com/SSRGHVN' style='color:silver'>SSRGHVN</a> &nbsp</h5>"
      }
     },
     "b1c6d5c680154d6eb8a3766f770deae7": {
      "model_module": "@jupyter-widgets/controls",
      "model_module_version": "1.5.0",
      "model_name": "TextModel",
      "state": {
       "layout": "IPY_MODEL_633344e895cc4914adaeafc512c3cf2a",
       "style": "IPY_MODEL_1168f719b4104087b50ef54e40c75a44"
      }
     },
     "b1e826bfe9bc4435a1680c072afdff51": {
      "model_module": "@jupyter-widgets/controls",
      "model_module_version": "1.5.0",
      "model_name": "HTMLModel",
      "state": {
       "layout": "IPY_MODEL_7bd6d9a8e7644d198a0709b286170817",
       "style": "IPY_MODEL_c58a50b5919f4a25b211e1c8231d1a9b",
       "value": "<h5 style='padding:0;margin:0;'>&nbsp <a href='https://github.com/SourabhSomdeve' style='color:silver'>SourabhSomdeve</a> &nbsp</h5>"
      }
     },
     "b20efacf288540dbba8ba2584853f8f0": {
      "model_module": "@jupyter-widgets/base",
      "model_module_version": "1.2.0",
      "model_name": "LayoutModel",
      "state": {
       "width": "100px"
      }
     },
     "b24bbf390b0f4877a7bf0a910b2f1970": {
      "model_module": "@jupyter-widgets/controls",
      "model_module_version": "1.5.0",
      "model_name": "HTMLModel",
      "state": {
       "layout": "IPY_MODEL_c4135541c4914a1f8a4272abc98451b4",
       "style": "IPY_MODEL_b0429737b4df4decb5d90dab7dfbbb44",
       "value": "<font color='orange'> &nbsp Stars: 0</font>"
      }
     },
     "b25b892b48af4342a532b7e7e0e1ce26": {
      "model_module": "@jupyter-widgets/controls",
      "model_module_version": "1.5.0",
      "model_name": "HTMLModel",
      "state": {
       "layout": "IPY_MODEL_94f8647a7cf941deb9304a10d012a78d",
       "style": "IPY_MODEL_1b6bef393136487293274b2aec5206ae",
       "value": "<h5 style='padding:0;margin:0;'>&nbsp <a href='https://github.com/ugunal' style='color:silver'>ugunal</a> &nbsp</h5>"
      }
     },
     "b2a5b59d6ef54c82aea236260d107ff2": {
      "model_module": "@jupyter-widgets/base",
      "model_module_version": "1.2.0",
      "model_name": "LayoutModel",
      "state": {
       "align_items": "center"
      }
     },
     "b2a84c2af9194fc8aaa0565b7256b79f": {
      "model_module": "@jupyter-widgets/base",
      "model_module_version": "1.2.0",
      "model_name": "LayoutModel",
      "state": {}
     },
     "b2c2054446a643f699ed6092c3f4586b": {
      "model_module": "@jupyter-widgets/base",
      "model_module_version": "1.2.0",
      "model_name": "LayoutModel",
      "state": {}
     },
     "b2e369187cf746198409c097819b0350": {
      "model_module": "@jupyter-widgets/base",
      "model_module_version": "1.2.0",
      "model_name": "LayoutModel",
      "state": {}
     },
     "b317e7b218f449dba5ba9e95494bb9d0": {
      "model_module": "@jupyter-widgets/controls",
      "model_module_version": "1.5.0",
      "model_name": "LabelModel",
      "state": {
       "layout": "IPY_MODEL_5b5c8b9070a9437ba61aa6b286716c63",
       "style": "IPY_MODEL_7643a649a1c44827af705a641b70a1c8",
       "value": "sourabh added code"
      }
     },
     "b31a1dde3f254699a876ffceec348f58": {
      "model_module": "@jupyter-widgets/base",
      "model_module_version": "1.2.0",
      "model_name": "LayoutModel",
      "state": {
       "width": "100px"
      }
     },
     "b336c6920c2547acbc99f53f776ae3bd": {
      "model_module": "@jupyter-widgets/base",
      "model_module_version": "1.2.0",
      "model_name": "LayoutModel",
      "state": {}
     },
     "b349ade39e6142c99b4c1915fb70cb1b": {
      "model_module": "@jupyter-widgets/controls",
      "model_module_version": "1.5.0",
      "model_name": "ToggleButtonsStyleModel",
      "state": {
       "button_width": "",
       "description_width": ""
      }
     },
     "b358eab584aa4a1099564637e6ebf3b1": {
      "model_module": "@jupyter-widgets/controls",
      "model_module_version": "1.5.0",
      "model_name": "VBoxModel",
      "state": {
       "children": [
        "IPY_MODEL_125a95a88b71448ba02779a593dee13d",
        "IPY_MODEL_c1e242f2e99e45aea668aa014eea1dbb"
       ],
       "layout": "IPY_MODEL_41b3132bf6ad43a486cded8cdea1e8dd"
      }
     },
     "b39584e521904343a1609e49cb8d2b91": {
      "model_module": "@jupyter-widgets/base",
      "model_module_version": "1.2.0",
      "model_name": "LayoutModel",
      "state": {}
     },
     "b3ba77257bcd491aa69ad003e603c1f2": {
      "model_module": "@jupyter-widgets/base",
      "model_module_version": "1.2.0",
      "model_name": "LayoutModel",
      "state": {}
     },
     "b3bf5134ed2642ab9da87e276764253a": {
      "model_module": "@jupyter-widgets/controls",
      "model_module_version": "1.5.0",
      "model_name": "HTMLModel",
      "state": {
       "layout": "IPY_MODEL_748d0246d95245a6b3c61d404e8ff304",
       "style": "IPY_MODEL_5936041bba5d4158bf992ff50aaa7ec0",
       "value": "<h5 style='padding:0;margin:0;'>&nbsp <a href='https://github.com/derekguo31' style='color:silver'>derekguo31</a> &nbsp</h5>"
      }
     },
     "b3f72d9aeee84c17929adc79bba9721f": {
      "model_module": "@jupyter-widgets/controls",
      "model_module_version": "1.5.0",
      "model_name": "DescriptionStyleModel",
      "state": {
       "description_width": ""
      }
     },
     "b420ba6f77a24d949d3b62252ba4ba7e": {
      "model_module": "@jupyter-widgets/controls",
      "model_module_version": "1.5.0",
      "model_name": "HTMLModel",
      "state": {
       "layout": "IPY_MODEL_290210b8adb9426c9f7b03ce3c21ae36",
       "style": "IPY_MODEL_a28efe92f3424c3a9f15475573bbbd7c",
       "value": "<font color='green'> &nbsp Downloads: 0</font>"
      }
     },
     "b4377ae892184ecfa2286c883fb92ea2": {
      "model_module": "@jupyter-widgets/controls",
      "model_module_version": "1.5.0",
      "model_name": "HBoxModel",
      "state": {
       "children": [
        "IPY_MODEL_0c35f853e93645d98706a765573281ff",
        "IPY_MODEL_a9cff590683d45afbfcab76080628201"
       ],
       "layout": "IPY_MODEL_876ab61a3e7f4064bf13cfc1cf697021"
      }
     },
     "b45f224bca124be6b2b99ab733f1052d": {
      "model_module": "@jupyter-widgets/base",
      "model_module_version": "1.2.0",
      "model_name": "LayoutModel",
      "state": {}
     },
     "b474480e26c04cccaa574a8a28e6f7d5": {
      "model_module": "@jupyter-widgets/controls",
      "model_module_version": "1.5.0",
      "model_name": "DescriptionStyleModel",
      "state": {
       "description_width": ""
      }
     },
     "b4958b1f61e64ddcb71809a700f97792": {
      "model_module": "@jupyter-widgets/controls",
      "model_module_version": "1.5.0",
      "model_name": "DescriptionStyleModel",
      "state": {
       "description_width": ""
      }
     },
     "b49f6ecf18b6453595b2eb9734d62fd2": {
      "model_module": "@jupyter-widgets/controls",
      "model_module_version": "1.5.0",
      "model_name": "DescriptionStyleModel",
      "state": {
       "description_width": ""
      }
     },
     "b4d5f0a5eba9496c8add6ef7d83ef688": {
      "model_module": "@jupyter-widgets/controls",
      "model_module_version": "1.5.0",
      "model_name": "HTMLModel",
      "state": {
       "layout": "IPY_MODEL_019091d10f0b4381a91b0be773a7bf44",
       "style": "IPY_MODEL_d9bb2ae2a7c74e3aa862c369851d9d01",
       "value": "<h3 style='padding:0;margin:0;'>&nbsp &nbsp<a href='https://github.com/pupster90/Harmony_RNA'>Harmony_RNA</a> &nbsp</h3>"
      }
     },
     "b4ddead2821c4e34b1533d7edcae03c7": {
      "model_module": "@jupyter-widgets/controls",
      "model_module_version": "1.5.0",
      "model_name": "DescriptionStyleModel",
      "state": {
       "description_width": ""
      }
     },
     "b4fafc1880bb4260900d3955a22076ee": {
      "model_module": "@jupyter-widgets/base",
      "model_module_version": "1.2.0",
      "model_name": "LayoutModel",
      "state": {}
     },
     "b524a2037dc54bf8827e775cab72b24e": {
      "model_module": "@jupyter-widgets/controls",
      "model_module_version": "1.5.0",
      "model_name": "ButtonStyleModel",
      "state": {}
     },
     "b5366ab1efbe4863889280c44dde4666": {
      "model_module": "@jupyter-widgets/controls",
      "model_module_version": "1.5.0",
      "model_name": "HTMLModel",
      "state": {
       "layout": "IPY_MODEL_7b85267c18224d1da1f6da317fa2ee4a",
       "style": "IPY_MODEL_e1c22e0ce537450ea8f2633b1907327f",
       "value": "<h5 style='padding:0;margin:0;'>&nbsp <a href='https://github.com/kadencewaggoner' style='color:silver'>kadencewaggoner</a> &nbsp</h5>"
      }
     },
     "b570d658f54947938e3bf908f1bfbe46": {
      "model_module": "@jupyter-widgets/base",
      "model_module_version": "1.2.0",
      "model_name": "LayoutModel",
      "state": {}
     },
     "b57736eb64db4f179019e61490b2f812": {
      "model_module": "@jupyter-widgets/controls",
      "model_module_version": "1.5.0",
      "model_name": "VBoxModel",
      "state": {
       "children": [
        "IPY_MODEL_4f194d337af449539574c856ab3e925a",
        "IPY_MODEL_b6946b34d36f45a7a2edf6566ee85f3f"
       ],
       "layout": "IPY_MODEL_d075297afdd94f6d9c6e14433f74f8a6"
      }
     },
     "b58d4030d922462786e6652f80668ba1": {
      "model_module": "@jupyter-widgets/controls",
      "model_module_version": "1.5.0",
      "model_name": "ButtonStyleModel",
      "state": {}
     },
     "b58fbbdaa770482e92f4e94b86be960c": {
      "model_module": "@jupyter-widgets/controls",
      "model_module_version": "1.5.0",
      "model_name": "DescriptionStyleModel",
      "state": {
       "description_width": ""
      }
     },
     "b5bdee7e3d904a5bbe9c773d4c7a1f2d": {
      "model_module": "@jupyter-widgets/base",
      "model_module_version": "1.2.0",
      "model_name": "LayoutModel",
      "state": {
       "width": "100px"
      }
     },
     "b5c13ecb825943f6b9a04e94c93d86de": {
      "model_module": "@jupyter-widgets/base",
      "model_module_version": "1.2.0",
      "model_name": "LayoutModel",
      "state": {}
     },
     "b5cedfae5650416f819e9ea0c34de4b2": {
      "model_module": "@jupyter-widgets/controls",
      "model_module_version": "1.5.0",
      "model_name": "DescriptionStyleModel",
      "state": {
       "description_width": ""
      }
     },
     "b60db07d6e20435b86dde69a43484666": {
      "model_module": "@jupyter-widgets/controls",
      "model_module_version": "1.5.0",
      "model_name": "HTMLModel",
      "state": {
       "layout": "IPY_MODEL_610c026bf66048c98d96a89e57234408",
       "style": "IPY_MODEL_8351c180dd5142709a5f2b009a166b3b",
       "value": "<h5 style='padding:0;margin:0;'>&nbsp <a href='https://github.com/SourabhSomdeve' style='color:silver'>SourabhSomdeve</a> &nbsp</h5>"
      }
     },
     "b612d2ffe3fa4e0a83127b0b2d1907a2": {
      "model_module": "@jupyter-widgets/controls",
      "model_module_version": "1.5.0",
      "model_name": "ToggleButtonsStyleModel",
      "state": {
       "button_width": "",
       "description_width": ""
      }
     },
     "b616565f3cfe4fed827ba30af0af5399": {
      "model_module": "@jupyter-widgets/controls",
      "model_module_version": "1.5.0",
      "model_name": "HBoxModel",
      "state": {
       "children": [
        "IPY_MODEL_a708046394e243b699791f8457c848c1",
        "IPY_MODEL_fa05c47186b3420089ffb6ba43ae6605",
        "IPY_MODEL_aebb0ec9e30c4ebaa54ea187e4008e7e",
        "IPY_MODEL_7d1d0aea57e84e4c8fc7fbce5b27d8aa",
        "IPY_MODEL_2bad05ed60334c5f9bbdf8b4996eeced",
        "IPY_MODEL_6e6179434ea740a4b766977f22abfc97",
        "IPY_MODEL_b5366ab1efbe4863889280c44dde4666"
       ],
       "layout": "IPY_MODEL_fda602fbc4564db49ed984652f63ddd1"
      }
     },
     "b6202fde745a4695b0bfc84dd3d76bdb": {
      "model_module": "@jupyter-widgets/base",
      "model_module_version": "1.2.0",
      "model_name": "LayoutModel",
      "state": {}
     },
     "b66570381e77450a95ea35203208c431": {
      "model_module": "@jupyter-widgets/controls",
      "model_module_version": "1.5.0",
      "model_name": "HBoxModel",
      "state": {
       "children": [
        "IPY_MODEL_2e92c2e5b8bf4365ac91a1e2cc6f9674",
        "IPY_MODEL_d8d193a6828b434980400fdee109baa2",
        "IPY_MODEL_d3524ecb413542dbb67463f4d627b6ed",
        "IPY_MODEL_a394369199cd493ab3c7889224e677bf",
        "IPY_MODEL_69adbac34749496a9f06ca24ee5c32d5",
        "IPY_MODEL_25590e47c3364382817af0dc4acd6f3a",
        "IPY_MODEL_2eaa7f605a2645309875b9fdf47c0743"
       ],
       "layout": "IPY_MODEL_a50740a074804d8eae8f131ed12cfa64"
      }
     },
     "b672a4fd41c24881bb3f516389297850": {
      "model_module": "@jupyter-widgets/controls",
      "model_module_version": "1.5.0",
      "model_name": "HBoxModel",
      "state": {
       "children": [
        "IPY_MODEL_5517a903a5e9467fbed04354765f90c3",
        "IPY_MODEL_e8b50bf452374733a0585ec01d8311b4",
        "IPY_MODEL_1a6b11af8e7d40d2a12f2b37b89cbb4e",
        "IPY_MODEL_186c6976edf74890aa8e45fac9282852",
        "IPY_MODEL_e90baacb7e74403d9cba96642966ab1b",
        "IPY_MODEL_a844e648065143259f71b9f3f716cddf",
        "IPY_MODEL_831aa68a29a044779f1b10cd1f380ae6"
       ],
       "layout": "IPY_MODEL_b77d0a5e3e994b158f7ef2cef8986edf"
      }
     },
     "b6946b34d36f45a7a2edf6566ee85f3f": {
      "model_module": "@jupyter-widgets/controls",
      "model_module_version": "1.5.0",
      "model_name": "VBoxModel",
      "state": {
       "children": [
        "IPY_MODEL_c8a23b79e1574bf3968fafbf86147c87",
        "IPY_MODEL_bdd4bb020b144845a4de4bf1f2bbcf15"
       ],
       "layout": "IPY_MODEL_8ae9417383e24e8daca430ed4c38ed99"
      }
     },
     "b6c74af04b8840bfa749e855c609cc20": {
      "model_module": "@jupyter-widgets/controls",
      "model_module_version": "1.5.0",
      "model_name": "HTMLModel",
      "state": {
       "layout": "IPY_MODEL_4132782272c04fb1901a59e34375b065",
       "style": "IPY_MODEL_54b325a73a344457bc5ac425914a4775",
       "value": "<font color='orange'> &nbsp Stars: 0</font>"
      }
     },
     "b6cd4423a60f45cc89ad24d00c66e1aa": {
      "model_module": "@jupyter-widgets/base",
      "model_module_version": "1.2.0",
      "model_name": "LayoutModel",
      "state": {
       "width": "100px"
      }
     },
     "b6d460117a7047e297c275f2ab0b2562": {
      "model_module": "@jupyter-widgets/base",
      "model_module_version": "1.2.0",
      "model_name": "LayoutModel",
      "state": {
       "align_items": "center"
      }
     },
     "b722260ea5a644b992168513169bafb1": {
      "model_module": "@jupyter-widgets/base",
      "model_module_version": "1.2.0",
      "model_name": "LayoutModel",
      "state": {}
     },
     "b742683c719f4448945b802ad51ced1d": {
      "model_module": "@jupyter-widgets/controls",
      "model_module_version": "1.5.0",
      "model_name": "HTMLMathModel",
      "state": {
       "layout": "IPY_MODEL_d981adb374004af5b0d1e030d1e99d52",
       "style": "IPY_MODEL_5d362f365cb440218318aeedc92942d4"
      }
     },
     "b75680ccfbc0466881e1e30e571bdbc8": {
      "model_module": "@jupyter-widgets/base",
      "model_module_version": "1.2.0",
      "model_name": "LayoutModel",
      "state": {}
     },
     "b75a918d99d943c7bdd4fa135dac4426": {
      "model_module": "@jupyter-widgets/base",
      "model_module_version": "1.2.0",
      "model_name": "LayoutModel",
      "state": {}
     },
     "b75fba7961a442b2844dc67115924a53": {
      "model_module": "@jupyter-widgets/controls",
      "model_module_version": "1.5.0",
      "model_name": "HTMLModel",
      "state": {
       "layout": "IPY_MODEL_b7d8c334a97d4685a874ea3d9449c022",
       "style": "IPY_MODEL_b0c369f8b43d4bd49350255072380cc5",
       "value": "<h3 style='padding:0;margin:0;'>&nbsp &nbsp<a href='https://github.com/SourabhSomdeve/Demo_folder'>Demo_folder</a> &nbsp</h3>"
      }
     },
     "b76a2a6c2c9346998ac6ab8684cfedcc": {
      "model_module": "@jupyter-widgets/base",
      "model_module_version": "1.2.0",
      "model_name": "LayoutModel",
      "state": {
       "display": "none"
      }
     },
     "b7709c8d59a041d5bc6e5cd9a16ee970": {
      "model_module": "@jupyter-widgets/controls",
      "model_module_version": "1.5.0",
      "model_name": "VBoxModel",
      "state": {
       "children": [
        "IPY_MODEL_12c7606f4aa44c0fa348b7fa213bc747",
        "IPY_MODEL_7046342daedc4a9c85c184725ea7976c",
        "IPY_MODEL_ad3f0241aa3a44cba08c65a8e364f063",
        "IPY_MODEL_7511c9a53f164f13bb91551eea328692"
       ],
       "layout": "IPY_MODEL_b76a2a6c2c9346998ac6ab8684cfedcc"
      }
     },
     "b77d0a5e3e994b158f7ef2cef8986edf": {
      "model_module": "@jupyter-widgets/base",
      "model_module_version": "1.2.0",
      "model_name": "LayoutModel",
      "state": {}
     },
     "b7d8c334a97d4685a874ea3d9449c022": {
      "model_module": "@jupyter-widgets/base",
      "model_module_version": "1.2.0",
      "model_name": "LayoutModel",
      "state": {}
     },
     "b7e2a1345a624cdf9e9fcf5e017e8a46": {
      "model_module": "@jupyter-widgets/controls",
      "model_module_version": "1.5.0",
      "model_name": "DescriptionStyleModel",
      "state": {
       "description_width": ""
      }
     },
     "b80b983ab7ca4f899dfbbf114305119c": {
      "model_module": "@jupyter-widgets/base",
      "model_module_version": "1.2.0",
      "model_name": "LayoutModel",
      "state": {
       "width": "100px"
      }
     },
     "b80ec201743642aaaafca571b8e9339b": {
      "model_module": "@jupyter-widgets/controls",
      "model_module_version": "1.5.0",
      "model_name": "ButtonModel",
      "state": {
       "button_style": "success",
       "description": "Publish",
       "layout": "IPY_MODEL_92a582cf880d4737a9b86acbe4738f34",
       "style": "IPY_MODEL_101ac7d17e3043ca92ac08e53da32b19"
      }
     },
     "b864348022fe499ebc34b255ebb73a3d": {
      "model_module": "@jupyter-widgets/base",
      "model_module_version": "1.2.0",
      "model_name": "LayoutModel",
      "state": {
       "width": "auto"
      }
     },
     "b87529fa471e4588a219cf60125d3a51": {
      "model_module": "@jupyter-widgets/controls",
      "model_module_version": "1.5.0",
      "model_name": "DescriptionStyleModel",
      "state": {
       "description_width": ""
      }
     },
     "b8befba52f034c7b9901fc2e807a83c1": {
      "model_module": "@jupyter-widgets/base",
      "model_module_version": "1.2.0",
      "model_name": "LayoutModel",
      "state": {}
     },
     "b8fc044353974338b3353c4bb4b97287": {
      "model_module": "@jupyter-widgets/base",
      "model_module_version": "1.2.0",
      "model_name": "LayoutModel",
      "state": {
       "width": "100px"
      }
     },
     "b90fb9eb90e840d3b355e1f53de1cc01": {
      "model_module": "@jupyter-widgets/base",
      "model_module_version": "1.2.0",
      "model_name": "LayoutModel",
      "state": {}
     },
     "b911f8e9f15d4df6a549eb79b857069b": {
      "model_module": "@jupyter-widgets/controls",
      "model_module_version": "1.5.0",
      "model_name": "ButtonStyleModel",
      "state": {}
     },
     "b945226413ad4b6ab404fb32c0dac996": {
      "model_module": "@jupyter-widgets/controls",
      "model_module_version": "1.5.0",
      "model_name": "LabelModel",
      "state": {
       "layout": "IPY_MODEL_b04ff0e3a8b24b1b919a73c7a815cef9",
       "style": "IPY_MODEL_1c05c5e3bb174301a792b3d88fe459bb",
       "value": "1 month ago"
      }
     },
     "b9676831cf4e4720a28aac3a5c4e453b": {
      "model_module": "@jupyter-widgets/controls",
      "model_module_version": "1.5.0",
      "model_name": "HTMLModel",
      "state": {
       "layout": "IPY_MODEL_3705031bc92f40228d0f6789b3262a48",
       "style": "IPY_MODEL_f3011ab6b1cb4be7a96946cf3bac7e59",
       "value": "<h3 style='padding:0;margin:0;'>&nbsp &nbsp<a href='https://github.com/stcline/Test_Lessons'>Test_Lessons</a> &nbsp</h3>"
      }
     },
     "b9ad1c3ba9fd406aa6d96166a6bb1f40": {
      "model_module": "@jupyter-widgets/controls",
      "model_module_version": "1.5.0",
      "model_name": "ButtonStyleModel",
      "state": {}
     },
     "b9b20bc7004747b182be229c7b76b87c": {
      "model_module": "@jupyter-widgets/controls",
      "model_module_version": "1.5.0",
      "model_name": "HBoxModel",
      "state": {
       "children": [
        "IPY_MODEL_3c0ff637309d4913bbfaeaf7a2bc2659",
        "IPY_MODEL_fe008f9301d849f4b2f2595ed9f42978",
        "IPY_MODEL_697fdbf3e5f9473f9a6bfb6eb86aa482"
       ],
       "layout": "IPY_MODEL_f54cfcaa8c1f44d8947639409c30082c"
      }
     },
     "b9b2d82a0f854e35bb9862b9de2ff3f4": {
      "model_module": "@jupyter-widgets/controls",
      "model_module_version": "1.5.0",
      "model_name": "HTMLModel",
      "state": {
       "layout": "IPY_MODEL_d95f7345948944caa0bd2d19c4ed6c78",
       "style": "IPY_MODEL_7aa0cb12daba4b59a140f19dced2594e",
       "value": "<font color='green'> &nbsp Downloads: 0</font>"
      }
     },
     "b9d8f09fded84e88945a2f07002bfaa0": {
      "model_module": "@jupyter-widgets/controls",
      "model_module_version": "1.5.0",
      "model_name": "DescriptionStyleModel",
      "state": {
       "description_width": ""
      }
     },
     "b9ebcfe1ccdf43a0a75e5211680a41c5": {
      "model_module": "@jupyter-widgets/base",
      "model_module_version": "1.2.0",
      "model_name": "LayoutModel",
      "state": {}
     },
     "ba4db934aa8a4bd0b5f5f6f7c3f103c5": {
      "model_module": "@jupyter-widgets/base",
      "model_module_version": "1.2.0",
      "model_name": "LayoutModel",
      "state": {}
     },
     "ba8e12aed1154786bec6b84645aecfb1": {
      "model_module": "@jupyter-widgets/base",
      "model_module_version": "1.2.0",
      "model_name": "LayoutModel",
      "state": {}
     },
     "ba9717f13bec4e1794aa2198836c4989": {
      "model_module": "@jupyter-widgets/base",
      "model_module_version": "1.2.0",
      "model_name": "LayoutModel",
      "state": {
       "width": "100px"
      }
     },
     "bab2cb31871449c5be3d78245297813a": {
      "model_module": "@jupyter-widgets/controls",
      "model_module_version": "1.5.0",
      "model_name": "VBoxModel",
      "state": {
       "children": [
        "IPY_MODEL_3cf310545e0a41ce98344889d870b3c3",
        "IPY_MODEL_3561ce8bc5ff493dbc2e6a9688a43be4"
       ],
       "layout": "IPY_MODEL_02ad86f67c204aa19d48b629620aba69"
      }
     },
     "bb144eb074884f2695f3c75143b94ff1": {
      "model_module": "@jupyter-widgets/base",
      "model_module_version": "1.2.0",
      "model_name": "LayoutModel",
      "state": {
       "visibility": "visible"
      }
     },
     "bb741a4e0a3948b4a4c050056809e8af": {
      "model_module": "@jupyter-widgets/base",
      "model_module_version": "1.2.0",
      "model_name": "LayoutModel",
      "state": {}
     },
     "bbdcb9ba5dc94c859be41be47f7a9328": {
      "model_module": "@jupyter-widgets/controls",
      "model_module_version": "1.5.0",
      "model_name": "HTMLModel",
      "state": {
       "layout": "IPY_MODEL_666a233bf1484642abdbf55bdac80798",
       "style": "IPY_MODEL_c1456415fd574ab69e2944fb6baffcf8",
       "value": "<font color='green'> &nbsp Downloads: 1</font>"
      }
     },
     "bbde698baded4894a5466a374dc3e20e": {
      "model_module": "@jupyter-widgets/controls",
      "model_module_version": "1.5.0",
      "model_name": "DescriptionStyleModel",
      "state": {
       "description_width": ""
      }
     },
     "bbe5090b81fc490f843aeb9012a798e8": {
      "model_module": "@jupyter-widgets/controls",
      "model_module_version": "1.5.0",
      "model_name": "ButtonStyleModel",
      "state": {}
     },
     "bc072d3b0aab4b0bbea86937a9bf7d78": {
      "model_module": "@jupyter-widgets/base",
      "model_module_version": "1.2.0",
      "model_name": "LayoutModel",
      "state": {}
     },
     "bc1aabe71df94a2fa2b6e059d7845565": {
      "model_module": "@jupyter-widgets/controls",
      "model_module_version": "1.5.0",
      "model_name": "ButtonStyleModel",
      "state": {}
     },
     "bc1e4d8d7c6a491badad356df28dc6d1": {
      "model_module": "@jupyter-widgets/base",
      "model_module_version": "1.2.0",
      "model_name": "LayoutModel",
      "state": {}
     },
     "bc37610d105d4fc2b591404a4e244b5c": {
      "model_module": "@jupyter-widgets/controls",
      "model_module_version": "1.5.0",
      "model_name": "HBoxModel",
      "state": {
       "children": [
        "IPY_MODEL_153c00b1e0f64288ad82b23f8d879e23",
        "IPY_MODEL_f4c0cc76710944dc8edafb7eac2219f7",
        "IPY_MODEL_4d0959bba8354672a4553c9db7333118",
        "IPY_MODEL_6aab80f746a94fc988bc6715196150ed",
        "IPY_MODEL_3936956a19b442fbb916c1f734b60892",
        "IPY_MODEL_7e3c87955a434889a8b120b1bf94bb54",
        "IPY_MODEL_a44af3a3ce504ffdbd24ad662e25d539"
       ],
       "layout": "IPY_MODEL_c851d7b38d4d4ba2a92f5d8309e81d5f"
      }
     },
     "bc3e2f3777714d9d96b61d5e599650a1": {
      "model_module": "@jupyter-widgets/base",
      "model_module_version": "1.2.0",
      "model_name": "LayoutModel",
      "state": {
       "width": "auto"
      }
     },
     "bc651f92b96741369099ae493ea4c78c": {
      "model_module": "@jupyter-widgets/base",
      "model_module_version": "1.2.0",
      "model_name": "LayoutModel",
      "state": {}
     },
     "bc672f0b4ce64adab122f5fa524d2a82": {
      "model_module": "@jupyter-widgets/base",
      "model_module_version": "1.2.0",
      "model_name": "LayoutModel",
      "state": {}
     },
     "bc8da87e4c6948568b25db66d14dddf9": {
      "model_module": "@jupyter-widgets/controls",
      "model_module_version": "1.5.0",
      "model_name": "LabelModel",
      "state": {
       "layout": "IPY_MODEL_5d508af240784a69bcf7225892bfecd2",
       "style": "IPY_MODEL_3b0b1d798f4a4f648a7e435e5e026209",
       "value": "6 months ago"
      }
     },
     "bca02548b1be41e3a643cd4279b394c1": {
      "model_module": "@jupyter-widgets/base",
      "model_module_version": "1.2.0",
      "model_name": "LayoutModel",
      "state": {
       "align_items": "center",
       "display": "none"
      }
     },
     "bca5584a6b894a588675e00f56555bff": {
      "model_module": "@jupyter-widgets/base",
      "model_module_version": "1.2.0",
      "model_name": "LayoutModel",
      "state": {
       "width": "auto"
      }
     },
     "bcb292d9a23548dcaeefad418460dbb1": {
      "model_module": "@jupyter-widgets/base",
      "model_module_version": "1.2.0",
      "model_name": "LayoutModel",
      "state": {}
     },
     "bce5422559b34f4a8c09741eb4ce091d": {
      "model_module": "@jupyter-widgets/base",
      "model_module_version": "1.2.0",
      "model_name": "LayoutModel",
      "state": {
       "width": "100px"
      }
     },
     "bcf055b91d8c405392b5f47f5c2e4011": {
      "model_module": "@jupyter-widgets/controls",
      "model_module_version": "1.5.0",
      "model_name": "DescriptionStyleModel",
      "state": {
       "description_width": ""
      }
     },
     "bcfcec69b7ef4470b3a743bb1a19d31c": {
      "model_module": "@jupyter-widgets/controls",
      "model_module_version": "1.5.0",
      "model_name": "HTMLModel",
      "state": {
       "layout": "IPY_MODEL_1107a6e3343f4030a1a47995e7227c71",
       "style": "IPY_MODEL_517f303fbfb44d34a7888d1234cc66ba",
       "value": "<h3 style='padding:0;margin:0;'>&nbsp &nbsp<a href='https://github.com/ragyibrahimRNA/raptor_admin_dashboard'>raptor_admin_dashboard</a> &nbsp</h3>"
      }
     },
     "bd3079c46f2d41bb93f4fbd5a0a07737": {
      "model_module": "@jupyter-widgets/controls",
      "model_module_version": "1.5.0",
      "model_name": "ButtonModel",
      "state": {
       "button_style": "info",
       "description": "Download",
       "layout": "IPY_MODEL_0f9d2f58647d4faba13df96328eb2b0c",
       "style": "IPY_MODEL_d94cea96ba814d47b278828f9bfabe4e"
      }
     },
     "bd4e8aafb14a4e7e9df15760bdf85f5e": {
      "model_module": "@jupyter-widgets/base",
      "model_module_version": "1.2.0",
      "model_name": "LayoutModel",
      "state": {
       "width": "100px"
      }
     },
     "bd64d9ec5a6b43bdb66a6860564dc64c": {
      "model_module": "@jupyter-widgets/base",
      "model_module_version": "1.2.0",
      "model_name": "LayoutModel",
      "state": {}
     },
     "bd85547284094d52b871308a67fa2d5b": {
      "model_module": "@jupyter-widgets/base",
      "model_module_version": "1.2.0",
      "model_name": "LayoutModel",
      "state": {}
     },
     "bd9bd6249b47469d98a54947a52ce7da": {
      "model_module": "@jupyter-widgets/controls",
      "model_module_version": "1.5.0",
      "model_name": "ButtonModel",
      "state": {
       "button_style": "info",
       "description": "Download",
       "layout": "IPY_MODEL_fbcc873c7fd44f11a2cb1e0088f4107a",
       "style": "IPY_MODEL_4955d01d39fc4a30afdab18b2896a1e7"
      }
     },
     "bda60819283d4a4cbb32ae7e193ba8ab": {
      "model_module": "@jupyter-widgets/base",
      "model_module_version": "1.2.0",
      "model_name": "LayoutModel",
      "state": {
       "width": "auto"
      }
     },
     "bdb361a21b974ba0aa0bd5487ba70d36": {
      "model_module": "@jupyter-widgets/base",
      "model_module_version": "1.2.0",
      "model_name": "LayoutModel",
      "state": {}
     },
     "bdd4bb020b144845a4de4bf1f2bbcf15": {
      "model_module": "@jupyter-widgets/controls",
      "model_module_version": "1.5.0",
      "model_name": "ButtonModel",
      "state": {
       "button_style": "danger",
       "description": "Logout",
       "layout": "IPY_MODEL_fd21a8cd2b90416e8dc5582c81c3dc32",
       "style": "IPY_MODEL_7d1073105c7c453583cefb22130e1527"
      }
     },
     "bdf7915e67104b02b9aa925a2df39e83": {
      "model_module": "@jupyter-widgets/base",
      "model_module_version": "1.2.0",
      "model_name": "LayoutModel",
      "state": {}
     },
     "be01331325e6404ba5f374006ef6e11d": {
      "model_module": "@jupyter-widgets/controls",
      "model_module_version": "1.5.0",
      "model_name": "DescriptionStyleModel",
      "state": {
       "description_width": ""
      }
     },
     "be30bc54c413422cb20ce5897f51030b": {
      "model_module": "@jupyter-widgets/controls",
      "model_module_version": "1.5.0",
      "model_name": "DescriptionStyleModel",
      "state": {
       "description_width": ""
      }
     },
     "be32bcde6ad4415e8611b8aafcbab722": {
      "model_module": "@jupyter-widgets/controls",
      "model_module_version": "1.5.0",
      "model_name": "DescriptionStyleModel",
      "state": {
       "description_width": ""
      }
     },
     "be448212dbc74f36bf1c75b980f8445c": {
      "model_module": "@jupyter-widgets/base",
      "model_module_version": "1.2.0",
      "model_name": "LayoutModel",
      "state": {
       "align_items": "center"
      }
     },
     "be51c00b1a024ebfb237d65ed199b589": {
      "model_module": "@jupyter-widgets/base",
      "model_module_version": "1.2.0",
      "model_name": "LayoutModel",
      "state": {
       "width": "auto"
      }
     },
     "be6f701361a24a6c922cd6fa9b7c477d": {
      "model_module": "@jupyter-widgets/controls",
      "model_module_version": "1.5.0",
      "model_name": "HBoxModel",
      "state": {
       "children": [
        "IPY_MODEL_a1213891d9904d33bedc30e9a75221bc",
        "IPY_MODEL_bd3079c46f2d41bb93f4fbd5a0a07737",
        "IPY_MODEL_c09d4c2778fa459792e9b1abf9615325",
        "IPY_MODEL_1f738a12d29e410090c9e88d3297f6e3",
        "IPY_MODEL_6f0a846f179c44a4a3a271cb2672821b",
        "IPY_MODEL_f31763285b04422f98b1d68d87b6caf6",
        "IPY_MODEL_c324519ec0d44ad0bc8c59b6f05354b6"
       ],
       "layout": "IPY_MODEL_253710cb328f495596a99c72573e38bd"
      }
     },
     "beadb6f909c445969161902828289c08": {
      "model_module": "@jupyter-widgets/controls",
      "model_module_version": "1.5.0",
      "model_name": "DescriptionStyleModel",
      "state": {
       "description_width": ""
      }
     },
     "beb064e8f50f4e76a76baf062578d5c1": {
      "model_module": "@jupyter-widgets/controls",
      "model_module_version": "1.5.0",
      "model_name": "DescriptionStyleModel",
      "state": {
       "description_width": ""
      }
     },
     "beb98cee516b4df299c862cdebedb3a3": {
      "model_module": "@jupyter-widgets/base",
      "model_module_version": "1.2.0",
      "model_name": "LayoutModel",
      "state": {}
     },
     "bf1960e3e2e44f849eba4742a5a655e1": {
      "model_module": "@jupyter-widgets/base",
      "model_module_version": "1.2.0",
      "model_name": "LayoutModel",
      "state": {
       "width": "100px"
      }
     },
     "bf1c503913ea42cb9e4a28a39db29e51": {
      "model_module": "@jupyter-widgets/controls",
      "model_module_version": "1.5.0",
      "model_name": "ButtonModel",
      "state": {
       "button_style": "primary",
       "description": " Refresh",
       "icon": "refresh",
       "layout": "IPY_MODEL_86641784a6974cb89033c9b96b4e5851",
       "style": "IPY_MODEL_eb01b2aa99204a23825c5f0866001f5b"
      }
     },
     "bf7d701d209e4335b9f6b99814559362": {
      "model_module": "@jupyter-widgets/base",
      "model_module_version": "1.2.0",
      "model_name": "LayoutModel",
      "state": {}
     },
     "bf9c631c14f64ea48bcb114cc08a4721": {
      "model_module": "@jupyter-widgets/controls",
      "model_module_version": "1.5.0",
      "model_name": "ButtonModel",
      "state": {
       "button_style": "primary",
       "description": " Refresh",
       "icon": "refresh",
       "layout": "IPY_MODEL_9762401b2c3e45ee9a5cb91109bdd023",
       "style": "IPY_MODEL_0bae99b5308a4b4eb68bbd86a2a82f08"
      }
     },
     "bfa742a284274be0a91decd1f86d6c52": {
      "model_module": "@jupyter-widgets/base",
      "model_module_version": "1.2.0",
      "model_name": "LayoutModel",
      "state": {}
     },
     "bff61066c6fe4f13b05d391ca6cea8e6": {
      "model_module": "@jupyter-widgets/controls",
      "model_module_version": "1.5.0",
      "model_name": "HTMLModel",
      "state": {
       "layout": "IPY_MODEL_782e5f918a0645feb07d50d67f8de696",
       "style": "IPY_MODEL_5e22ee298e3444cbbb4a557c23d8fb1e",
       "value": "<h3>Lab: <font color='red'>Not Set</font></h3>"
      }
     },
     "bffc36350512460586dc925acfd14399": {
      "model_module": "@jupyter-widgets/base",
      "model_module_version": "1.2.0",
      "model_name": "LayoutModel",
      "state": {}
     },
     "c0251aba5cf54a71b04b5c6ca46b922c": {
      "model_module": "@jupyter-widgets/controls",
      "model_module_version": "1.5.0",
      "model_name": "HTMLModel",
      "state": {
       "layout": "IPY_MODEL_53ca06a8bba24e039f24cd23d759b54b",
       "style": "IPY_MODEL_3d652eb51471422c91bd13b7312bff73",
       "value": "<h3 style='padding:0;margin:0;'>&nbsp &nbsp<a href='https://github.com/SourabhSomdeve/Demo_folder'>Demo_folder</a> &nbsp</h3>"
      }
     },
     "c09d4c2778fa459792e9b1abf9615325": {
      "model_module": "@jupyter-widgets/controls",
      "model_module_version": "1.5.0",
      "model_name": "HTMLModel",
      "state": {
       "layout": "IPY_MODEL_2683f27710b74dafb8a50c23ff07a7ca",
       "style": "IPY_MODEL_aaab9a05bce9432b9fdc7bee073649f0",
       "value": "<font color='green'> &nbsp Downloads: 0</font>"
      }
     },
     "c0a81a130b7a491d9fbb0a831e22144c": {
      "model_module": "@jupyter-widgets/base",
      "model_module_version": "1.2.0",
      "model_name": "LayoutModel",
      "state": {}
     },
     "c0acdf15d437456f8f7f7c784283ea53": {
      "model_module": "@jupyter-widgets/controls",
      "model_module_version": "1.5.0",
      "model_name": "DescriptionStyleModel",
      "state": {
       "description_width": ""
      }
     },
     "c0c1c89414fe4fe999875bc4ad1ce1b2": {
      "model_module": "@jupyter-widgets/controls",
      "model_module_version": "1.5.0",
      "model_name": "DescriptionStyleModel",
      "state": {
       "description_width": ""
      }
     },
     "c116ce999bbd46578ad8459bdf926194": {
      "model_module": "@jupyter-widgets/base",
      "model_module_version": "1.2.0",
      "model_name": "LayoutModel",
      "state": {
       "width": "100px"
      }
     },
     "c117d91fb7af4085b4a2509025723243": {
      "model_module": "@jupyter-widgets/controls",
      "model_module_version": "1.5.0",
      "model_name": "DescriptionStyleModel",
      "state": {
       "description_width": ""
      }
     },
     "c1456415fd574ab69e2944fb6baffcf8": {
      "model_module": "@jupyter-widgets/controls",
      "model_module_version": "1.5.0",
      "model_name": "DescriptionStyleModel",
      "state": {
       "description_width": ""
      }
     },
     "c14ac867b026457887b4fe5aace7bfdb": {
      "model_module": "@jupyter-widgets/controls",
      "model_module_version": "1.5.0",
      "model_name": "ToggleButtonsStyleModel",
      "state": {
       "button_width": "",
       "description_width": ""
      }
     },
     "c17c69c7975b4078a91d25ad7b52f924": {
      "model_module": "@jupyter-widgets/controls",
      "model_module_version": "1.5.0",
      "model_name": "LabelModel",
      "state": {
       "layout": "IPY_MODEL_72817d42b20b4303b517fa4c6e28a677",
       "style": "IPY_MODEL_493973f29d7a401f8d97e385dd5b8274",
       "value": "Created Repo"
      }
     },
     "c1828e39d5f34105ae7230c291126fb8": {
      "model_module": "@jupyter-widgets/base",
      "model_module_version": "1.2.0",
      "model_name": "LayoutModel",
      "state": {
       "width": "100px"
      }
     },
     "c19debbfd76a42db85d344beffa134d4": {
      "model_module": "@jupyter-widgets/controls",
      "model_module_version": "1.5.0",
      "model_name": "LabelModel",
      "state": {
       "layout": "IPY_MODEL_ba9717f13bec4e1794aa2198836c4989",
       "style": "IPY_MODEL_e78d1a21e5cd483299dc92e3b6d2486f",
       "value": "5 months ago"
      }
     },
     "c19e24f2ae0d474fbdf1c54fec195d70": {
      "model_module": "@jupyter-widgets/base",
      "model_module_version": "1.2.0",
      "model_name": "LayoutModel",
      "state": {}
     },
     "c1bda7f77dc44e1981bd4fe36912d8eb": {
      "model_module": "@jupyter-widgets/controls",
      "model_module_version": "1.5.0",
      "model_name": "DescriptionStyleModel",
      "state": {
       "description_width": ""
      }
     },
     "c1e242f2e99e45aea668aa014eea1dbb": {
      "model_module": "@jupyter-widgets/controls",
      "model_module_version": "1.5.0",
      "model_name": "VBoxModel",
      "state": {
       "children": [
        "IPY_MODEL_7ed77e998d5b49b8be43fa2157cafce7",
        "IPY_MODEL_29d418b9a34647a0a4cd09f08da2aa86"
       ],
       "layout": "IPY_MODEL_ecf34b8f7ef04982894840716e6dbfd8"
      }
     },
     "c1e487ab34f6473b8f91e48a1fb73033": {
      "model_module": "@jupyter-widgets/controls",
      "model_module_version": "1.5.0",
      "model_name": "DescriptionStyleModel",
      "state": {
       "description_width": ""
      }
     },
     "c1ee4ae55d3f4cc3a251425b7e904c52": {
      "model_module": "@jupyter-widgets/base",
      "model_module_version": "1.2.0",
      "model_name": "LayoutModel",
      "state": {}
     },
     "c1f7083220784b3498b268cbf06f1c20": {
      "model_module": "@jupyter-widgets/base",
      "model_module_version": "1.2.0",
      "model_name": "LayoutModel",
      "state": {
       "width": "auto"
      }
     },
     "c209bdb575864d7087b45a9cc25e5dc5": {
      "model_module": "@jupyter-widgets/controls",
      "model_module_version": "1.5.0",
      "model_name": "HTMLModel",
      "state": {
       "layout": "IPY_MODEL_c2892b7e42994f89b3796ad39512b8c1",
       "style": "IPY_MODEL_9b3f7c343b58467a8fad1aa0e851ea12",
       "value": "<h3 style='padding:0;margin:0;'>&nbsp &nbsp<a href='https://github.com/SourabhSomdeve/My_first_demo'>My_first_demo</a> &nbsp</h3>"
      }
     },
     "c21dc7da3d0e46e098bed59610d0fa94": {
      "model_module": "@jupyter-widgets/controls",
      "model_module_version": "1.5.0",
      "model_name": "HTMLModel",
      "state": {
       "layout": "IPY_MODEL_9e8ef02081d74db8bd0ccfd48b6e2157",
       "style": "IPY_MODEL_8e3911e7550f4f7982b4af5fcbb13c76",
       "value": "<h5 style='padding:0;margin:0;'>&nbsp <a href='https://github.com/stcline' style='color:silver'>stcline</a> &nbsp</h5>"
      }
     },
     "c2619677bd9740ada9e8ae5027fe1ff7": {
      "model_module": "@jupyter-widgets/controls",
      "model_module_version": "1.5.0",
      "model_name": "DescriptionStyleModel",
      "state": {
       "description_width": ""
      }
     },
     "c2892b7e42994f89b3796ad39512b8c1": {
      "model_module": "@jupyter-widgets/base",
      "model_module_version": "1.2.0",
      "model_name": "LayoutModel",
      "state": {}
     },
     "c2909bcb5da9436ebc43d78fd57d92b5": {
      "model_module": "@jupyter-widgets/base",
      "model_module_version": "1.2.0",
      "model_name": "LayoutModel",
      "state": {}
     },
     "c2bda83f7eed43e9a795a787e457b3f0": {
      "model_module": "@jupyter-widgets/controls",
      "model_module_version": "1.5.0",
      "model_name": "DescriptionStyleModel",
      "state": {
       "description_width": ""
      }
     },
     "c2ea772135774723aa79b9ecafecb4b4": {
      "model_module": "@jupyter-widgets/controls",
      "model_module_version": "1.5.0",
      "model_name": "DescriptionStyleModel",
      "state": {
       "description_width": ""
      }
     },
     "c2ef72bed6e547e586ae55d47ad5b6c6": {
      "model_module": "@jupyter-widgets/base",
      "model_module_version": "1.2.0",
      "model_name": "LayoutModel",
      "state": {}
     },
     "c324519ec0d44ad0bc8c59b6f05354b6": {
      "model_module": "@jupyter-widgets/controls",
      "model_module_version": "1.5.0",
      "model_name": "HTMLModel",
      "state": {
       "layout": "IPY_MODEL_536b1a0a59a84d87a46dfdd20fe4848c",
       "style": "IPY_MODEL_4e1fe98582a84a8587930e6c63102e37",
       "value": "<h5 style='padding:0;margin:0;'>&nbsp <a href='https://github.com/ugunal' style='color:silver'>ugunal</a> &nbsp</h5>"
      }
     },
     "c37baf4cab334e8a92385d4a13795a91": {
      "model_module": "@jupyter-widgets/base",
      "model_module_version": "1.2.0",
      "model_name": "LayoutModel",
      "state": {}
     },
     "c38ab9dcf74d4edba6b13be7aabd1293": {
      "model_module": "@jupyter-widgets/controls",
      "model_module_version": "1.5.0",
      "model_name": "LabelModel",
      "state": {
       "layout": "IPY_MODEL_2f2cbc91c9bd40e294c97fb89d5e707a",
       "style": "IPY_MODEL_e78d5909d3a6423e9123df387fa036b2"
      }
     },
     "c39819aa9a97405dbb77e1f95184b88b": {
      "model_module": "@jupyter-widgets/controls",
      "model_module_version": "1.5.0",
      "model_name": "ButtonStyleModel",
      "state": {}
     },
     "c39ea896a6e7435eb4b7d67a659fdde3": {
      "model_module": "@jupyter-widgets/base",
      "model_module_version": "1.2.0",
      "model_name": "LayoutModel",
      "state": {}
     },
     "c3a1fe74fb5442f7ab2937ead3cbbbda": {
      "model_module": "@jupyter-widgets/controls",
      "model_module_version": "1.5.0",
      "model_name": "HTMLMathModel",
      "state": {
       "layout": "IPY_MODEL_27bc5fdc69354020b29c98472eba2521",
       "style": "IPY_MODEL_25933b00863e4f969485c11292d5449b",
       "value": "<h4>Url :</h4>"
      }
     },
     "c4135541c4914a1f8a4272abc98451b4": {
      "model_module": "@jupyter-widgets/base",
      "model_module_version": "1.2.0",
      "model_name": "LayoutModel",
      "state": {}
     },
     "c437c24543cb4cbeb9ff56235c8abac2": {
      "model_module": "@jupyter-widgets/controls",
      "model_module_version": "1.5.0",
      "model_name": "DescriptionStyleModel",
      "state": {
       "description_width": ""
      }
     },
     "c4664f813fbd4dcabb18055aae50e34b": {
      "model_module": "@jupyter-widgets/controls",
      "model_module_version": "1.5.0",
      "model_name": "DescriptionStyleModel",
      "state": {
       "description_width": ""
      }
     },
     "c474f6084169488489b5a1c673a031a5": {
      "model_module": "@jupyter-widgets/controls",
      "model_module_version": "1.5.0",
      "model_name": "DescriptionStyleModel",
      "state": {
       "description_width": ""
      }
     },
     "c4c10c9a1472464c8b4453db2a8309ca": {
      "model_module": "@jupyter-widgets/base",
      "model_module_version": "1.2.0",
      "model_name": "LayoutModel",
      "state": {}
     },
     "c4d7aab2e7d544c6849d5a02282ccdda": {
      "model_module": "@jupyter-widgets/controls",
      "model_module_version": "1.5.0",
      "model_name": "ToggleButtonsModel",
      "state": {
       "_options_labels": [
        "Public",
        "Private"
       ],
       "button_style": "info",
       "icons": [],
       "index": 0,
       "layout": "IPY_MODEL_0290967291e6467ea4974bf5ced3aa01",
       "style": "IPY_MODEL_fdfafbdbb996480c9ae796a54dcef5ab",
       "tooltips": []
      }
     },
     "c54d50fb22b74f5295e6ce1600389227": {
      "model_module": "@jupyter-widgets/controls",
      "model_module_version": "1.5.0",
      "model_name": "DescriptionStyleModel",
      "state": {
       "description_width": ""
      }
     },
     "c54ea0f189c940898b0e2f88d274c198": {
      "model_module": "@jupyter-widgets/controls",
      "model_module_version": "1.5.0",
      "model_name": "ButtonModel",
      "state": {
       "button_style": "info",
       "description": "Download",
       "layout": "IPY_MODEL_6c2d882d20f747c389565f01ca7d1dfa",
       "style": "IPY_MODEL_78a387260e964132adab78e8c8997fd0"
      }
     },
     "c568c16bf881485288b03a2a09202bb0": {
      "model_module": "@jupyter-widgets/controls",
      "model_module_version": "1.5.0",
      "model_name": "ButtonStyleModel",
      "state": {}
     },
     "c57545b0e0e0436e93dbc72b839370e2": {
      "model_module": "@jupyter-widgets/base",
      "model_module_version": "1.2.0",
      "model_name": "LayoutModel",
      "state": {}
     },
     "c58568c499124a6b9a5802c35c724a0b": {
      "model_module": "@jupyter-widgets/controls",
      "model_module_version": "1.5.0",
      "model_name": "ButtonModel",
      "state": {
       "button_style": "info",
       "description": "Download",
       "layout": "IPY_MODEL_2d6aeac1ad10421d9da2e518d1160fe9",
       "style": "IPY_MODEL_6d1406c295c24780b9913609491536bf"
      }
     },
     "c58a50b5919f4a25b211e1c8231d1a9b": {
      "model_module": "@jupyter-widgets/controls",
      "model_module_version": "1.5.0",
      "model_name": "DescriptionStyleModel",
      "state": {
       "description_width": ""
      }
     },
     "c5b8d693411949fe8e540f8acc4bd495": {
      "model_module": "@jupyter-widgets/controls",
      "model_module_version": "1.5.0",
      "model_name": "HTMLModel",
      "state": {
       "layout": "IPY_MODEL_50b4f1c833a240c5b791f775508774d3",
       "style": "IPY_MODEL_8bf31affd958456e9c9d0b83ec90c2a8",
       "value": "<h3 class='text-center'><font color='green'>Login</font> to <a stc='https://github.com/'>Github</a><h3>"
      }
     },
     "c5b96d9a7fd14a7cb7be034dbf89f110": {
      "model_module": "@jupyter-widgets/controls",
      "model_module_version": "1.5.0",
      "model_name": "LabelModel",
      "state": {
       "layout": "IPY_MODEL_0bcc3276f8ec4b328c5b7ed66055d7df",
       "style": "IPY_MODEL_95ced53b69d546f08cc9298640908222",
       "value": "5 months ago"
      }
     },
     "c5c6aefe3d8e45fca6c2171be419e6bb": {
      "model_module": "@jupyter-widgets/controls",
      "model_module_version": "1.5.0",
      "model_name": "LabelModel",
      "state": {
       "layout": "IPY_MODEL_73f2ddd8a3db405dbbfe46e28746d5fb",
       "style": "IPY_MODEL_59534b9c12c94f4882ec4ab2f602527e",
       "value": "Created Repo"
      }
     },
     "c60497db94464a2a807668358fb65f67": {
      "model_module": "@jupyter-widgets/controls",
      "model_module_version": "1.5.0",
      "model_name": "DescriptionStyleModel",
      "state": {
       "description_width": ""
      }
     },
     "c6201072f3cd4cca8bf8d1480b60f46a": {
      "model_module": "@jupyter-widgets/controls",
      "model_module_version": "1.5.0",
      "model_name": "DescriptionStyleModel",
      "state": {
       "description_width": ""
      }
     },
     "c64fa2f787bc44ed9a6add01b74893a5": {
      "model_module": "@jupyter-widgets/base",
      "model_module_version": "1.2.0",
      "model_name": "LayoutModel",
      "state": {
       "visibility": "hidden"
      }
     },
     "c6649f91e7b740128ece9797f0002170": {
      "model_module": "@jupyter-widgets/base",
      "model_module_version": "1.2.0",
      "model_name": "LayoutModel",
      "state": {}
     },
     "c66a61db3bdb49d0a764bfb39d44bde2": {
      "model_module": "@jupyter-widgets/controls",
      "model_module_version": "1.5.0",
      "model_name": "DescriptionStyleModel",
      "state": {
       "description_width": ""
      }
     },
     "c6993767129542f69e7de8cb058f3473": {
      "model_module": "@jupyter-widgets/controls",
      "model_module_version": "1.5.0",
      "model_name": "ButtonModel",
      "state": {
       "button_style": "info",
       "description": "Download",
       "layout": "IPY_MODEL_0bb6f0db50b1491eaacbc256e6fb8063",
       "style": "IPY_MODEL_081eaf1b269448549ebb717159a58237"
      }
     },
     "c6ba07dd745d4fbfa03f412d328adcd4": {
      "model_module": "@jupyter-widgets/base",
      "model_module_version": "1.2.0",
      "model_name": "LayoutModel",
      "state": {}
     },
     "c6c32b11dc954e91b0a21d06c8047302": {
      "model_module": "@jupyter-widgets/controls",
      "model_module_version": "1.5.0",
      "model_name": "DescriptionStyleModel",
      "state": {
       "description_width": ""
      }
     },
     "c6edb999300f45a7ab3eb4c676a53f5d": {
      "model_module": "@jupyter-widgets/controls",
      "model_module_version": "1.5.0",
      "model_name": "VBoxModel",
      "state": {
       "children": [
        "IPY_MODEL_d2d3f76c17b64031b36c14141ce7329f",
        "IPY_MODEL_72fb3f1855984a01abe1ac484a5a3090"
       ],
       "layout": "IPY_MODEL_deb841f7e2004bb29be13c6621fe7eb1"
      }
     },
     "c6f2003d63af42a087331ed915ab889d": {
      "model_module": "@jupyter-widgets/controls",
      "model_module_version": "1.5.0",
      "model_name": "DescriptionStyleModel",
      "state": {
       "description_width": ""
      }
     },
     "c7122a6908a24a5f8678807aa21274fa": {
      "model_module": "@jupyter-widgets/base",
      "model_module_version": "1.2.0",
      "model_name": "LayoutModel",
      "state": {
       "width": "auto"
      }
     },
     "c7297a77eb0a4bf5bb18ddbfdb6308b1": {
      "model_module": "@jupyter-widgets/controls",
      "model_module_version": "1.5.0",
      "model_name": "LabelModel",
      "state": {
       "layout": "IPY_MODEL_8945dade5ea84d4bb488f4cbd084124b",
       "style": "IPY_MODEL_0ebc88f9249a4bc39e0be0bde1e31e5e",
       "value": "2 months ago"
      }
     },
     "c76c5375ee4544da9867039f37b6c10c": {
      "model_module": "@jupyter-widgets/controls",
      "model_module_version": "1.5.0",
      "model_name": "HBoxModel",
      "state": {
       "children": [
        "IPY_MODEL_38ec9d27e3ee4f389260a12389af84c5",
        "IPY_MODEL_89d0447392fa47608c4c83d6e86105e6",
        "IPY_MODEL_2dd71de52f7e4aaabf5fb8fd214d2d27",
        "IPY_MODEL_5d6bdab5bd7d4f7696c738143c089077",
        "IPY_MODEL_aacb86a62f904074aa20bf531eff884d",
        "IPY_MODEL_5c72c9f6f50243709ea170e08eee2e90",
        "IPY_MODEL_5d28c91c33814f8bbe52978407ea2af6"
       ],
       "layout": "IPY_MODEL_2dcd0ae5bc774ee6879708692d321392"
      }
     },
     "c792fddd756c42d7ac266ff9a32645d6": {
      "model_module": "@jupyter-widgets/controls",
      "model_module_version": "1.5.0",
      "model_name": "DescriptionStyleModel",
      "state": {
       "description_width": ""
      }
     },
     "c7ae20c716ac4bcb891ae3a460944056": {
      "model_module": "@jupyter-widgets/base",
      "model_module_version": "1.2.0",
      "model_name": "LayoutModel",
      "state": {}
     },
     "c7c630c2cb5f47339e716af307dd13fc": {
      "model_module": "@jupyter-widgets/controls",
      "model_module_version": "1.5.0",
      "model_name": "DescriptionStyleModel",
      "state": {
       "description_width": ""
      }
     },
     "c804bdfb818b40abbe4ff5b272bb24f8": {
      "model_module": "@jupyter-widgets/controls",
      "model_module_version": "1.5.0",
      "model_name": "LabelModel",
      "state": {
       "layout": "IPY_MODEL_bf1960e3e2e44f849eba4742a5a655e1",
       "style": "IPY_MODEL_0e07266cb93a4552a757653cd4b7b7c8",
       "value": "1 month ago"
      }
     },
     "c84b54e682ae47b29a2cef510cf89f7c": {
      "model_module": "@jupyter-widgets/base",
      "model_module_version": "1.2.0",
      "model_name": "LayoutModel",
      "state": {
       "justify_content": "center",
       "padding": "20px 0 0 0"
      }
     },
     "c851d7b38d4d4ba2a92f5d8309e81d5f": {
      "model_module": "@jupyter-widgets/base",
      "model_module_version": "1.2.0",
      "model_name": "LayoutModel",
      "state": {}
     },
     "c867a462a6984babb4d4a27b5097e99e": {
      "model_module": "@jupyter-widgets/base",
      "model_module_version": "1.2.0",
      "model_name": "LayoutModel",
      "state": {
       "width": "100px"
      }
     },
     "c8a23b79e1574bf3968fafbf86147c87": {
      "model_module": "@jupyter-widgets/controls",
      "model_module_version": "1.5.0",
      "model_name": "HTMLModel",
      "state": {
       "layout": "IPY_MODEL_1c6ae4b41c27499690bc1da95a7b7a84",
       "style": "IPY_MODEL_367627bbc368412baf4837cbc1fb62a5",
       "value": "<h3 class='text-center'><font color='red'>Logout</font> of <a stc='https://github.com/'>Github </a> &nbsp&nbsp<h3>"
      }
     },
     "c8adaf5c253444f5a46d72973b37d0c4": {
      "model_module": "@jupyter-widgets/controls",
      "model_module_version": "1.5.0",
      "model_name": "HTMLModel",
      "state": {
       "layout": "IPY_MODEL_e185a6f6afba4fffad8c7c096a7f1283",
       "style": "IPY_MODEL_afd4ec74b14c4338bdab82929852ed33",
       "value": "<h3>Lab: <font color='red'>Not Set</font></h3>"
      }
     },
     "c8c6053e5e694e5a80ef1e09767e572a": {
      "model_module": "@jupyter-widgets/controls",
      "model_module_version": "1.5.0",
      "model_name": "HTMLModel",
      "state": {
       "layout": "IPY_MODEL_183bcf1301e44a789cd1456fcfec29cc",
       "style": "IPY_MODEL_abeb1c5e363f4cdb8194bbefa74b1c4a",
       "value": "<font color='orange'> &nbsp Stars: 0</font>"
      }
     },
     "c8e10f2c2b064aadb373bd9ba6c97b1c": {
      "model_module": "@jupyter-widgets/controls",
      "model_module_version": "1.5.0",
      "model_name": "DescriptionStyleModel",
      "state": {
       "description_width": ""
      }
     },
     "c8ef4914ffff4d25aaf9c190c81596a6": {
      "model_module": "@jupyter-widgets/controls",
      "model_module_version": "1.5.0",
      "model_name": "HTMLModel",
      "state": {
       "layout": "IPY_MODEL_96c8bdbfcfe548bbbfc352a98686ce3c",
       "style": "IPY_MODEL_e86e34892b0341dc9ea0669f03227e37",
       "value": "<h3 style='padding:0;margin:0;'>&nbsp &nbsp<a href='https://github.com/pupster90/Harmony_RNA'>Harmony_RNA</a> &nbsp</h3>"
      }
     },
     "c9548d3c254345acbb63ec9b271c7cce": {
      "model_module": "@jupyter-widgets/controls",
      "model_module_version": "1.5.0",
      "model_name": "LabelModel",
      "state": {
       "layout": "IPY_MODEL_006639439a87403d81b964a9bb94ed71",
       "style": "IPY_MODEL_5f8515fdb8a24be68b4d54da531ab746",
       "value": "5 months ago"
      }
     },
     "c9550ed4c94046ada75e141c2bc73d09": {
      "model_module": "@jupyter-widgets/controls",
      "model_module_version": "1.5.0",
      "model_name": "HTMLModel",
      "state": {
       "layout": "IPY_MODEL_affdef90a1a04cdd93be4279d4331227",
       "style": "IPY_MODEL_cf5bca5f4486404f9fdf3ba9e04acbaf",
       "value": "<h5 style='padding:0;margin:0;'>&nbsp <a href='https://github.com/pupster90' style='color:silver'>pupster90</a> &nbsp</h5>"
      }
     },
     "c965b5cdc0af4b61ad981daaa80b00c1": {
      "model_module": "@jupyter-widgets/controls",
      "model_module_version": "1.5.0",
      "model_name": "ButtonStyleModel",
      "state": {}
     },
     "c98eff3d27e64968abdc5f2e8d53a923": {
      "model_module": "@jupyter-widgets/base",
      "model_module_version": "1.2.0",
      "model_name": "LayoutModel",
      "state": {}
     },
     "c994fd1f99344f28b02b09351e9e4051": {
      "model_module": "@jupyter-widgets/base",
      "model_module_version": "1.2.0",
      "model_name": "LayoutModel",
      "state": {}
     },
     "c9bc10dbbaef4204af2a341ceb0d1ac6": {
      "model_module": "@jupyter-widgets/controls",
      "model_module_version": "1.5.0",
      "model_name": "HTMLMathModel",
      "state": {
       "layout": "IPY_MODEL_aa43a3ab50e7414ea2d1dca91805f31f",
       "style": "IPY_MODEL_8893a1b5cea4453d95d452a0c41d7b62",
       "value": "<h4>Order By Most &nbsp</h4>"
      }
     },
     "c9e6f0ac07ed4dc3841252acd337f639": {
      "model_module": "@jupyter-widgets/base",
      "model_module_version": "1.2.0",
      "model_name": "LayoutModel",
      "state": {
       "width": "auto"
      }
     },
     "ca3470d7268a41e8af80e155fba8b825": {
      "model_module": "@jupyter-widgets/controls",
      "model_module_version": "1.5.0",
      "model_name": "HTMLModel",
      "state": {
       "layout": "IPY_MODEL_c57545b0e0e0436e93dbc72b839370e2",
       "style": "IPY_MODEL_71b097638b684b14be9a6465fb5d1585",
       "value": "<font color='orange'> &nbsp Stars: 0</font>"
      }
     },
     "ca3f7f423ad043118459a3b9f80b6b82": {
      "model_module": "@jupyter-widgets/controls",
      "model_module_version": "1.5.0",
      "model_name": "DescriptionStyleModel",
      "state": {
       "description_width": ""
      }
     },
     "caaa71a38d40413fb18a4f3f9a46ffed": {
      "model_module": "@jupyter-widgets/base",
      "model_module_version": "1.2.0",
      "model_name": "LayoutModel",
      "state": {}
     },
     "cacc408dc5dd484fa3ec19b9886f5362": {
      "model_module": "@jupyter-widgets/controls",
      "model_module_version": "1.5.0",
      "model_name": "DescriptionStyleModel",
      "state": {
       "description_width": ""
      }
     },
     "caceb27cbb70403097bec5c734a48d41": {
      "model_module": "@jupyter-widgets/controls",
      "model_module_version": "1.5.0",
      "model_name": "DescriptionStyleModel",
      "state": {
       "description_width": ""
      }
     },
     "caf0672c73f342f6ad9eff8480b0b2d8": {
      "model_module": "@jupyter-widgets/controls",
      "model_module_version": "1.5.0",
      "model_name": "DescriptionStyleModel",
      "state": {
       "description_width": ""
      }
     },
     "cb0769ccb9694da68f1eaa227d093531": {
      "model_module": "@jupyter-widgets/controls",
      "model_module_version": "1.5.0",
      "model_name": "DescriptionStyleModel",
      "state": {
       "description_width": ""
      }
     },
     "cb0fe0bf5c124a9e8915b474324f118f": {
      "model_module": "@jupyter-widgets/controls",
      "model_module_version": "1.5.0",
      "model_name": "ButtonStyleModel",
      "state": {}
     },
     "cb5d3ceab47647b8b5ce35d5b2431884": {
      "model_module": "@jupyter-widgets/base",
      "model_module_version": "1.2.0",
      "model_name": "LayoutModel",
      "state": {}
     },
     "cb80df6e370b4cc5b4227b670bd541fb": {
      "model_module": "@jupyter-widgets/base",
      "model_module_version": "1.2.0",
      "model_name": "LayoutModel",
      "state": {}
     },
     "cbbf1cf055144514b36e7318183a67be": {
      "model_module": "@jupyter-widgets/base",
      "model_module_version": "1.2.0",
      "model_name": "LayoutModel",
      "state": {}
     },
     "cc03e2bfaa4e4906a09f53fe979d98a8": {
      "model_module": "@jupyter-widgets/controls",
      "model_module_version": "1.5.0",
      "model_name": "DescriptionStyleModel",
      "state": {
       "description_width": ""
      }
     },
     "cc2677ec69384312aecc7364164cb9f5": {
      "model_module": "@jupyter-widgets/controls",
      "model_module_version": "1.5.0",
      "model_name": "DescriptionStyleModel",
      "state": {
       "description_width": ""
      }
     },
     "cc2f051b59024060b54b2ac08d079436": {
      "model_module": "@jupyter-widgets/base",
      "model_module_version": "1.2.0",
      "model_name": "LayoutModel",
      "state": {}
     },
     "cc4e8c2193754119be9ed7c37d8ef026": {
      "model_module": "@jupyter-widgets/controls",
      "model_module_version": "1.5.0",
      "model_name": "HTMLModel",
      "state": {
       "layout": "IPY_MODEL_b6202fde745a4695b0bfc84dd3d76bdb",
       "style": "IPY_MODEL_5cb6200141ba4a1393a69215ecf9620e",
       "value": "<font color='green'> &nbsp Downloads: 0</font>"
      }
     },
     "cc7744520cae48029303b8b4bcc8e4e7": {
      "model_module": "@jupyter-widgets/base",
      "model_module_version": "1.2.0",
      "model_name": "LayoutModel",
      "state": {
       "width": "auto"
      }
     },
     "cc966a753da5499facd416abfb6bb5c0": {
      "model_module": "@jupyter-widgets/controls",
      "model_module_version": "1.5.0",
      "model_name": "DescriptionStyleModel",
      "state": {
       "description_width": ""
      }
     },
     "ccc4c9fc3f764506a94cc6d14cfa6fa5": {
      "model_module": "@jupyter-widgets/controls",
      "model_module_version": "1.5.0",
      "model_name": "DescriptionStyleModel",
      "state": {
       "description_width": ""
      }
     },
     "cd0c8789655c44e5b869bf19d9c61952": {
      "model_module": "@jupyter-widgets/controls",
      "model_module_version": "1.5.0",
      "model_name": "LabelModel",
      "state": {
       "layout": "IPY_MODEL_65ae496459ac4d05b55b37db0167cd1c",
       "style": "IPY_MODEL_5ce18166d8444686aa2a72462fd0f766",
       "value": "7 months ago"
      }
     },
     "cd14f4500a9949aba230902ba9ec32a9": {
      "model_module": "@jupyter-widgets/base",
      "model_module_version": "1.2.0",
      "model_name": "LayoutModel",
      "state": {}
     },
     "cd166fe214f045ec867c13981ae31a6f": {
      "model_module": "@jupyter-widgets/base",
      "model_module_version": "1.2.0",
      "model_name": "LayoutModel",
      "state": {}
     },
     "cd1c9272eb564eec93c589cc0ce3c95d": {
      "model_module": "@jupyter-widgets/controls",
      "model_module_version": "1.5.0",
      "model_name": "HTMLModel",
      "state": {
       "layout": "IPY_MODEL_7503c82757fc4cbcaef22193176ef209",
       "style": "IPY_MODEL_fa50ec4635a64c8fa7acec834280af72",
       "value": "<h5 style='padding:0;margin:0;'>&nbsp <a href='https://github.com/spockman12' style='color:silver'>spockman12</a> &nbsp</h5>"
      }
     },
     "cd42bb5067074a908bfcefa599d984bc": {
      "model_module": "@jupyter-widgets/controls",
      "model_module_version": "1.5.0",
      "model_name": "PasswordModel",
      "state": {
       "description": "Password",
       "layout": "IPY_MODEL_d776135549a5412d8a3bee15c2a2badb",
       "style": "IPY_MODEL_c6f2003d63af42a087331ed915ab889d"
      }
     },
     "cd4c1ae1366048ab9f58ba6516a01ea2": {
      "model_module": "@jupyter-widgets/base",
      "model_module_version": "1.2.0",
      "model_name": "LayoutModel",
      "state": {}
     },
     "cd5ba68df6d54bb6a22a33efa800b9e4": {
      "model_module": "@jupyter-widgets/base",
      "model_module_version": "1.2.0",
      "model_name": "LayoutModel",
      "state": {}
     },
     "cda47587b296429ba0c13cf602f43a0e": {
      "model_module": "@jupyter-widgets/controls",
      "model_module_version": "1.5.0",
      "model_name": "LabelModel",
      "state": {
       "layout": "IPY_MODEL_6c31d2a075504cb582efecce59f76b13",
       "style": "IPY_MODEL_755e22fbed1640598c2cd04ef3c3404c",
       "value": "Created Repo"
      }
     },
     "cdf045cb72d54d05b5399284390edc79": {
      "model_module": "@jupyter-widgets/controls",
      "model_module_version": "1.5.0",
      "model_name": "ButtonModel",
      "state": {
       "button_style": "success",
       "description": "Login",
       "layout": "IPY_MODEL_297ffc9cd88b45bf80364d0998454c41",
       "style": "IPY_MODEL_8b02404eb3ee41b7bb74202325223eb5"
      }
     },
     "ce1d13b0d44844259030ba3493e27e24": {
      "model_module": "@jupyter-widgets/controls",
      "model_module_version": "1.5.0",
      "model_name": "LabelModel",
      "state": {
       "layout": "IPY_MODEL_96d4e16701aa46fe8c551e7bfed94ece",
       "style": "IPY_MODEL_d523575acd4d44f9848dcb2f8a1da1b0",
       "value": "1 month ago"
      }
     },
     "ce375118d0a2444db1e216cebfe8364e": {
      "model_module": "@jupyter-widgets/controls",
      "model_module_version": "1.5.0",
      "model_name": "DescriptionStyleModel",
      "state": {
       "description_width": ""
      }
     },
     "ce3f1c0578524445925be695bffbd07e": {
      "model_module": "@jupyter-widgets/controls",
      "model_module_version": "1.5.0",
      "model_name": "HTMLModel",
      "state": {
       "layout": "IPY_MODEL_3c38763fd47a43b9a39a820874375e6c",
       "style": "IPY_MODEL_0fb8317dcfed4bcf982e355d8a787c82",
       "value": "<h5 style='padding:0;margin:0;'>&nbsp <a href='https://github.com/spockman12' style='color:silver'>spockman12</a> &nbsp</h5>"
      }
     },
     "ce669cc139a44d069868069b61e72291": {
      "model_module": "@jupyter-widgets/base",
      "model_module_version": "1.2.0",
      "model_name": "LayoutModel",
      "state": {}
     },
     "ceae6abf9c504d189a8b6ab9913dba45": {
      "model_module": "@jupyter-widgets/controls",
      "model_module_version": "1.5.0",
      "model_name": "HTMLModel",
      "state": {
       "layout": "IPY_MODEL_4b94577dec6e4f2a8b1798af0f9410d0",
       "style": "IPY_MODEL_471e21ab563c4b6baec0ab0e1b694037",
       "value": "<font color='orange'> &nbsp Stars: 0</font>"
      }
     },
     "ceb149f7567d4526972826e247e08907": {
      "model_module": "@jupyter-widgets/base",
      "model_module_version": "1.2.0",
      "model_name": "LayoutModel",
      "state": {}
     },
     "ceb4815ec6ba4460a01540edae5b56f3": {
      "model_module": "@jupyter-widgets/controls",
      "model_module_version": "1.5.0",
      "model_name": "DescriptionStyleModel",
      "state": {
       "description_width": ""
      }
     },
     "ced2cf893fd741909020537f524daee1": {
      "model_module": "@jupyter-widgets/base",
      "model_module_version": "1.2.0",
      "model_name": "LayoutModel",
      "state": {
       "width": "auto"
      }
     },
     "cef3d745dca140b39d9880f2373b3434": {
      "model_module": "@jupyter-widgets/controls",
      "model_module_version": "1.5.0",
      "model_name": "HTMLModel",
      "state": {
       "layout": "IPY_MODEL_778820cd4d744226aa85e86d2bcb51da",
       "style": "IPY_MODEL_3a6c9bd434234998aad93db83082bfb8",
       "value": "<h3 style='padding:0;margin:0;'>&nbsp &nbsp<a href='https://github.com/SSRGHVN/707proj'>707proj</a> &nbsp</h3>"
      }
     },
     "cef3df0714ff44fb9f8f4ed69f3707d6": {
      "model_module": "@jupyter-widgets/base",
      "model_module_version": "1.2.0",
      "model_name": "LayoutModel",
      "state": {
       "align_items": "center",
       "justify_content": "center"
      }
     },
     "cf478bffb94446fe92bb6c29a6971cd7": {
      "model_module": "@jupyter-widgets/controls",
      "model_module_version": "1.5.0",
      "model_name": "HBoxModel",
      "state": {
       "children": [
        "IPY_MODEL_da9a56736507411187fea08e1a4c3444",
        "IPY_MODEL_68128bd04b4049f5be5cc59aad33907c"
       ],
       "layout": "IPY_MODEL_8c5dd7edfc2942a9a38a0ffba9649eca"
      }
     },
     "cf5bca5f4486404f9fdf3ba9e04acbaf": {
      "model_module": "@jupyter-widgets/controls",
      "model_module_version": "1.5.0",
      "model_name": "DescriptionStyleModel",
      "state": {
       "description_width": ""
      }
     },
     "cf64a75c9e9a452a92a93cc5b02fd9be": {
      "model_module": "@jupyter-widgets/controls",
      "model_module_version": "1.5.0",
      "model_name": "HTMLModel",
      "state": {
       "layout": "IPY_MODEL_77dca2bcc36b40fcaf6e465fca885018",
       "style": "IPY_MODEL_cc2677ec69384312aecc7364164cb9f5",
       "value": "<font color='orange'> &nbsp Stars: 0</font>"
      }
     },
     "cf7c9d026d4842b48f3347b812fa9e0d": {
      "model_module": "@jupyter-widgets/controls",
      "model_module_version": "1.5.0",
      "model_name": "DescriptionStyleModel",
      "state": {
       "description_width": ""
      }
     },
     "cfa9dead9e794607aa22395d7198bfab": {
      "model_module": "@jupyter-widgets/controls",
      "model_module_version": "1.5.0",
      "model_name": "ButtonStyleModel",
      "state": {}
     },
     "cfb653628d0042fa8c986b83023cc1d2": {
      "model_module": "@jupyter-widgets/controls",
      "model_module_version": "1.5.0",
      "model_name": "HBoxModel",
      "state": {
       "children": [
        "IPY_MODEL_168e56d3335346f7bb1922a0600d38a4",
        "IPY_MODEL_0066c58dcfb1429fba1f2ba812fce045",
        "IPY_MODEL_def69a35d8154020925ca3d5e5a61902",
        "IPY_MODEL_3130d765b12a4de88cf650116962e2c8",
        "IPY_MODEL_5900630393314a89b0d3eff7b800330e",
        "IPY_MODEL_c17c69c7975b4078a91d25ad7b52f924",
        "IPY_MODEL_028fa8f8a14e4dc9a58e916993712af8"
       ],
       "layout": "IPY_MODEL_0bfd2823bf884c97af44082357551ec3"
      }
     },
     "d00a45a7ac1c4cceb29a1834da373366": {
      "model_module": "@jupyter-widgets/controls",
      "model_module_version": "1.5.0",
      "model_name": "HBoxModel",
      "state": {
       "children": [
        "IPY_MODEL_a52be622b5594d38aa94469b0f618f40"
       ],
       "layout": "IPY_MODEL_f7ac01087d5c4d91afbcdf90ddc765b6"
      }
     },
     "d0266933288c405e87e0d28730bb4809": {
      "model_module": "@jupyter-widgets/base",
      "model_module_version": "1.2.0",
      "model_name": "LayoutModel",
      "state": {}
     },
     "d070d35db047468a8f6907f1e7988bfd": {
      "model_module": "@jupyter-widgets/controls",
      "model_module_version": "1.5.0",
      "model_name": "ButtonStyleModel",
      "state": {}
     },
     "d075297afdd94f6d9c6e14433f74f8a6": {
      "model_module": "@jupyter-widgets/base",
      "model_module_version": "1.2.0",
      "model_name": "LayoutModel",
      "state": {}
     },
     "d082a3b983794363adee1d81b86f3ec0": {
      "model_module": "@jupyter-widgets/base",
      "model_module_version": "1.2.0",
      "model_name": "LayoutModel",
      "state": {}
     },
     "d08c524e8a4747d0bc2f5cf6805ced20": {
      "model_module": "@jupyter-widgets/controls",
      "model_module_version": "1.5.0",
      "model_name": "HBoxModel",
      "state": {
       "children": [
        "IPY_MODEL_ce1d13b0d44844259030ba3493e27e24",
        "IPY_MODEL_5c7cbf07b44044839590740a98d78051",
        "IPY_MODEL_ed706f5741e84fea840b9c7265f8ce02",
        "IPY_MODEL_9c3a0945e637417eac521ace38426480",
        "IPY_MODEL_9f0c8a70071941c69b4692cc9895c829",
        "IPY_MODEL_5013b3b3eab14cc18b3c02dfd206f8bd",
        "IPY_MODEL_365abc8893b54d1d9637565c9a4686cd"
       ],
       "layout": "IPY_MODEL_12fb5bc60f264d8b90a61b81b1117255"
      }
     },
     "d1618f5a36984081bfb0afe79a60bc69": {
      "model_module": "@jupyter-widgets/controls",
      "model_module_version": "1.5.0",
      "model_name": "ButtonModel",
      "state": {
       "button_style": "info",
       "description": "Download",
       "layout": "IPY_MODEL_1e95ca62a4b841cc84dd136f1f8fbc97",
       "style": "IPY_MODEL_feb9140768314648827527e44fa686b9"
      }
     },
     "d1a73698683b4d0bbc17080a985b0caf": {
      "model_module": "@jupyter-widgets/controls",
      "model_module_version": "1.5.0",
      "model_name": "HTMLModel",
      "state": {
       "layout": "IPY_MODEL_711531f3ccfa495e801757e2f4259dbf",
       "style": "IPY_MODEL_b4ddead2821c4e34b1533d7edcae03c7",
       "value": "<h5 style='padding:0;margin:0;'>&nbsp <a href='https://github.com/derekguo31' style='color:silver'>derekguo31</a> &nbsp</h5>"
      }
     },
     "d1e1aa7597b649148f60e28e8766c387": {
      "model_module": "@jupyter-widgets/base",
      "model_module_version": "1.2.0",
      "model_name": "LayoutModel",
      "state": {
       "padding": "0px 20px 5px 0px"
      }
     },
     "d2111e50a4284534931f6964c40360a4": {
      "model_module": "@jupyter-widgets/controls",
      "model_module_version": "1.5.0",
      "model_name": "TextModel",
      "state": {
       "layout": "IPY_MODEL_957fae6ce4e54ec8926b298c05f7d874",
       "style": "IPY_MODEL_681f6a2466cf496ca47941a1a82e78c8"
      }
     },
     "d265869442a64b769cc6804ea0f9efd3": {
      "model_module": "@jupyter-widgets/base",
      "model_module_version": "1.2.0",
      "model_name": "LayoutModel",
      "state": {}
     },
     "d283bca6c74e4d0cbb0102ec8c49a876": {
      "model_module": "@jupyter-widgets/controls",
      "model_module_version": "1.5.0",
      "model_name": "HTMLModel",
      "state": {
       "layout": "IPY_MODEL_4beb23a8cd9d48c6b35ef9c1bf84c2fe",
       "style": "IPY_MODEL_43131bade9eb4b4888e0eb9722d6a917",
       "value": "<font color='orange'> &nbsp Stars: 0</font>"
      }
     },
     "d2b5406d9a5645d3b85118c15786b5be": {
      "model_module": "@jupyter-widgets/controls",
      "model_module_version": "1.5.0",
      "model_name": "DescriptionStyleModel",
      "state": {
       "description_width": ""
      }
     },
     "d2d3f76c17b64031b36c14141ce7329f": {
      "model_module": "@jupyter-widgets/controls",
      "model_module_version": "1.5.0",
      "model_name": "HBoxModel",
      "state": {
       "children": [
        "IPY_MODEL_c9bc10dbbaef4204af2a341ceb0d1ac6",
        "IPY_MODEL_75070866918b4b2fbf81492ee05aeef7"
       ],
       "layout": "IPY_MODEL_f11afcd7fc9549b9a403754e31c5dc42"
      }
     },
     "d2f3b776d01948b1a838cb31450a655f": {
      "model_module": "@jupyter-widgets/base",
      "model_module_version": "1.2.0",
      "model_name": "LayoutModel",
      "state": {
       "width": "auto"
      }
     },
     "d3524ecb413542dbb67463f4d627b6ed": {
      "model_module": "@jupyter-widgets/controls",
      "model_module_version": "1.5.0",
      "model_name": "HTMLModel",
      "state": {
       "layout": "IPY_MODEL_c2ef72bed6e547e586ae55d47ad5b6c6",
       "style": "IPY_MODEL_995385a00c5e4951a54ec5868f473196",
       "value": "<font color='green'> &nbsp Downloads: 0</font>"
      }
     },
     "d359b0e9f6fb42ba878526f0a03eb75b": {
      "model_module": "@jupyter-widgets/base",
      "model_module_version": "1.2.0",
      "model_name": "LayoutModel",
      "state": {
       "width": "auto"
      }
     },
     "d44103aa53dd489eae2463cd6a73128b": {
      "model_module": "@jupyter-widgets/controls",
      "model_module_version": "1.5.0",
      "model_name": "ButtonStyleModel",
      "state": {}
     },
     "d470965b76cc4f7d8d184ae5501811a7": {
      "model_module": "@jupyter-widgets/controls",
      "model_module_version": "1.5.0",
      "model_name": "LabelModel",
      "state": {
       "layout": "IPY_MODEL_b2a84c2af9194fc8aaa0565b7256b79f",
       "style": "IPY_MODEL_2618ec3c28174625821155c87735e676",
       "value": "changed image"
      }
     },
     "d4a545cacbbc436d89aa370c2cefbcf0": {
      "model_module": "@jupyter-widgets/controls",
      "model_module_version": "1.5.0",
      "model_name": "HTMLModel",
      "state": {
       "layout": "IPY_MODEL_b8befba52f034c7b9901fc2e807a83c1",
       "style": "IPY_MODEL_4a7c1da188b64b1496adb98037c63064",
       "value": "<font color='green'> &nbsp Downloads: 0</font>"
      }
     },
     "d4da7c3868c8478382762496cf147741": {
      "model_module": "@jupyter-widgets/controls",
      "model_module_version": "1.5.0",
      "model_name": "ButtonModel",
      "state": {
       "button_style": "info",
       "description": "Download",
       "layout": "IPY_MODEL_d359b0e9f6fb42ba878526f0a03eb75b",
       "style": "IPY_MODEL_724937e0f9a94f5dbc280ece675004c5"
      }
     },
     "d5107ebd0be14a1dbe3d43294531460c": {
      "model_module": "@jupyter-widgets/controls",
      "model_module_version": "1.5.0",
      "model_name": "ButtonStyleModel",
      "state": {}
     },
     "d523575acd4d44f9848dcb2f8a1da1b0": {
      "model_module": "@jupyter-widgets/controls",
      "model_module_version": "1.5.0",
      "model_name": "DescriptionStyleModel",
      "state": {
       "description_width": ""
      }
     },
     "d54377a17ca6476ca5ce6dab03a3d105": {
      "model_module": "@jupyter-widgets/controls",
      "model_module_version": "1.5.0",
      "model_name": "ButtonModel",
      "state": {
       "button_style": "primary",
       "description": " Refresh",
       "icon": "refresh",
       "layout": "IPY_MODEL_25e4f359f9044ab8900da3b8ec31909c",
       "style": "IPY_MODEL_4eb2c3a1b1d34b8cb36f5381d37023e8"
      }
     },
     "d54413d9ded94265bcb0573ac66d5a3d": {
      "model_module": "@jupyter-widgets/controls",
      "model_module_version": "1.5.0",
      "model_name": "HTMLModel",
      "state": {
       "layout": "IPY_MODEL_e96bb4a1516c47508c79c34cb103f818",
       "style": "IPY_MODEL_8fc553ab527644978bfe0fd0af2aa3f0",
       "value": "<font color='orange'> &nbsp Stars: 0</font>"
      }
     },
     "d54fddb1b3c94c26b75d4f332aff20ff": {
      "model_module": "@jupyter-widgets/controls",
      "model_module_version": "1.5.0",
      "model_name": "DescriptionStyleModel",
      "state": {
       "description_width": ""
      }
     },
     "d56be23c353e4ab1b0dc8163b7872826": {
      "model_module": "@jupyter-widgets/controls",
      "model_module_version": "1.5.0",
      "model_name": "HTMLModel",
      "state": {
       "layout": "IPY_MODEL_4ef3b6ed14ee49baa2a1c329b4e6c3d2",
       "style": "IPY_MODEL_224061a7cd1240f9ae9add51c9c3d749",
       "value": "<font color='green'> &nbsp Downloads: 0</font>"
      }
     },
     "d581cbdbef864a44b92aa7c857c640f2": {
      "model_module": "@jupyter-widgets/controls",
      "model_module_version": "1.5.0",
      "model_name": "DescriptionStyleModel",
      "state": {
       "description_width": ""
      }
     },
     "d5878168ad5d4c4b90c68f58583fb95a": {
      "model_module": "@jupyter-widgets/controls",
      "model_module_version": "1.5.0",
      "model_name": "LabelModel",
      "state": {
       "layout": "IPY_MODEL_7d5555fd0f9c462fa0006d757bf31132",
       "style": "IPY_MODEL_ff68f7f724314ee5a10e962f5b9912e4"
      }
     },
     "d5a5ad2c52dd46b79275617d899ca827": {
      "model_module": "@jupyter-widgets/controls",
      "model_module_version": "1.5.0",
      "model_name": "VBoxModel",
      "state": {
       "children": [
        "IPY_MODEL_539af72091b14b8daaa1c78550cb915b",
        "IPY_MODEL_fb2da33d69154f38b9ab798b457e1753"
       ],
       "layout": "IPY_MODEL_17679e2b31a348cc938e8485cb026ae9"
      }
     },
     "d5d6965b9fb24909a2c9cd222773ca97": {
      "model_module": "@jupyter-widgets/base",
      "model_module_version": "1.2.0",
      "model_name": "LayoutModel",
      "state": {}
     },
     "d60080ff2e3c4692923fede4cac814cb": {
      "model_module": "@jupyter-widgets/controls",
      "model_module_version": "1.5.0",
      "model_name": "HTMLModel",
      "state": {
       "layout": "IPY_MODEL_2f367533542049e59ba3d967182f3ef5",
       "style": "IPY_MODEL_a37e9646833b4ead867a33d6d4338339",
       "value": "<h5 style='padding:0;margin:0;'>&nbsp <a href='https://github.com/p10raveen' style='color:silver'>p10raveen</a> &nbsp</h5>"
      }
     },
     "d608f4023a694d1898728c89d3daf4f2": {
      "model_module": "@jupyter-widgets/controls",
      "model_module_version": "1.5.0",
      "model_name": "ButtonStyleModel",
      "state": {}
     },
     "d618c5298b5546b7b21df99a631ecfa8": {
      "model_module": "@jupyter-widgets/base",
      "model_module_version": "1.2.0",
      "model_name": "LayoutModel",
      "state": {}
     },
     "d6353380310d440dac5a85f2acc5ee7d": {
      "model_module": "@jupyter-widgets/base",
      "model_module_version": "1.2.0",
      "model_name": "LayoutModel",
      "state": {}
     },
     "d68dae12cae74e088692f9cef08bc5ab": {
      "model_module": "@jupyter-widgets/base",
      "model_module_version": "1.2.0",
      "model_name": "LayoutModel",
      "state": {}
     },
     "d6d30cf7937a472aae8604234828e22d": {
      "model_module": "@jupyter-widgets/base",
      "model_module_version": "1.2.0",
      "model_name": "LayoutModel",
      "state": {}
     },
     "d6d69417f2314da194f8e3e1959c2772": {
      "model_module": "@jupyter-widgets/base",
      "model_module_version": "1.2.0",
      "model_name": "LayoutModel",
      "state": {
       "visibility": "hidden"
      }
     },
     "d6db13e0f37248c58b2fb3d68ce55c18": {
      "model_module": "@jupyter-widgets/controls",
      "model_module_version": "1.5.0",
      "model_name": "HBoxModel",
      "state": {
       "children": [
        "IPY_MODEL_a3c8c0caa9b94f15bb7af7e3bc0ec9e9",
        "IPY_MODEL_f387f4c6e78947f587804488dd7fe816"
       ],
       "layout": "IPY_MODEL_f019df8993d1472c8818d211b3989a89"
      }
     },
     "d6e52741493a42a3a1b17309d9b14dc8": {
      "model_module": "@jupyter-widgets/controls",
      "model_module_version": "1.5.0",
      "model_name": "HTMLModel",
      "state": {
       "layout": "IPY_MODEL_c39ea896a6e7435eb4b7d67a659fdde3",
       "style": "IPY_MODEL_af8ea583709b4d0589d3de8bdcce0e93",
       "value": "<h3 class='text-center'><font color='green'>Login</font> to <a stc='https://github.com/'>Github</a><h3>"
      }
     },
     "d717c220e2e1438b94c18898cd9e8cd7": {
      "model_module": "@jupyter-widgets/controls",
      "model_module_version": "1.5.0",
      "model_name": "HTMLModel",
      "state": {
       "layout": "IPY_MODEL_6e2c334d54df43f18b8d2582d14a10f1",
       "style": "IPY_MODEL_f286a20f0b1a4de2b259011da8ef932a",
       "value": "<font color='orange'> &nbsp Stars: 0</font>"
      }
     },
     "d776135549a5412d8a3bee15c2a2badb": {
      "model_module": "@jupyter-widgets/base",
      "model_module_version": "1.2.0",
      "model_name": "LayoutModel",
      "state": {}
     },
     "d7afcb94d3c543d886fb30a9480c7b10": {
      "model_module": "@jupyter-widgets/controls",
      "model_module_version": "1.5.0",
      "model_name": "DescriptionStyleModel",
      "state": {
       "description_width": ""
      }
     },
     "d813fa8689654615b69d93bde111d6ee": {
      "model_module": "@jupyter-widgets/controls",
      "model_module_version": "1.5.0",
      "model_name": "DescriptionStyleModel",
      "state": {
       "description_width": ""
      }
     },
     "d865344752864d81b616d8d4cfa9097f": {
      "model_module": "@jupyter-widgets/controls",
      "model_module_version": "1.5.0",
      "model_name": "HBoxModel",
      "state": {
       "children": [
        "IPY_MODEL_c8adaf5c253444f5a46d72973b37d0c4",
        "IPY_MODEL_32dd0fe552304ff0afd2c9eed7f96daa",
        "IPY_MODEL_4996bbad6d6947d9ae2c22467deb3b46",
        "IPY_MODEL_4b4d7fe979da4be5ac5d294919a3b582",
        "IPY_MODEL_2e8a325bff364e62a210b62f60160aa0"
       ],
       "layout": "IPY_MODEL_18bac928c3d24324bde4c1295b8990bf"
      }
     },
     "d86f92bdc0f847c8a5c1babaa8f64383": {
      "model_module": "@jupyter-widgets/controls",
      "model_module_version": "1.5.0",
      "model_name": "DescriptionStyleModel",
      "state": {
       "description_width": ""
      }
     },
     "d883a4dcf385429ea286628672a3bd00": {
      "model_module": "@jupyter-widgets/controls",
      "model_module_version": "1.5.0",
      "model_name": "ButtonStyleModel",
      "state": {}
     },
     "d89d0dde30604a039341739cf53c4a50": {
      "model_module": "@jupyter-widgets/controls",
      "model_module_version": "1.5.0",
      "model_name": "DescriptionStyleModel",
      "state": {
       "description_width": ""
      }
     },
     "d89df164f8f1439a90805dc090b09e7d": {
      "model_module": "@jupyter-widgets/controls",
      "model_module_version": "1.5.0",
      "model_name": "HTMLMathModel",
      "state": {
       "layout": "IPY_MODEL_2b417e4287ca44f78f522eb611d8a3de",
       "style": "IPY_MODEL_59f4299ff5794835a41c16be43370223",
       "value": "<h4>Order By Most &nbsp</h4>"
      }
     },
     "d8befc7d92f04b79a897f3e7173bbd48": {
      "model_module": "@jupyter-widgets/controls",
      "model_module_version": "1.5.0",
      "model_name": "ButtonModel",
      "state": {
       "button_style": "info",
       "description": "Download",
       "layout": "IPY_MODEL_38470778da0b4a828fbdffc50f78752c",
       "style": "IPY_MODEL_35477075170b4e48b8b664ebc25286d2"
      }
     },
     "d8d193a6828b434980400fdee109baa2": {
      "model_module": "@jupyter-widgets/controls",
      "model_module_version": "1.5.0",
      "model_name": "ButtonModel",
      "state": {
       "button_style": "info",
       "description": "Download",
       "layout": "IPY_MODEL_33df4e9704b448b49bdafac84f9266ed",
       "style": "IPY_MODEL_898c32f17ca04b7d9e731b21b41f7a83"
      }
     },
     "d8dce3a111fb4e1b89f34c2b8dffac0c": {
      "model_module": "@jupyter-widgets/controls",
      "model_module_version": "1.5.0",
      "model_name": "HBoxModel",
      "state": {
       "children": [
        "IPY_MODEL_35598d6ecbe94b0da164d966f96d9cc0",
        "IPY_MODEL_f21dc3a5674f4a06bd615f78b3e0cad1",
        "IPY_MODEL_ef9b14ddf08241cfa2089931dd82d9aa",
        "IPY_MODEL_c8c6053e5e694e5a80ef1e09767e572a",
        "IPY_MODEL_6c676bd8b2174070ac785b112972a909",
        "IPY_MODEL_0931682930b14b878f5badfa28b648a9",
        "IPY_MODEL_dd48f31cff3940919feaefdc7613ce0e"
       ],
       "layout": "IPY_MODEL_6ab16a20ff754bc68c58a71c49f080a8"
      }
     },
     "d8e74a6302bc4b288b62fed997ce9a10": {
      "model_module": "@jupyter-widgets/controls",
      "model_module_version": "1.5.0",
      "model_name": "DescriptionStyleModel",
      "state": {
       "description_width": ""
      }
     },
     "d8f5dd0f605a487db93f44d876371f15": {
      "model_module": "@jupyter-widgets/base",
      "model_module_version": "1.2.0",
      "model_name": "LayoutModel",
      "state": {}
     },
     "d8fad574b6664850a1f567075745fb35": {
      "model_module": "@jupyter-widgets/controls",
      "model_module_version": "1.5.0",
      "model_name": "DescriptionStyleModel",
      "state": {
       "description_width": ""
      }
     },
     "d8ff2b1d60c9430eba0d13548cec5540": {
      "model_module": "@jupyter-widgets/controls",
      "model_module_version": "1.5.0",
      "model_name": "DescriptionStyleModel",
      "state": {
       "description_width": ""
      }
     },
     "d94cea96ba814d47b278828f9bfabe4e": {
      "model_module": "@jupyter-widgets/controls",
      "model_module_version": "1.5.0",
      "model_name": "ButtonStyleModel",
      "state": {}
     },
     "d95f7345948944caa0bd2d19c4ed6c78": {
      "model_module": "@jupyter-widgets/base",
      "model_module_version": "1.2.0",
      "model_name": "LayoutModel",
      "state": {}
     },
     "d981adb374004af5b0d1e030d1e99d52": {
      "model_module": "@jupyter-widgets/base",
      "model_module_version": "1.2.0",
      "model_name": "LayoutModel",
      "state": {}
     },
     "d987843e40c34448aa97ba76e623f5e4": {
      "model_module": "@jupyter-widgets/controls",
      "model_module_version": "1.5.0",
      "model_name": "DescriptionStyleModel",
      "state": {
       "description_width": ""
      }
     },
     "d9ab470624c94e0ab9948a3a8d80a279": {
      "model_module": "@jupyter-widgets/controls",
      "model_module_version": "1.5.0",
      "model_name": "DescriptionStyleModel",
      "state": {
       "description_width": ""
      }
     },
     "d9ad79f250424fd8bd3dd13c1d41300f": {
      "model_module": "@jupyter-widgets/controls",
      "model_module_version": "1.5.0",
      "model_name": "DescriptionStyleModel",
      "state": {
       "description_width": ""
      }
     },
     "d9b17abe26b246bfb0d0751817ce0e49": {
      "model_module": "@jupyter-widgets/controls",
      "model_module_version": "1.5.0",
      "model_name": "HTMLModel",
      "state": {
       "layout": "IPY_MODEL_a976bf2eecc44a609402abb85632c2ab",
       "style": "IPY_MODEL_7961e67028924f0abb604173d57f6af3",
       "value": "<font color='orange'> &nbsp Stars: 0</font>"
      }
     },
     "d9bb2ae2a7c74e3aa862c369851d9d01": {
      "model_module": "@jupyter-widgets/controls",
      "model_module_version": "1.5.0",
      "model_name": "DescriptionStyleModel",
      "state": {
       "description_width": ""
      }
     },
     "d9e79d632d84418fa55a12216ccd2d5f": {
      "model_module": "@jupyter-widgets/base",
      "model_module_version": "1.2.0",
      "model_name": "LayoutModel",
      "state": {
       "justify_content": "center",
       "padding": "20px 0 0 0"
      }
     },
     "da074948402d493484318af943682e09": {
      "model_module": "@jupyter-widgets/controls",
      "model_module_version": "1.5.0",
      "model_name": "ButtonModel",
      "state": {
       "button_style": "info",
       "description": "Download",
       "layout": "IPY_MODEL_2499d38edf0b421082f7684473ec71c8",
       "style": "IPY_MODEL_006bc54167e246cd8321d20aa7afa24a"
      }
     },
     "da1100c707bb4711816795ff938ee008": {
      "model_module": "@jupyter-widgets/controls",
      "model_module_version": "1.5.0",
      "model_name": "DescriptionStyleModel",
      "state": {
       "description_width": ""
      }
     },
     "da38534d4af14e67a8df240039ff05da": {
      "model_module": "@jupyter-widgets/base",
      "model_module_version": "1.2.0",
      "model_name": "LayoutModel",
      "state": {
       "width": "auto"
      }
     },
     "da52088aec744772a982012dbc16c03a": {
      "model_module": "@jupyter-widgets/controls",
      "model_module_version": "1.5.0",
      "model_name": "LabelModel",
      "state": {
       "layout": "IPY_MODEL_71e2186523934de78911d5d79dc6f8fe",
       "style": "IPY_MODEL_24327e918a1244d5b60c7d208bf737d7",
       "value": "Created Repo"
      }
     },
     "da9a56736507411187fea08e1a4c3444": {
      "model_module": "@jupyter-widgets/controls",
      "model_module_version": "1.5.0",
      "model_name": "ButtonModel",
      "state": {
       "button_style": "success",
       "description": "Login",
       "layout": "IPY_MODEL_90eab7b92f0b41e785bbe673652e1940",
       "style": "IPY_MODEL_7463373330a340eb98be3d55c192c38a"
      }
     },
     "dab14eb483b8446e8205793eb86d1e9a": {
      "model_module": "@jupyter-widgets/controls",
      "model_module_version": "1.5.0",
      "model_name": "HTMLModel",
      "state": {
       "layout": "IPY_MODEL_aada046d95044d2f9e2047c73b845089",
       "style": "IPY_MODEL_482389b9b6b64d7e81a4c9178fa6fe1b",
       "value": "<font color='orange'> &nbsp Stars: 0</font>"
      }
     },
     "dae3cf23f5b84f838c37efab84a7ab57": {
      "model_module": "@jupyter-widgets/base",
      "model_module_version": "1.2.0",
      "model_name": "LayoutModel",
      "state": {
       "width": "auto"
      }
     },
     "dae8a25f6dde4e20aaa99b5660a93eae": {
      "model_module": "@jupyter-widgets/base",
      "model_module_version": "1.2.0",
      "model_name": "LayoutModel",
      "state": {}
     },
     "dafbb45b20a14953bfcea47994fad94f": {
      "model_module": "@jupyter-widgets/controls",
      "model_module_version": "1.5.0",
      "model_name": "VBoxModel",
      "state": {
       "children": [
        "IPY_MODEL_b4377ae892184ecfa2286c883fb92ea2",
        "IPY_MODEL_5314b9d71de6443683e4842c3c813532"
       ],
       "layout": "IPY_MODEL_f16e94cae61f4e389027997e4afe425b"
      }
     },
     "db3566aaa4374c44bc640b8a06f5f1b9": {
      "model_module": "@jupyter-widgets/controls",
      "model_module_version": "1.5.0",
      "model_name": "ButtonStyleModel",
      "state": {}
     },
     "db4e84765a0149e3a0f8d2663ad347e4": {
      "model_module": "@jupyter-widgets/base",
      "model_module_version": "1.2.0",
      "model_name": "LayoutModel",
      "state": {
       "width": "100px"
      }
     },
     "db5a39862d2b458ebff58f55e43b3c67": {
      "model_module": "@jupyter-widgets/controls",
      "model_module_version": "1.5.0",
      "model_name": "HTMLModel",
      "state": {
       "layout": "IPY_MODEL_3a61993b1cd44b48943591c5c68ca542",
       "style": "IPY_MODEL_fd679fab99b048a099c3fcc8cd71077f",
       "value": "<h5 style='padding:0;margin:0;'>&nbsp <a href='https://github.com/spockman12' style='color:silver'>spockman12</a> &nbsp</h5>"
      }
     },
     "dc0833411fc042bba2b7b22153bef332": {
      "model_module": "@jupyter-widgets/base",
      "model_module_version": "1.2.0",
      "model_name": "LayoutModel",
      "state": {}
     },
     "dc0bec98d0844aa6802dfedc47e6b47f": {
      "model_module": "@jupyter-widgets/controls",
      "model_module_version": "1.5.0",
      "model_name": "LabelModel",
      "state": {
       "layout": "IPY_MODEL_2ef8f7f2edc3439bbddb3dacd5547ab9",
       "style": "IPY_MODEL_2da038f175b94c159a150c62c53e3097",
       "value": "5 months ago"
      }
     },
     "dc521862852c430ebe1d67a6f117aa00": {
      "model_module": "@jupyter-widgets/controls",
      "model_module_version": "1.5.0",
      "model_name": "HBoxModel",
      "state": {
       "children": [
        "IPY_MODEL_c7297a77eb0a4bf5bb18ddbfdb6308b1",
        "IPY_MODEL_533f1b11bf184e989c9ad0e9c3690fb1",
        "IPY_MODEL_52db1ebcee0245a0adb18ac2199a237c",
        "IPY_MODEL_0b7ded823be64994b355d8142708dbb3",
        "IPY_MODEL_3a2db6278397417caee30c589b5a6c20",
        "IPY_MODEL_e9cdac7fc1b148e18bdc1c4ed8b3073c",
        "IPY_MODEL_b3bf5134ed2642ab9da87e276764253a"
       ],
       "layout": "IPY_MODEL_997d94f0bb3349fd8388687edc23ee5f"
      }
     },
     "dc6d710d73fe4d6da2f14c930662fb08": {
      "model_module": "@jupyter-widgets/controls",
      "model_module_version": "1.5.0",
      "model_name": "HTMLModel",
      "state": {
       "layout": "IPY_MODEL_eb947efb1baa44fa8902f4ecef08e010",
       "style": "IPY_MODEL_aa34bc424d1341388407394206c102d0",
       "value": "<font color='orange'> &nbsp Stars: 0</font>"
      }
     },
     "dc74b4fa2a8043f291e69a5ff673d76d": {
      "model_module": "@jupyter-widgets/controls",
      "model_module_version": "1.5.0",
      "model_name": "LabelModel",
      "state": {
       "layout": "IPY_MODEL_9456c8612ca742f4aecdd3ca6dfe97cc",
       "style": "IPY_MODEL_892cc7a622c741739d1f46def534df50",
       "value": "5 months ago"
      }
     },
     "dd48f31cff3940919feaefdc7613ce0e": {
      "model_module": "@jupyter-widgets/controls",
      "model_module_version": "1.5.0",
      "model_name": "HTMLModel",
      "state": {
       "layout": "IPY_MODEL_724b3fb8234340c5b6749fb79d89c42c",
       "style": "IPY_MODEL_62b74cd6c7854d709747e17a3e3cc626",
       "value": "<h5 style='padding:0;margin:0;'>&nbsp <a href='https://github.com/spockman12' style='color:silver'>spockman12</a> &nbsp</h5>"
      }
     },
     "dd53e175306e46f89308e0d19d42b084": {
      "model_module": "@jupyter-widgets/controls",
      "model_module_version": "1.5.0",
      "model_name": "DescriptionStyleModel",
      "state": {
       "description_width": ""
      }
     },
     "dd68ef9de2084796a79fe1d7cc992322": {
      "model_module": "@jupyter-widgets/base",
      "model_module_version": "1.2.0",
      "model_name": "LayoutModel",
      "state": {
       "width": "100px"
      }
     },
     "dd7f5016d97f45e49656073f14d5265b": {
      "model_module": "@jupyter-widgets/controls",
      "model_module_version": "1.5.0",
      "model_name": "HTMLModel",
      "state": {
       "layout": "IPY_MODEL_4641d4e850364a898e927ce9c519d530",
       "style": "IPY_MODEL_7c0a74b4daa94a8984d3e9065c0f9109",
       "value": "<h3 style='padding:0;margin:0;'>&nbsp &nbsp<a href='https://github.com/derekguo31/Public_Profile'>Public_Profile</a> &nbsp</h3>"
      }
     },
     "ddb7a43344f14793b39f9065b687bbb6": {
      "model_module": "@jupyter-widgets/controls",
      "model_module_version": "1.5.0",
      "model_name": "DescriptionStyleModel",
      "state": {
       "description_width": ""
      }
     },
     "ddc977f54768476b984434b400e3e49a": {
      "model_module": "@jupyter-widgets/controls",
      "model_module_version": "1.5.0",
      "model_name": "DescriptionStyleModel",
      "state": {
       "description_width": ""
      }
     },
     "ddf9ac9806ea4061a637bf1362e442a8": {
      "model_module": "@jupyter-widgets/controls",
      "model_module_version": "1.5.0",
      "model_name": "DescriptionStyleModel",
      "state": {
       "description_width": ""
      }
     },
     "de38912fd43c4ed09a6a535348cb3faa": {
      "model_module": "@jupyter-widgets/controls",
      "model_module_version": "1.5.0",
      "model_name": "HBoxModel",
      "state": {
       "children": [
        "IPY_MODEL_4a3f3f78838243608f972a933dfe0b3f"
       ],
       "layout": "IPY_MODEL_0ce24f22caac4cc5b3e173613ef25971"
      }
     },
     "de4a5579698e46fea939c66c3477a32d": {
      "model_module": "@jupyter-widgets/base",
      "model_module_version": "1.2.0",
      "model_name": "LayoutModel",
      "state": {
       "padding": "0px 20px 5px 0px"
      }
     },
     "de8512866e2c4ea4b8a71614f606beb9": {
      "model_module": "@jupyter-widgets/base",
      "model_module_version": "1.2.0",
      "model_name": "LayoutModel",
      "state": {
       "justify_content": "center",
       "padding": "15px 0 0 0"
      }
     },
     "deb841f7e2004bb29be13c6621fe7eb1": {
      "model_module": "@jupyter-widgets/base",
      "model_module_version": "1.2.0",
      "model_name": "LayoutModel",
      "state": {}
     },
     "dec2ed8d1f66411889116f71bca94a13": {
      "model_module": "@jupyter-widgets/base",
      "model_module_version": "1.2.0",
      "model_name": "LayoutModel",
      "state": {
       "justify_content": "center",
       "padding": "15px 0 0 0"
      }
     },
     "def69a35d8154020925ca3d5e5a61902": {
      "model_module": "@jupyter-widgets/controls",
      "model_module_version": "1.5.0",
      "model_name": "HTMLModel",
      "state": {
       "layout": "IPY_MODEL_89200cf54a594dd2b0add3eb1ba6236d",
       "style": "IPY_MODEL_beadb6f909c445969161902828289c08",
       "value": "<font color='green'> &nbsp Downloads: 0</font>"
      }
     },
     "df2c38dda1f3476199309762437768cd": {
      "model_module": "@jupyter-widgets/base",
      "model_module_version": "1.2.0",
      "model_name": "LayoutModel",
      "state": {}
     },
     "df49bda2a6a1401a9c33e84e2eb47edc": {
      "model_module": "@jupyter-widgets/controls",
      "model_module_version": "1.5.0",
      "model_name": "HBoxModel",
      "state": {
       "children": [
        "IPY_MODEL_5f8318b4a3fb44cfa5db2f96c00f123e"
       ],
       "layout": "IPY_MODEL_8d169d4eab454b57b2b220ac7039da1c"
      }
     },
     "df6bf03f404846c895e66d32c2cf99e6": {
      "model_module": "@jupyter-widgets/base",
      "model_module_version": "1.2.0",
      "model_name": "LayoutModel",
      "state": {}
     },
     "dfa80c4928804d6b81aec60291c0db91": {
      "model_module": "@jupyter-widgets/controls",
      "model_module_version": "1.5.0",
      "model_name": "DescriptionStyleModel",
      "state": {
       "description_width": ""
      }
     },
     "dfe4af56526b45d7a6b74dbedc31527b": {
      "model_module": "@jupyter-widgets/base",
      "model_module_version": "1.2.0",
      "model_name": "LayoutModel",
      "state": {}
     },
     "dfe4d6a9c2084d1fa926d9c2b1df0243": {
      "model_module": "@jupyter-widgets/controls",
      "model_module_version": "1.5.0",
      "model_name": "ButtonModel",
      "state": {
       "button_style": "info",
       "description": "Download",
       "layout": "IPY_MODEL_261377f41de94c81a7827ee9548b5362",
       "style": "IPY_MODEL_23e2bc1fec1f459cb1f259456a420aec"
      }
     },
     "dfff817c1f0840bb9d04728755c10b6d": {
      "model_module": "@jupyter-widgets/controls",
      "model_module_version": "1.5.0",
      "model_name": "DescriptionStyleModel",
      "state": {
       "description_width": ""
      }
     },
     "e01de09d6cc84c329c67c9d6c4748b22": {
      "model_module": "@jupyter-widgets/controls",
      "model_module_version": "1.5.0",
      "model_name": "HTMLModel",
      "state": {
       "layout": "IPY_MODEL_b90fb9eb90e840d3b355e1f53de1cc01",
       "style": "IPY_MODEL_29ced566679448419faccaebf14977c6",
       "value": "<h3 class='text-center'><font color='green'>Login</font> to <a stc='https://github.com/'>Github</a><h3>"
      }
     },
     "e0256cc13a7a4312b063338a86fd5982": {
      "model_module": "@jupyter-widgets/controls",
      "model_module_version": "1.5.0",
      "model_name": "HTMLModel",
      "state": {
       "layout": "IPY_MODEL_0ef1fe38d64f4cbcbf136c5319e53048",
       "style": "IPY_MODEL_e4be00d7c3974ef1811886f8f84187d7",
       "value": "<font color='orange'> &nbsp Stars: 0</font>"
      }
     },
     "e063828a80874d75ba82728ead691dc7": {
      "model_module": "@jupyter-widgets/base",
      "model_module_version": "1.2.0",
      "model_name": "LayoutModel",
      "state": {}
     },
     "e07e517374eb461f98e7efea9a46542d": {
      "model_module": "@jupyter-widgets/controls",
      "model_module_version": "1.5.0",
      "model_name": "HTMLModel",
      "state": {
       "layout": "IPY_MODEL_cb80df6e370b4cc5b4227b670bd541fb",
       "style": "IPY_MODEL_a730c7bae7624b5cae3bb991d0d0de2c",
       "value": "<h3 style='padding:0;margin:0;'>&nbsp &nbsp<a href='https://github.com/manojakm/Test_Project'>Test_Project</a> &nbsp</h3>"
      }
     },
     "e08e561e21ea497ba611c4131cdedb87": {
      "model_module": "@jupyter-widgets/controls",
      "model_module_version": "1.5.0",
      "model_name": "LabelModel",
      "state": {
       "layout": "IPY_MODEL_c867a462a6984babb4d4a27b5097e99e",
       "style": "IPY_MODEL_9a6976f1cd6b40eda54ee2dd1568f977",
       "value": "5 months ago"
      }
     },
     "e08f6c492b7e44b7b9a196945ae01ae3": {
      "model_module": "@jupyter-widgets/controls",
      "model_module_version": "1.5.0",
      "model_name": "ToggleButtonsModel",
      "state": {
       "_options_labels": [
        "Public",
        "Private"
       ],
       "button_style": "info",
       "icons": [],
       "index": 0,
       "layout": "IPY_MODEL_c84b54e682ae47b29a2cef510cf89f7c",
       "style": "IPY_MODEL_b16b88fd62aa4725831f49a7d308c2cb",
       "tooltips": []
      }
     },
     "e0a20c0bfac04c2784f9d8c614611b0e": {
      "model_module": "@jupyter-widgets/controls",
      "model_module_version": "1.5.0",
      "model_name": "TextModel",
      "state": {
       "layout": "IPY_MODEL_0685b50b88714f07adc440b3e2c87e2c",
       "style": "IPY_MODEL_93067b2d53264c03ac5b92e8fc934b59"
      }
     },
     "e0ae3116f11f4a489ab80cd3b2e98236": {
      "model_module": "@jupyter-widgets/controls",
      "model_module_version": "1.5.0",
      "model_name": "LabelModel",
      "state": {
       "layout": "IPY_MODEL_100107059b714a6cbb4f2d0566043116",
       "style": "IPY_MODEL_08ca6df1b10246e6a12cce2b4d2d1e53"
      }
     },
     "e0f87c2cb65f413cbd49a26ba5e3feb2": {
      "model_module": "@jupyter-widgets/controls",
      "model_module_version": "1.5.0",
      "model_name": "HBoxModel",
      "state": {
       "children": [
        "IPY_MODEL_03375cdfa3ac499baf79524a64b09198",
        "IPY_MODEL_dfe4d6a9c2084d1fa926d9c2b1df0243",
        "IPY_MODEL_626fc874f226487285f072676e24811f",
        "IPY_MODEL_ceae6abf9c504d189a8b6ab9913dba45",
        "IPY_MODEL_49f3d450bab5429f8f8d73ac3d23635a",
        "IPY_MODEL_3c5b5043e2b44e1492d81afc38e131b4",
        "IPY_MODEL_f3ee9b7b52424210bd02e595f1c750df"
       ],
       "layout": "IPY_MODEL_87aceee0b8e3450ea322e1d2a20a050d"
      }
     },
     "e138080993304411a7d3baea225e51cc": {
      "model_module": "@jupyter-widgets/base",
      "model_module_version": "1.2.0",
      "model_name": "LayoutModel",
      "state": {
       "width": "auto"
      }
     },
     "e1467d7eeb0441a79055b0317ce7ccda": {
      "model_module": "@jupyter-widgets/controls",
      "model_module_version": "1.5.0",
      "model_name": "HTMLModel",
      "state": {
       "layout": "IPY_MODEL_789752cffb7a446fac48c48a53a2fafc",
       "style": "IPY_MODEL_5eadcb53ca8b41ba8753678362707551",
       "value": "<font color='green'> &nbsp Downloads: 2</font>"
      }
     },
     "e15fa75ebdce405298e43f0bdf08cb73": {
      "model_module": "@jupyter-widgets/controls",
      "model_module_version": "1.5.0",
      "model_name": "ButtonModel",
      "state": {
       "button_style": "info",
       "description": "Download",
       "layout": "IPY_MODEL_74cd9a65dff048f08176892fc5b50fbf",
       "style": "IPY_MODEL_d44103aa53dd489eae2463cd6a73128b"
      }
     },
     "e1733d42f33e4d74b99dc42ab9df5bbb": {
      "model_module": "@jupyter-widgets/controls",
      "model_module_version": "1.5.0",
      "model_name": "LabelModel",
      "state": {
       "layout": "IPY_MODEL_823e11cc157a4b8987144799d97d5ff5",
       "style": "IPY_MODEL_be32bcde6ad4415e8611b8aafcbab722",
       "value": "Created Repo"
      }
     },
     "e1833fd0174d44d691ea0d9ff76b1981": {
      "model_module": "@jupyter-widgets/base",
      "model_module_version": "1.2.0",
      "model_name": "LayoutModel",
      "state": {}
     },
     "e185a6f6afba4fffad8c7c096a7f1283": {
      "model_module": "@jupyter-widgets/base",
      "model_module_version": "1.2.0",
      "model_name": "LayoutModel",
      "state": {
       "padding": "0px 20px 5px 0px"
      }
     },
     "e18f9ebc789c428a87257597f2ca0745": {
      "model_module": "@jupyter-widgets/base",
      "model_module_version": "1.2.0",
      "model_name": "LayoutModel",
      "state": {}
     },
     "e18fb00086a84f648d0b420a56f7da8c": {
      "model_module": "@jupyter-widgets/controls",
      "model_module_version": "1.5.0",
      "model_name": "ButtonModel",
      "state": {
       "button_style": "info",
       "description": "Download",
       "layout": "IPY_MODEL_380951de3747460488f11d3f52498679",
       "style": "IPY_MODEL_bbe5090b81fc490f843aeb9012a798e8"
      }
     },
     "e1ac8d6f306943b5a743f226fe1e54ae": {
      "model_module": "@jupyter-widgets/base",
      "model_module_version": "1.2.0",
      "model_name": "LayoutModel",
      "state": {}
     },
     "e1c22e0ce537450ea8f2633b1907327f": {
      "model_module": "@jupyter-widgets/controls",
      "model_module_version": "1.5.0",
      "model_name": "DescriptionStyleModel",
      "state": {
       "description_width": ""
      }
     },
     "e1ce926d037a428fb2d77dbc92756726": {
      "model_module": "@jupyter-widgets/controls",
      "model_module_version": "1.5.0",
      "model_name": "HBoxModel",
      "state": {
       "children": [
        "IPY_MODEL_fd9b514d8d0f41ef8386a0eb4be328f2",
        "IPY_MODEL_8d2fcb6cdba544568a2e5588696786b8",
        "IPY_MODEL_cc4e8c2193754119be9ed7c37d8ef026",
        "IPY_MODEL_81b98c192b3c4980842150c0fb98bcca",
        "IPY_MODEL_87ed96bbb70f4adfbdc23336469ecec8",
        "IPY_MODEL_8633114e62cf4c60adc1fcb99ab249e9",
        "IPY_MODEL_0d6cfb0303004d5c9ae9542589e6547c"
       ],
       "layout": "IPY_MODEL_b177f0f33bc84e55a576692a1e3c423b"
      }
     },
     "e20af22eb1b34229a88767b9cd43c2b4": {
      "model_module": "@jupyter-widgets/controls",
      "model_module_version": "1.5.0",
      "model_name": "ButtonStyleModel",
      "state": {}
     },
     "e23db20f15e444788749386894d3d291": {
      "model_module": "@jupyter-widgets/base",
      "model_module_version": "1.2.0",
      "model_name": "LayoutModel",
      "state": {
       "width": "auto"
      }
     },
     "e2b14c6225c84db19b3e79761fef1944": {
      "model_module": "@jupyter-widgets/controls",
      "model_module_version": "1.5.0",
      "model_name": "ToggleButtonsStyleModel",
      "state": {
       "button_width": "",
       "description_width": ""
      }
     },
     "e325429558de403db7c301fa4f26bdc4": {
      "model_module": "@jupyter-widgets/base",
      "model_module_version": "1.2.0",
      "model_name": "LayoutModel",
      "state": {}
     },
     "e347a37898bd4b8a93f8b3cd2a3f99f3": {
      "model_module": "@jupyter-widgets/base",
      "model_module_version": "1.2.0",
      "model_name": "LayoutModel",
      "state": {}
     },
     "e370d6a1907848efa3c075e9e086946a": {
      "model_module": "@jupyter-widgets/controls",
      "model_module_version": "1.5.0",
      "model_name": "DescriptionStyleModel",
      "state": {
       "description_width": ""
      }
     },
     "e3b57676f9214482978d54a3ffcb0e5c": {
      "model_module": "@jupyter-widgets/controls",
      "model_module_version": "1.5.0",
      "model_name": "DescriptionStyleModel",
      "state": {
       "description_width": ""
      }
     },
     "e3c25fd109954049997f8a2b613402c0": {
      "model_module": "@jupyter-widgets/controls",
      "model_module_version": "1.5.0",
      "model_name": "DescriptionStyleModel",
      "state": {
       "description_width": ""
      }
     },
     "e3cc2d4773de4a26bce85d5dc4321c05": {
      "model_module": "@jupyter-widgets/controls",
      "model_module_version": "1.5.0",
      "model_name": "ButtonStyleModel",
      "state": {}
     },
     "e3dcfd0d1a2847d796f8dec782611773": {
      "model_module": "@jupyter-widgets/base",
      "model_module_version": "1.2.0",
      "model_name": "LayoutModel",
      "state": {}
     },
     "e429a33e1f96434db066b562d067cf92": {
      "model_module": "@jupyter-widgets/base",
      "model_module_version": "1.2.0",
      "model_name": "LayoutModel",
      "state": {}
     },
     "e43d3ea450604b669e3eea7fa6d6fe20": {
      "model_module": "@jupyter-widgets/base",
      "model_module_version": "1.2.0",
      "model_name": "LayoutModel",
      "state": {
       "margin": "0px 100px 0px 0px",
       "visibility": "hidden",
       "width": "auto"
      }
     },
     "e476c5dc4fcf4ae2b175b8f71104b444": {
      "model_module": "@jupyter-widgets/controls",
      "model_module_version": "1.5.0",
      "model_name": "ButtonModel",
      "state": {
       "button_style": "primary",
       "description": "Download",
       "layout": "IPY_MODEL_428493a4e29541ad970e40e8ada3b345",
       "style": "IPY_MODEL_cfa9dead9e794607aa22395d7198bfab"
      }
     },
     "e47c2c9ba1d44093b6113a70765e6372": {
      "model_module": "@jupyter-widgets/base",
      "model_module_version": "1.2.0",
      "model_name": "LayoutModel",
      "state": {
       "width": "auto"
      }
     },
     "e4b228c8aa794b61898a80a702950a5b": {
      "model_module": "@jupyter-widgets/base",
      "model_module_version": "1.2.0",
      "model_name": "LayoutModel",
      "state": {
       "width": "auto"
      }
     },
     "e4b590cbbd084f3bab8449e98452689b": {
      "model_module": "@jupyter-widgets/controls",
      "model_module_version": "1.5.0",
      "model_name": "LabelModel",
      "state": {
       "layout": "IPY_MODEL_0b1071a3202d467699ba48695e5b918a",
       "style": "IPY_MODEL_ff58c316615f4527a478ced8cdc76f35",
       "value": "new code added"
      }
     },
     "e4be00d7c3974ef1811886f8f84187d7": {
      "model_module": "@jupyter-widgets/controls",
      "model_module_version": "1.5.0",
      "model_name": "DescriptionStyleModel",
      "state": {
       "description_width": ""
      }
     },
     "e4c1a6a342524cbebc76b91221100a56": {
      "model_module": "@jupyter-widgets/base",
      "model_module_version": "1.2.0",
      "model_name": "LayoutModel",
      "state": {
       "justify_content": "center",
       "padding": "15px 0 0 0"
      }
     },
     "e4c6c77a5c6548b8883140b74d310e78": {
      "model_module": "@jupyter-widgets/base",
      "model_module_version": "1.2.0",
      "model_name": "LayoutModel",
      "state": {}
     },
     "e4cbc666214e4a8b984f2632a7601f46": {
      "model_module": "@jupyter-widgets/controls",
      "model_module_version": "1.5.0",
      "model_name": "DescriptionStyleModel",
      "state": {
       "description_width": ""
      }
     },
     "e4e90575a1e3494b8d9a47893978fa83": {
      "model_module": "@jupyter-widgets/controls",
      "model_module_version": "1.5.0",
      "model_name": "DescriptionStyleModel",
      "state": {
       "description_width": ""
      }
     },
     "e572004ef78341dc9a9e125a15ad3248": {
      "model_module": "@jupyter-widgets/controls",
      "model_module_version": "1.5.0",
      "model_name": "DescriptionStyleModel",
      "state": {
       "description_width": ""
      }
     },
     "e574107a5426491faafc8a93795d4442": {
      "model_module": "@jupyter-widgets/base",
      "model_module_version": "1.2.0",
      "model_name": "LayoutModel",
      "state": {}
     },
     "e5cba3fa76e14ed690dfaa3bbc24086b": {
      "model_module": "@jupyter-widgets/controls",
      "model_module_version": "1.5.0",
      "model_name": "HTMLModel",
      "state": {
       "layout": "IPY_MODEL_54a7bc11cd3c430d9af8ebb365349918",
       "style": "IPY_MODEL_1ddeeb30170e488698eefe3a4a31ab93",
       "value": "<h5 style='padding:0;margin:0;'>&nbsp <a href='https://github.com/ragyibrahimRNA' style='color:silver'>ragyibrahimRNA</a> &nbsp</h5>"
      }
     },
     "e5e245588390422bbac28dd41d7484b3": {
      "model_module": "@jupyter-widgets/base",
      "model_module_version": "1.2.0",
      "model_name": "LayoutModel",
      "state": {}
     },
     "e60561f98bf44b2d836e00a1b62352c6": {
      "model_module": "@jupyter-widgets/controls",
      "model_module_version": "1.5.0",
      "model_name": "HTMLModel",
      "state": {
       "layout": "IPY_MODEL_91c6b41d9dd74b8e8e22d220f6e643d9",
       "style": "IPY_MODEL_c117d91fb7af4085b4a2509025723243",
       "value": "<h5 style='padding:0;margin:0;'>&nbsp <a href='https://github.com/manojakm' style='color:silver'>manojakm</a> &nbsp</h5>"
      }
     },
     "e6149892e9f6477bb17970218ebd5791": {
      "model_module": "@jupyter-widgets/base",
      "model_module_version": "1.2.0",
      "model_name": "LayoutModel",
      "state": {}
     },
     "e616f72815584b8183676ce837acb839": {
      "model_module": "@jupyter-widgets/controls",
      "model_module_version": "1.5.0",
      "model_name": "DescriptionStyleModel",
      "state": {
       "description_width": ""
      }
     },
     "e62f5141b7d044c5b5fc781cb10b0b0f": {
      "model_module": "@jupyter-widgets/controls",
      "model_module_version": "1.5.0",
      "model_name": "HBoxModel",
      "state": {
       "children": [
        "IPY_MODEL_f1ea09a6590648b1bc4ee16ffffb251a",
        "IPY_MODEL_fceaebff22774b6f8af403ab3147938d",
        "IPY_MODEL_cdf045cb72d54d05b5399284390edc79",
        "IPY_MODEL_63954d4041d545708d15b98ce067b90c"
       ],
       "layout": "IPY_MODEL_0a924b2d72c64ee8886bde0cc6493816"
      }
     },
     "e6443269ff5c4629806a9557285d56c1": {
      "model_module": "@jupyter-widgets/controls",
      "model_module_version": "1.5.0",
      "model_name": "HTMLModel",
      "state": {
       "layout": "IPY_MODEL_11e8ec86b0534387b9fbf71696c11937",
       "style": "IPY_MODEL_cacc408dc5dd484fa3ec19b9886f5362",
       "value": "<font color='orange'> &nbsp Stars: 0</font>"
      }
     },
     "e64b0b527c4e43c8b5678c805ecbe9b2": {
      "model_module": "@jupyter-widgets/controls",
      "model_module_version": "1.5.0",
      "model_name": "DescriptionStyleModel",
      "state": {
       "description_width": ""
      }
     },
     "e69f3b17fa954cb288f85ff60776ba13": {
      "model_module": "@jupyter-widgets/controls",
      "model_module_version": "1.5.0",
      "model_name": "HTMLModel",
      "state": {
       "layout": "IPY_MODEL_24c1f441c10b4fea947055bda1b2a1cd",
       "style": "IPY_MODEL_ae462cb311e540bbb90fed78d07978e8",
       "value": "<font color='green'> &nbsp Downloads: 1</font>"
      }
     },
     "e75130fb04f94477a61b8d622b7a8e9a": {
      "model_module": "@jupyter-widgets/controls",
      "model_module_version": "1.5.0",
      "model_name": "LabelModel",
      "state": {
       "layout": "IPY_MODEL_b80b983ab7ca4f899dfbbf114305119c",
       "style": "IPY_MODEL_f337cace3e2543b7bccbbfc332025bcc",
       "value": "7 months ago"
      }
     },
     "e769ea536de94245a290be744c7ceff6": {
      "model_module": "@jupyter-widgets/controls",
      "model_module_version": "1.5.0",
      "model_name": "ButtonStyleModel",
      "state": {}
     },
     "e77474fae0c44093a34c77d3cf9e5617": {
      "model_module": "@jupyter-widgets/controls",
      "model_module_version": "1.5.0",
      "model_name": "HTMLModel",
      "state": {
       "layout": "IPY_MODEL_4b7d40ce17eb424c984d2b6a83ebb179",
       "style": "IPY_MODEL_b3f72d9aeee84c17929adc79bba9721f",
       "value": "<h5 style='padding:0;margin:0;'>&nbsp <a href='https://github.com/TRM13' style='color:silver'>TRM13</a> &nbsp</h5>"
      }
     },
     "e78d1a21e5cd483299dc92e3b6d2486f": {
      "model_module": "@jupyter-widgets/controls",
      "model_module_version": "1.5.0",
      "model_name": "DescriptionStyleModel",
      "state": {
       "description_width": ""
      }
     },
     "e78d5909d3a6423e9123df387fa036b2": {
      "model_module": "@jupyter-widgets/controls",
      "model_module_version": "1.5.0",
      "model_name": "DescriptionStyleModel",
      "state": {
       "description_width": ""
      }
     },
     "e7af27c7d109473fb1b5efc99a667290": {
      "model_module": "@jupyter-widgets/base",
      "model_module_version": "1.2.0",
      "model_name": "LayoutModel",
      "state": {
       "align_items": "center",
       "justify_content": "center"
      }
     },
     "e7fd00e5c43149ec9aec75586dc9d89c": {
      "model_module": "@jupyter-widgets/controls",
      "model_module_version": "1.5.0",
      "model_name": "TextModel",
      "state": {
       "layout": "IPY_MODEL_f69dabc3067c453a8ea09045da35c2ba",
       "style": "IPY_MODEL_11160037dc8b4b25893595e84a423cc7"
      }
     },
     "e81e763abc144e2da68f537efd8b8f41": {
      "model_module": "@jupyter-widgets/controls",
      "model_module_version": "1.5.0",
      "model_name": "HTMLModel",
      "state": {
       "layout": "IPY_MODEL_3193ff0d30094c409dad24eca1d26e18",
       "style": "IPY_MODEL_ddf9ac9806ea4061a637bf1362e442a8",
       "value": "<font color='green'> &nbsp Downloads: 0</font>"
      }
     },
     "e838a7446d1145d6b98f5f0d137976f8": {
      "model_module": "@jupyter-widgets/controls",
      "model_module_version": "1.5.0",
      "model_name": "HBoxModel",
      "state": {
       "children": [
        "IPY_MODEL_e08e561e21ea497ba611c4131cdedb87",
        "IPY_MODEL_7cba659a34f74897a9522b069af656dd",
        "IPY_MODEL_051c71c949354cfcb5477d05dc7e2ef4",
        "IPY_MODEL_ad885468c72f4339a06e3962a291fd7c",
        "IPY_MODEL_18e355ce30ba4187a8ea05bc500e162e",
        "IPY_MODEL_21c9e846fc8847978bbaa0907d2c21cf",
        "IPY_MODEL_b25b892b48af4342a532b7e7e0e1ce26"
       ],
       "layout": "IPY_MODEL_aa365d1f941e4e60962d4e9af85f5598"
      }
     },
     "e8408be15d9647e0bcfb93d1e5810d34": {
      "model_module": "@jupyter-widgets/controls",
      "model_module_version": "1.5.0",
      "model_name": "DescriptionStyleModel",
      "state": {
       "description_width": ""
      }
     },
     "e848a3dea7274cc49836a4b80c6c84b2": {
      "model_module": "@jupyter-widgets/controls",
      "model_module_version": "1.5.0",
      "model_name": "HBoxModel",
      "state": {
       "children": [
        "IPY_MODEL_7ac2c59fe23d471b82c65e57652a6f6f",
        "IPY_MODEL_fa3a537e2aa74730af345f7c45469c03",
        "IPY_MODEL_3ee63dd565c74fffbfc26ff6a5d9a06d",
        "IPY_MODEL_3a15ecdd73494bdd96e8cf46d2a4a5ff",
        "IPY_MODEL_c0251aba5cf54a71b04b5c6ca46b922c",
        "IPY_MODEL_af7165fcb1854b6292819e6c49b0915e",
        "IPY_MODEL_6d040e05b14743639537db5d3283542b"
       ],
       "layout": "IPY_MODEL_0b22ab2bc7b348ae8703b49d874536c4"
      }
     },
     "e86e34892b0341dc9ea0669f03227e37": {
      "model_module": "@jupyter-widgets/controls",
      "model_module_version": "1.5.0",
      "model_name": "DescriptionStyleModel",
      "state": {
       "description_width": ""
      }
     },
     "e8b50bf452374733a0585ec01d8311b4": {
      "model_module": "@jupyter-widgets/controls",
      "model_module_version": "1.5.0",
      "model_name": "ButtonModel",
      "state": {
       "button_style": "info",
       "description": "Download",
       "layout": "IPY_MODEL_87e31b6d212a48ee97499a2c8a599dda",
       "style": "IPY_MODEL_8f85ad859d4b4355a6a3362b69ce5115"
      }
     },
     "e8be3eb47fb246b1b77eafc5d2177649": {
      "model_module": "@jupyter-widgets/base",
      "model_module_version": "1.2.0",
      "model_name": "LayoutModel",
      "state": {
       "align_items": "center",
       "justify_content": "center"
      }
     },
     "e8dc1e2780694098ae03fbf2e8138bb3": {
      "model_module": "@jupyter-widgets/base",
      "model_module_version": "1.2.0",
      "model_name": "LayoutModel",
      "state": {}
     },
     "e8f2ab1ad0244ff9b0b2aad543db9b59": {
      "model_module": "@jupyter-widgets/controls",
      "model_module_version": "1.5.0",
      "model_name": "ToggleButtonsStyleModel",
      "state": {
       "button_width": "",
       "description_width": ""
      }
     },
     "e90baacb7e74403d9cba96642966ab1b": {
      "model_module": "@jupyter-widgets/controls",
      "model_module_version": "1.5.0",
      "model_name": "HTMLModel",
      "state": {
       "layout": "IPY_MODEL_b4fafc1880bb4260900d3955a22076ee",
       "style": "IPY_MODEL_156b013ecf2d4a11896b218c14936492",
       "value": "<h3 style='padding:0;margin:0;'>&nbsp &nbsp<a href='https://github.com/ugunal/io_Presentation'>io_Presentation</a> &nbsp</h3>"
      }
     },
     "e926f863d1be427f8bd1ca4c921be440": {
      "model_module": "@jupyter-widgets/controls",
      "model_module_version": "1.5.0",
      "model_name": "LabelModel",
      "state": {
       "layout": "IPY_MODEL_14ebc69e279a4e1aa8dd7fe1fbf1a04c",
       "style": "IPY_MODEL_592be1cccc514fdeb069142ac404d3f7",
       "value": "7 months ago"
      }
     },
     "e9538901eb9c45168501436e09d7df79": {
      "model_module": "@jupyter-widgets/base",
      "model_module_version": "1.2.0",
      "model_name": "LayoutModel",
      "state": {}
     },
     "e9541f21fa48409783f29938d3b3a1ae": {
      "model_module": "@jupyter-widgets/controls",
      "model_module_version": "1.5.0",
      "model_name": "ButtonModel",
      "state": {
       "button_style": "primary",
       "description": " Refresh",
       "icon": "refresh",
       "layout": "IPY_MODEL_0623cad839504765b77d309236a48ce9",
       "style": "IPY_MODEL_f2cb370ac76d4d26a4b27abdea49e972"
      }
     },
     "e96bb4a1516c47508c79c34cb103f818": {
      "model_module": "@jupyter-widgets/base",
      "model_module_version": "1.2.0",
      "model_name": "LayoutModel",
      "state": {}
     },
     "e971e69aa5f24372a841e4dd91a767de": {
      "model_module": "@jupyter-widgets/controls",
      "model_module_version": "1.5.0",
      "model_name": "LabelModel",
      "state": {
       "layout": "IPY_MODEL_8ace7aadb7e54f5da29ef137a8a1c934",
       "style": "IPY_MODEL_dd53e175306e46f89308e0d19d42b084",
       "value": "1 month ago"
      }
     },
     "e9cdac7fc1b148e18bdc1c4ed8b3073c": {
      "model_module": "@jupyter-widgets/controls",
      "model_module_version": "1.5.0",
      "model_name": "LabelModel",
      "state": {
       "layout": "IPY_MODEL_5925db33b4164d18a67882b73959fdab",
       "style": "IPY_MODEL_426e16b407514f37a2aad1646d60e928",
       "value": "Created Repo"
      }
     },
     "e9cfc2a2408e4608b693a6a63a2fdb26": {
      "model_module": "@jupyter-widgets/controls",
      "model_module_version": "1.5.0",
      "model_name": "DescriptionStyleModel",
      "state": {
       "description_width": ""
      }
     },
     "e9db622561fd4d92945e60dff1d5723e": {
      "model_module": "@jupyter-widgets/controls",
      "model_module_version": "1.5.0",
      "model_name": "DescriptionStyleModel",
      "state": {
       "description_width": ""
      }
     },
     "e9e2614040c5444b856762ca3a8a4ef6": {
      "model_module": "@jupyter-widgets/controls",
      "model_module_version": "1.5.0",
      "model_name": "HBoxModel",
      "state": {
       "children": [
        "IPY_MODEL_68467ac6dfae4758928a634daea27c6a",
        "IPY_MODEL_54706567a29f4179be06f3d06e4ce0ce",
        "IPY_MODEL_60d74714514143f580c64916a88bb66a",
        "IPY_MODEL_b6c74af04b8840bfa749e855c609cc20",
        "IPY_MODEL_98682d1139ba4f12b3eab963070fd8e1",
        "IPY_MODEL_52135ba3abd24be5bee57a4021a802c8",
        "IPY_MODEL_4a9c877c66d04c6cafcc2b5396c73ae8"
       ],
       "layout": "IPY_MODEL_0eadb4b98cf54d2a8a187378af5f8e5a"
      }
     },
     "e9e798de60d6420a99836c507fa10abb": {
      "model_module": "@jupyter-widgets/controls",
      "model_module_version": "1.5.0",
      "model_name": "DescriptionStyleModel",
      "state": {
       "description_width": ""
      }
     },
     "ea05027206034f22a4fcbb6bf5136383": {
      "model_module": "@jupyter-widgets/controls",
      "model_module_version": "1.5.0",
      "model_name": "HBoxModel",
      "state": {
       "children": [
        "IPY_MODEL_05fdb68fdc764274960b79b1813d2a89",
        "IPY_MODEL_c58568c499124a6b9a5802c35c724a0b",
        "IPY_MODEL_4ea9ebf5ebf74a8cbd4ce1ee5b4b3088",
        "IPY_MODEL_173161168a0e4408b2e72c9103d1481f",
        "IPY_MODEL_1cd8e2c4f5844a149f8b3f5ac54460e1",
        "IPY_MODEL_e4b590cbbd084f3bab8449e98452689b",
        "IPY_MODEL_2b05994460314d6aa2af28be6fc75919"
       ],
       "layout": "IPY_MODEL_bc072d3b0aab4b0bbea86937a9bf7d78"
      }
     },
     "ea7dea1d3c104dd197c4c7a7f39a0c66": {
      "model_module": "@jupyter-widgets/controls",
      "model_module_version": "1.5.0",
      "model_name": "ToggleButtonsModel",
      "state": {
       "_options_labels": [
        "Public",
        "Private"
       ],
       "button_style": "info",
       "icons": [],
       "index": 0,
       "layout": "IPY_MODEL_2ec03dd38e534160bcca8879ef507bd3",
       "style": "IPY_MODEL_b079fe25e23d427789e95af140aa0798",
       "tooltips": []
      }
     },
     "ead16035e64d4fcfbe43f867a0408ec0": {
      "model_module": "@jupyter-widgets/controls",
      "model_module_version": "1.5.0",
      "model_name": "HTMLModel",
      "state": {
       "layout": "IPY_MODEL_4ed4c275d5904a6eb1ecc34e3430fa8c",
       "style": "IPY_MODEL_1afb2858f2ec48dc9bb64a4311f38a61",
       "value": "<font color='green'> &nbsp Downloads: 0</font>"
      }
     },
     "ead3bd35e85445518e458596b96288c2": {
      "model_module": "@jupyter-widgets/base",
      "model_module_version": "1.2.0",
      "model_name": "LayoutModel",
      "state": {}
     },
     "eae9b9db5e1e4b819a3e786077578f1f": {
      "model_module": "@jupyter-widgets/controls",
      "model_module_version": "1.5.0",
      "model_name": "HTMLModel",
      "state": {
       "layout": "IPY_MODEL_6f8aae2ea9bf4403ac0290c7fb800644",
       "style": "IPY_MODEL_37c855ec22d54cf7b5b3ee417333398d",
       "value": "<font color='green'> &nbsp Downloads: 0</font>"
      }
     },
     "eb01b2aa99204a23825c5f0866001f5b": {
      "model_module": "@jupyter-widgets/controls",
      "model_module_version": "1.5.0",
      "model_name": "ButtonStyleModel",
      "state": {}
     },
     "eb2763e0ac904dd992bd2e1c50fd48bb": {
      "model_module": "@jupyter-widgets/base",
      "model_module_version": "1.2.0",
      "model_name": "LayoutModel",
      "state": {}
     },
     "eb5c243a3cd948118fa48df09362ec4b": {
      "model_module": "@jupyter-widgets/base",
      "model_module_version": "1.2.0",
      "model_name": "LayoutModel",
      "state": {
       "width": "100px"
      }
     },
     "eb947efb1baa44fa8902f4ecef08e010": {
      "model_module": "@jupyter-widgets/base",
      "model_module_version": "1.2.0",
      "model_name": "LayoutModel",
      "state": {}
     },
     "ebd7b3528a104e50807e8d95eae31076": {
      "model_module": "@jupyter-widgets/base",
      "model_module_version": "1.2.0",
      "model_name": "LayoutModel",
      "state": {
       "width": "auto"
      }
     },
     "ec0400c5a6a14005a0ff60f4aa22362b": {
      "model_module": "@jupyter-widgets/base",
      "model_module_version": "1.2.0",
      "model_name": "LayoutModel",
      "state": {}
     },
     "ec3841c8fad54c3baad90329290d6545": {
      "model_module": "@jupyter-widgets/controls",
      "model_module_version": "1.5.0",
      "model_name": "ButtonStyleModel",
      "state": {}
     },
     "ec4f226fbbfd44efa98407eff96e2fd4": {
      "model_module": "@jupyter-widgets/controls",
      "model_module_version": "1.5.0",
      "model_name": "HTMLModel",
      "state": {
       "layout": "IPY_MODEL_d8f5dd0f605a487db93f44d876371f15",
       "style": "IPY_MODEL_0b85575f6baf4ba8b5379f07dbf9f6cb",
       "value": "<font color='orange'> &nbsp Stars: 0</font>"
      }
     },
     "ec763bbd460a4bc6a24016bcd264e7e3": {
      "model_module": "@jupyter-widgets/controls",
      "model_module_version": "1.5.0",
      "model_name": "HTMLModel",
      "state": {
       "layout": "IPY_MODEL_9a7a5599d13745199b0d02a0ad3332f3",
       "style": "IPY_MODEL_56ed1ef0a45940798e15c6289ae2bf87",
       "value": "<h5 style='padding:0;margin:0;'>&nbsp <a href='https://github.com/Boxis' style='color:silver'>Boxis</a> &nbsp</h5>"
      }
     },
     "ec99de39bb844ea1b720729e0d9c9778": {
      "model_module": "@jupyter-widgets/controls",
      "model_module_version": "1.5.0",
      "model_name": "LabelModel",
      "state": {
       "layout": "IPY_MODEL_e1833fd0174d44d691ea0d9ff76b1981",
       "style": "IPY_MODEL_65ba412a9e2549d6a924aef7b5fe06ea"
      }
     },
     "ec9a71c88f9b4d7d8436ffd7739be83f": {
      "model_module": "@jupyter-widgets/base",
      "model_module_version": "1.2.0",
      "model_name": "LayoutModel",
      "state": {}
     },
     "ece5ca4e18e5496fb6f35bfac681147a": {
      "model_module": "@jupyter-widgets/base",
      "model_module_version": "1.2.0",
      "model_name": "LayoutModel",
      "state": {}
     },
     "ecf34b8f7ef04982894840716e6dbfd8": {
      "model_module": "@jupyter-widgets/base",
      "model_module_version": "1.2.0",
      "model_name": "LayoutModel",
      "state": {
       "align_items": "center",
       "display": "none"
      }
     },
     "ecf7d64b9c8a41ee851a78553f126a9a": {
      "model_module": "@jupyter-widgets/controls",
      "model_module_version": "1.5.0",
      "model_name": "ButtonStyleModel",
      "state": {}
     },
     "ed0696accd604aac9c18e816ae7752a6": {
      "model_module": "@jupyter-widgets/controls",
      "model_module_version": "1.5.0",
      "model_name": "ButtonModel",
      "state": {
       "button_style": "success",
       "description": "Publish",
       "layout": "IPY_MODEL_9e72cf4c4a1848169d47581f8a33c83e",
       "style": "IPY_MODEL_b145187a11454c1aa6a3d7627b989200"
      }
     },
     "ed0bd5770aea408b97856c29fba74a37": {
      "model_module": "@jupyter-widgets/controls",
      "model_module_version": "1.5.0",
      "model_name": "ButtonStyleModel",
      "state": {}
     },
     "ed46d488feab44329ffe17fea13b58df": {
      "model_module": "@jupyter-widgets/controls",
      "model_module_version": "1.5.0",
      "model_name": "DescriptionStyleModel",
      "state": {
       "description_width": ""
      }
     },
     "ed5b1dc74577415dab67ae658e083b47": {
      "model_module": "@jupyter-widgets/controls",
      "model_module_version": "1.5.0",
      "model_name": "ButtonStyleModel",
      "state": {}
     },
     "ed706f5741e84fea840b9c7265f8ce02": {
      "model_module": "@jupyter-widgets/controls",
      "model_module_version": "1.5.0",
      "model_name": "HTMLModel",
      "state": {
       "layout": "IPY_MODEL_6ed98e7896d04abbbd981c6692bb89e3",
       "style": "IPY_MODEL_17da4c729a644fb09ce705ebbe56dec3",
       "value": "<font color='green'> &nbsp Downloads: 0</font>"
      }
     },
     "ed71f0505d86463c9e024227104f3d21": {
      "model_module": "@jupyter-widgets/base",
      "model_module_version": "1.2.0",
      "model_name": "LayoutModel",
      "state": {
       "align_items": "center",
       "justify_content": "center"
      }
     },
     "edadf73d13144ad8871b92117194946f": {
      "model_module": "@jupyter-widgets/controls",
      "model_module_version": "1.5.0",
      "model_name": "ToggleButtonsModel",
      "state": {
       "_options_labels": [
        "Recent",
        "Popular",
        "Stars"
       ],
       "button_style": "",
       "icons": [],
       "index": 0,
       "layout": "IPY_MODEL_985bf6f149e341fb88660c1acbb0f9aa",
       "style": "IPY_MODEL_47786ba021ae4c7ca4e212a9d0d7fd85",
       "tooltips": []
      }
     },
     "edfe0ae22eca419fa1b66b397905bd87": {
      "model_module": "@jupyter-widgets/controls",
      "model_module_version": "1.5.0",
      "model_name": "LabelModel",
      "state": {
       "layout": "IPY_MODEL_96313e45046e40138ec1a39a95ab2d73",
       "style": "IPY_MODEL_0fecf2a30caa4961ad6fbb5ffe3b74e4",
       "value": "7 months ago"
      }
     },
     "ee6112ef48e14fb8a55ed45a3d71c871": {
      "model_module": "@jupyter-widgets/controls",
      "model_module_version": "1.5.0",
      "model_name": "DescriptionStyleModel",
      "state": {
       "description_width": ""
      }
     },
     "ee86c55fd13c4bc994ddfb7ba51f275d": {
      "model_module": "@jupyter-widgets/controls",
      "model_module_version": "1.5.0",
      "model_name": "DescriptionStyleModel",
      "state": {
       "description_width": ""
      }
     },
     "eebb2f126c024b0ba688619fc7c520bc": {
      "model_module": "@jupyter-widgets/base",
      "model_module_version": "1.2.0",
      "model_name": "LayoutModel",
      "state": {}
     },
     "eedb677521c44331b3029fd3e68b0f78": {
      "model_module": "@jupyter-widgets/controls",
      "model_module_version": "1.5.0",
      "model_name": "LabelModel",
      "state": {
       "layout": "IPY_MODEL_6729954b78a44ca5878ff31cc29defe7",
       "style": "IPY_MODEL_8fcc7bc1b7b442f69753293ac4c0a484"
      }
     },
     "eee8c76164994a52812421cd97b27962": {
      "model_module": "@jupyter-widgets/controls",
      "model_module_version": "1.5.0",
      "model_name": "TextModel",
      "state": {
       "layout": "IPY_MODEL_bd85547284094d52b871308a67fa2d5b",
       "style": "IPY_MODEL_867686cd107d4ca4b6c34fb49d07be73"
      }
     },
     "eefc785ee45c4b038be1a842855662c9": {
      "model_module": "@jupyter-widgets/base",
      "model_module_version": "1.2.0",
      "model_name": "LayoutModel",
      "state": {}
     },
     "ef05109b1f354cdeb550580ba7577966": {
      "model_module": "@jupyter-widgets/controls",
      "model_module_version": "1.5.0",
      "model_name": "HTMLModel",
      "state": {
       "layout": "IPY_MODEL_0d4301012d71494fb4eb248daf886617",
       "style": "IPY_MODEL_66621b5bf28c446f91b7d609443eb1f6",
       "value": "<font color='green'> &nbsp Downloads: 2</font>"
      }
     },
     "ef08ab5d1a354b4a901e327a95bebbb5": {
      "model_module": "@jupyter-widgets/base",
      "model_module_version": "1.2.0",
      "model_name": "LayoutModel",
      "state": {
       "align_items": "center",
       "justify_content": "center"
      }
     },
     "ef764e0c91ea42a4a70c65b035be6725": {
      "model_module": "@jupyter-widgets/controls",
      "model_module_version": "1.5.0",
      "model_name": "ButtonModel",
      "state": {
       "button_style": "danger",
       "icon": "times",
       "layout": "IPY_MODEL_7e2093bf646941de877bf797219d5996",
       "style": "IPY_MODEL_c568c16bf881485288b03a2a09202bb0"
      }
     },
     "ef9b14ddf08241cfa2089931dd82d9aa": {
      "model_module": "@jupyter-widgets/controls",
      "model_module_version": "1.5.0",
      "model_name": "HTMLModel",
      "state": {
       "layout": "IPY_MODEL_125e5deb73b1438ab94ed2b925d94c98",
       "style": "IPY_MODEL_2ea681a3b931466180cc54b715557522",
       "value": "<font color='green'> &nbsp Downloads: 0</font>"
      }
     },
     "efa06b30868b47609250992d93522a54": {
      "model_module": "@jupyter-widgets/controls",
      "model_module_version": "1.5.0",
      "model_name": "DescriptionStyleModel",
      "state": {
       "description_width": ""
      }
     },
     "f00ff1d5d72d4d179008b4e55b611797": {
      "model_module": "@jupyter-widgets/base",
      "model_module_version": "1.2.0",
      "model_name": "LayoutModel",
      "state": {}
     },
     "f019df8993d1472c8818d211b3989a89": {
      "model_module": "@jupyter-widgets/base",
      "model_module_version": "1.2.0",
      "model_name": "LayoutModel",
      "state": {
       "justify_content": "center",
       "margin": "0 0 0 100px"
      }
     },
     "f01c02ba7f9a464e96fc33e12d6b15f6": {
      "model_module": "@jupyter-widgets/controls",
      "model_module_version": "1.5.0",
      "model_name": "HBoxModel",
      "state": {
       "children": [
        "IPY_MODEL_50c426b866e440f0a736827752d71726",
        "IPY_MODEL_4322448414d645cebc2bf321bce5deea"
       ],
       "layout": "IPY_MODEL_6358fc7a76fd4afd92032b416d781243"
      }
     },
     "f067bd04966c4107938ac0ab60042381": {
      "model_module": "@jupyter-widgets/base",
      "model_module_version": "1.2.0",
      "model_name": "LayoutModel",
      "state": {}
     },
     "f074a78cc3d140fd8191d457755aa992": {
      "model_module": "@jupyter-widgets/controls",
      "model_module_version": "1.5.0",
      "model_name": "HTMLModel",
      "state": {
       "layout": "IPY_MODEL_6abd8260cb2d44c89979fede8ce631dd",
       "style": "IPY_MODEL_647ae3dc174b4201820ad1071e526ec4",
       "value": "<font color='orange'> &nbsp Stars: 0</font>"
      }
     },
     "f07e94b0b05a4cd68fb1b0ce8d81a374": {
      "model_module": "@jupyter-widgets/controls",
      "model_module_version": "1.5.0",
      "model_name": "LabelModel",
      "state": {
       "layout": "IPY_MODEL_709487f0bc43407abf33813d320b2103",
       "style": "IPY_MODEL_c474f6084169488489b5a1c673a031a5",
       "value": "Created Repo"
      }
     },
     "f0a0263ba95d4c5f919c7814199c9ad1": {
      "model_module": "@jupyter-widgets/controls",
      "model_module_version": "1.5.0",
      "model_name": "HBoxModel",
      "state": {
       "children": [
        "IPY_MODEL_2dcdc822c1e84cffa6fa0604b3c89f3c",
        "IPY_MODEL_81b70e4df5584f9daca31bef172d06dd"
       ],
       "layout": "IPY_MODEL_1fe3461c0e4b4f2a9242acc6fcbbbf9a"
      }
     },
     "f0a9e6edbfb7478396e76cc99d499d50": {
      "model_module": "@jupyter-widgets/controls",
      "model_module_version": "1.5.0",
      "model_name": "HTMLModel",
      "state": {
       "layout": "IPY_MODEL_9232978f264f4d54b3c408273fc202a6",
       "style": "IPY_MODEL_8e3630fd5a44477caa74d6e536e3ca2e",
       "value": "<h5 style='padding:0;margin:0;'>&nbsp <a href='https://github.com/ksadlek' style='color:silver'>ksadlek</a> &nbsp</h5>"
      }
     },
     "f0b2fd5df22847609a377186d22fdb90": {
      "model_module": "@jupyter-widgets/base",
      "model_module_version": "1.2.0",
      "model_name": "LayoutModel",
      "state": {}
     },
     "f0f0025e466f489da476655be7b74098": {
      "model_module": "@jupyter-widgets/controls",
      "model_module_version": "1.5.0",
      "model_name": "DescriptionStyleModel",
      "state": {
       "description_width": ""
      }
     },
     "f10230c1035d4cbfa0624462a307856b": {
      "model_module": "@jupyter-widgets/controls",
      "model_module_version": "1.5.0",
      "model_name": "HTMLMathModel",
      "state": {
       "layout": "IPY_MODEL_4d62e01c4f8348db977de4f5e7907333",
       "style": "IPY_MODEL_0a9c6e2b16bb416981c3e6ed2cd1191a"
      }
     },
     "f10cb9161f75413883942438eafab8db": {
      "model_module": "@jupyter-widgets/controls",
      "model_module_version": "1.5.0",
      "model_name": "ButtonStyleModel",
      "state": {}
     },
     "f11afcd7fc9549b9a403754e31c5dc42": {
      "model_module": "@jupyter-widgets/base",
      "model_module_version": "1.2.0",
      "model_name": "LayoutModel",
      "state": {
       "align_items": "center",
       "justify_content": "center"
      }
     },
     "f11da3eb7410478db6eedcd7cdd72022": {
      "model_module": "@jupyter-widgets/controls",
      "model_module_version": "1.5.0",
      "model_name": "ButtonModel",
      "state": {
       "button_style": "info",
       "description": "Download",
       "layout": "IPY_MODEL_be51c00b1a024ebfb237d65ed199b589",
       "style": "IPY_MODEL_9c08883205af49c7a07a77dc94c9a6cd"
      }
     },
     "f16e94cae61f4e389027997e4afe425b": {
      "model_module": "@jupyter-widgets/base",
      "model_module_version": "1.2.0",
      "model_name": "LayoutModel",
      "state": {}
     },
     "f18ffa2a5b614c879cc63e382350bc64": {
      "model_module": "@jupyter-widgets/controls",
      "model_module_version": "1.5.0",
      "model_name": "DescriptionStyleModel",
      "state": {
       "description_width": ""
      }
     },
     "f19d91caaa9a4b1fba132ec70688b81f": {
      "model_module": "@jupyter-widgets/base",
      "model_module_version": "1.2.0",
      "model_name": "LayoutModel",
      "state": {}
     },
     "f1a78887e3ae414e970e5565919097e0": {
      "model_module": "@jupyter-widgets/base",
      "model_module_version": "1.2.0",
      "model_name": "LayoutModel",
      "state": {
       "width": "auto"
      }
     },
     "f1ea09a6590648b1bc4ee16ffffb251a": {
      "model_module": "@jupyter-widgets/controls",
      "model_module_version": "1.5.0",
      "model_name": "TextModel",
      "state": {
       "description": "Username",
       "layout": "IPY_MODEL_1cdc34dec3d544e9b1ba43ddb847928e",
       "style": "IPY_MODEL_218e466407b641d6932507113e14e9f3",
       "value": "pupster90"
      }
     },
     "f1f120e78e9545a1a6bcdcfaf2c3443a": {
      "model_module": "@jupyter-widgets/controls",
      "model_module_version": "1.5.0",
      "model_name": "DescriptionStyleModel",
      "state": {
       "description_width": ""
      }
     },
     "f20e4eb2be334e2b887efe2b24f3739f": {
      "model_module": "@jupyter-widgets/controls",
      "model_module_version": "1.5.0",
      "model_name": "DescriptionStyleModel",
      "state": {
       "description_width": ""
      }
     },
     "f21dc3a5674f4a06bd615f78b3e0cad1": {
      "model_module": "@jupyter-widgets/controls",
      "model_module_version": "1.5.0",
      "model_name": "ButtonModel",
      "state": {
       "button_style": "info",
       "description": "Download",
       "layout": "IPY_MODEL_1d8c468779df4bdea2e253e91d120bd2",
       "style": "IPY_MODEL_e20af22eb1b34229a88767b9cd43c2b4"
      }
     },
     "f23863277cd04267a2419be70dae4423": {
      "model_module": "@jupyter-widgets/controls",
      "model_module_version": "1.5.0",
      "model_name": "DescriptionStyleModel",
      "state": {
       "description_width": ""
      }
     },
     "f239d9df976f494398da74ea24a12077": {
      "model_module": "@jupyter-widgets/controls",
      "model_module_version": "1.5.0",
      "model_name": "DescriptionStyleModel",
      "state": {
       "description_width": ""
      }
     },
     "f26313e1520b427c9e5ad7814e0fcc2b": {
      "model_module": "@jupyter-widgets/controls",
      "model_module_version": "1.5.0",
      "model_name": "LabelModel",
      "state": {
       "layout": "IPY_MODEL_02951fa4ae434611b11ff7a6dbf2a75a",
       "style": "IPY_MODEL_459400d1a0d0423ca6ed0ad2418f4472",
       "value": "new code added"
      }
     },
     "f2700f6481a2430aa58a2b0e535cdc89": {
      "model_module": "@jupyter-widgets/controls",
      "model_module_version": "1.5.0",
      "model_name": "ToggleButtonsStyleModel",
      "state": {
       "button_width": "",
       "description_width": ""
      }
     },
     "f286a20f0b1a4de2b259011da8ef932a": {
      "model_module": "@jupyter-widgets/controls",
      "model_module_version": "1.5.0",
      "model_name": "DescriptionStyleModel",
      "state": {
       "description_width": ""
      }
     },
     "f28c60a6cc80467d9b1e1644f969638e": {
      "model_module": "@jupyter-widgets/base",
      "model_module_version": "1.2.0",
      "model_name": "LayoutModel",
      "state": {}
     },
     "f29509a9fcc442d4b4a77e43ae1a0793": {
      "model_module": "@jupyter-widgets/controls",
      "model_module_version": "1.5.0",
      "model_name": "DescriptionStyleModel",
      "state": {
       "description_width": ""
      }
     },
     "f29f9316ac7346758835fb79cb1c53e1": {
      "model_module": "@jupyter-widgets/controls",
      "model_module_version": "1.5.0",
      "model_name": "ButtonStyleModel",
      "state": {}
     },
     "f2a1444642d04866927f6ccd60742869": {
      "model_module": "@jupyter-widgets/controls",
      "model_module_version": "1.5.0",
      "model_name": "ToggleButtonsStyleModel",
      "state": {
       "button_width": "",
       "description_width": ""
      }
     },
     "f2cb370ac76d4d26a4b27abdea49e972": {
      "model_module": "@jupyter-widgets/controls",
      "model_module_version": "1.5.0",
      "model_name": "ButtonStyleModel",
      "state": {}
     },
     "f2f4c3135b12454c91115f837ec3fd1e": {
      "model_module": "@jupyter-widgets/base",
      "model_module_version": "1.2.0",
      "model_name": "LayoutModel",
      "state": {}
     },
     "f2f56ad4251d4f6cb849c20a068fe361": {
      "model_module": "@jupyter-widgets/base",
      "model_module_version": "1.2.0",
      "model_name": "LayoutModel",
      "state": {}
     },
     "f2f70df8c983457c955e1e6be1905cce": {
      "model_module": "@jupyter-widgets/base",
      "model_module_version": "1.2.0",
      "model_name": "LayoutModel",
      "state": {}
     },
     "f3011ab6b1cb4be7a96946cf3bac7e59": {
      "model_module": "@jupyter-widgets/controls",
      "model_module_version": "1.5.0",
      "model_name": "DescriptionStyleModel",
      "state": {
       "description_width": ""
      }
     },
     "f31763285b04422f98b1d68d87b6caf6": {
      "model_module": "@jupyter-widgets/controls",
      "model_module_version": "1.5.0",
      "model_name": "LabelModel",
      "state": {
       "layout": "IPY_MODEL_ead3bd35e85445518e458596b96288c2",
       "style": "IPY_MODEL_a125386dfa34480cbc24db4ad43822fe",
       "value": "Created Repo"
      }
     },
     "f31ea86d51134d1c8a2ed451976981d6": {
      "model_module": "@jupyter-widgets/base",
      "model_module_version": "1.2.0",
      "model_name": "LayoutModel",
      "state": {}
     },
     "f3363117de594720a99fc617c94a2773": {
      "model_module": "@jupyter-widgets/controls",
      "model_module_version": "1.5.0",
      "model_name": "DescriptionStyleModel",
      "state": {
       "description_width": ""
      }
     },
     "f337cace3e2543b7bccbbfc332025bcc": {
      "model_module": "@jupyter-widgets/controls",
      "model_module_version": "1.5.0",
      "model_name": "DescriptionStyleModel",
      "state": {
       "description_width": ""
      }
     },
     "f381bee7f46c4e19955955daf263134c": {
      "model_module": "@jupyter-widgets/controls",
      "model_module_version": "1.5.0",
      "model_name": "HBoxModel",
      "state": {
       "children": [
        "IPY_MODEL_61e7354e8cfe43a8aee64b8a66d3c982",
        "IPY_MODEL_5d4bda24285e46d4b480dc425cbaa75e",
        "IPY_MODEL_74268914f38c4385aacff45f4dafd917",
        "IPY_MODEL_1a51d1e2bf3c491ab3fa762a5fb77193",
        "IPY_MODEL_5cdd76abe06345df8c9420630f8ee1eb",
        "IPY_MODEL_995bc1fb787946b9814b9d69d10cdf48",
        "IPY_MODEL_031a91ef486b499ea943a9e780471246"
       ],
       "layout": "IPY_MODEL_36e4d240720a4a00a02133500792f22f"
      }
     },
     "f387f4c6e78947f587804488dd7fe816": {
      "model_module": "@jupyter-widgets/controls",
      "model_module_version": "1.5.0",
      "model_name": "ValidModel",
      "state": {
       "layout": "IPY_MODEL_3e2ef8caac774ee98c8c5354f479e6c6",
       "style": "IPY_MODEL_e9e798de60d6420a99836c507fa10abb"
      }
     },
     "f39454c4f67f4e43989548758f7106ad": {
      "model_module": "@jupyter-widgets/controls",
      "model_module_version": "1.5.0",
      "model_name": "DescriptionStyleModel",
      "state": {
       "description_width": ""
      }
     },
     "f3e5dc2e59f143de9de0420a79b26737": {
      "model_module": "@jupyter-widgets/base",
      "model_module_version": "1.2.0",
      "model_name": "LayoutModel",
      "state": {}
     },
     "f3ee9b7b52424210bd02e595f1c750df": {
      "model_module": "@jupyter-widgets/controls",
      "model_module_version": "1.5.0",
      "model_name": "HTMLModel",
      "state": {
       "layout": "IPY_MODEL_1cf3715c57e04c93a82e7ec5d729f9f1",
       "style": "IPY_MODEL_ca3f7f423ad043118459a3b9f80b6b82",
       "value": "<h5 style='padding:0;margin:0;'>&nbsp <a href='https://github.com/TRM13' style='color:silver'>TRM13</a> &nbsp</h5>"
      }
     },
     "f3f44588d8d3423984dfe8650d012d9b": {
      "model_module": "@jupyter-widgets/controls",
      "model_module_version": "1.5.0",
      "model_name": "DescriptionStyleModel",
      "state": {
       "description_width": ""
      }
     },
     "f41208ab1d7f4c448c78c448b213e5bd": {
      "model_module": "@jupyter-widgets/controls",
      "model_module_version": "1.5.0",
      "model_name": "DescriptionStyleModel",
      "state": {
       "description_width": ""
      }
     },
     "f422e3262b4a4c79a07266b5560e52b3": {
      "model_module": "@jupyter-widgets/controls",
      "model_module_version": "1.5.0",
      "model_name": "HTMLModel",
      "state": {
       "layout": "IPY_MODEL_89e6f408689646dbb72b95cdad4e8212",
       "style": "IPY_MODEL_c437c24543cb4cbeb9ff56235c8abac2",
       "value": "<h5 style='padding:0;margin:0;'>&nbsp <a href='https://github.com/SourabhSomdeve' style='color:silver'>SourabhSomdeve</a> &nbsp</h5>"
      }
     },
     "f44f59e37dc04fac8a9c6923daf985f7": {
      "model_module": "@jupyter-widgets/base",
      "model_module_version": "1.2.0",
      "model_name": "LayoutModel",
      "state": {
       "width": "100px"
      }
     },
     "f4537c9ff65e4a75af160788c9ed26ff": {
      "model_module": "@jupyter-widgets/controls",
      "model_module_version": "1.5.0",
      "model_name": "DescriptionStyleModel",
      "state": {
       "description_width": ""
      }
     },
     "f46f180eab7f47a290cf0e489c54889d": {
      "model_module": "@jupyter-widgets/controls",
      "model_module_version": "1.5.0",
      "model_name": "DescriptionStyleModel",
      "state": {
       "description_width": ""
      }
     },
     "f4933971e3e1463cbe2be20de5f36319": {
      "model_module": "@jupyter-widgets/controls",
      "model_module_version": "1.5.0",
      "model_name": "DescriptionStyleModel",
      "state": {
       "description_width": ""
      }
     },
     "f4b3c9ef24114f1aa18d9d6a81a500e6": {
      "model_module": "@jupyter-widgets/base",
      "model_module_version": "1.2.0",
      "model_name": "LayoutModel",
      "state": {
       "align_items": "center"
      }
     },
     "f4c0cc76710944dc8edafb7eac2219f7": {
      "model_module": "@jupyter-widgets/controls",
      "model_module_version": "1.5.0",
      "model_name": "ButtonModel",
      "state": {
       "button_style": "info",
       "description": "Download",
       "layout": "IPY_MODEL_c1f7083220784b3498b268cbf06f1c20",
       "style": "IPY_MODEL_46b8a28ad77f420aa96d7ae9c40339f9"
      }
     },
     "f4d9e5cf86fc46aa9ee60e62fb0d5378": {
      "model_module": "@jupyter-widgets/controls",
      "model_module_version": "1.5.0",
      "model_name": "ButtonModel",
      "state": {
       "button_style": "info",
       "description": "Download",
       "layout": "IPY_MODEL_11a43dd9aabf42e695d3804c2ccf8bf7",
       "style": "IPY_MODEL_4fc344e18ace48b28b4ee28c1f792a89"
      }
     },
     "f4f24581ae1e4fe09b22e969ba876013": {
      "model_module": "@jupyter-widgets/controls",
      "model_module_version": "1.5.0",
      "model_name": "DescriptionStyleModel",
      "state": {
       "description_width": ""
      }
     },
     "f5214095503b414888d0599b4995b589": {
      "model_module": "@jupyter-widgets/controls",
      "model_module_version": "1.5.0",
      "model_name": "DescriptionStyleModel",
      "state": {
       "description_width": ""
      }
     },
     "f53e4024ded24b9b9ca6dfadddfe2903": {
      "model_module": "@jupyter-widgets/controls",
      "model_module_version": "1.5.0",
      "model_name": "ButtonStyleModel",
      "state": {}
     },
     "f54cfcaa8c1f44d8947639409c30082c": {
      "model_module": "@jupyter-widgets/base",
      "model_module_version": "1.2.0",
      "model_name": "LayoutModel",
      "state": {
       "align_items": "center",
       "justify_content": "center"
      }
     },
     "f5baa26191c641198f0cf278488b9d9f": {
      "model_module": "@jupyter-widgets/controls",
      "model_module_version": "1.5.0",
      "model_name": "HTMLModel",
      "state": {
       "layout": "IPY_MODEL_cd5ba68df6d54bb6a22a33efa800b9e4",
       "style": "IPY_MODEL_9950b3c3aa42455c9451bf8a89a7c0da",
       "value": "<font color='orange'> &nbsp Stars: 0</font>"
      }
     },
     "f5c50ed718f4436980f81840367643ed": {
      "model_module": "@jupyter-widgets/base",
      "model_module_version": "1.2.0",
      "model_name": "LayoutModel",
      "state": {
       "align_items": "center",
       "justify_content": "center"
      }
     },
     "f5fcc51ce3d64c9283f50dface87e6a4": {
      "model_module": "@jupyter-widgets/controls",
      "model_module_version": "1.5.0",
      "model_name": "ButtonStyleModel",
      "state": {}
     },
     "f60fc937ccf14793b5a579cb11d3c2d9": {
      "model_module": "@jupyter-widgets/controls",
      "model_module_version": "1.5.0",
      "model_name": "ToggleButtonsModel",
      "state": {
       "_options_labels": [
        "Public",
        "Private"
       ],
       "button_style": "info",
       "icons": [],
       "index": 0,
       "layout": "IPY_MODEL_0aa2d9589ec147fab8b0855b2b940904",
       "style": "IPY_MODEL_f2a1444642d04866927f6ccd60742869",
       "tooltips": []
      }
     },
     "f62c90e214ca4a6b9c853a62d0b14b34": {
      "model_module": "@jupyter-widgets/base",
      "model_module_version": "1.2.0",
      "model_name": "LayoutModel",
      "state": {
       "width": "100px"
      }
     },
     "f6789a0fe2ff4c9ea42df214e96dfad0": {
      "model_module": "@jupyter-widgets/controls",
      "model_module_version": "1.5.0",
      "model_name": "ButtonModel",
      "state": {
       "button_style": "info",
       "description": "Download",
       "layout": "IPY_MODEL_da38534d4af14e67a8df240039ff05da",
       "style": "IPY_MODEL_35acaa2003e64b858b6ff2d52fcce8ed"
      }
     },
     "f68bd4eecec34828bea91cb756705b5b": {
      "model_module": "@jupyter-widgets/controls",
      "model_module_version": "1.5.0",
      "model_name": "DescriptionStyleModel",
      "state": {
       "description_width": ""
      }
     },
     "f69dabc3067c453a8ea09045da35c2ba": {
      "model_module": "@jupyter-widgets/base",
      "model_module_version": "1.2.0",
      "model_name": "LayoutModel",
      "state": {}
     },
     "f6ad8056de454526a295c55936ce3368": {
      "model_module": "@jupyter-widgets/controls",
      "model_module_version": "1.5.0",
      "model_name": "HTMLModel",
      "state": {
       "layout": "IPY_MODEL_0e05c40957a54f4b884e1934daf10dba",
       "style": "IPY_MODEL_3795f2efaa6d47279a86d329c52a5db3",
       "value": "<font color='orange'> &nbsp Stars: 0</font>"
      }
     },
     "f6e97c83563c41eab4e32c241ffa5c69": {
      "model_module": "@jupyter-widgets/controls",
      "model_module_version": "1.5.0",
      "model_name": "HBoxModel",
      "state": {
       "children": [
        "IPY_MODEL_4b7c488a8e984ada85b1d51829aa39ca",
        "IPY_MODEL_a1d8c954f2a74bb3bd440a05170701ac",
        "IPY_MODEL_746cd9cb622c466981d1b23919ea09f5",
        "IPY_MODEL_2f1a18289f434f5299ec52277b2f6210"
       ],
       "layout": "IPY_MODEL_a9da9644795646e18cfaab3a7bf1b959"
      }
     },
     "f70ad62229c543b4b7b215f6116c0283": {
      "model_module": "@jupyter-widgets/controls",
      "model_module_version": "1.5.0",
      "model_name": "HTMLModel",
      "state": {
       "layout": "IPY_MODEL_a8f2a269d84944cda29a19ef493144f8",
       "style": "IPY_MODEL_10016d4571e94356a6fc76f86ffa3709",
       "value": "<h3 style='padding:0;margin:0;'>&nbsp &nbsp<a href='https://github.com/DZO-II/Public_Profile'>Public_Profile</a> &nbsp</h3>"
      }
     },
     "f7117eff4f574695a855ab30fc54cbef": {
      "model_module": "@jupyter-widgets/base",
      "model_module_version": "1.2.0",
      "model_name": "LayoutModel",
      "state": {}
     },
     "f725a527f4cf40b69fc12de825963399": {
      "model_module": "@jupyter-widgets/controls",
      "model_module_version": "1.5.0",
      "model_name": "ButtonModel",
      "state": {
       "button_style": "primary",
       "description": " Refresh",
       "icon": "refresh",
       "layout": "IPY_MODEL_7c33b8c1c9f347b7b67d74b77a902b80",
       "style": "IPY_MODEL_991c9d58bafa4fc6ae60b86e33491477"
      }
     },
     "f76a8c3886044b38a933ff944438f54e": {
      "model_module": "@jupyter-widgets/base",
      "model_module_version": "1.2.0",
      "model_name": "LayoutModel",
      "state": {
       "width": "auto"
      }
     },
     "f785b810b029428991f50df4c6e8e958": {
      "model_module": "@jupyter-widgets/base",
      "model_module_version": "1.2.0",
      "model_name": "LayoutModel",
      "state": {}
     },
     "f790cae5943b495283b8196bb0ce744c": {
      "model_module": "@jupyter-widgets/controls",
      "model_module_version": "1.5.0",
      "model_name": "ButtonModel",
      "state": {
       "button_style": "info",
       "description": "Download",
       "layout": "IPY_MODEL_765fd92f42e7443bb3936e35a3aa4a22",
       "style": "IPY_MODEL_a3f05be2e52c4e628b6673f8806b9bd8"
      }
     },
     "f7ac01087d5c4d91afbcdf90ddc765b6": {
      "model_module": "@jupyter-widgets/base",
      "model_module_version": "1.2.0",
      "model_name": "LayoutModel",
      "state": {
       "justify_content": "center",
       "padding": "15px 0 0 0"
      }
     },
     "f7ba6ab72067476c8bfe5666476b78c3": {
      "model_module": "@jupyter-widgets/controls",
      "model_module_version": "1.5.0",
      "model_name": "LabelModel",
      "state": {
       "layout": "IPY_MODEL_9065f81e27594214b32c107471fb383c",
       "style": "IPY_MODEL_15c7b704fd63472fb46013b5c22aa340",
       "value": "2 months ago"
      }
     },
     "f7cf45b9c1d34140a8b387d20d970076": {
      "model_module": "@jupyter-widgets/controls",
      "model_module_version": "1.5.0",
      "model_name": "ValidModel",
      "state": {
       "layout": "IPY_MODEL_09e00dd7a6a5489583a998c0d3e49911",
       "style": "IPY_MODEL_4d9632a1867242d0aba5876629518765"
      }
     },
     "f7f80b565da74a019e1f5faf7514d01a": {
      "model_module": "@jupyter-widgets/base",
      "model_module_version": "1.2.0",
      "model_name": "LayoutModel",
      "state": {}
     },
     "f7fcee65881e41f6a742897594eb6914": {
      "model_module": "@jupyter-widgets/controls",
      "model_module_version": "1.5.0",
      "model_name": "HTMLModel",
      "state": {
       "layout": "IPY_MODEL_6feb546d4c614ddea7dc5b7fdd0785d2",
       "style": "IPY_MODEL_c0c1c89414fe4fe999875bc4ad1ce1b2",
       "value": "<font color='orange'> &nbsp Stars: 0</font>"
      }
     },
     "f801753a814540a3b9a2cf6aa479fa93": {
      "model_module": "@jupyter-widgets/base",
      "model_module_version": "1.2.0",
      "model_name": "LayoutModel",
      "state": {}
     },
     "f87326fca4f54c49b3a9229a4cf8b9ea": {
      "model_module": "@jupyter-widgets/controls",
      "model_module_version": "1.5.0",
      "model_name": "HBoxModel",
      "state": {
       "children": [
        "IPY_MODEL_42011e7bee1f424b947ff05354cd900f",
        "IPY_MODEL_04b5f4fee0064544a29990e45e7dff17"
       ],
       "layout": "IPY_MODEL_4bae92675031431a89faf18607fbf7cb"
      }
     },
     "f8e30b99d48c46619882f0aa0356779e": {
      "model_module": "@jupyter-widgets/controls",
      "model_module_version": "1.5.0",
      "model_name": "HTMLModel",
      "state": {
       "layout": "IPY_MODEL_124cb4b688c24f32a8ac71deef8f5883",
       "style": "IPY_MODEL_153bf8e763274d8e92dc78840de7dcd5",
       "value": "<font color='green'> &nbsp Downloads: 0</font>"
      }
     },
     "f9038a3cbf604090b30a20e254bbcf92": {
      "model_module": "@jupyter-widgets/controls",
      "model_module_version": "1.5.0",
      "model_name": "HTMLModel",
      "state": {
       "layout": "IPY_MODEL_3de9426f8c734f01b1ddc2c4c3147fac",
       "style": "IPY_MODEL_086bdd29152c46199e697ca223fc1101",
       "value": "<font color='orange'> &nbsp Stars: 0</font>"
      }
     },
     "f9645aa5c8a34db38cb7046d0f968dd7": {
      "model_module": "@jupyter-widgets/base",
      "model_module_version": "1.2.0",
      "model_name": "LayoutModel",
      "state": {
       "width": "auto"
      }
     },
     "f969023f6e454d04ade1a2ed3fe661d9": {
      "model_module": "@jupyter-widgets/controls",
      "model_module_version": "1.5.0",
      "model_name": "HTMLModel",
      "state": {
       "layout": "IPY_MODEL_602431f048ed45afb86fd6bf547b5c0c",
       "style": "IPY_MODEL_c6c32b11dc954e91b0a21d06c8047302",
       "value": "<font color='orange'> &nbsp Stars: 0</font>"
      }
     },
     "f9810f1e29b74bf2977bfa993ef173ac": {
      "model_module": "@jupyter-widgets/controls",
      "model_module_version": "1.5.0",
      "model_name": "DescriptionStyleModel",
      "state": {
       "description_width": ""
      }
     },
     "f9d59993e14e438cb9f558aa0248b13c": {
      "model_module": "@jupyter-widgets/base",
      "model_module_version": "1.2.0",
      "model_name": "LayoutModel",
      "state": {}
     },
     "fa05c47186b3420089ffb6ba43ae6605": {
      "model_module": "@jupyter-widgets/controls",
      "model_module_version": "1.5.0",
      "model_name": "ButtonModel",
      "state": {
       "button_style": "info",
       "description": "Download",
       "layout": "IPY_MODEL_858c710e92944c28adf388ec8f09206b",
       "style": "IPY_MODEL_add06a6f8ef043e2ae1a8fc577968980"
      }
     },
     "fa3a537e2aa74730af345f7c45469c03": {
      "model_module": "@jupyter-widgets/controls",
      "model_module_version": "1.5.0",
      "model_name": "ButtonModel",
      "state": {
       "button_style": "info",
       "description": "Download",
       "layout": "IPY_MODEL_4aaee70106a047e79c50d641d107bd77",
       "style": "IPY_MODEL_f53e4024ded24b9b9ca6dfadddfe2903"
      }
     },
     "fa50ec4635a64c8fa7acec834280af72": {
      "model_module": "@jupyter-widgets/controls",
      "model_module_version": "1.5.0",
      "model_name": "DescriptionStyleModel",
      "state": {
       "description_width": ""
      }
     },
     "fa7f6e44cac647aeb314db11617ebf65": {
      "model_module": "@jupyter-widgets/base",
      "model_module_version": "1.2.0",
      "model_name": "LayoutModel",
      "state": {}
     },
     "faaa9516c6bd410282c42164f85e3012": {
      "model_module": "@jupyter-widgets/controls",
      "model_module_version": "1.5.0",
      "model_name": "HBoxModel",
      "state": {
       "children": [
        "IPY_MODEL_bff61066c6fe4f13b05d391ca6cea8e6",
        "IPY_MODEL_3822b77f77984a63b39413faddba5f89",
        "IPY_MODEL_e0a20c0bfac04c2784f9d8c614611b0e",
        "IPY_MODEL_6f791e0564a84e6aaa359c538288733b",
        "IPY_MODEL_0b9cec3453784870bb4ca3da616655ef"
       ],
       "layout": "IPY_MODEL_81c95eb62c6c41479f863a6c3165f9b2"
      }
     },
     "faf3f9deb0e540d79a855e05671e44d2": {
      "model_module": "@jupyter-widgets/base",
      "model_module_version": "1.2.0",
      "model_name": "LayoutModel",
      "state": {
       "width": "auto"
      }
     },
     "fb2da33d69154f38b9ab798b457e1753": {
      "model_module": "@jupyter-widgets/controls",
      "model_module_version": "1.5.0",
      "model_name": "HBoxModel",
      "state": {
       "children": [
        "IPY_MODEL_bf1c503913ea42cb9e4a28a39db29e51"
       ],
       "layout": "IPY_MODEL_dec2ed8d1f66411889116f71bca94a13"
      }
     },
     "fb8e954c84054010aec3acf61c60d061": {
      "model_module": "@jupyter-widgets/controls",
      "model_module_version": "1.5.0",
      "model_name": "HTMLModel",
      "state": {
       "layout": "IPY_MODEL_57a3c57bf1324f16b30272130327a44b",
       "style": "IPY_MODEL_07b49149150d4e8181ffca4de5c859fc",
       "value": "<h5 style='padding:0;margin:0;'>&nbsp <a href='https://github.com/derekguo31' style='color:silver'>derekguo31</a> &nbsp</h5>"
      }
     },
     "fbcc873c7fd44f11a2cb1e0088f4107a": {
      "model_module": "@jupyter-widgets/base",
      "model_module_version": "1.2.0",
      "model_name": "LayoutModel",
      "state": {
       "width": "auto"
      }
     },
     "fbdd139f7de34ba7ba8eb16651b943ea": {
      "model_module": "@jupyter-widgets/base",
      "model_module_version": "1.2.0",
      "model_name": "LayoutModel",
      "state": {}
     },
     "fc163d9159774c2796220fcdc343e9df": {
      "model_module": "@jupyter-widgets/base",
      "model_module_version": "1.2.0",
      "model_name": "LayoutModel",
      "state": {}
     },
     "fc1ca3e4e2c1423aaa93ab30d6b422e5": {
      "model_module": "@jupyter-widgets/controls",
      "model_module_version": "1.5.0",
      "model_name": "DescriptionStyleModel",
      "state": {
       "description_width": ""
      }
     },
     "fc52e92ce71549ebbc5e747726d8f8d7": {
      "model_module": "@jupyter-widgets/controls",
      "model_module_version": "1.5.0",
      "model_name": "ButtonStyleModel",
      "state": {}
     },
     "fcb0300b6d9e44208ee4d3b87722078d": {
      "model_module": "@jupyter-widgets/base",
      "model_module_version": "1.2.0",
      "model_name": "LayoutModel",
      "state": {
       "width": "100px"
      }
     },
     "fceaebff22774b6f8af403ab3147938d": {
      "model_module": "@jupyter-widgets/controls",
      "model_module_version": "1.5.0",
      "model_name": "PasswordModel",
      "state": {
       "description": "Password",
       "layout": "IPY_MODEL_bdf7915e67104b02b9aa925a2df39e83",
       "style": "IPY_MODEL_d581cbdbef864a44b92aa7c857c640f2",
       "value": "Sir Puppington90"
      }
     },
     "fd04a556bcbc4bd0b2ffa052c6e26e4f": {
      "model_module": "@jupyter-widgets/controls",
      "model_module_version": "1.5.0",
      "model_name": "DescriptionStyleModel",
      "state": {
       "description_width": ""
      }
     },
     "fd18c9834bf9403b80a6d19b38bb989f": {
      "model_module": "@jupyter-widgets/base",
      "model_module_version": "1.2.0",
      "model_name": "LayoutModel",
      "state": {
       "width": "100px"
      }
     },
     "fd21a8cd2b90416e8dc5582c81c3dc32": {
      "model_module": "@jupyter-widgets/base",
      "model_module_version": "1.2.0",
      "model_name": "LayoutModel",
      "state": {
       "width": "auto"
      }
     },
     "fd3fbdf2e91c4336ae30c671e2b76c87": {
      "model_module": "@jupyter-widgets/base",
      "model_module_version": "1.2.0",
      "model_name": "LayoutModel",
      "state": {
       "width": "100px"
      }
     },
     "fd679fab99b048a099c3fcc8cd71077f": {
      "model_module": "@jupyter-widgets/controls",
      "model_module_version": "1.5.0",
      "model_name": "DescriptionStyleModel",
      "state": {
       "description_width": ""
      }
     },
     "fd67ca64515743158dbd7e53b55a5145": {
      "model_module": "@jupyter-widgets/controls",
      "model_module_version": "1.5.0",
      "model_name": "TextModel",
      "state": {
       "layout": "IPY_MODEL_e6149892e9f6477bb17970218ebd5791",
       "style": "IPY_MODEL_91410d9a69a04368a80d728e5a00ec05"
      }
     },
     "fd835bf531184e0d9305290a07700387": {
      "model_module": "@jupyter-widgets/base",
      "model_module_version": "1.2.0",
      "model_name": "LayoutModel",
      "state": {
       "width": "auto"
      }
     },
     "fd9b514d8d0f41ef8386a0eb4be328f2": {
      "model_module": "@jupyter-widgets/controls",
      "model_module_version": "1.5.0",
      "model_name": "LabelModel",
      "state": {
       "layout": "IPY_MODEL_bd4e8aafb14a4e7e9df15760bdf85f5e",
       "style": "IPY_MODEL_2d40a4158a5c43d1a51ae5945b04b5c8",
       "value": "1 month ago"
      }
     },
     "fda602fbc4564db49ed984652f63ddd1": {
      "model_module": "@jupyter-widgets/base",
      "model_module_version": "1.2.0",
      "model_name": "LayoutModel",
      "state": {}
     },
     "fdaf3e35b90d4a83a66944af30753fee": {
      "model_module": "@jupyter-widgets/controls",
      "model_module_version": "1.5.0",
      "model_name": "LabelModel",
      "state": {
       "layout": "IPY_MODEL_b39584e521904343a1609e49cb8d2b91",
       "style": "IPY_MODEL_75da2da7dacc45298bf3a9beada4a902",
       "value": "Created Repo"
      }
     },
     "fdfafbdbb996480c9ae796a54dcef5ab": {
      "model_module": "@jupyter-widgets/controls",
      "model_module_version": "1.5.0",
      "model_name": "ToggleButtonsStyleModel",
      "state": {
       "button_width": "",
       "description_width": ""
      }
     },
     "fe007599205e425dbb9579ce21e845cb": {
      "model_module": "@jupyter-widgets/controls",
      "model_module_version": "1.5.0",
      "model_name": "DescriptionStyleModel",
      "state": {
       "description_width": ""
      }
     },
     "fe008f9301d849f4b2f2595ed9f42978": {
      "model_module": "@jupyter-widgets/controls",
      "model_module_version": "1.5.0",
      "model_name": "TextModel",
      "state": {
       "layout": "IPY_MODEL_e325429558de403db7c301fa4f26bdc4",
       "style": "IPY_MODEL_311addbcf2bc4cb18ca965145651e412"
      }
     },
     "feb9140768314648827527e44fa686b9": {
      "model_module": "@jupyter-widgets/controls",
      "model_module_version": "1.5.0",
      "model_name": "ButtonStyleModel",
      "state": {}
     },
     "fec22a692b8b4c6e9ca6637032f968f9": {
      "model_module": "@jupyter-widgets/base",
      "model_module_version": "1.2.0",
      "model_name": "LayoutModel",
      "state": {}
     },
     "fef368f4b1b349bebcfcaf888261043c": {
      "model_module": "@jupyter-widgets/controls",
      "model_module_version": "1.5.0",
      "model_name": "LabelModel",
      "state": {
       "layout": "IPY_MODEL_c1828e39d5f34105ae7230c291126fb8",
       "style": "IPY_MODEL_8b726a32a89f4b5c8a899fa7c80f84b7",
       "value": "7 months ago"
      }
     },
     "ff58c316615f4527a478ced8cdc76f35": {
      "model_module": "@jupyter-widgets/controls",
      "model_module_version": "1.5.0",
      "model_name": "DescriptionStyleModel",
      "state": {
       "description_width": ""
      }
     },
     "ff68f7f724314ee5a10e962f5b9912e4": {
      "model_module": "@jupyter-widgets/controls",
      "model_module_version": "1.5.0",
      "model_name": "DescriptionStyleModel",
      "state": {
       "description_width": ""
      }
     },
     "ff8745a4c7f44bd1bdee9373224319bb": {
      "model_module": "@jupyter-widgets/controls",
      "model_module_version": "1.5.0",
      "model_name": "HTMLModel",
      "state": {
       "layout": "IPY_MODEL_23b89cfcdd234de480e47ccf4716f3a6",
       "style": "IPY_MODEL_61f2db49b6b241e18f91c10e7c1565d5",
       "value": "<font color='green'> &nbsp Downloads: 0</font>"
      }
     },
     "ffd1b12bdaa743ccaedfbf62ca74d80e": {
      "model_module": "@jupyter-widgets/base",
      "model_module_version": "1.2.0",
      "model_name": "LayoutModel",
      "state": {
       "width": "100px"
      }
     }
    },
    "version_major": 2,
    "version_minor": 0
   }
  }
 },
 "nbformat": 4,
 "nbformat_minor": 2
}
