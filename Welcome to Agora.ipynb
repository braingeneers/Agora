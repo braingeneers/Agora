{
 "cells": [
  {
   "cell_type": "code",
   "execution_count": null,
   "metadata": {},
   "outputs": [],
   "source": [
    "%run \"Code/Source Code.ipynb\""
   ]
  },
  {
   "cell_type": "markdown",
   "metadata": {},
   "source": [
    "\n",
    "<img src=\"Code/agora_logo.png\" style=\"width: 200px;\">\n",
    "<hr class=\"col-xs-offset-3 col-xs-6\" style=\"background-color:blue;\">"
   ]
  },
  {
   "cell_type": "markdown",
   "metadata": {},
   "source": [
    "<font color=\"blue\">Agora</font> lest you share your code with other scientists. This is done using [Github](https://github.com/). With <font color=\"blue\">Agora</font> you can:\n",
    "\n",
    "* Save your work\n",
    "* Update applications\n",
    "* Publish code to the world\n",
    "* View progress from lab members"
   ]
  },
  {
   "cell_type": "markdown",
   "metadata": {},
   "source": [
    "# <font color=\"Gray\" >Setup</font>"
   ]
  },
  {
   "cell_type": "markdown",
   "metadata": {},
   "source": [
    "## <font color=\"limeGreen\">Github Sign In</font>"
   ]
  },
  {
   "cell_type": "markdown",
   "metadata": {
    "cell_style": "center"
   },
   "source": [
    "To use <font color=\"magenta\">Agora</font> you must have a github account. You can [create one here](https://github.com/).\n",
    "\n",
    "<font color=\"limeGreen\">Github</font> allows people to save and share code on the cloud. However, <font color=\"limeGreen\">Github</font> can be confusing to use. <font color=\"magenta\">Agora</font> makes <font color=\"limeGreen\">Github</font> simple. In order to use <font color=\"magenta\">Agora</font> you need to sign in to <font color=\"limeGreen\">Github</font>:\n",
    "\n",
    "Once you have a Github account you must <a href=\"https://github.com/settings/tokens/new\">create a token</a>  to allow WetAI to communicate with Github. Generate a new token and then give it <a href=\"Code/token_example.png\">access to these scopes.</a>"
   ]
  },
  {
   "cell_type": "code",
   "execution_count": null,
   "metadata": {
    "cell_style": "split"
   },
   "outputs": [],
   "source": [
    "display(HTML(\"<hr style=margin:0>\"))\n",
    "Git.b.signIn"
   ]
  },
  {
   "cell_type": "markdown",
   "metadata": {},
   "source": [
    "## <font color=\"DeepSkyBlue \">Choose your Lab</font>"
   ]
  },
  {
   "cell_type": "markdown",
   "metadata": {},
   "source": [
    "Here you can type the name of your <font color=\"deepskyblue\">lab</font> that is using <font color=\"magenta\">Agora</font>. After you select a lab, the <font color=\"Orchid\">Agora News Room</font> will only show work from other lab members. Also any folder that you <font color=\"green\">publish</font> will be seen by everyone in your <font color=\"deepskyblue\">lab</font>. "
   ]
  },
  {
   "cell_type": "code",
   "execution_count": null,
   "metadata": {
    "cell_style": "split"
   },
   "outputs": [],
   "source": [
    "display(HTML(\"<hr style=margin:0>\"))\n",
    "Git.b.lab "
   ]
  },
  {
   "cell_type": "markdown",
   "metadata": {},
   "source": [
    "# <font color=\"teal\">Manage Files</font>"
   ]
  },
  {
   "cell_type": "markdown",
   "metadata": {},
   "source": [
    "In this section you can <font color=\"orange\">Add</font> new folders to Github and  <font color=\"green\">Publish</font> your most recent changes. This is smart to do because :\n",
    "1. You <font color=\"blue\">back up</font> your files in the cloud\n",
    "2. Your work is now <font color=\"blue\">shared with everyone</font>\n",
    "\n",
    "**<font color=\"red\">Tip :</font>** When you <font color=\"green\">Publish</font> your recent changes to Github, you can write a short note about what you did. Use the text box to write a note before clicking <font color=\"green\">Publish</font>"
   ]
  },
  {
   "cell_type": "code",
   "execution_count": null,
   "metadata": {},
   "outputs": [],
   "source": [
    "Git.b.docs_refresh\n",
    "Git.wf.folderType(\"b\")"
   ]
  },
  {
   "cell_type": "markdown",
   "metadata": {},
   "source": [
    "# <font color=\"orange\">Update Apps</font>"
   ]
  },
  {
   "cell_type": "markdown",
   "metadata": {},
   "source": [
    "This is where you can **check new updates** for all of your <font color=\"orange\">Apps</font>. Only the <font color=\"orange\">Apps</font> that need updates are shown. After updating your <font color=\"orange\">Apps</font> click  <font color=\"blue\">Refresh</font> to confirm everythign is up to date."
   ]
  },
  {
   "cell_type": "code",
   "execution_count": null,
   "metadata": {},
   "outputs": [],
   "source": [
    "display( Git.b.update_refresh )\n",
    "Git.wf.showUpdates(\"b\")"
   ]
  },
  {
   "cell_type": "markdown",
   "metadata": {},
   "source": [
    "#  <font color=\"Orchid\">News Room</font>"
   ]
  },
  {
   "cell_type": "markdown",
   "metadata": {},
   "source": [
    "You can use the <font color=\"Orchid\">News Room</font> to check out what everyone else is doing. The news room displays a list of all of the most recent things that people have published.  <font color=\"teal\">Click Download</font>  to save something into your <font color=\"blue\">Downloads Folder.</font> \n",
    "\n",
    "**<font color=\"red\">Note:</font>** A lot of cool <font color=\"orchid\">news room</font> features are on the way, Keep an eye out for updates!"
   ]
  },
  {
   "cell_type": "code",
   "execution_count": null,
   "metadata": {},
   "outputs": [],
   "source": [
    "display( Git.b.news )\n",
    "Git.wf.showNews(\"b\")"
   ]
  },
  {
   "cell_type": "markdown",
   "metadata": {},
   "source": [
    "# <font color=\"SeaGreen\">Download from Github</font>"
   ]
  },
  {
   "cell_type": "markdown",
   "metadata": {},
   "source": [
    "Here you can download your online repos from the cloud <font color=\"limeGreen\">(Github)</font> to <font color=\"orange\">io</font>. \n",
    "\n",
    "* Click <font color=\"green\">Public</font> or <font color=\"red\">Private</font> to view all your <font color=\"green\">Public</font>/<font color=\"red\">Private</font> <font color=\"limeGreen\">Github</font> repos which are not yet on <font color=\"orange\">io</font>. \n",
    "* Then click <font color=\"blue\">Download</font> to move a repo to your <font color=\"green\">Public</font>/<font color=\"red\">Private</font> folder in <font color=\"orange\">io</font>."
   ]
  },
  {
   "cell_type": "code",
   "execution_count": null,
   "metadata": {},
   "outputs": [],
   "source": [
    "display( Git.w.github_download )\n",
    "Git.wf.githubDownload(\"b\")"
   ]
  },
  {
   "cell_type": "code",
   "execution_count": null,
   "metadata": {},
   "outputs": [],
   "source": []
  }
 ],
 "metadata": {
  "hide_input": false,
  "kernelspec": {
   "display_name": "Python 3",
   "language": "python",
   "name": "python3"
  },
  "language_info": {
   "codemirror_mode": {
    "name": "ipython",
    "version": 3
   },
   "file_extension": ".py",
   "mimetype": "text/x-python",
   "name": "python",
   "nbconvert_exporter": "python",
   "pygments_lexer": "ipython3",
   "version": "3.8.6"
  },
  "toc": {
   "base_numbering": 1,
   "nav_menu": {},
   "number_sections": true,
   "sideBar": true,
   "skip_h1_title": false,
   "title_cell": "Table of Contents",
   "title_sidebar": "Contents",
   "toc_cell": false,
   "toc_position": {},
   "toc_section_display": true,
   "toc_window_display": false
  },
  "varInspector": {
   "cols": {
    "lenName": 16,
    "lenType": 16,
    "lenVar": 40
   },
   "kernels_config": {
    "python": {
     "delete_cmd_postfix": "",
     "delete_cmd_prefix": "del ",
     "library": "var_list.py",
     "varRefreshCmd": "print(var_dic_list())"
    },
    "r": {
     "delete_cmd_postfix": ") ",
     "delete_cmd_prefix": "rm(",
     "library": "var_list.r",
     "varRefreshCmd": "cat(var_dic_list()) "
    }
   },
   "types_to_exclude": [
    "module",
    "function",
    "builtin_function_or_method",
    "instance",
    "_Feature"
   ],
   "window_display": false
  }
 },
 "nbformat": 4,
 "nbformat_minor": 2
}
