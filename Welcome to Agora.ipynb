{
 "cells": [
  {
   "cell_type": "code",
   "execution_count": null,
   "metadata": {},
   "outputs": [],
   "source": [
    "%run \"Code/Source Code.ipynb\""
   ]
  },
  {
   "cell_type": "markdown",
   "metadata": {},
   "source": [
    "<div style=\"text-align:right\"><font size=6 color=\"orchid\" face='Brush Script MT'> to Start, Click - <button class=\"btn btn-sm btn-success\"><i class=\"fa fa-lg fa-id-card-o\">"
   ]
  },
  {
   "cell_type": "markdown",
   "metadata": {},
   "source": [
    "\n",
    "<img src=\"Code/agora_logo.png\" style=\"width: 200px;\">\n",
    "<hr class=\"col-xs-offset-3 col-xs-6\" style=\"background-color:blue;\">"
   ]
  },
  {
   "cell_type": "markdown",
   "metadata": {
    "cell_style": "center"
   },
   "source": [
    "<font color=\"orchid\">Agora</font> is a <font color=\"blue\">WetAI</font> app. It allows researchers and labs to collaborate on projects and showcases their work. <font color=\"blue\">Agora</font> interfaces with your lab's [<font color=\"limeGreen\">Github</font>](https://github.com/) organization to backup projects. Head investigators can use <font color=\"orchid\">Agora</font> to efficiently monitor team progress. Please watch the <font color=\"gray\">Tutorial</font> before you begin."
   ]
  },
  {
   "cell_type": "markdown",
   "metadata": {},
   "source": [
    "#  <font color=\"gray\"> Tutorial</font> <small><a href=\"https://youtube.com/playlist?list=PLKD3mI01BoO7bGCXdAiLkUmtv43E0TPpT\">&nbsp;?&nbsp;"
   ]
  },
  {
   "cell_type": "markdown",
   "metadata": {},
   "source": [
    "Below is an introductory video. It is the first video in the [Agora Tutorial Playlist](https://youtube.com/playlist?list=PLKD3mI01BoO7bGCXdAiLkUmtv43E0TPpT). Please watch all the videos before you use <font color=\"orchid\">Agora</font>"
   ]
  },
  {
   "cell_type": "code",
   "execution_count": null,
   "metadata": {},
   "outputs": [],
   "source": [
    "from IPython.core.display import HTML,Image\n",
    "import ipywidgets as ipw   \n",
    "HTML(\"\"\"<div class=\"row\"><div class=\"col-xs-12 col-sm-offset-2 col-sm-8 col-md-offset-3 col-md-6\"><div class=\"embed-responsive embed-responsive-16by9\"><iframe class=\"embed-responsive-item\"src='https://www.youtube.com/embed/J1RwbnOmw3M'></iframe></div></div></div>\"\"\")\n"
   ]
  },
  {
   "cell_type": "markdown",
   "metadata": {},
   "source": [
    "# <font color=\"dkyBlue\" >Setup</font> <small><a href=\"https://www.google.com/\">&nbsp;?&nbsp;"
   ]
  },
  {
   "cell_type": "markdown",
   "metadata": {},
   "source": [
    "The first time you use <font color=\"orchid\">Agora</font> you must register it with [<font color=\"limeGreen\">Github</font>](https://github.com/). If you are part of a <font color=\"deepskyblue\">lab</font>, you should select it's <font color=\"limeGreen\">Github</font> organization. These settings will be saved for future use."
   ]
  },
  {
   "cell_type": "markdown",
   "metadata": {},
   "source": [
    "## <font color=\"dkyBlue\">Github Sign In</font> <small><a href=\"https://www.google.com/\">&nbsp;?&nbsp;"
   ]
  },
  {
   "cell_type": "markdown",
   "metadata": {
    "cell_style": "center"
   },
   "source": [
    " Inside your <font color=\"limeGreen\">Github</font> account you must <a href=\"https://github.com/settings/tokens/new\">create a token</a>  to allow <font color=\"blue\">WetAI</font> to communicate with <font color=\"limeGreen\">Github</font>. Generate a new token and then give it <a href=\"Code/token_example.png\">access to these scopes.</a> Copy the token ID and paste it below.\n",
    " "
   ]
  },
  {
   "cell_type": "code",
   "execution_count": null,
   "metadata": {
    "cell_style": "split"
   },
   "outputs": [],
   "source": [
    "display(HTML(\"<hr style=margin:0>\"))\n",
    "Git.b.signIn"
   ]
  },
  {
   "cell_type": "markdown",
   "metadata": {},
   "source": [
    "## <font color=\"dkyBlue\">Select Lab</font> <small><a href=\"https://www.google.com/\">&nbsp;?&nbsp;"
   ]
  },
  {
   "cell_type": "markdown",
   "metadata": {},
   "source": [
    "Select your <font color=\"deepskyblue\">lab</font> below. To do this, you must have first accepted an invitation to join their <font color=\"limeGreen\">Github</font> organization. This is sent from the manager of your <font color=\"deepskyblue\">lab</font>."
   ]
  },
  {
   "cell_type": "code",
   "execution_count": null,
   "metadata": {
    "cell_style": "split"
   },
   "outputs": [],
   "source": [
    "display(HTML(\"<hr style=margin:0>\"))\n",
    "Git.b.lab "
   ]
  },
  {
   "cell_type": "markdown",
   "metadata": {},
   "source": [
    "# <font color=\"orchid\">Apps</font> <small><a href=\"https://www.google.com/\">&nbsp;?&nbsp;"
   ]
  },
  {
   "cell_type": "code",
   "execution_count": null,
   "metadata": {},
   "outputs": [],
   "source": []
  },
  {
   "cell_type": "markdown",
   "metadata": {},
   "source": [
    "## <font color=\"orchid\">Update</font> <small><a href=\"https://www.google.com/\">&nbsp;?&nbsp;"
   ]
  },
  {
   "cell_type": "markdown",
   "metadata": {
    "cell_style": "center"
   },
   "source": [
    "Use this tool to update any out of date <font color=\"orchid\">Apps</font> located inside <font color=\"blue\">WetAI's</font> <a href=\"/tree/Apps\">Apps Folder</a>."
   ]
  },
  {
   "cell_type": "code",
   "execution_count": null,
   "metadata": {},
   "outputs": [],
   "source": [
    "Git.wf.showUpdates(\"b\")"
   ]
  },
  {
   "cell_type": "markdown",
   "metadata": {},
   "source": [
    "##  <font color=\"orchid\">Download</font> <small><a href=\"https://www.google.com/\">&nbsp;?&nbsp;"
   ]
  },
  {
   "cell_type": "markdown",
   "metadata": {},
   "source": [
    "Any published <font color=\"orchid\">App</font> can be downloaded into <font color=\"blue\">WetAI's</font> <a href=\"/tree/Apps\">Apps Folder</a>"
   ]
  },
  {
   "cell_type": "code",
   "execution_count": null,
   "metadata": {},
   "outputs": [],
   "source": [
    "Git.wf.showNews(\"b\")"
   ]
  },
  {
   "cell_type": "markdown",
   "metadata": {},
   "source": [
    "# <font color=\"cornflowerBlue\">Projects</font> <small><a href=\"https://www.google.com/\">&nbsp;?&nbsp;"
   ]
  },
  {
   "cell_type": "code",
   "execution_count": null,
   "metadata": {},
   "outputs": [],
   "source": []
  },
  {
   "cell_type": "markdown",
   "metadata": {},
   "source": [
    "## <font color=\"cornflowerBlue\">Update</font> <small><a href=\"https://www.google.com/\">&nbsp;?&nbsp;"
   ]
  },
  {
   "cell_type": "markdown",
   "metadata": {},
   "source": [
    "Use this tool to add or update any project in your <font color=\"blue\">WetAI</font> <a href=\"/tree/Projects\">Projects Folder</a>. Published projects are backed up to your <font color=\"deepskyblue\">lab's</font> <font color=\"limeGreen\">Github</font>. They are accessible by the <font color=\"blue\">WetAI</font> community and anyone with a <font color=\"limeGreen\">Github</font> account."
   ]
  },
  {
   "cell_type": "code",
   "execution_count": null,
   "metadata": {},
   "outputs": [],
   "source": [
    "Git.wf.categorizeProjects(\"b\")"
   ]
  },
  {
   "cell_type": "markdown",
   "metadata": {},
   "source": [
    "## <font color=\"cornflowerBlue\">Download</font> <small><a href=\"https://www.google.com/\">&nbsp;?&nbsp;"
   ]
  },
  {
   "cell_type": "markdown",
   "metadata": {},
   "source": [
    "Download any project posted on your <font color=\"deepskyblue\">lab's</font> <font color=\"limeGreen\">Github</font> into <font color=\"blue\">WetAI's</font> <a href=\"/tree/Projects\">Projects Folder</a>.\n"
   ]
  },
  {
   "cell_type": "code",
   "execution_count": null,
   "metadata": {},
   "outputs": [],
   "source": [
    "Git.wf.githubDownload(\"b\")"
   ]
  },
  {
   "cell_type": "code",
   "execution_count": null,
   "metadata": {},
   "outputs": [],
   "source": []
  }
 ],
 "metadata": {
  "hide_input": false,
  "kernelspec": {
   "display_name": "Python 3 (ipykernel)",
   "language": "python",
   "name": "python3"
  },
  "language_info": {
   "codemirror_mode": {
    "name": "ipython",
    "version": 3
   },
   "file_extension": ".py",
   "mimetype": "text/x-python",
   "name": "python",
   "nbconvert_exporter": "python",
   "pygments_lexer": "ipython3",
   "version": "3.9.7"
  },
  "toc": {
   "base_numbering": 1,
   "nav_menu": {},
   "number_sections": true,
   "sideBar": true,
   "skip_h1_title": false,
   "title_cell": "Table of Contents",
   "title_sidebar": "Contents",
   "toc_cell": false,
   "toc_position": {},
   "toc_section_display": true,
   "toc_window_display": false
  },
  "varInspector": {
   "cols": {
    "lenName": 16,
    "lenType": 16,
    "lenVar": 40
   },
   "kernels_config": {
    "python": {
     "delete_cmd_postfix": "",
     "delete_cmd_prefix": "del ",
     "library": "var_list.py",
     "varRefreshCmd": "print(var_dic_list())"
    },
    "r": {
     "delete_cmd_postfix": ") ",
     "delete_cmd_prefix": "rm(",
     "library": "var_list.r",
     "varRefreshCmd": "cat(var_dic_list()) "
    }
   },
   "types_to_exclude": [
    "module",
    "function",
    "builtin_function_or_method",
    "instance",
    "_Feature"
   ],
   "window_display": false
  }
 },
 "nbformat": 4,
 "nbformat_minor": 2
}
