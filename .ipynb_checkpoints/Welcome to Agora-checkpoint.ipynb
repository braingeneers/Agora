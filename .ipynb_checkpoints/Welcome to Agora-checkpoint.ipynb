{
 "cells": [
  {
   "cell_type": "code",
   "execution_count": null,
   "metadata": {},
   "outputs": [],
   "source": [
    "%run \"Code/Source Code.ipynb\""
   ]
  },
  {
   "cell_type": "markdown",
   "metadata": {},
   "source": [
    "<div style=\"text-align:right\"><font size=6 color=\"orchid\" face='Brush Script MT'> to Start, Click - <button class=\"btn btn-sm btn-success\"><i class=\"fa fa-lg fa-id-card-o\">"
   ]
  },
  {
   "cell_type": "markdown",
   "metadata": {},
   "source": [
    "\n",
    "<img src=\"Code/agora_logo.png\" style=\"width: 200px;\">\n",
    "<hr class=\"col-xs-offset-3 col-xs-6\" style=\"background-color:blue;\">"
   ]
  },
  {
   "cell_type": "markdown",
   "metadata": {
    "cell_style": "center"
   },
   "source": [
    "<font color=\"orchid\">Agora</font> is a <font color=\"blue\">WetAI</font> app. It allows researchers and labs to collaborate on projects and showcases their work. <font color=\"blue\">Agora</font> interfaces with your lab's [<font color=\"limeGreen\">Github</font>](https://github.com/) organization to backup projects. Head investigators can use <font color=\"orchid\">Agora</font> to efficiently monitor team progress. Please watch the <font color=\"gray\">Tutorial</font> before you begin."
   ]
  },
  {
   "cell_type": "markdown",
   "metadata": {},
   "source": [
    "#  <font color=\"gray\"> Tutorial</font> <small><a href=\"https://youtube.com/playlist?list=PLKD3mI01BoO7bGCXdAiLkUmtv43E0TPpT\">&nbsp;?&nbsp;"
   ]
  },
  {
   "cell_type": "markdown",
   "metadata": {},
   "source": [
    "Below is an introductory video. It is the first video in the [Agora Tutorial Playlist](https://youtube.com/playlist?list=PLKD3mI01BoO7bGCXdAiLkUmtv43E0TPpT). Please watch all the videos before you use <font color=\"orchid\">Agora</font>"
   ]
  },
  {
   "cell_type": "code",
   "execution_count": null,
   "metadata": {},
   "outputs": [],
   "source": [
    "from IPython.core.display import HTML,Image\n",
    "import ipywidgets as ipw   \n",
    "HTML(\"\"\"<div class=\"row\"><div class=\"col-xs-12 col-sm-offset-2 col-sm-8 col-md-offset-3 col-md-6\"><div class=\"embed-responsive embed-responsive-16by9\"><iframe class=\"embed-responsive-item\"src='https://www.youtube.com/embed/J1RwbnOmw3M'></iframe></div></div></div>\"\"\")\n"
   ]
  },
  {
   "cell_type": "markdown",
   "metadata": {},
   "source": [
    "# <font color=\"dkyBlue\" >Setup</font> <small><a href=\"https://www.google.com/\">&nbsp;?&nbsp;"
   ]
  },
  {
   "cell_type": "markdown",
   "metadata": {},
   "source": [
    "The first time you use <font color=\"orchid\">Agora</font> you must register it with [<font color=\"limeGreen\">Github</font>](https://github.com/). If you are part of a <font color=\"deepskyblue\">lab</font>, you should select it's <font color=\"limeGreen\">Github</font> organization. These settings will be saved for future use."
   ]
  },
  {
   "cell_type": "markdown",
   "metadata": {},
   "source": [
    "## <font color=\"dkyBlue\">Github Sign In</font> <small><a href=\"https://www.google.com/\">&nbsp;?&nbsp;"
   ]
  },
  {
   "cell_type": "markdown",
   "metadata": {
    "cell_style": "center"
   },
   "source": [
    " Inside your <font color=\"limeGreen\">Github</font> account you must <a href=\"https://github.com/settings/tokens/new\">create a token</a>  to allow <font color=\"blue\">WetAI</font> to communicate with <font color=\"limeGreen\">Github</font>. Generate a new token and then give it <a href=\"Code/token_example.png\">access to these scopes.</a> Copy the token ID and paste it below.\n",
    " "
   ]
  },
  {
   "cell_type": "code",
   "execution_count": null,
   "metadata": {
    "cell_style": "split"
   },
   "outputs": [],
   "source": [
    "display(HTML(\"<hr style=margin:0>\"))\n",
    "Git.b.signIn"
   ]
  },
  {
   "cell_type": "markdown",
   "metadata": {},
   "source": [
    "## <font color=\"dkyBlue\">Select Lab</font> <small><a href=\"https://www.google.com/\">&nbsp;?&nbsp;"
   ]
  },
  {
   "cell_type": "markdown",
   "metadata": {},
   "source": [
    "Select your <font color=\"deepskyblue\">lab</font> below. To do this, you must have first accepted an invitation to join their <font color=\"limeGreen\">Github</font> organization. This is sent from the manager of your <font color=\"deepskyblue\">lab</font>."
   ]
  },
  {
   "cell_type": "code",
   "execution_count": null,
   "metadata": {
    "cell_style": "split"
   },
   "outputs": [],
   "source": [
    "display(HTML(\"<hr style=margin:0>\"))\n",
    "Git.b.lab "
   ]
  },
  {
   "cell_type": "markdown",
   "metadata": {},
   "source": [
    "# <font color=\"orchid\">Apps</font> <small><a href=\"https://www.google.com/\">&nbsp;?&nbsp;"
   ]
  },
  {
   "cell_type": "code",
   "execution_count": null,
   "metadata": {},
   "outputs": [],
   "source": []
  },
  {
   "cell_type": "markdown",
   "metadata": {},
   "source": [
    "## <font color=\"orchid\">Update</font> <small><a href=\"https://www.google.com/\">&nbsp;?&nbsp;"
   ]
  },
  {
   "cell_type": "markdown",
   "metadata": {
    "cell_style": "center"
   },
   "source": [
    "Use this tool to update any out of date <font color=\"orchid\">Apps</font> located inside <font color=\"blue\">WetAI's</font> <a href=\"/tree/Apps\">Apps Folder</a>."
   ]
  },
  {
   "cell_type": "code",
   "execution_count": null,
   "metadata": {},
   "outputs": [],
   "source": [
    "Git.wf.showUpdates(\"b\")"
   ]
  },
  {
   "cell_type": "markdown",
   "metadata": {},
   "source": [
    "##  <font color=\"orchid\">Download</font> <small><a href=\"https://www.google.com/\">&nbsp;?&nbsp;"
   ]
  },
  {
   "cell_type": "markdown",
   "metadata": {},
   "source": [
    "Any published <font color=\"orchid\">App</font> can be downloaded into <font color=\"blue\">WetAI's</font> <a href=\"/tree/Apps\">Apps Folder</a>"
   ]
  },
  {
   "cell_type": "code",
   "execution_count": null,
   "metadata": {},
   "outputs": [],
   "source": [
    "Git.wf.showNews(\"b\")"
   ]
  },
  {
   "cell_type": "markdown",
   "metadata": {},
   "source": [
    "# <font color=\"cornflowerBlue\">Projects</font> <small><a href=\"https://www.google.com/\">&nbsp;?&nbsp;"
   ]
  },
  {
   "cell_type": "code",
   "execution_count": null,
   "metadata": {},
   "outputs": [],
   "source": []
  },
  {
   "cell_type": "markdown",
   "metadata": {},
   "source": [
    "## <font color=\"cornflowerBlue\">Update</font> <small><a href=\"https://www.google.com/\">&nbsp;?&nbsp;"
   ]
  },
  {
   "cell_type": "markdown",
   "metadata": {},
   "source": [
    "Use this tool to add or update any project in your <font color=\"blue\">WetAI</font> <a href=\"/tree/Projects\">Projects Folder</a>. Published projects are backed up to your <font color=\"deepskyblue\">lab's</font> <font color=\"limeGreen\">Github</font>. They are accessible by the <font color=\"blue\">WetAI</font> community and anyone with a <font color=\"limeGreen\">Github</font> account."
   ]
  },
  {
   "cell_type": "code",
   "execution_count": null,
   "metadata": {},
   "outputs": [],
   "source": [
    "Git.wf.categorizeProjects(\"b\")"
   ]
  },
  {
   "cell_type": "markdown",
   "metadata": {},
   "source": [
    "## <font color=\"cornflowerBlue\">Download</font> <small><a href=\"https://www.google.com/\">&nbsp;?&nbsp;"
   ]
  },
  {
   "cell_type": "markdown",
   "metadata": {},
   "source": [
    "Download any project posted on your <font color=\"deepskyblue\">lab's</font> <font color=\"limeGreen\">Github</font> into <font color=\"blue\">WetAI's</font> <a href=\"/tree/Projects\">Projects Folder</a>.\n"
   ]
  },
  {
   "cell_type": "code",
   "execution_count": null,
   "metadata": {},
   "outputs": [],
   "source": [
    "Git.wf.githubDownload(\"b\")"
   ]
  },
  {
   "cell_type": "code",
   "execution_count": null,
   "metadata": {},
   "outputs": [],
   "source": []
  }
 ],
 "metadata": {
  "hide_input": false,
  "kernelspec": {
   "display_name": "Python 3 (ipykernel)",
   "language": "python",
   "name": "python3"
  },
  "language_info": {
   "codemirror_mode": {
    "name": "ipython",
    "version": 3
   },
   "file_extension": ".py",
   "mimetype": "text/x-python",
   "name": "python",
   "nbconvert_exporter": "python",
   "pygments_lexer": "ipython3",
   "version": "3.9.7"
  },
  "toc": {
   "base_numbering": 1,
   "nav_menu": {},
   "number_sections": true,
   "sideBar": true,
   "skip_h1_title": false,
   "title_cell": "Table of Contents",
   "title_sidebar": "Contents",
   "toc_cell": false,
   "toc_position": {},
   "toc_section_display": true,
   "toc_window_display": false
  },
  "varInspector": {
   "cols": {
    "lenName": 16,
    "lenType": 16,
    "lenVar": 40
   },
   "kernels_config": {
    "python": {
     "delete_cmd_postfix": "",
     "delete_cmd_prefix": "del ",
     "library": "var_list.py",
     "varRefreshCmd": "print(var_dic_list())"
    },
    "r": {
     "delete_cmd_postfix": ") ",
     "delete_cmd_prefix": "rm(",
     "library": "var_list.r",
     "varRefreshCmd": "cat(var_dic_list()) "
    }
   },
   "types_to_exclude": [
    "module",
    "function",
    "builtin_function_or_method",
    "instance",
    "_Feature"
   ],
   "window_display": false
  },
  "widgets": {
   "application/vnd.jupyter.widget-state+json": {
    "state": {
     "00353513105b40878fe76ff1461c0c0b": {
      "model_module": "@jupyter-widgets/base",
      "model_module_version": "1.2.0",
      "model_name": "LayoutModel",
      "state": {}
     },
     "04e17f897e354796bfbfd531077a4e27": {
      "model_module": "@jupyter-widgets/controls",
      "model_module_version": "1.5.0",
      "model_name": "HBoxModel",
      "state": {
       "children": [
        "IPY_MODEL_73f6dddb4a554f1387fde7529dd43da1",
        "IPY_MODEL_1d9c26c590e9424c869456643d73faf4",
        "IPY_MODEL_cb1bd8a449cd410c8611de0e3f0d3d16",
        "IPY_MODEL_b5193e9c1519429ba8d8243ee3c7b6ea"
       ],
       "layout": "IPY_MODEL_905c860a7e454686af3601999b1a335d"
      }
     },
     "052406f034e04a7a8bc4f062b7f3de79": {
      "model_module": "@jupyter-widgets/controls",
      "model_module_version": "1.5.0",
      "model_name": "DescriptionStyleModel",
      "state": {
       "description_width": ""
      }
     },
     "053220d59a82418392806156f5af079b": {
      "model_module": "@jupyter-widgets/controls",
      "model_module_version": "1.5.0",
      "model_name": "ButtonModel",
      "state": {
       "button_style": "danger",
       "description": "Logout",
       "layout": "IPY_MODEL_9f4308efe2aa4db7ac395a590fc7b926",
       "style": "IPY_MODEL_7d95704d160d47b48e121fa110111aa0"
      }
     },
     "0861675e568e48fbb26294f5b9946b3c": {
      "model_module": "@jupyter-widgets/base",
      "model_module_version": "1.2.0",
      "model_name": "LayoutModel",
      "state": {
       "width": "auto"
      }
     },
     "089e0a727b484dd38d8038839dd392c0": {
      "model_module": "@jupyter-widgets/base",
      "model_module_version": "1.2.0",
      "model_name": "LayoutModel",
      "state": {
       "align_items": "center"
      }
     },
     "0a4d63bed4934eefb8ddbb85911d66b2": {
      "model_module": "@jupyter-widgets/base",
      "model_module_version": "1.2.0",
      "model_name": "LayoutModel",
      "state": {}
     },
     "0c7f19cb63ae40bab6d872a5243d9b52": {
      "model_module": "@jupyter-widgets/controls",
      "model_module_version": "1.5.0",
      "model_name": "ButtonModel",
      "state": {
       "button_style": "success",
       "description": "Set",
       "layout": "IPY_MODEL_d898036213184e588847a91f5fbd7dae",
       "style": "IPY_MODEL_af70509623ea4ca5acd416e611691af6"
      }
     },
     "0feb6fdf6b9f41f588007c0dea5009cb": {
      "model_module": "@jupyter-widgets/controls",
      "model_module_version": "1.5.0",
      "model_name": "HBoxModel",
      "state": {
       "children": [
        "IPY_MODEL_7c76be8c48d645d89ce7611d77e7bc50"
       ],
       "layout": "IPY_MODEL_a4cb3159ab87489096ffe3a592545c3b"
      }
     },
     "113fc30697e4452a9a18effa786486da": {
      "model_module": "@jupyter-widgets/controls",
      "model_module_version": "1.5.0",
      "model_name": "DescriptionStyleModel",
      "state": {
       "description_width": ""
      }
     },
     "12ea95d0a15c4970b9890fa6f3336555": {
      "model_module": "@jupyter-widgets/controls",
      "model_module_version": "1.5.0",
      "model_name": "TextModel",
      "state": {
       "description": "Token",
       "layout": "IPY_MODEL_418eb298bd3545ae8fb5e05ce8cd87fe",
       "style": "IPY_MODEL_91491784b2094854af5782adb99ed288"
      }
     },
     "15cb9f5c5389477da126cb1f2bec1fac": {
      "model_module": "@jupyter-widgets/controls",
      "model_module_version": "1.5.0",
      "model_name": "VBoxModel",
      "state": {
       "children": [
        "IPY_MODEL_a1dd129fa9224ff194e7243882c1eb6e",
        "IPY_MODEL_1bbbbbefffba47d09f4fdd4824650813"
       ],
       "layout": "IPY_MODEL_fd257e1acd1f4dcb90bfdfa3f82b41ed"
      }
     },
     "17a105971d4140a4931a1ddf793f0a0f": {
      "model_module": "@jupyter-widgets/controls",
      "model_module_version": "1.5.0",
      "model_name": "ButtonStyleModel",
      "state": {}
     },
     "193c99563396448b82e855c5ab66eed6": {
      "model_module": "@jupyter-widgets/base",
      "model_module_version": "1.2.0",
      "model_name": "LayoutModel",
      "state": {
       "justify_content": "center"
      }
     },
     "1bbbbbefffba47d09f4fdd4824650813": {
      "model_module": "@jupyter-widgets/controls",
      "model_module_version": "1.5.0",
      "model_name": "HBoxModel",
      "state": {
       "children": [
        "IPY_MODEL_28a27230a55b4df1ac874b0407048437",
        "IPY_MODEL_0c7f19cb63ae40bab6d872a5243d9b52"
       ],
       "layout": "IPY_MODEL_c50a2d0272524236ae739dc4121f35ee"
      }
     },
     "1cf2dc4674c441fe93882508af103f2b": {
      "model_module": "@jupyter-widgets/base",
      "model_module_version": "1.2.0",
      "model_name": "LayoutModel",
      "state": {}
     },
     "1d9c26c590e9424c869456643d73faf4": {
      "model_module": "@jupyter-widgets/controls",
      "model_module_version": "1.5.0",
      "model_name": "DropdownModel",
      "state": {
       "_options_labels": [
        "None"
       ],
       "description": "Lab ",
       "index": 0,
       "layout": "IPY_MODEL_5567c0b562fd4d0782585a8118a8306e",
       "style": "IPY_MODEL_356cf2b7ce144660bd61c64ca9ee39e0"
      }
     },
     "218f21a3553045ddad610d341d78e7fa": {
      "model_module": "@jupyter-widgets/base",
      "model_module_version": "1.2.0",
      "model_name": "LayoutModel",
      "state": {
       "visibility": "hidden"
      }
     },
     "255e17867d99447fab1f1449e1591dc7": {
      "model_module": "@jupyter-widgets/controls",
      "model_module_version": "1.5.0",
      "model_name": "ButtonModel",
      "state": {
       "button_style": "success",
       "description": "Login",
       "layout": "IPY_MODEL_67e21c6c99fd42679b252694368cd83c",
       "style": "IPY_MODEL_d1034db0d71c466f939723bc6cd90076"
      }
     },
     "25c8a8e50d65441d9f363e4d12f176c9": {
      "model_module": "@jupyter-widgets/controls",
      "model_module_version": "1.5.0",
      "model_name": "ButtonModel",
      "state": {
       "button_style": "info",
       "icon": "refresh",
       "layout": "IPY_MODEL_28b43b1df2624ab28ff92ff46f38f7c3",
       "style": "IPY_MODEL_cb0cc60b3d8e4429b6c48abc0986d0a3"
      }
     },
     "28a27230a55b4df1ac874b0407048437": {
      "model_module": "@jupyter-widgets/controls",
      "model_module_version": "1.5.0",
      "model_name": "DropdownModel",
      "state": {
       "_options_labels": [
        "None"
       ],
       "description": "Lab ",
       "index": 0,
       "layout": "IPY_MODEL_00353513105b40878fe76ff1461c0c0b",
       "style": "IPY_MODEL_d44907dabe4941c898f0db62ff3fcc39"
      }
     },
     "28b43b1df2624ab28ff92ff46f38f7c3": {
      "model_module": "@jupyter-widgets/base",
      "model_module_version": "1.2.0",
      "model_name": "LayoutModel",
      "state": {
       "margin": "0px 0px 5px 15px",
       "width": "auto"
      }
     },
     "2baeeed2e5a34b7db889675616dca1ff": {
      "model_module": "@jupyter-widgets/controls",
      "model_module_version": "1.5.0",
      "model_name": "HBoxModel",
      "state": {
       "children": [
        "IPY_MODEL_dae33404233f477fa1d16753d1a17b85"
       ],
       "layout": "IPY_MODEL_43b3d7e74a2d485b865b2e8201f7c385"
      }
     },
     "2e47b13a8e6f44de8d46e97fa8403aea": {
      "model_module": "@jupyter-widgets/base",
      "model_module_version": "1.2.0",
      "model_name": "LayoutModel",
      "state": {
       "justify_content": "center",
       "padding": "15px 0 0 60px"
      }
     },
     "3240519c1ea74259a7ae57339bb608c1": {
      "model_module": "@jupyter-widgets/controls",
      "model_module_version": "1.5.0",
      "model_name": "HBoxModel",
      "state": {
       "children": [
        "IPY_MODEL_12ea95d0a15c4970b9890fa6f3336555",
        "IPY_MODEL_255e17867d99447fab1f1449e1591dc7",
        "IPY_MODEL_42356fcff46643629b46c7befcaa3a1f"
       ],
       "layout": "IPY_MODEL_99a347af107d41cd898b27f9c5cfbac5"
      }
     },
     "356cf2b7ce144660bd61c64ca9ee39e0": {
      "model_module": "@jupyter-widgets/controls",
      "model_module_version": "1.5.0",
      "model_name": "DescriptionStyleModel",
      "state": {
       "description_width": ""
      }
     },
     "37de3e19a42c4d55b652207600c6f34d": {
      "model_module": "@jupyter-widgets/base",
      "model_module_version": "1.2.0",
      "model_name": "LayoutModel",
      "state": {
       "align_items": "center"
      }
     },
     "380e3bbc5bb84dabb86f12713173fb09": {
      "model_module": "@jupyter-widgets/controls",
      "model_module_version": "1.5.0",
      "model_name": "VBoxModel",
      "state": {
       "children": [
        "IPY_MODEL_ce54382732c84527891e0bb82b2771c1",
        "IPY_MODEL_55db7bcacea54560b6d765b65f2a5e81"
       ],
       "layout": "IPY_MODEL_5096cd3a0ca5432f971a289c5e26a1cb"
      }
     },
     "38c480d836554485afe175d203159067": {
      "model_module": "@jupyter-widgets/controls",
      "model_module_version": "1.5.0",
      "model_name": "CheckboxModel",
      "state": {
       "description": "Only My Lab",
       "disabled": false,
       "indent": false,
       "layout": "IPY_MODEL_96b5be80b5f04e4ca8cdb6070b6e7799",
       "style": "IPY_MODEL_499f6acab56d456e8033b5af56a05a15",
       "value": false
      }
     },
     "3ed57d70c9df46cab256884d69e76722": {
      "model_module": "@jupyter-widgets/controls",
      "model_module_version": "1.5.0",
      "model_name": "HTMLModel",
      "state": {
       "layout": "IPY_MODEL_8e2a866d916149bb93bda98cada9b886",
       "style": "IPY_MODEL_b939d17e417b4de09ecc11f029ac0cc4",
       "value": "<h3 class='text-center'><font color='red'>Logout</font> of <a stc='https://github.com/'>Github </a> &nbsp&nbsp</h3>"
      }
     },
     "3ee41727f7bc4e6987569776336fa3d9": {
      "model_module": "@jupyter-widgets/base",
      "model_module_version": "1.2.0",
      "model_name": "LayoutModel",
      "state": {
       "width": "auto"
      }
     },
     "412e975839e4498d89222305d80001a8": {
      "model_module": "@jupyter-widgets/controls",
      "model_module_version": "1.5.0",
      "model_name": "ButtonStyleModel",
      "state": {}
     },
     "418eb298bd3545ae8fb5e05ce8cd87fe": {
      "model_module": "@jupyter-widgets/base",
      "model_module_version": "1.2.0",
      "model_name": "LayoutModel",
      "state": {}
     },
     "42356fcff46643629b46c7befcaa3a1f": {
      "model_module": "@jupyter-widgets/controls",
      "model_module_version": "1.5.0",
      "model_name": "ValidModel",
      "state": {
       "layout": "IPY_MODEL_218f21a3553045ddad610d341d78e7fa",
       "style": "IPY_MODEL_58c2b460b27047e8ace260ca24c764c0"
      }
     },
     "430ded8b53bb4b1286ec6fcfc8ac7e4f": {
      "model_module": "@jupyter-widgets/base",
      "model_module_version": "1.2.0",
      "model_name": "LayoutModel",
      "state": {
       "padding": "0 0 0 20px"
      }
     },
     "436ff0aefbda438b8648ebc21f7a80e1": {
      "model_module": "@jupyter-widgets/controls",
      "model_module_version": "1.5.0",
      "model_name": "DescriptionStyleModel",
      "state": {
       "description_width": ""
      }
     },
     "43b3d7e74a2d485b865b2e8201f7c385": {
      "model_module": "@jupyter-widgets/base",
      "model_module_version": "1.2.0",
      "model_name": "LayoutModel",
      "state": {
       "justify_content": "center"
      }
     },
     "483f481e66b841fb97f7a2c2a79d103f": {
      "model_module": "@jupyter-widgets/controls",
      "model_module_version": "1.5.0",
      "model_name": "ButtonModel",
      "state": {
       "button_style": "danger",
       "description": "Logout",
       "layout": "IPY_MODEL_3ee41727f7bc4e6987569776336fa3d9",
       "style": "IPY_MODEL_412e975839e4498d89222305d80001a8"
      }
     },
     "499f6acab56d456e8033b5af56a05a15": {
      "model_module": "@jupyter-widgets/controls",
      "model_module_version": "1.5.0",
      "model_name": "DescriptionStyleModel",
      "state": {
       "description_width": ""
      }
     },
     "4bd6e6d5412c4d419f776ca0b6a7b916": {
      "model_module": "@jupyter-widgets/base",
      "model_module_version": "1.2.0",
      "model_name": "LayoutModel",
      "state": {
       "justify_content": "center",
       "padding": "15px 0 0 0"
      }
     },
     "4c1ba8dea57d4002b3a344fc1b53f0dd": {
      "model_module": "@jupyter-widgets/base",
      "model_module_version": "1.2.0",
      "model_name": "LayoutModel",
      "state": {
       "padding": "0px 0px 10px 50px"
      }
     },
     "4db02470b2be46cbb57c64fd50f30b9d": {
      "model_module": "@jupyter-widgets/base",
      "model_module_version": "1.2.0",
      "model_name": "LayoutModel",
      "state": {}
     },
     "4dc81a6491c04d9c8707cb2f3aa6ab51": {
      "model_module": "@jupyter-widgets/controls",
      "model_module_version": "1.5.0",
      "model_name": "HTMLModel",
      "state": {
       "layout": "IPY_MODEL_d7cbe49d02bd44108550a231c33a52e6",
       "style": "IPY_MODEL_74c427feae474639a9b175423171539b",
       "value": "<h3 class='text-center'><font color='green'>Login</font> to <a href='https://github.com/'>Github</a><h3>"
      }
     },
     "4e9b636b53fb4027ac1d098f45c0810d": {
      "model_module": "@jupyter-widgets/controls",
      "model_module_version": "1.5.0",
      "model_name": "ButtonStyleModel",
      "state": {}
     },
     "5096cd3a0ca5432f971a289c5e26a1cb": {
      "model_module": "@jupyter-widgets/base",
      "model_module_version": "1.2.0",
      "model_name": "LayoutModel",
      "state": {}
     },
     "5567c0b562fd4d0782585a8118a8306e": {
      "model_module": "@jupyter-widgets/base",
      "model_module_version": "1.2.0",
      "model_name": "LayoutModel",
      "state": {}
     },
     "55db7bcacea54560b6d765b65f2a5e81": {
      "model_module": "@jupyter-widgets/controls",
      "model_module_version": "1.5.0",
      "model_name": "VBoxModel",
      "state": {
       "children": [
        "IPY_MODEL_3ed57d70c9df46cab256884d69e76722",
        "IPY_MODEL_053220d59a82418392806156f5af079b",
        "IPY_MODEL_8c63be1b05064399801cb063db4dfbce"
       ],
       "layout": "IPY_MODEL_37de3e19a42c4d55b652207600c6f34d"
      }
     },
     "56157a67da034238babd1b55e059e44a": {
      "model_module": "@jupyter-widgets/controls",
      "model_module_version": "1.5.0",
      "model_name": "DescriptionStyleModel",
      "state": {
       "description_width": ""
      }
     },
     "58c2b460b27047e8ace260ca24c764c0": {
      "model_module": "@jupyter-widgets/controls",
      "model_module_version": "1.5.0",
      "model_name": "DescriptionStyleModel",
      "state": {
       "description_width": ""
      }
     },
     "59b8087515f44bf99905d2840ade0315": {
      "model_module": "@jupyter-widgets/base",
      "model_module_version": "1.2.0",
      "model_name": "LayoutModel",
      "state": {}
     },
     "59e737943f154419b7563bc7f00b1c3c": {
      "model_module": "@jupyter-widgets/controls",
      "model_module_version": "1.5.0",
      "model_name": "TextModel",
      "state": {
       "description": "Token",
       "layout": "IPY_MODEL_d04f37ffe57948e48f8ad352c6e7307f",
       "style": "IPY_MODEL_b7613590891d447eb11f87e0a839604f"
      }
     },
     "5c72ce6843a34c408597a01227396e5e": {
      "model_module": "@jupyter-widgets/base",
      "model_module_version": "1.2.0",
      "model_name": "LayoutModel",
      "state": {}
     },
     "5c8563091fa44adeb6176be009fd22a0": {
      "model_module": "@jupyter-widgets/controls",
      "model_module_version": "1.5.0",
      "model_name": "DescriptionStyleModel",
      "state": {
       "description_width": ""
      }
     },
     "5f90a26c48b74fc4b972daa541b5d9b2": {
      "model_module": "@jupyter-widgets/controls",
      "model_module_version": "1.5.0",
      "model_name": "ButtonStyleModel",
      "state": {}
     },
     "641dc06e5b4c44d388da33869ead312e": {
      "model_module": "@jupyter-widgets/base",
      "model_module_version": "1.2.0",
      "model_name": "LayoutModel",
      "state": {
       "align_items": "center",
       "justify_content": "center",
       "visibility": "hidden"
      }
     },
     "67e21c6c99fd42679b252694368cd83c": {
      "model_module": "@jupyter-widgets/base",
      "model_module_version": "1.2.0",
      "model_name": "LayoutModel",
      "state": {
       "width": "auto"
      }
     },
     "6d48412b0cdf4a0cadd52a9ac6ceb7b9": {
      "model_module": "@jupyter-widgets/base",
      "model_module_version": "1.2.0",
      "model_name": "LayoutModel",
      "state": {
       "padding": "0px 0px 10px 50px"
      }
     },
     "7077f59b48674b33988c0e8c1673c039": {
      "model_module": "@jupyter-widgets/controls",
      "model_module_version": "1.5.0",
      "model_name": "ValidModel",
      "state": {
       "layout": "IPY_MODEL_d6a0a048fb7941e9af5249fba93fe02b",
       "style": "IPY_MODEL_d55aceac2aa247c69dd058e4602dcff6"
      }
     },
     "73f6dddb4a554f1387fde7529dd43da1": {
      "model_module": "@jupyter-widgets/controls",
      "model_module_version": "1.5.0",
      "model_name": "HTMLModel",
      "state": {
       "layout": "IPY_MODEL_6d48412b0cdf4a0cadd52a9ac6ceb7b9",
       "style": "IPY_MODEL_436ff0aefbda438b8648ebc21f7a80e1",
       "value": "<h3 class='text-danger'>Sign In to Github</h3>"
      }
     },
     "748619ceeb2e4deb82352eae7b5f0f18": {
      "model_module": "@jupyter-widgets/controls",
      "model_module_version": "1.5.0",
      "model_name": "VBoxModel",
      "state": {
       "children": [
        "IPY_MODEL_f7119f9c51594f3885cefa82336be86d",
        "IPY_MODEL_d13b74aa6f48470288b9f6569f10f3c1"
       ],
       "layout": "IPY_MODEL_bffd6b65a3d24ae090c4b6d98580e0a0"
      }
     },
     "74c427feae474639a9b175423171539b": {
      "model_module": "@jupyter-widgets/controls",
      "model_module_version": "1.5.0",
      "model_name": "DescriptionStyleModel",
      "state": {
       "description_width": ""
      }
     },
     "75dbb0acb8bf40aca0163502ce7e5708": {
      "model_module": "@jupyter-widgets/controls",
      "model_module_version": "1.5.0",
      "model_name": "HBoxModel",
      "state": {
       "children": [
        "IPY_MODEL_59e737943f154419b7563bc7f00b1c3c",
        "IPY_MODEL_aeddb7f260c249cb925f2147d5d68558",
        "IPY_MODEL_7077f59b48674b33988c0e8c1673c039"
       ],
       "layout": "IPY_MODEL_9096a9d991d144e88b788587003bcf06"
      }
     },
     "76dc1648bc6e4c51a2107e3d28eae7fe": {
      "model_module": "@jupyter-widgets/base",
      "model_module_version": "1.2.0",
      "model_name": "LayoutModel",
      "state": {}
     },
     "7801172f207949d0a2da70a5329bfd94": {
      "model_module": "@jupyter-widgets/controls",
      "model_module_version": "1.5.0",
      "model_name": "HBoxModel",
      "state": {
       "children": [
        "IPY_MODEL_1d9c26c590e9424c869456643d73faf4",
        "IPY_MODEL_cb1bd8a449cd410c8611de0e3f0d3d16"
       ],
       "layout": "IPY_MODEL_641dc06e5b4c44d388da33869ead312e"
      }
     },
     "79fbb70cbd5d49e08374ea441e3b29df": {
      "model_module": "@jupyter-widgets/controls",
      "model_module_version": "1.5.0",
      "model_name": "HTMLModel",
      "state": {
       "layout": "IPY_MODEL_59b8087515f44bf99905d2840ade0315",
       "style": "IPY_MODEL_ba082b6c5433409486e4ba3a6911cd83",
       "value": "<p style='color:red'><b>Warning:</b> To log in again you need to <a href='https://github.com/settings/tokens'>regenerate a token</a></p>"
      }
     },
     "7a4a59e069a54682be51bfb11d23c191": {
      "model_module": "@jupyter-widgets/controls",
      "model_module_version": "1.5.0",
      "model_name": "ButtonModel",
      "state": {
       "button_style": "primary",
       "description": " Refresh",
       "icon": "refresh",
       "layout": "IPY_MODEL_e6d9af94c4c14717ab89e57e7352e13f",
       "style": "IPY_MODEL_ca4097da60b64ea3a48e5d562704be9c"
      }
     },
     "7c76be8c48d645d89ce7611d77e7bc50": {
      "model_module": "@jupyter-widgets/controls",
      "model_module_version": "1.5.0",
      "model_name": "ButtonModel",
      "state": {
       "button_style": "primary",
       "description": " Refresh",
       "icon": "refresh",
       "layout": "IPY_MODEL_8c2f927cdaa34f848231ccc6c5cc9212",
       "style": "IPY_MODEL_5f90a26c48b74fc4b972daa541b5d9b2"
      }
     },
     "7d95704d160d47b48e121fa110111aa0": {
      "model_module": "@jupyter-widgets/controls",
      "model_module_version": "1.5.0",
      "model_name": "ButtonStyleModel",
      "state": {}
     },
     "7e0041b70b0943a9b749cb4c3c51caf2": {
      "model_module": "@jupyter-widgets/base",
      "model_module_version": "1.2.0",
      "model_name": "LayoutModel",
      "state": {
       "justify_content": "center"
      }
     },
     "8062a166cfb444338ac29de918ea7ac1": {
      "model_module": "@jupyter-widgets/controls",
      "model_module_version": "1.5.0",
      "model_name": "ButtonStyleModel",
      "state": {}
     },
     "813356342a4f4f699a17ffaa43f918dc": {
      "model_module": "@jupyter-widgets/controls",
      "model_module_version": "1.5.0",
      "model_name": "HBoxModel",
      "state": {
       "children": [
        "IPY_MODEL_f4dea71e719440358075c232e5fff106"
       ],
       "layout": "IPY_MODEL_7e0041b70b0943a9b749cb4c3c51caf2"
      }
     },
     "84b99c2f60e0489f8227669e8cd54693": {
      "model_module": "@jupyter-widgets/controls",
      "model_module_version": "1.5.0",
      "model_name": "HBoxModel",
      "state": {
       "children": [
        "IPY_MODEL_12ea95d0a15c4970b9890fa6f3336555",
        "IPY_MODEL_255e17867d99447fab1f1449e1591dc7",
        "IPY_MODEL_42356fcff46643629b46c7befcaa3a1f"
       ],
       "layout": "IPY_MODEL_5c72ce6843a34c408597a01227396e5e"
      }
     },
     "84f57687e0de41bab85e79b406cb38db": {
      "model_module": "@jupyter-widgets/controls",
      "model_module_version": "1.5.0",
      "model_name": "ButtonModel",
      "state": {
       "button_style": "primary",
       "description": " Refresh",
       "icon": "refresh",
       "layout": "IPY_MODEL_c21de286428f488592f33b14f671a4a0",
       "style": "IPY_MODEL_856874c39eac4af49273bceb8c1b02ee"
      }
     },
     "856874c39eac4af49273bceb8c1b02ee": {
      "model_module": "@jupyter-widgets/controls",
      "model_module_version": "1.5.0",
      "model_name": "ButtonStyleModel",
      "state": {}
     },
     "862fa2472f6a48a080886f0f1ddf1216": {
      "model_module": "@jupyter-widgets/controls",
      "model_module_version": "1.5.0",
      "model_name": "HTMLModel",
      "state": {
       "layout": "IPY_MODEL_ff253eaca51d48cb8fa591d2ecfad9e0",
       "style": "IPY_MODEL_113fc30697e4452a9a18effa786486da",
       "value": "<h3 class='text-center'><font color='green'>Login</font> to <a href='https://github.com/'>Github</a><h3>"
      }
     },
     "876e27ee769f4935afb24c7624ec4800": {
      "model_module": "@jupyter-widgets/base",
      "model_module_version": "1.2.0",
      "model_name": "LayoutModel",
      "state": {}
     },
     "89ac46f7d26d405692f4a7f2db235f29": {
      "model_module": "@jupyter-widgets/controls",
      "model_module_version": "1.5.0",
      "model_name": "HBoxModel",
      "state": {
       "children": [
        "IPY_MODEL_bbda6705943744ee988256ebb778e195"
       ],
       "layout": "IPY_MODEL_193c99563396448b82e855c5ab66eed6"
      }
     },
     "8bdf5eed77e549d2bb69d3ced6746ad0": {
      "model_module": "@jupyter-widgets/base",
      "model_module_version": "1.2.0",
      "model_name": "LayoutModel",
      "state": {}
     },
     "8c2f927cdaa34f848231ccc6c5cc9212": {
      "model_module": "@jupyter-widgets/base",
      "model_module_version": "1.2.0",
      "model_name": "LayoutModel",
      "state": {}
     },
     "8c63be1b05064399801cb063db4dfbce": {
      "model_module": "@jupyter-widgets/controls",
      "model_module_version": "1.5.0",
      "model_name": "HTMLModel",
      "state": {
       "layout": "IPY_MODEL_d6bd8c3573db4e929bd458d92fcf3cf0",
       "style": "IPY_MODEL_5c8563091fa44adeb6176be009fd22a0",
       "value": "<p style='color:red'><b>Warning:</b> To log in again you need to <a href='https://github.com/settings/tokens'>regenerate a token</a></p>"
      }
     },
     "8cf46a035db048b7a687d408b59d700c": {
      "model_module": "@jupyter-widgets/controls",
      "model_module_version": "1.5.0",
      "model_name": "ButtonModel",
      "state": {
       "button_style": "primary",
       "description": " Refresh",
       "icon": "refresh",
       "layout": "IPY_MODEL_4db02470b2be46cbb57c64fd50f30b9d",
       "style": "IPY_MODEL_17a105971d4140a4931a1ddf793f0a0f"
      }
     },
     "8e0a07a401464833bdc0cfe36dc541ee": {
      "model_module": "@jupyter-widgets/base",
      "model_module_version": "1.2.0",
      "model_name": "LayoutModel",
      "state": {}
     },
     "8e2a866d916149bb93bda98cada9b886": {
      "model_module": "@jupyter-widgets/base",
      "model_module_version": "1.2.0",
      "model_name": "LayoutModel",
      "state": {}
     },
     "8edc0ecaf93f473eb3952e54fcbff975": {
      "model_module": "@jupyter-widgets/controls",
      "model_module_version": "1.5.0",
      "model_name": "ButtonStyleModel",
      "state": {}
     },
     "905c860a7e454686af3601999b1a335d": {
      "model_module": "@jupyter-widgets/base",
      "model_module_version": "1.2.0",
      "model_name": "LayoutModel",
      "state": {}
     },
     "9096a9d991d144e88b788587003bcf06": {
      "model_module": "@jupyter-widgets/base",
      "model_module_version": "1.2.0",
      "model_name": "LayoutModel",
      "state": {}
     },
     "91491784b2094854af5782adb99ed288": {
      "model_module": "@jupyter-widgets/controls",
      "model_module_version": "1.5.0",
      "model_name": "DescriptionStyleModel",
      "state": {
       "description_width": ""
      }
     },
     "923bf7156a6148b9a66c3a90fa96a8b1": {
      "model_module": "@jupyter-widgets/controls",
      "model_module_version": "1.5.0",
      "model_name": "HBoxModel",
      "state": {
       "children": [
        "IPY_MODEL_cdf5f43c75ff4728a83e816ff4f02da5",
        "IPY_MODEL_28a27230a55b4df1ac874b0407048437",
        "IPY_MODEL_0c7f19cb63ae40bab6d872a5243d9b52",
        "IPY_MODEL_25c8a8e50d65441d9f363e4d12f176c9"
       ],
       "layout": "IPY_MODEL_8bdf5eed77e549d2bb69d3ced6746ad0"
      }
     },
     "96b5be80b5f04e4ca8cdb6070b6e7799": {
      "model_module": "@jupyter-widgets/base",
      "model_module_version": "1.2.0",
      "model_name": "LayoutModel",
      "state": {
       "padding": "0 0 0 20px"
      }
     },
     "9873fd334b734fbeafdf7d6211de149e": {
      "model_module": "@jupyter-widgets/base",
      "model_module_version": "1.2.0",
      "model_name": "LayoutModel",
      "state": {
       "align_items": "center",
       "justify_content": "center"
      }
     },
     "98a20400c41143dc833d80423b0e8d2a": {
      "model_module": "@jupyter-widgets/base",
      "model_module_version": "1.2.0",
      "model_name": "LayoutModel",
      "state": {}
     },
     "99a347af107d41cd898b27f9c5cfbac5": {
      "model_module": "@jupyter-widgets/base",
      "model_module_version": "1.2.0",
      "model_name": "LayoutModel",
      "state": {
       "justify_content": "center",
       "margin": "0 0 0 0"
      }
     },
     "9abb8b8a4e034811a956abb5384bceec": {
      "model_module": "@jupyter-widgets/controls",
      "model_module_version": "1.5.0",
      "model_name": "ButtonStyleModel",
      "state": {}
     },
     "9bde986e5819496496a1021d5564c928": {
      "model_module": "@jupyter-widgets/controls",
      "model_module_version": "1.5.0",
      "model_name": "ButtonModel",
      "state": {
       "button_style": "primary",
       "description": " Refresh",
       "icon": "refresh",
       "layout": "IPY_MODEL_0a4d63bed4934eefb8ddbb85911d66b2",
       "style": "IPY_MODEL_ab7f3b0a9ac84b49bbda965418138911"
      }
     },
     "9f28a1b229c2473dbf48b50b37714bd1": {
      "model_module": "@jupyter-widgets/controls",
      "model_module_version": "1.5.0",
      "model_name": "ButtonStyleModel",
      "state": {}
     },
     "9f4308efe2aa4db7ac395a590fc7b926": {
      "model_module": "@jupyter-widgets/base",
      "model_module_version": "1.2.0",
      "model_name": "LayoutModel",
      "state": {
       "width": "auto"
      }
     },
     "a1dd129fa9224ff194e7243882c1eb6e": {
      "model_module": "@jupyter-widgets/controls",
      "model_module_version": "1.5.0",
      "model_name": "HBoxModel",
      "state": {
       "children": [
        "IPY_MODEL_cdf5f43c75ff4728a83e816ff4f02da5",
        "IPY_MODEL_25c8a8e50d65441d9f363e4d12f176c9"
       ],
       "layout": "IPY_MODEL_9873fd334b734fbeafdf7d6211de149e"
      }
     },
     "a2c70e03c41940ebbc491914cbfeaa6b": {
      "model_module": "@jupyter-widgets/controls",
      "model_module_version": "1.5.0",
      "model_name": "DescriptionStyleModel",
      "state": {
       "description_width": ""
      }
     },
     "a2f24ac3d4a64656a7e3604b79ed9700": {
      "model_module": "@jupyter-widgets/controls",
      "model_module_version": "1.5.0",
      "model_name": "VBoxModel",
      "state": {
       "children": [
        "IPY_MODEL_b37eb9b4a5da4150b3f2366689bb9154",
        "IPY_MODEL_7801172f207949d0a2da70a5329bfd94"
       ],
       "layout": "IPY_MODEL_8e0a07a401464833bdc0cfe36dc541ee"
      }
     },
     "a4cb3159ab87489096ffe3a592545c3b": {
      "model_module": "@jupyter-widgets/base",
      "model_module_version": "1.2.0",
      "model_name": "LayoutModel",
      "state": {
       "justify_content": "center",
       "padding": "15px 0 0 0"
      }
     },
     "a9354dd2cf1541748be72f7a65c45ffe": {
      "model_module": "@jupyter-widgets/base",
      "model_module_version": "1.2.0",
      "model_name": "LayoutModel",
      "state": {
       "margin": "0px 0px 5px 15px",
       "width": "auto"
      }
     },
     "ab544d8c7b384e1cb09b039a2418f53a": {
      "model_module": "@jupyter-widgets/controls",
      "model_module_version": "1.5.0",
      "model_name": "HTMLModel",
      "state": {
       "layout": "IPY_MODEL_1cf2dc4674c441fe93882508af103f2b",
       "style": "IPY_MODEL_a2c70e03c41940ebbc491914cbfeaa6b",
       "value": "<h3 class='text-center'><font color='red'>Logout</font> of <a stc='https://github.com/'>Github </a> &nbsp&nbsp</h3>"
      }
     },
     "ab7f3b0a9ac84b49bbda965418138911": {
      "model_module": "@jupyter-widgets/controls",
      "model_module_version": "1.5.0",
      "model_name": "ButtonStyleModel",
      "state": {}
     },
     "aeddb7f260c249cb925f2147d5d68558": {
      "model_module": "@jupyter-widgets/controls",
      "model_module_version": "1.5.0",
      "model_name": "ButtonModel",
      "state": {
       "button_style": "success",
       "description": "Login",
       "layout": "IPY_MODEL_b6f7fdb9478d48c09daa71e502363a72",
       "style": "IPY_MODEL_8062a166cfb444338ac29de918ea7ac1"
      }
     },
     "af70509623ea4ca5acd416e611691af6": {
      "model_module": "@jupyter-widgets/controls",
      "model_module_version": "1.5.0",
      "model_name": "ButtonStyleModel",
      "state": {}
     },
     "b37eb9b4a5da4150b3f2366689bb9154": {
      "model_module": "@jupyter-widgets/controls",
      "model_module_version": "1.5.0",
      "model_name": "HBoxModel",
      "state": {
       "children": [
        "IPY_MODEL_73f6dddb4a554f1387fde7529dd43da1",
        "IPY_MODEL_b5193e9c1519429ba8d8243ee3c7b6ea"
       ],
       "layout": "IPY_MODEL_bf3e99fe25724d62a548874496fcabe9"
      }
     },
     "b5193e9c1519429ba8d8243ee3c7b6ea": {
      "model_module": "@jupyter-widgets/controls",
      "model_module_version": "1.5.0",
      "model_name": "ButtonModel",
      "state": {
       "button_style": "info",
       "icon": "refresh",
       "layout": "IPY_MODEL_a9354dd2cf1541748be72f7a65c45ffe",
       "style": "IPY_MODEL_f755704de25448ed8de1603467c61f72"
      }
     },
     "b6f7fdb9478d48c09daa71e502363a72": {
      "model_module": "@jupyter-widgets/base",
      "model_module_version": "1.2.0",
      "model_name": "LayoutModel",
      "state": {
       "width": "auto"
      }
     },
     "b7613590891d447eb11f87e0a839604f": {
      "model_module": "@jupyter-widgets/controls",
      "model_module_version": "1.5.0",
      "model_name": "DescriptionStyleModel",
      "state": {
       "description_width": ""
      }
     },
     "b790dd340d524d8db856cdf1e31a5d61": {
      "model_module": "@jupyter-widgets/base",
      "model_module_version": "1.2.0",
      "model_name": "LayoutModel",
      "state": {}
     },
     "b939d17e417b4de09ecc11f029ac0cc4": {
      "model_module": "@jupyter-widgets/controls",
      "model_module_version": "1.5.0",
      "model_name": "DescriptionStyleModel",
      "state": {
       "description_width": ""
      }
     },
     "ba082b6c5433409486e4ba3a6911cd83": {
      "model_module": "@jupyter-widgets/controls",
      "model_module_version": "1.5.0",
      "model_name": "DescriptionStyleModel",
      "state": {
       "description_width": ""
      }
     },
     "bbda6705943744ee988256ebb778e195": {
      "model_module": "@jupyter-widgets/controls",
      "model_module_version": "1.5.0",
      "model_name": "ButtonModel",
      "state": {
       "button_style": "primary",
       "description": " Refresh",
       "icon": "refresh",
       "layout": "IPY_MODEL_e40daf0b9ad2421797c0a2bb388506c4",
       "style": "IPY_MODEL_4e9b636b53fb4027ac1d098f45c0810d"
      }
     },
     "be7ae483e6ae4c7f8a527cb3191843ef": {
      "model_module": "@jupyter-widgets/base",
      "model_module_version": "1.2.0",
      "model_name": "LayoutModel",
      "state": {}
     },
     "bf3e99fe25724d62a548874496fcabe9": {
      "model_module": "@jupyter-widgets/base",
      "model_module_version": "1.2.0",
      "model_name": "LayoutModel",
      "state": {
       "align_items": "center",
       "justify_content": "center"
      }
     },
     "bffd6b65a3d24ae090c4b6d98580e0a0": {
      "model_module": "@jupyter-widgets/base",
      "model_module_version": "1.2.0",
      "model_name": "LayoutModel",
      "state": {}
     },
     "c034eeffb7e84cc4a0d2a75ffb204cd0": {
      "model_module": "@jupyter-widgets/base",
      "model_module_version": "1.2.0",
      "model_name": "LayoutModel",
      "state": {}
     },
     "c21de286428f488592f33b14f671a4a0": {
      "model_module": "@jupyter-widgets/base",
      "model_module_version": "1.2.0",
      "model_name": "LayoutModel",
      "state": {}
     },
     "c50a2d0272524236ae739dc4121f35ee": {
      "model_module": "@jupyter-widgets/base",
      "model_module_version": "1.2.0",
      "model_name": "LayoutModel",
      "state": {
       "align_items": "center",
       "justify_content": "center",
       "visibility": "hidden"
      }
     },
     "ca0c34997cc74f49b4243c07e83312bf": {
      "model_module": "@jupyter-widgets/controls",
      "model_module_version": "1.5.0",
      "model_name": "HBoxModel",
      "state": {
       "children": [
        "IPY_MODEL_9bde986e5819496496a1021d5564c928",
        "IPY_MODEL_f4d235f72d9546a188e2d51a50215caf"
       ],
       "layout": "IPY_MODEL_2e47b13a8e6f44de8d46e97fa8403aea"
      }
     },
     "ca4097da60b64ea3a48e5d562704be9c": {
      "model_module": "@jupyter-widgets/controls",
      "model_module_version": "1.5.0",
      "model_name": "ButtonStyleModel",
      "state": {}
     },
     "cb0cc60b3d8e4429b6c48abc0986d0a3": {
      "model_module": "@jupyter-widgets/controls",
      "model_module_version": "1.5.0",
      "model_name": "ButtonStyleModel",
      "state": {}
     },
     "cb1bd8a449cd410c8611de0e3f0d3d16": {
      "model_module": "@jupyter-widgets/controls",
      "model_module_version": "1.5.0",
      "model_name": "ButtonModel",
      "state": {
       "button_style": "success",
       "description": "Set",
       "layout": "IPY_MODEL_0861675e568e48fbb26294f5b9946b3c",
       "style": "IPY_MODEL_9f28a1b229c2473dbf48b50b37714bd1"
      }
     },
     "cdf5f43c75ff4728a83e816ff4f02da5": {
      "model_module": "@jupyter-widgets/controls",
      "model_module_version": "1.5.0",
      "model_name": "HTMLModel",
      "state": {
       "layout": "IPY_MODEL_4c1ba8dea57d4002b3a344fc1b53f0dd",
       "style": "IPY_MODEL_56157a67da034238babd1b55e059e44a",
       "value": "<h3 class='text-danger'>Sign In to Github</h3>"
      }
     },
     "ce54382732c84527891e0bb82b2771c1": {
      "model_module": "@jupyter-widgets/controls",
      "model_module_version": "1.5.0",
      "model_name": "VBoxModel",
      "state": {
       "children": [
        "IPY_MODEL_4dc81a6491c04d9c8707cb2f3aa6ab51",
        "IPY_MODEL_dcd6d3fc9c404766ba46b154e94a5414"
       ],
       "layout": "IPY_MODEL_b790dd340d524d8db856cdf1e31a5d61"
      }
     },
     "d04f37ffe57948e48f8ad352c6e7307f": {
      "model_module": "@jupyter-widgets/base",
      "model_module_version": "1.2.0",
      "model_name": "LayoutModel",
      "state": {}
     },
     "d1034db0d71c466f939723bc6cd90076": {
      "model_module": "@jupyter-widgets/controls",
      "model_module_version": "1.5.0",
      "model_name": "ButtonStyleModel",
      "state": {}
     },
     "d13b74aa6f48470288b9f6569f10f3c1": {
      "model_module": "@jupyter-widgets/controls",
      "model_module_version": "1.5.0",
      "model_name": "VBoxModel",
      "state": {
       "children": [
        "IPY_MODEL_ab544d8c7b384e1cb09b039a2418f53a",
        "IPY_MODEL_483f481e66b841fb97f7a2c2a79d103f",
        "IPY_MODEL_79fbb70cbd5d49e08374ea441e3b29df"
       ],
       "layout": "IPY_MODEL_089e0a727b484dd38d8038839dd392c0"
      }
     },
     "d3b6b50e2eea425e8053b9f2adab7376": {
      "model_module": "@jupyter-widgets/controls",
      "model_module_version": "1.5.0",
      "model_name": "HBoxModel",
      "state": {
       "children": [
        "IPY_MODEL_8cf46a035db048b7a687d408b59d700c"
       ],
       "layout": "IPY_MODEL_faebbe8b75964c93bae77afb0df4a15f"
      }
     },
     "d44907dabe4941c898f0db62ff3fcc39": {
      "model_module": "@jupyter-widgets/controls",
      "model_module_version": "1.5.0",
      "model_name": "DescriptionStyleModel",
      "state": {
       "description_width": ""
      }
     },
     "d55aceac2aa247c69dd058e4602dcff6": {
      "model_module": "@jupyter-widgets/controls",
      "model_module_version": "1.5.0",
      "model_name": "DescriptionStyleModel",
      "state": {
       "description_width": ""
      }
     },
     "d6a0a048fb7941e9af5249fba93fe02b": {
      "model_module": "@jupyter-widgets/base",
      "model_module_version": "1.2.0",
      "model_name": "LayoutModel",
      "state": {
       "visibility": "hidden"
      }
     },
     "d6bd8c3573db4e929bd458d92fcf3cf0": {
      "model_module": "@jupyter-widgets/base",
      "model_module_version": "1.2.0",
      "model_name": "LayoutModel",
      "state": {}
     },
     "d7cbe49d02bd44108550a231c33a52e6": {
      "model_module": "@jupyter-widgets/base",
      "model_module_version": "1.2.0",
      "model_name": "LayoutModel",
      "state": {}
     },
     "d898036213184e588847a91f5fbd7dae": {
      "model_module": "@jupyter-widgets/base",
      "model_module_version": "1.2.0",
      "model_name": "LayoutModel",
      "state": {
       "width": "auto"
      }
     },
     "dae33404233f477fa1d16753d1a17b85": {
      "model_module": "@jupyter-widgets/controls",
      "model_module_version": "1.5.0",
      "model_name": "ButtonModel",
      "state": {
       "button_style": "primary",
       "description": " Refresh",
       "icon": "refresh",
       "layout": "IPY_MODEL_c034eeffb7e84cc4a0d2a75ffb204cd0",
       "style": "IPY_MODEL_8edc0ecaf93f473eb3952e54fcbff975"
      }
     },
     "dcd6d3fc9c404766ba46b154e94a5414": {
      "model_module": "@jupyter-widgets/controls",
      "model_module_version": "1.5.0",
      "model_name": "HBoxModel",
      "state": {
       "children": [
        "IPY_MODEL_59e737943f154419b7563bc7f00b1c3c",
        "IPY_MODEL_aeddb7f260c249cb925f2147d5d68558",
        "IPY_MODEL_7077f59b48674b33988c0e8c1673c039"
       ],
       "layout": "IPY_MODEL_dd93b7dd83924a4e9fe8326f142190ac"
      }
     },
     "dd93b7dd83924a4e9fe8326f142190ac": {
      "model_module": "@jupyter-widgets/base",
      "model_module_version": "1.2.0",
      "model_name": "LayoutModel",
      "state": {
       "justify_content": "center",
       "margin": "0 0 0 0"
      }
     },
     "e40daf0b9ad2421797c0a2bb388506c4": {
      "model_module": "@jupyter-widgets/base",
      "model_module_version": "1.2.0",
      "model_name": "LayoutModel",
      "state": {}
     },
     "e6d9af94c4c14717ab89e57e7352e13f": {
      "model_module": "@jupyter-widgets/base",
      "model_module_version": "1.2.0",
      "model_name": "LayoutModel",
      "state": {}
     },
     "f33dac117c8d4b4fb4b5d31bd7ce7546": {
      "model_module": "@jupyter-widgets/controls",
      "model_module_version": "1.5.0",
      "model_name": "HBoxModel",
      "state": {
       "children": [
        "IPY_MODEL_7a4a59e069a54682be51bfb11d23c191"
       ],
       "layout": "IPY_MODEL_4bd6e6d5412c4d419f776ca0b6a7b916"
      }
     },
     "f4d235f72d9546a188e2d51a50215caf": {
      "model_module": "@jupyter-widgets/controls",
      "model_module_version": "1.5.0",
      "model_name": "CheckboxModel",
      "state": {
       "description": "Only My Lab",
       "disabled": false,
       "indent": false,
       "layout": "IPY_MODEL_430ded8b53bb4b1286ec6fcfc8ac7e4f",
       "style": "IPY_MODEL_052406f034e04a7a8bc4f062b7f3de79",
       "value": false
      }
     },
     "f4dea71e719440358075c232e5fff106": {
      "model_module": "@jupyter-widgets/controls",
      "model_module_version": "1.5.0",
      "model_name": "ButtonModel",
      "state": {
       "button_style": "primary",
       "description": " Refresh",
       "icon": "refresh",
       "layout": "IPY_MODEL_98a20400c41143dc833d80423b0e8d2a",
       "style": "IPY_MODEL_9abb8b8a4e034811a956abb5384bceec"
      }
     },
     "f7119f9c51594f3885cefa82336be86d": {
      "model_module": "@jupyter-widgets/controls",
      "model_module_version": "1.5.0",
      "model_name": "VBoxModel",
      "state": {
       "children": [
        "IPY_MODEL_862fa2472f6a48a080886f0f1ddf1216",
        "IPY_MODEL_3240519c1ea74259a7ae57339bb608c1"
       ],
       "layout": "IPY_MODEL_76dc1648bc6e4c51a2107e3d28eae7fe"
      }
     },
     "f755704de25448ed8de1603467c61f72": {
      "model_module": "@jupyter-widgets/controls",
      "model_module_version": "1.5.0",
      "model_name": "ButtonStyleModel",
      "state": {}
     },
     "faebbe8b75964c93bae77afb0df4a15f": {
      "model_module": "@jupyter-widgets/base",
      "model_module_version": "1.2.0",
      "model_name": "LayoutModel",
      "state": {
       "justify_content": "center"
      }
     },
     "fce567766a27415da207b718589ed720": {
      "model_module": "@jupyter-widgets/base",
      "model_module_version": "1.2.0",
      "model_name": "LayoutModel",
      "state": {
       "justify_content": "center",
       "padding": "15px 0 0 60px"
      }
     },
     "fd257e1acd1f4dcb90bfdfa3f82b41ed": {
      "model_module": "@jupyter-widgets/base",
      "model_module_version": "1.2.0",
      "model_name": "LayoutModel",
      "state": {}
     },
     "ff253eaca51d48cb8fa591d2ecfad9e0": {
      "model_module": "@jupyter-widgets/base",
      "model_module_version": "1.2.0",
      "model_name": "LayoutModel",
      "state": {}
     },
     "fff431c44d7c40d3a1e1d00185805476": {
      "model_module": "@jupyter-widgets/controls",
      "model_module_version": "1.5.0",
      "model_name": "HBoxModel",
      "state": {
       "children": [
        "IPY_MODEL_84f57687e0de41bab85e79b406cb38db",
        "IPY_MODEL_38c480d836554485afe175d203159067"
       ],
       "layout": "IPY_MODEL_fce567766a27415da207b718589ed720"
      }
     }
    },
    "version_major": 2,
    "version_minor": 0
   }
  }
 },
 "nbformat": 4,
 "nbformat_minor": 2
}
